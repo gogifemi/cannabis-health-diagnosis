{
  "nbformat": 4,
  "nbformat_minor": 0,
  "metadata": {
    "colab": {
      "provenance": [],
      "gpuType": "T4",
      "authorship_tag": "ABX9TyM06WMRArDahZu4UIy0+Qlw",
      "include_colab_link": true
    },
    "kernelspec": {
      "name": "python3",
      "display_name": "Python 3"
    },
    "language_info": {
      "name": "python"
    },
    "accelerator": "GPU"
  },
  "cells": [
    {
      "cell_type": "markdown",
      "metadata": {
        "id": "view-in-github",
        "colab_type": "text"
      },
      "source": [
        "<a href=\"https://colab.research.google.com/github/gogifemi/cannabis-health-diagnosis/blob/main/Running_model.ipynb\" target=\"_parent\"><img src=\"https://colab.research.google.com/assets/colab-badge.svg\" alt=\"Open In Colab\"/></a>"
      ]
    },
    {
      "cell_type": "code",
      "execution_count": 1,
      "metadata": {
        "colab": {
          "base_uri": "https://localhost:8080/"
        },
        "id": "T18CNLM-Qbov",
        "outputId": "e19478fa-d8cd-46ed-b6db-760a4a0b1dd0"
      },
      "outputs": [
        {
          "output_type": "stream",
          "name": "stdout",
          "text": [
            "Cloning into 'cannabis-health-diagnosis'...\n",
            "remote: Enumerating objects: 30, done.\u001b[K\n",
            "remote: Counting objects: 100% (3/3), done.\u001b[K\n",
            "remote: Compressing objects: 100% (3/3), done.\u001b[K\n",
            "remote: Total 30 (delta 1), reused 0 (delta 0), pack-reused 27 (from 1)\u001b[K\n",
            "Receiving objects: 100% (30/30), 49.90 MiB | 22.11 MiB/s, done.\n",
            "Resolving deltas: 100% (6/6), done.\n"
          ]
        }
      ],
      "source": [
        "!git clone https://github.com/gogifemi/cannabis-health-diagnosis.git"
      ]
    },
    {
      "cell_type": "code",
      "source": [
        "!pip install tensorflow"
      ],
      "metadata": {
        "colab": {
          "base_uri": "https://localhost:8080/"
        },
        "id": "4Tx1pECsTBTP",
        "outputId": "e046f77a-7ff9-41b2-bb3a-8720967eee67"
      },
      "execution_count": 2,
      "outputs": [
        {
          "output_type": "stream",
          "name": "stdout",
          "text": [
            "Requirement already satisfied: tensorflow in /usr/local/lib/python3.10/dist-packages (2.17.0)\n",
            "Requirement already satisfied: absl-py>=1.0.0 in /usr/local/lib/python3.10/dist-packages (from tensorflow) (1.4.0)\n",
            "Requirement already satisfied: astunparse>=1.6.0 in /usr/local/lib/python3.10/dist-packages (from tensorflow) (1.6.3)\n",
            "Requirement already satisfied: flatbuffers>=24.3.25 in /usr/local/lib/python3.10/dist-packages (from tensorflow) (24.3.25)\n",
            "Requirement already satisfied: gast!=0.5.0,!=0.5.1,!=0.5.2,>=0.2.1 in /usr/local/lib/python3.10/dist-packages (from tensorflow) (0.6.0)\n",
            "Requirement already satisfied: google-pasta>=0.1.1 in /usr/local/lib/python3.10/dist-packages (from tensorflow) (0.2.0)\n",
            "Requirement already satisfied: h5py>=3.10.0 in /usr/local/lib/python3.10/dist-packages (from tensorflow) (3.11.0)\n",
            "Requirement already satisfied: libclang>=13.0.0 in /usr/local/lib/python3.10/dist-packages (from tensorflow) (18.1.1)\n",
            "Requirement already satisfied: ml-dtypes<0.5.0,>=0.3.1 in /usr/local/lib/python3.10/dist-packages (from tensorflow) (0.4.1)\n",
            "Requirement already satisfied: opt-einsum>=2.3.2 in /usr/local/lib/python3.10/dist-packages (from tensorflow) (3.4.0)\n",
            "Requirement already satisfied: packaging in /usr/local/lib/python3.10/dist-packages (from tensorflow) (24.1)\n",
            "Requirement already satisfied: protobuf!=4.21.0,!=4.21.1,!=4.21.2,!=4.21.3,!=4.21.4,!=4.21.5,<5.0.0dev,>=3.20.3 in /usr/local/lib/python3.10/dist-packages (from tensorflow) (3.20.3)\n",
            "Requirement already satisfied: requests<3,>=2.21.0 in /usr/local/lib/python3.10/dist-packages (from tensorflow) (2.32.3)\n",
            "Requirement already satisfied: setuptools in /usr/local/lib/python3.10/dist-packages (from tensorflow) (71.0.4)\n",
            "Requirement already satisfied: six>=1.12.0 in /usr/local/lib/python3.10/dist-packages (from tensorflow) (1.16.0)\n",
            "Requirement already satisfied: termcolor>=1.1.0 in /usr/local/lib/python3.10/dist-packages (from tensorflow) (2.4.0)\n",
            "Requirement already satisfied: typing-extensions>=3.6.6 in /usr/local/lib/python3.10/dist-packages (from tensorflow) (4.12.2)\n",
            "Requirement already satisfied: wrapt>=1.11.0 in /usr/local/lib/python3.10/dist-packages (from tensorflow) (1.16.0)\n",
            "Requirement already satisfied: grpcio<2.0,>=1.24.3 in /usr/local/lib/python3.10/dist-packages (from tensorflow) (1.64.1)\n",
            "Requirement already satisfied: tensorboard<2.18,>=2.17 in /usr/local/lib/python3.10/dist-packages (from tensorflow) (2.17.0)\n",
            "Requirement already satisfied: keras>=3.2.0 in /usr/local/lib/python3.10/dist-packages (from tensorflow) (3.4.1)\n",
            "Requirement already satisfied: tensorflow-io-gcs-filesystem>=0.23.1 in /usr/local/lib/python3.10/dist-packages (from tensorflow) (0.37.1)\n",
            "Requirement already satisfied: numpy<2.0.0,>=1.23.5 in /usr/local/lib/python3.10/dist-packages (from tensorflow) (1.26.4)\n",
            "Requirement already satisfied: wheel<1.0,>=0.23.0 in /usr/local/lib/python3.10/dist-packages (from astunparse>=1.6.0->tensorflow) (0.44.0)\n",
            "Requirement already satisfied: rich in /usr/local/lib/python3.10/dist-packages (from keras>=3.2.0->tensorflow) (13.8.1)\n",
            "Requirement already satisfied: namex in /usr/local/lib/python3.10/dist-packages (from keras>=3.2.0->tensorflow) (0.0.8)\n",
            "Requirement already satisfied: optree in /usr/local/lib/python3.10/dist-packages (from keras>=3.2.0->tensorflow) (0.12.1)\n",
            "Requirement already satisfied: charset-normalizer<4,>=2 in /usr/local/lib/python3.10/dist-packages (from requests<3,>=2.21.0->tensorflow) (3.3.2)\n",
            "Requirement already satisfied: idna<4,>=2.5 in /usr/local/lib/python3.10/dist-packages (from requests<3,>=2.21.0->tensorflow) (3.10)\n",
            "Requirement already satisfied: urllib3<3,>=1.21.1 in /usr/local/lib/python3.10/dist-packages (from requests<3,>=2.21.0->tensorflow) (2.2.3)\n",
            "Requirement already satisfied: certifi>=2017.4.17 in /usr/local/lib/python3.10/dist-packages (from requests<3,>=2.21.0->tensorflow) (2024.8.30)\n",
            "Requirement already satisfied: markdown>=2.6.8 in /usr/local/lib/python3.10/dist-packages (from tensorboard<2.18,>=2.17->tensorflow) (3.7)\n",
            "Requirement already satisfied: tensorboard-data-server<0.8.0,>=0.7.0 in /usr/local/lib/python3.10/dist-packages (from tensorboard<2.18,>=2.17->tensorflow) (0.7.2)\n",
            "Requirement already satisfied: werkzeug>=1.0.1 in /usr/local/lib/python3.10/dist-packages (from tensorboard<2.18,>=2.17->tensorflow) (3.0.4)\n",
            "Requirement already satisfied: MarkupSafe>=2.1.1 in /usr/local/lib/python3.10/dist-packages (from werkzeug>=1.0.1->tensorboard<2.18,>=2.17->tensorflow) (2.1.5)\n",
            "Requirement already satisfied: markdown-it-py>=2.2.0 in /usr/local/lib/python3.10/dist-packages (from rich->keras>=3.2.0->tensorflow) (3.0.0)\n",
            "Requirement already satisfied: pygments<3.0.0,>=2.13.0 in /usr/local/lib/python3.10/dist-packages (from rich->keras>=3.2.0->tensorflow) (2.18.0)\n",
            "Requirement already satisfied: mdurl~=0.1 in /usr/local/lib/python3.10/dist-packages (from markdown-it-py>=2.2.0->rich->keras>=3.2.0->tensorflow) (0.1.2)\n"
          ]
        }
      ]
    },
    {
      "cell_type": "code",
      "source": [
        "!unzip /content/cannabis-health-diagnosis/data.zip -d /content/cannabis-health-diagnosis/data/"
      ],
      "metadata": {
        "colab": {
          "base_uri": "https://localhost:8080/"
        },
        "id": "3dDuREDKTLKt",
        "outputId": "13461dbc-ec5b-4058-acb7-8c2c68bb3ae1"
      },
      "execution_count": 3,
      "outputs": [
        {
          "output_type": "stream",
          "name": "stdout",
          "text": [
            "Archive:  /content/cannabis-health-diagnosis/data.zip\n",
            "   creating: /content/cannabis-health-diagnosis/data/test/\n",
            "   creating: /content/cannabis-health-diagnosis/data/test/Aphids/\n",
            "  inflating: /content/cannabis-health-diagnosis/data/test/Aphids/cannabis-marijuana-aphids-outdoor-garden-pests_RQ_jpeg.rf.1d58d5f5e1d120fd5ecad31e9f22a176.jpg  \n",
            "  inflating: /content/cannabis-health-diagnosis/data/test/Aphids/OIP_jpeg.rf.2d6b866972b2d670a04c1d7b0c3910aa.jpg  \n",
            "   creating: /content/cannabis-health-diagnosis/data/test/Calcium Deficiency/\n",
            "  inflating: /content/cannabis-health-diagnosis/data/test/Calcium Deficiency/cannabis-calcium-deficiency-nutrient-deficiencies-yellow-brown-spots-calmag-weed-growing-problems_3Z_jpeg.rf.69898993d8c98cfbe550cc1e0926efd5.jpg  \n",
            "  inflating: /content/cannabis-health-diagnosis/data/test/Calcium Deficiency/cannabis-calcium-deficiency-nutrient-deficiencies-yellow-brown-spots-calmag-weed-growing-problems_DX_png.rf.cfc31d70ebfb8fe75654bb86966d40f5.jpg  \n",
            "  inflating: /content/cannabis-health-diagnosis/data/test/Calcium Deficiency/cannabis-calcium-deficiency-nutrient-deficiencies-yellow-brown-spots-calmag-weed-growing-problems_HI_jpeg.rf.14170eedbfa5e3bc79ae8c86dfa68f02.jpg  \n",
            "  inflating: /content/cannabis-health-diagnosis/data/test/Calcium Deficiency/cannabis-calcium-deficiency-nutrient-deficiencies-yellow-brown-spots-calmag-weed-growing-problems_OE_jpeg.rf.bffbee8cde4d7bcd21822faaf24c9bbe.jpg  \n",
            "   creating: /content/cannabis-health-diagnosis/data/test/Healthy/\n",
            "  inflating: /content/cannabis-health-diagnosis/data/test/Healthy/healthy_032A9672-1.jpg  \n",
            "  inflating: /content/cannabis-health-diagnosis/data/test/Healthy/healthy_1362308639.jpg  \n",
            "  inflating: /content/cannabis-health-diagnosis/data/test/Healthy/healthy_143693586-growing-cannabis-indoors-growing-pot-in-groutent-vegetative-stage-of-marijuana-growth-medical.jpg  \n",
            "  inflating: /content/cannabis-health-diagnosis/data/test/Healthy/healthy_article-2436634-0983259F000005DC-525_634x438.jpg  \n",
            "   creating: /content/cannabis-health-diagnosis/data/test/Iron Deficiency/\n",
            "  inflating: /content/cannabis-health-diagnosis/data/test/Iron Deficiency/OIP-sRydmAY1Km0IGlXgYbh2TAHaFj_jpg.rf.2b7b36a6f3275117d65256f7ba59892c.jpg  \n",
            "  inflating: /content/cannabis-health-diagnosis/data/test/Iron Deficiency/OIP-TTkrZNaBd4uI2Wv-iSjDMgHaE7_jpg.rf.910c110b1c5e9d6332fc268cb5ea281e.jpg  \n",
            "  inflating: /content/cannabis-health-diagnosis/data/test/Iron Deficiency/OIP-zYbvDQOXJzGaRfEI2MGTOwHaDO_jpg.rf.57a897409914035d64ae443628e6086c.jpg  \n",
            "   creating: /content/cannabis-health-diagnosis/data/test/Magnesium Deficiency/\n",
            "  inflating: /content/cannabis-health-diagnosis/data/test/Magnesium Deficiency/magnesium-deficiency-cannabis-yellow-stripe-leaf-calmag_1H_jpeg.rf.a96ebcd6e15c1c4fd3370e619aaa69a5.jpg  \n",
            "  inflating: /content/cannabis-health-diagnosis/data/test/Magnesium Deficiency/magnesium-deficiency-cannabis-yellow-stripe-leaf-calmag_3D_jpeg.rf.3f1bece736cc8939e12186097c8b0778.jpg  \n",
            "  inflating: /content/cannabis-health-diagnosis/data/test/Magnesium Deficiency/magnesium-deficiency-cannabis-yellow-stripe-leaf-calmag_4K_jpeg.rf.ba1a3b3c5f994d346db5b1bd61c8b27c.jpg  \n",
            "   creating: /content/cannabis-health-diagnosis/data/test/Manganese Deficiency/\n",
            "  inflating: /content/cannabis-health-diagnosis/data/test/Manganese Deficiency/manganese-deficiency-cannabis-plant_jpg.rf.dec61621e55294d6cb18f164e9f8ba92.jpg  \n",
            "  inflating: /content/cannabis-health-diagnosis/data/test/Manganese Deficiency/OIP-_CSj33-cCekrQVIqWykogQHaDC_jpg.rf.63934cf570c3ec2f0bbb3a3ee386f9c2.jpg  \n",
            "   creating: /content/cannabis-health-diagnosis/data/test/Nitrogen Deficiency/\n",
            "  inflating: /content/cannabis-health-diagnosis/data/test/Nitrogen Deficiency/nitrogen-deficiency-weed-yellow-brown-leaf-drooping-wilting_28_jpeg.rf.43595076bf9b64d55eb017b999bec850.jpg  \n",
            "  inflating: /content/cannabis-health-diagnosis/data/test/Nitrogen Deficiency/nitrogen-deficiency-weed-yellow-brown-leaf-drooping-wilting_IV_jpeg.rf.eed513c6566580ecb87eb6798f00c712.jpg  \n",
            "  inflating: /content/cannabis-health-diagnosis/data/test/Nitrogen Deficiency/nitrogen-deficiency-weed-yellow-brown-leaf-drooping-wilting_U2_jpeg.rf.e28738fb855fcfdd64164afc54b1e28a.jpg  \n",
            "   creating: /content/cannabis-health-diagnosis/data/test/PH Fluctuation/\n",
            "  inflating: /content/cannabis-health-diagnosis/data/test/PH Fluctuation/Cannabis-weed-PH-fluctuation-brown-marks-acidic-soil-proper-ph-level-chart-marijuana-growing_J4_jpeg.rf.557b44a35e61d3ee795d0221b4e0a1bc.jpg  \n",
            "  inflating: /content/cannabis-health-diagnosis/data/test/PH Fluctuation/Cannabis-weed-PH-fluctuation-brown-marks-acidic-soil-proper-ph-level-chart-marijuana-growing_VB_jpeg.rf.d54ce0a9afe825bf84848b512db4ab69.jpg  \n",
            "   creating: /content/cannabis-health-diagnosis/data/test/Phosphorus Deficiency/\n",
            "  inflating: /content/cannabis-health-diagnosis/data/test/Phosphorus Deficiency/phosphorus-deficiency-cannabis-weed-dark-leaf-spots-bronze-brown-leaves_A4_jpeg.rf.993bf66fd8e86bc68dc173d636d75016.jpg  \n",
            "  inflating: /content/cannabis-health-diagnosis/data/test/Phosphorus Deficiency/phosphorus-deficiency-cannabis-weed-dark-leaf-spots-bronze-brown-leaves_DJ_jpeg.rf.d2e5e4cf713413236ef6022268cd99ae.jpg  \n",
            "  inflating: /content/cannabis-health-diagnosis/data/test/Phosphorus Deficiency/phosphorus_deficiency_hero_jpeg.rf.9ad64b011e5908ecc631ec7e97a6d71f.jpg  \n",
            "  inflating: /content/cannabis-health-diagnosis/data/test/Phosphorus Deficiency/rsz-growing-cannabis-with-phosphorus-640x401_jpeg.rf.e5c898c9be9e000a000455d6f781ba89.jpg  \n",
            "   creating: /content/cannabis-health-diagnosis/data/test/Potassium Deficiency/\n",
            "  inflating: /content/cannabis-health-diagnosis/data/test/Potassium Deficiency/ILGM_Fix_potassium-deficiency_jpeg.rf.7ccfd109da6c1b73851727220f22ec4e.jpg  \n",
            "  inflating: /content/cannabis-health-diagnosis/data/test/Potassium Deficiency/Nutrientburnlatestagecannabisplants-1024x932_png.rf.977860001fe482036a990cde2ffc194d.jpg  \n",
            "  inflating: /content/cannabis-health-diagnosis/data/test/Potassium Deficiency/potassium-deficiency2_jpeg.rf.412496e67e6fdb0f579bb0a763776c08.jpg  \n",
            "  inflating: /content/cannabis-health-diagnosis/data/test/Potassium Deficiency/potassium_deficiency_0_jpeg.rf.faa4aa225180d43f45b7332290493791.jpg  \n",
            "  inflating: /content/cannabis-health-diagnosis/data/test/Potassium Deficiency/signs-of-potassium-deficiency-in-marijuana_jpeg.rf.c8dcd327a3ad95522c08d0ee00fb6542.jpg  \n",
            "   creating: /content/cannabis-health-diagnosis/data/test/Powdery Mildew/\n",
            "  inflating: /content/cannabis-health-diagnosis/data/test/Powdery Mildew/cannabis-white-powdery-mildew-outdoor-weed-pathogen_8Z_jpeg.rf.edecf8578ec0ea618e3957d256f04d89.jpg  \n",
            "  inflating: /content/cannabis-health-diagnosis/data/test/Powdery Mildew/cannabis-white-powdery-mildew-outdoor-weed-_Z2_jpeg.rf.92f4ed0e3a7bcadc946990e3afd8ca89.jpg  \n",
            "  inflating: /content/cannabis-health-diagnosis/data/test/Powdery Mildew/Powdery-mild-dew_png.rf.9ced237d565adb6a68560b9a4beff32b.jpg  \n",
            "   creating: /content/cannabis-health-diagnosis/data/test/Sulfur Deficiency/\n",
            "  inflating: /content/cannabis-health-diagnosis/data/test/Sulfur Deficiency/sulfur-deficiency-weed-yellow-leaves-chlorosis_0M_jpeg.rf.db3750fd0fb571a7a71c571726d97d93.jpg  \n",
            "  inflating: /content/cannabis-health-diagnosis/data/test/Sulfur Deficiency/sulfur-deficiency-weed-yellow-leaves-chlorosis_29_jpeg.rf.f0085f4364466a8c45623034dba71831.jpg  \n",
            "  inflating: /content/cannabis-health-diagnosis/data/test/Sulfur Deficiency/sulfur-deficiency-weed-yellow-leaves-chlorosis_XA_png.rf.b1879dc0e33d6a52f554dd9b1dca1053.jpg  \n",
            "   creating: /content/cannabis-health-diagnosis/data/train/\n",
            "   creating: /content/cannabis-health-diagnosis/data/train/Aphids/\n",
            "  inflating: /content/cannabis-health-diagnosis/data/train/Aphids/aphids_cannabis_hero-450x450_jpeg.rf.0cabaf546f70ebac66dbfa98d68ea140.jpg  \n",
            "  inflating: /content/cannabis-health-diagnosis/data/train/Aphids/aphids_cannabis_hero-450x450_jpeg.rf.3df6536c272fddcccfbb8abdaac29fa9.jpg  \n",
            "  inflating: /content/cannabis-health-diagnosis/data/train/Aphids/aphids_cannabis_hero-450x450_jpeg.rf.91820cd6c0d69995e29b7b0f2f8b323a.jpg  \n",
            "  inflating: /content/cannabis-health-diagnosis/data/train/Aphids/aphids_cannabis_hero-450x450_jpeg.rf.d472febed130a1cfe6822d977b602a47.jpg  \n",
            "  inflating: /content/cannabis-health-diagnosis/data/train/Aphids/aphids_cannabis_hero-450x450_jpeg.rf.f91807cb3a1bf9055552bac7737a88b8.jpg  \n",
            "  inflating: /content/cannabis-health-diagnosis/data/train/Aphids/cannabis-marijuana-aphids-outdoor-garden-pests_20_jpeg.rf.03899f6c6ee71acfce100e9ef57c5237.jpg  \n",
            "  inflating: /content/cannabis-health-diagnosis/data/train/Aphids/cannabis-marijuana-aphids-outdoor-garden-pests_20_jpeg.rf.6223ba33309a18d98429c09d3cdc64dd.jpg  \n",
            "  inflating: /content/cannabis-health-diagnosis/data/train/Aphids/cannabis-marijuana-aphids-outdoor-garden-pests_20_jpeg.rf.8a0ccced291c337b11fc5cbed1a95d9d.jpg  \n",
            "  inflating: /content/cannabis-health-diagnosis/data/train/Aphids/cannabis-marijuana-aphids-outdoor-garden-pests_20_jpeg.rf.9ff87df3ee648b70d476f347623ab8f2.jpg  \n",
            "  inflating: /content/cannabis-health-diagnosis/data/train/Aphids/cannabis-marijuana-aphids-outdoor-garden-pests_20_jpeg.rf.ce62876f79efa13f127e64ec4cf3f84e.jpg  \n",
            "  inflating: /content/cannabis-health-diagnosis/data/train/Aphids/cannabis-marijuana-aphids-outdoor-garden-pests_4F_jpeg.rf.02db8cadb28911bf8ab992df9812c92e.jpg  \n",
            "  inflating: /content/cannabis-health-diagnosis/data/train/Aphids/cannabis-marijuana-aphids-outdoor-garden-pests_4F_jpeg.rf.3394262d16f9012b07298d070e613559.jpg  \n",
            "  inflating: /content/cannabis-health-diagnosis/data/train/Aphids/cannabis-marijuana-aphids-outdoor-garden-pests_4F_jpeg.rf.3e0f60a6875d513be5e04fee41075c21.jpg  \n",
            "  inflating: /content/cannabis-health-diagnosis/data/train/Aphids/cannabis-marijuana-aphids-outdoor-garden-pests_4F_jpeg.rf.8af08c58f7e97f26b248101c0da3a853.jpg  \n",
            "  inflating: /content/cannabis-health-diagnosis/data/train/Aphids/cannabis-marijuana-aphids-outdoor-garden-pests_4F_jpeg.rf.e3b347eec2b9d5a2bfc76b0439354099.jpg  \n",
            "  inflating: /content/cannabis-health-diagnosis/data/train/Aphids/cannabis-marijuana-aphids-outdoor-garden-pests_5Q_jpeg.rf.00a36258bfb4e7e0ac65f1c153ede86e.jpg  \n",
            "  inflating: /content/cannabis-health-diagnosis/data/train/Aphids/cannabis-marijuana-aphids-outdoor-garden-pests_5Q_jpeg.rf.ae3bf9ff73e79967790129ec70afb4a2.jpg  \n",
            "  inflating: /content/cannabis-health-diagnosis/data/train/Aphids/cannabis-marijuana-aphids-outdoor-garden-pests_5Q_jpeg.rf.bdf671342be266e3d472962f5da4c3f1.jpg  \n",
            "  inflating: /content/cannabis-health-diagnosis/data/train/Aphids/cannabis-marijuana-aphids-outdoor-garden-pests_5Q_jpeg.rf.c4539831d3a80cb18cf81571e207d18c.jpg  \n",
            "  inflating: /content/cannabis-health-diagnosis/data/train/Aphids/cannabis-marijuana-aphids-outdoor-garden-pests_5Q_jpeg.rf.ddfc36096c8411d8b5f4c1a41d2a91d1.jpg  \n",
            "  inflating: /content/cannabis-health-diagnosis/data/train/Aphids/cannabis-marijuana-aphids-outdoor-garden-pests_95_jpeg.rf.1c9e348afd00cf8ebc0fb04b7d42a023.jpg  \n",
            "  inflating: /content/cannabis-health-diagnosis/data/train/Aphids/cannabis-marijuana-aphids-outdoor-garden-pests_95_jpeg.rf.25389fe7fc1beee5059a0154fc247a61.jpg  \n",
            "  inflating: /content/cannabis-health-diagnosis/data/train/Aphids/cannabis-marijuana-aphids-outdoor-garden-pests_95_jpeg.rf.453c4310e761dbf609b9b7f67774dfb9.jpg  \n",
            "  inflating: /content/cannabis-health-diagnosis/data/train/Aphids/cannabis-marijuana-aphids-outdoor-garden-pests_95_jpeg.rf.9c902052ddd70c3add110c86590f87d5.jpg  \n",
            "  inflating: /content/cannabis-health-diagnosis/data/train/Aphids/cannabis-marijuana-aphids-outdoor-garden-pests_95_jpeg.rf.a37fec51ad58104b99cc2dd26572d8ec.jpg  \n",
            "  inflating: /content/cannabis-health-diagnosis/data/train/Aphids/cannabis-marijuana-aphids-outdoor-garden-pests_EL_jpeg.rf.2a2d8f14e64747e9c9261c9cfae8caee.jpg  \n",
            "  inflating: /content/cannabis-health-diagnosis/data/train/Aphids/cannabis-marijuana-aphids-outdoor-garden-pests_EL_jpeg.rf.a96fc78571c0bc226e088afbc12252e6.jpg  \n",
            "  inflating: /content/cannabis-health-diagnosis/data/train/Aphids/cannabis-marijuana-aphids-outdoor-garden-pests_EL_jpeg.rf.b58dd2e4b1868d6831629590db3b059f.jpg  \n",
            "  inflating: /content/cannabis-health-diagnosis/data/train/Aphids/cannabis-marijuana-aphids-outdoor-garden-pests_EL_jpeg.rf.b87d4f41956e4f66f4a0d659b06427d2.jpg  \n",
            "  inflating: /content/cannabis-health-diagnosis/data/train/Aphids/cannabis-marijuana-aphids-outdoor-garden-pests_EL_jpeg.rf.d93dc42f013035cba33201f57a0a2600.jpg  \n",
            "  inflating: /content/cannabis-health-diagnosis/data/train/Aphids/cannabis-marijuana-aphids-outdoor-garden-pests_H0_jpeg.rf.00b950f1be3afc660748fbeef2ddcccd.jpg  \n",
            "  inflating: /content/cannabis-health-diagnosis/data/train/Aphids/cannabis-marijuana-aphids-outdoor-garden-pests_H0_jpeg.rf.6d2b8dbdb4c391beb1289c77565994ce.jpg  \n",
            "  inflating: /content/cannabis-health-diagnosis/data/train/Aphids/cannabis-marijuana-aphids-outdoor-garden-pests_H0_jpeg.rf.9e8bae30ff4d004eb721c5477c6ac935.jpg  \n",
            "  inflating: /content/cannabis-health-diagnosis/data/train/Aphids/cannabis-marijuana-aphids-outdoor-garden-pests_H0_jpeg.rf.a878f4872ee19aa3aa5e1b496c99d3f9.jpg  \n",
            "  inflating: /content/cannabis-health-diagnosis/data/train/Aphids/cannabis-marijuana-aphids-outdoor-garden-pests_H0_jpeg.rf.dd2b559a0c89b2d275a91a8c0c91f7b8.jpg  \n",
            "  inflating: /content/cannabis-health-diagnosis/data/train/Aphids/cannabis-marijuana-aphids-outdoor-garden-pests_HE_jpeg.rf.08fdb168b251ce611d47cb31cd89478c.jpg  \n",
            "  inflating: /content/cannabis-health-diagnosis/data/train/Aphids/cannabis-marijuana-aphids-outdoor-garden-pests_HE_jpeg.rf.47a0410fc971fe9be5961a2f462f0ba6.jpg  \n",
            "  inflating: /content/cannabis-health-diagnosis/data/train/Aphids/cannabis-marijuana-aphids-outdoor-garden-pests_HE_jpeg.rf.815c90a84e7fd835630bb6524dfeed9a.jpg  \n",
            "  inflating: /content/cannabis-health-diagnosis/data/train/Aphids/cannabis-marijuana-aphids-outdoor-garden-pests_HE_jpeg.rf.83b8ffbc067c89d0a043f0ea67dc0378.jpg  \n",
            "  inflating: /content/cannabis-health-diagnosis/data/train/Aphids/cannabis-marijuana-aphids-outdoor-garden-pests_HE_jpeg.rf.aca8a19330fd4e7688f309cf888bce6b.jpg  \n",
            "  inflating: /content/cannabis-health-diagnosis/data/train/Aphids/cannabis-marijuana-aphids-outdoor-garden-pests_K5_jpeg.rf.29a605ad935e870e9368303466e0e32b.jpg  \n",
            "  inflating: /content/cannabis-health-diagnosis/data/train/Aphids/cannabis-marijuana-aphids-outdoor-garden-pests_K5_jpeg.rf.360d790aff8a4ce8ed5c7a14071d67a4.jpg  \n",
            "  inflating: /content/cannabis-health-diagnosis/data/train/Aphids/cannabis-marijuana-aphids-outdoor-garden-pests_K5_jpeg.rf.73036625878e563547927d59dba3305c.jpg  \n",
            "  inflating: /content/cannabis-health-diagnosis/data/train/Aphids/cannabis-marijuana-aphids-outdoor-garden-pests_K5_jpeg.rf.d2c61c15870c613a23964327d0b18cc6.jpg  \n",
            "  inflating: /content/cannabis-health-diagnosis/data/train/Aphids/cannabis-marijuana-aphids-outdoor-garden-pests_K5_jpeg.rf.f5933613764a2fc1fb4e35388dcf1cfe.jpg  \n",
            "  inflating: /content/cannabis-health-diagnosis/data/train/Aphids/cannabis-marijuana-aphids-outdoor-garden-pests_N7_jpeg.rf.594a1100891d2a821ade0fc7014eccc9.jpg  \n",
            "  inflating: /content/cannabis-health-diagnosis/data/train/Aphids/cannabis-marijuana-aphids-outdoor-garden-pests_N7_jpeg.rf.774eb7f1a00515dd08eff68826a2fee0.jpg  \n",
            "  inflating: /content/cannabis-health-diagnosis/data/train/Aphids/cannabis-marijuana-aphids-outdoor-garden-pests_N7_jpeg.rf.bb71566fe49379e9b8a293ada1f6180b.jpg  \n",
            "  inflating: /content/cannabis-health-diagnosis/data/train/Aphids/cannabis-marijuana-aphids-outdoor-garden-pests_N7_jpeg.rf.cb00439610d2f7aa89ec8e469c72671f.jpg  \n",
            "  inflating: /content/cannabis-health-diagnosis/data/train/Aphids/cannabis-marijuana-aphids-outdoor-garden-pests_N7_jpeg.rf.db4af410f8c601117fb3094feaa330c3.jpg  \n",
            "  inflating: /content/cannabis-health-diagnosis/data/train/Aphids/cannabis-marijuana-aphids-outdoor-garden-pests_TA_jpeg.rf.37ea41a5c4ee4bbd3a86cfa41609ba51.jpg  \n",
            "  inflating: /content/cannabis-health-diagnosis/data/train/Aphids/cannabis-marijuana-aphids-outdoor-garden-pests_TA_jpeg.rf.3b6bd6019beaa4bb996f35b58b723725.jpg  \n",
            "  inflating: /content/cannabis-health-diagnosis/data/train/Aphids/cannabis-marijuana-aphids-outdoor-garden-pests_TA_jpeg.rf.5dbf309555b3ef17c5178a4c8f77725b.jpg  \n",
            "  inflating: /content/cannabis-health-diagnosis/data/train/Aphids/cannabis-marijuana-aphids-outdoor-garden-pests_TA_jpeg.rf.c0a09b5f3f41be3533855fee87ed0a32.jpg  \n",
            "  inflating: /content/cannabis-health-diagnosis/data/train/Aphids/cannabis-marijuana-aphids-outdoor-garden-pests_TA_jpeg.rf.d13c83434d3539ade489bbb91819e777.jpg  \n",
            "  inflating: /content/cannabis-health-diagnosis/data/train/Aphids/cannabis-marijuana-aphids-outdoor-garden-pests_U4_jpeg.rf.24d736f87e5fbe695f1d17514bc340cc.jpg  \n",
            "  inflating: /content/cannabis-health-diagnosis/data/train/Aphids/cannabis-marijuana-aphids-outdoor-garden-pests_U4_jpeg.rf.76bcc8cd0264ae2eec67a000e0d13a15.jpg  \n",
            "  inflating: /content/cannabis-health-diagnosis/data/train/Aphids/cannabis-marijuana-aphids-outdoor-garden-pests_U4_jpeg.rf.89eb76173c537145a5116a0e1a8e853f.jpg  \n",
            "  inflating: /content/cannabis-health-diagnosis/data/train/Aphids/cannabis-marijuana-aphids-outdoor-garden-pests_U4_jpeg.rf.b5780b2a1f3e077a3ab929b958d31313.jpg  \n",
            "  inflating: /content/cannabis-health-diagnosis/data/train/Aphids/cannabis-marijuana-aphids-outdoor-garden-pests_U4_jpeg.rf.d95d850609d3ef6678af6df0d6b66497.jpg  \n",
            "  inflating: /content/cannabis-health-diagnosis/data/train/Aphids/cannabis-marijuana-aphids-outdoor-garden-pests_X0_jpeg.rf.0503499206b1276f4d860b761c570fa2.jpg  \n",
            "  inflating: /content/cannabis-health-diagnosis/data/train/Aphids/cannabis-marijuana-aphids-outdoor-garden-pests_X0_jpeg.rf.239b3a3d2dfef3f416bddb7619a5c133.jpg  \n",
            "  inflating: /content/cannabis-health-diagnosis/data/train/Aphids/cannabis-marijuana-aphids-outdoor-garden-pests_X0_jpeg.rf.8a672aabd61edd150913a104d5a4c111.jpg  \n",
            "  inflating: /content/cannabis-health-diagnosis/data/train/Aphids/cannabis-marijuana-aphids-outdoor-garden-pests_X0_jpeg.rf.b389e41514ba283c325fdc65bdad1cc2.jpg  \n",
            "  inflating: /content/cannabis-health-diagnosis/data/train/Aphids/cannabis-marijuana-aphids-outdoor-garden-pests_X0_jpeg.rf.f5fe79d06baaeb37df4e9807b8c06d37.jpg  \n",
            "  inflating: /content/cannabis-health-diagnosis/data/train/Aphids/cannabis-marijuana-aphids-outdoor-garden-pests_XV_jpeg.rf.099cc9029bba2b73a7cf3135c5c99c45.jpg  \n",
            "  inflating: /content/cannabis-health-diagnosis/data/train/Aphids/cannabis-marijuana-aphids-outdoor-garden-pests_XV_jpeg.rf.0c1169bea326b7e0880ce99eb2f49ddf.jpg  \n",
            "  inflating: /content/cannabis-health-diagnosis/data/train/Aphids/cannabis-marijuana-aphids-outdoor-garden-pests_XV_jpeg.rf.57147bb5d6848c6a5a2dd1d55cc26dbb.jpg  \n",
            "  inflating: /content/cannabis-health-diagnosis/data/train/Aphids/cannabis-marijuana-aphids-outdoor-garden-pests_XV_jpeg.rf.5ee6bae8f3edc8ddf22c7a74f82edef2.jpg  \n",
            "  inflating: /content/cannabis-health-diagnosis/data/train/Aphids/cannabis-marijuana-aphids-outdoor-garden-pests_XV_jpeg.rf.edd7965812c44f98cf58d0aaf46602b0.jpg  \n",
            "   creating: /content/cannabis-health-diagnosis/data/train/Calcium Deficiency/\n",
            "  inflating: /content/cannabis-health-diagnosis/data/train/Calcium Deficiency/Calcium-Deficiency-1_jpeg.rf.1b2396af2a1f4ee9716c85b44e0fed0e.jpg  \n",
            "  inflating: /content/cannabis-health-diagnosis/data/train/Calcium Deficiency/Calcium-Deficiency-1_jpeg.rf.21c7a4d5197c77d1dd603710067ba4ef.jpg  \n",
            "  inflating: /content/cannabis-health-diagnosis/data/train/Calcium Deficiency/Calcium-Deficiency-1_jpeg.rf.9957572efd4f0fc546d31e8613cc1358.jpg  \n",
            "  inflating: /content/cannabis-health-diagnosis/data/train/Calcium Deficiency/Calcium-Deficiency-1_jpeg.rf.afa02b0c55f68502aaeaec58d891d81a.jpg  \n",
            "  inflating: /content/cannabis-health-diagnosis/data/train/Calcium Deficiency/Calcium-Deficiency-1_jpeg.rf.c7138edfecbe217f4e845a57432c81e4.jpg  \n",
            "  inflating: /content/cannabis-health-diagnosis/data/train/Calcium Deficiency/cannabis-calcium-deficiency-nutrient-deficiencies-yellow-brown-spots-calmag-weed-growing-problems_0Y_jpeg.rf.4a231cb530fe97561575e9e2d26249ca.jpg  \n",
            "  inflating: /content/cannabis-health-diagnosis/data/train/Calcium Deficiency/cannabis-calcium-deficiency-nutrient-deficiencies-yellow-brown-spots-calmag-weed-growing-problems_0Y_jpeg.rf.54cd31a0abdd149386c80f05a9bd866d.jpg  \n",
            "  inflating: /content/cannabis-health-diagnosis/data/train/Calcium Deficiency/cannabis-calcium-deficiency-nutrient-deficiencies-yellow-brown-spots-calmag-weed-growing-problems_0Y_jpeg.rf.ad73524fba25a5e32c00cb5878db4496.jpg  \n",
            "  inflating: /content/cannabis-health-diagnosis/data/train/Calcium Deficiency/cannabis-calcium-deficiency-nutrient-deficiencies-yellow-brown-spots-calmag-weed-growing-problems_0Y_jpeg.rf.cc0c729c372d8b606fe193c49ce58530.jpg  \n",
            "  inflating: /content/cannabis-health-diagnosis/data/train/Calcium Deficiency/cannabis-calcium-deficiency-nutrient-deficiencies-yellow-brown-spots-calmag-weed-growing-problems_0Y_jpeg.rf.f0489b53146d505c87815042112d97f6.jpg  \n",
            "  inflating: /content/cannabis-health-diagnosis/data/train/Calcium Deficiency/cannabis-calcium-deficiency-nutrient-deficiencies-yellow-brown-spots-calmag-weed-growing-problems_2A_png.rf.86081b8d56dbb6192a02877e7d98cfe3.jpg  \n",
            "  inflating: /content/cannabis-health-diagnosis/data/train/Calcium Deficiency/cannabis-calcium-deficiency-nutrient-deficiencies-yellow-brown-spots-calmag-weed-growing-problems_2A_png.rf.c1ba8241d8ad8265cc295689719c2afd.jpg  \n",
            "  inflating: /content/cannabis-health-diagnosis/data/train/Calcium Deficiency/cannabis-calcium-deficiency-nutrient-deficiencies-yellow-brown-spots-calmag-weed-growing-problems_2A_png.rf.d632cdc5669e9737a1a7af24dd6e3234.jpg  \n",
            "  inflating: /content/cannabis-health-diagnosis/data/train/Calcium Deficiency/cannabis-calcium-deficiency-nutrient-deficiencies-yellow-brown-spots-calmag-weed-growing-problems_2A_png.rf.e6c4f8b27ae84fe767fc3b36f3e58d1a.jpg  \n",
            "  inflating: /content/cannabis-health-diagnosis/data/train/Calcium Deficiency/cannabis-calcium-deficiency-nutrient-deficiencies-yellow-brown-spots-calmag-weed-growing-problems_2A_png.rf.fae24382dae6909245bf6d882e0199aa.jpg  \n",
            "  inflating: /content/cannabis-health-diagnosis/data/train/Calcium Deficiency/cannabis-calcium-deficiency-nutrient-deficiencies-yellow-brown-spots-calmag-weed-growing-problems_34_jpeg.rf.498de21aa3329b9769402f59cd3b833c.jpg  \n",
            "  inflating: /content/cannabis-health-diagnosis/data/train/Calcium Deficiency/cannabis-calcium-deficiency-nutrient-deficiencies-yellow-brown-spots-calmag-weed-growing-problems_34_jpeg.rf.862b0060daead69f7fae74da3bff5a2c.jpg  \n",
            "  inflating: /content/cannabis-health-diagnosis/data/train/Calcium Deficiency/cannabis-calcium-deficiency-nutrient-deficiencies-yellow-brown-spots-calmag-weed-growing-problems_34_jpeg.rf.baf2df4d2ec8196c90e89ea82014a693.jpg  \n",
            "  inflating: /content/cannabis-health-diagnosis/data/train/Calcium Deficiency/cannabis-calcium-deficiency-nutrient-deficiencies-yellow-brown-spots-calmag-weed-growing-problems_34_jpeg.rf.ee5ba1b80d33e20fe71d9d0db5ac0c39.jpg  \n",
            "  inflating: /content/cannabis-health-diagnosis/data/train/Calcium Deficiency/cannabis-calcium-deficiency-nutrient-deficiencies-yellow-brown-spots-calmag-weed-growing-problems_34_jpeg.rf.fe105328c20f3d97d64014cc64b469a3.jpg  \n",
            "  inflating: /content/cannabis-health-diagnosis/data/train/Calcium Deficiency/cannabis-calcium-deficiency-nutrient-deficiencies-yellow-brown-spots-calmag-weed-growing-problems_37_png.rf.10813701cc302bc59a061f46b71b9f7c.jpg  \n",
            "  inflating: /content/cannabis-health-diagnosis/data/train/Calcium Deficiency/cannabis-calcium-deficiency-nutrient-deficiencies-yellow-brown-spots-calmag-weed-growing-problems_37_png.rf.4f4e2681e360b30b9e23371f0269075e.jpg  \n",
            "  inflating: /content/cannabis-health-diagnosis/data/train/Calcium Deficiency/cannabis-calcium-deficiency-nutrient-deficiencies-yellow-brown-spots-calmag-weed-growing-problems_37_png.rf.6b1d539385e3e422fd0194489adf7523.jpg  \n",
            "  inflating: /content/cannabis-health-diagnosis/data/train/Calcium Deficiency/cannabis-calcium-deficiency-nutrient-deficiencies-yellow-brown-spots-calmag-weed-growing-problems_37_png.rf.6c1672c59029b8649fb0a9ea56661beb.jpg  \n",
            "  inflating: /content/cannabis-health-diagnosis/data/train/Calcium Deficiency/cannabis-calcium-deficiency-nutrient-deficiencies-yellow-brown-spots-calmag-weed-growing-problems_37_png.rf.d8b59b4d4f647144d00a6ed20b0bb017.jpg  \n",
            "  inflating: /content/cannabis-health-diagnosis/data/train/Calcium Deficiency/cannabis-calcium-deficiency-nutrient-deficiencies-yellow-brown-spots-calmag-weed-growing-problems_5K_jpeg.rf.0b2757520fbabf20574795e152f17247.jpg  \n",
            "  inflating: /content/cannabis-health-diagnosis/data/train/Calcium Deficiency/cannabis-calcium-deficiency-nutrient-deficiencies-yellow-brown-spots-calmag-weed-growing-problems_5K_jpeg.rf.2b9d139705969e8ce3516c73562656e2.jpg  \n",
            "  inflating: /content/cannabis-health-diagnosis/data/train/Calcium Deficiency/cannabis-calcium-deficiency-nutrient-deficiencies-yellow-brown-spots-calmag-weed-growing-problems_5K_jpeg.rf.4c1f1b0d6938e63ee08bc68253ef61d1.jpg  \n",
            "  inflating: /content/cannabis-health-diagnosis/data/train/Calcium Deficiency/cannabis-calcium-deficiency-nutrient-deficiencies-yellow-brown-spots-calmag-weed-growing-problems_5K_jpeg.rf.c28657880b3f585ca95471f98066823b.jpg  \n",
            "  inflating: /content/cannabis-health-diagnosis/data/train/Calcium Deficiency/cannabis-calcium-deficiency-nutrient-deficiencies-yellow-brown-spots-calmag-weed-growing-problems_5K_jpeg.rf.d3808bf24598533683edbd28321a2054.jpg  \n",
            "  inflating: /content/cannabis-health-diagnosis/data/train/Calcium Deficiency/cannabis-calcium-deficiency-nutrient-deficiencies-yellow-brown-spots-calmag-weed-growing-problems_5T_jpeg.rf.1b4ca5c37d01771c33e4f28ad45a305f.jpg  \n",
            "  inflating: /content/cannabis-health-diagnosis/data/train/Calcium Deficiency/cannabis-calcium-deficiency-nutrient-deficiencies-yellow-brown-spots-calmag-weed-growing-problems_5T_jpeg.rf.7936cf3976622b439a7ea369b979139d.jpg  \n",
            "  inflating: /content/cannabis-health-diagnosis/data/train/Calcium Deficiency/cannabis-calcium-deficiency-nutrient-deficiencies-yellow-brown-spots-calmag-weed-growing-problems_5T_jpeg.rf.8e5546b1c87d2d611395d19cce2a838f.jpg  \n",
            "  inflating: /content/cannabis-health-diagnosis/data/train/Calcium Deficiency/cannabis-calcium-deficiency-nutrient-deficiencies-yellow-brown-spots-calmag-weed-growing-problems_5T_jpeg.rf.aab619bc112e7379835c3eba8fb7fa82.jpg  \n",
            "  inflating: /content/cannabis-health-diagnosis/data/train/Calcium Deficiency/cannabis-calcium-deficiency-nutrient-deficiencies-yellow-brown-spots-calmag-weed-growing-problems_5T_jpeg.rf.e06b5532a6efcf8029240a0f9689d1d9.jpg  \n",
            "  inflating: /content/cannabis-health-diagnosis/data/train/Calcium Deficiency/cannabis-calcium-deficiency-nutrient-deficiencies-yellow-brown-spots-calmag-weed-growing-problems_HD_jpeg.rf.5101e4596bb8dd449c21176860d20759.jpg  \n",
            "  inflating: /content/cannabis-health-diagnosis/data/train/Calcium Deficiency/cannabis-calcium-deficiency-nutrient-deficiencies-yellow-brown-spots-calmag-weed-growing-problems_HD_jpeg.rf.7238c5f5f745051d992c7d3d9bca3f4d.jpg  \n",
            "  inflating: /content/cannabis-health-diagnosis/data/train/Calcium Deficiency/cannabis-calcium-deficiency-nutrient-deficiencies-yellow-brown-spots-calmag-weed-growing-problems_HD_jpeg.rf.802c2da5881ee98e81e51a0dc00c37cf.jpg  \n",
            "  inflating: /content/cannabis-health-diagnosis/data/train/Calcium Deficiency/cannabis-calcium-deficiency-nutrient-deficiencies-yellow-brown-spots-calmag-weed-growing-problems_HD_jpeg.rf.84f4dd65a38b97c13183e4d360998daa.jpg  \n",
            "  inflating: /content/cannabis-health-diagnosis/data/train/Calcium Deficiency/cannabis-calcium-deficiency-nutrient-deficiencies-yellow-brown-spots-calmag-weed-growing-problems_HD_jpeg.rf.e2b3f176eb6cdfa04bcdbf78b10fca7c.jpg  \n",
            "  inflating: /content/cannabis-health-diagnosis/data/train/Calcium Deficiency/cannabis-calcium-deficiency-nutrient-deficiencies-yellow-brown-spots-calmag-weed-growing-problems_JD_png.rf.16198aa89342f407469816544f941796.jpg  \n",
            "  inflating: /content/cannabis-health-diagnosis/data/train/Calcium Deficiency/cannabis-calcium-deficiency-nutrient-deficiencies-yellow-brown-spots-calmag-weed-growing-problems_JD_png.rf.3fc7f5ad2da0184dfb855f51d00347a6.jpg  \n",
            "  inflating: /content/cannabis-health-diagnosis/data/train/Calcium Deficiency/cannabis-calcium-deficiency-nutrient-deficiencies-yellow-brown-spots-calmag-weed-growing-problems_JD_png.rf.61f445194ddf45cede8d4bc34993a483.jpg  \n",
            "  inflating: /content/cannabis-health-diagnosis/data/train/Calcium Deficiency/cannabis-calcium-deficiency-nutrient-deficiencies-yellow-brown-spots-calmag-weed-growing-problems_JD_png.rf.711e7b38498d6ca55f9ad5cb46f377df.jpg  \n",
            "  inflating: /content/cannabis-health-diagnosis/data/train/Calcium Deficiency/cannabis-calcium-deficiency-nutrient-deficiencies-yellow-brown-spots-calmag-weed-growing-problems_JD_png.rf.ac0889ba1b5913f1fbfaf4e250fa1177.jpg  \n",
            "  inflating: /content/cannabis-health-diagnosis/data/train/Calcium Deficiency/cannabis-calcium-deficiency-nutrient-deficiencies-yellow-brown-spots-calmag-weed-growing-problems_MD_png.rf.38589a38b1a363bae5ad4e74e24b6dd3.jpg  \n",
            "  inflating: /content/cannabis-health-diagnosis/data/train/Calcium Deficiency/cannabis-calcium-deficiency-nutrient-deficiencies-yellow-brown-spots-calmag-weed-growing-problems_MD_png.rf.972a0d69d2d321265ba3b92f81943408.jpg  \n",
            "  inflating: /content/cannabis-health-diagnosis/data/train/Calcium Deficiency/cannabis-calcium-deficiency-nutrient-deficiencies-yellow-brown-spots-calmag-weed-growing-problems_MD_png.rf.db02ae6ede496f01e01ec2e4e2dbfa9a.jpg  \n",
            "  inflating: /content/cannabis-health-diagnosis/data/train/Calcium Deficiency/cannabis-calcium-deficiency-nutrient-deficiencies-yellow-brown-spots-calmag-weed-growing-problems_MD_png.rf.fbe31e59a93e0e6382f20080c70f46ec.jpg  \n",
            "  inflating: /content/cannabis-health-diagnosis/data/train/Calcium Deficiency/cannabis-calcium-deficiency-nutrient-deficiencies-yellow-brown-spots-calmag-weed-growing-problems_MD_png.rf.fc0d5c800cd4058de33d6f1d6ffc1df7.jpg  \n",
            "  inflating: /content/cannabis-health-diagnosis/data/train/Calcium Deficiency/cannabis-calcium-deficiency-nutrient-deficiencies-yellow-brown-spots-calmag-weed-growing-problems_P2_jpeg.rf.367253f7bd9b7cc604762dbd0d3881c5.jpg  \n",
            "  inflating: /content/cannabis-health-diagnosis/data/train/Calcium Deficiency/cannabis-calcium-deficiency-nutrient-deficiencies-yellow-brown-spots-calmag-weed-growing-problems_P2_jpeg.rf.46bcd4b181a3771048773c3d80d40aa6.jpg  \n",
            "  inflating: /content/cannabis-health-diagnosis/data/train/Calcium Deficiency/cannabis-calcium-deficiency-nutrient-deficiencies-yellow-brown-spots-calmag-weed-growing-problems_P2_jpeg.rf.64684b1f150b61fe74a3e103e61cf4d5.jpg  \n",
            "  inflating: /content/cannabis-health-diagnosis/data/train/Calcium Deficiency/cannabis-calcium-deficiency-nutrient-deficiencies-yellow-brown-spots-calmag-weed-growing-problems_P2_jpeg.rf.eb9402066a05e13243ee64d2afb5bb8f.jpg  \n",
            "  inflating: /content/cannabis-health-diagnosis/data/train/Calcium Deficiency/cannabis-calcium-deficiency-nutrient-deficiencies-yellow-brown-spots-calmag-weed-growing-problems_P2_jpeg.rf.f124dd0a99f06dd5ab93c4b45b80d0d7.jpg  \n",
            "  inflating: /content/cannabis-health-diagnosis/data/train/Calcium Deficiency/cannabis-calcium-deficiency-nutrient-deficiencies-yellow-brown-spots-calmag-weed-growing-problems_SN_jpeg.rf.194a8d43a4171dc521bfeb6f443867ef.jpg  \n",
            "  inflating: /content/cannabis-health-diagnosis/data/train/Calcium Deficiency/cannabis-calcium-deficiency-nutrient-deficiencies-yellow-brown-spots-calmag-weed-growing-problems_SN_jpeg.rf.2e0175859df5e4424669b0009c3b5e06.jpg  \n",
            "  inflating: /content/cannabis-health-diagnosis/data/train/Calcium Deficiency/cannabis-calcium-deficiency-nutrient-deficiencies-yellow-brown-spots-calmag-weed-growing-problems_SN_jpeg.rf.c5f5f0667aaba88cf5606bb15654e042.jpg  \n",
            "  inflating: /content/cannabis-health-diagnosis/data/train/Calcium Deficiency/cannabis-calcium-deficiency-nutrient-deficiencies-yellow-brown-spots-calmag-weed-growing-problems_SN_jpeg.rf.e7ae96cdb594d3b406e5fbd6d1a97dfd.jpg  \n",
            "  inflating: /content/cannabis-health-diagnosis/data/train/Calcium Deficiency/cannabis-calcium-deficiency-nutrient-deficiencies-yellow-brown-spots-calmag-weed-growing-problems_SN_jpeg.rf.ffd4e40c5f5a9cdbee9c906f17369860.jpg  \n",
            "  inflating: /content/cannabis-health-diagnosis/data/train/Calcium Deficiency/cannabis-calcium-deficiency-nutrient-deficiencies-yellow-brown-spots-calmag-weed-growing-problems_UT_jpeg.rf.56d2a37526563a8d65b9ebded1461bee.jpg  \n",
            "  inflating: /content/cannabis-health-diagnosis/data/train/Calcium Deficiency/cannabis-calcium-deficiency-nutrient-deficiencies-yellow-brown-spots-calmag-weed-growing-problems_UT_jpeg.rf.602dd983421e100ba2a9b219df356d8e.jpg  \n",
            "  inflating: /content/cannabis-health-diagnosis/data/train/Calcium Deficiency/cannabis-calcium-deficiency-nutrient-deficiencies-yellow-brown-spots-calmag-weed-growing-problems_UT_jpeg.rf.b221da7caae1c4a4ace3dbe1a8115afc.jpg  \n",
            "  inflating: /content/cannabis-health-diagnosis/data/train/Calcium Deficiency/cannabis-calcium-deficiency-nutrient-deficiencies-yellow-brown-spots-calmag-weed-growing-problems_UT_jpeg.rf.ce6083f812ade7e9e7e316219e378152.jpg  \n",
            "  inflating: /content/cannabis-health-diagnosis/data/train/Calcium Deficiency/cannabis-calcium-deficiency-nutrient-deficiencies-yellow-brown-spots-calmag-weed-growing-problems_UT_jpeg.rf.df5073ccdca45b523432168476203738.jpg  \n",
            "  inflating: /content/cannabis-health-diagnosis/data/train/Calcium Deficiency/cannabis-calcium-deficiency-nutrient-deficiencies-yellow-brown-spots-calmag-weed-growing-problems_UZ_png.rf.08304be82db1b4402542b9a6d5b2e724.jpg  \n",
            "  inflating: /content/cannabis-health-diagnosis/data/train/Calcium Deficiency/cannabis-calcium-deficiency-nutrient-deficiencies-yellow-brown-spots-calmag-weed-growing-problems_UZ_png.rf.7b4fbe2cbd098026e31fe90c51f6be37.jpg  \n",
            "  inflating: /content/cannabis-health-diagnosis/data/train/Calcium Deficiency/cannabis-calcium-deficiency-nutrient-deficiencies-yellow-brown-spots-calmag-weed-growing-problems_UZ_png.rf.83c1dccdf28b4bbcafd6fd98e18e7477.jpg  \n",
            "  inflating: /content/cannabis-health-diagnosis/data/train/Calcium Deficiency/cannabis-calcium-deficiency-nutrient-deficiencies-yellow-brown-spots-calmag-weed-growing-problems_UZ_png.rf.962a5629e4ff0014b28db972afe1fe29.jpg  \n",
            "  inflating: /content/cannabis-health-diagnosis/data/train/Calcium Deficiency/cannabis-calcium-deficiency-nutrient-deficiencies-yellow-brown-spots-calmag-weed-growing-problems_UZ_png.rf.ae9f275cb370209d72a6d1f59efb37d1.jpg  \n",
            "  inflating: /content/cannabis-health-diagnosis/data/train/Calcium Deficiency/cannabis-calcium-deficiency-nutrient-deficiencies-yellow-brown-spots-calmag-weed-growing-problems_ZH_jpeg.rf.2f974c5d8d1a51fb85b67aeed858ada3.jpg  \n",
            "  inflating: /content/cannabis-health-diagnosis/data/train/Calcium Deficiency/cannabis-calcium-deficiency-nutrient-deficiencies-yellow-brown-spots-calmag-weed-growing-problems_ZH_jpeg.rf.3e7487c5381d3d052ea7983761f33757.jpg  \n",
            "  inflating: /content/cannabis-health-diagnosis/data/train/Calcium Deficiency/cannabis-calcium-deficiency-nutrient-deficiencies-yellow-brown-spots-calmag-weed-growing-problems_ZH_jpeg.rf.6d7aaa2fef1eb393faca35c54990fe0b.jpg  \n",
            "  inflating: /content/cannabis-health-diagnosis/data/train/Calcium Deficiency/cannabis-calcium-deficiency-nutrient-deficiencies-yellow-brown-spots-calmag-weed-growing-problems_ZH_jpeg.rf.8e50821da470f7d206760ea14eb2f1a0.jpg  \n",
            "  inflating: /content/cannabis-health-diagnosis/data/train/Calcium Deficiency/cannabis-calcium-deficiency-nutrient-deficiencies-yellow-brown-spots-calmag-weed-growing-problems_ZH_jpeg.rf.c1507479d4f1dec5831c207d5b68dffb.jpg  \n",
            "  inflating: /content/cannabis-health-diagnosis/data/train/Calcium Deficiency/Q3EOVDNRNE_jpeg.rf.1ac4f51be3cce229b7ea87781b32276a.jpg  \n",
            "  inflating: /content/cannabis-health-diagnosis/data/train/Calcium Deficiency/Q3EOVDNRNE_jpeg.rf.5e38d9150f4017da85587476b12152d9.jpg  \n",
            "  inflating: /content/cannabis-health-diagnosis/data/train/Calcium Deficiency/Q3EOVDNRNE_jpeg.rf.a08aad2ab6f006620d0239ff22554d46.jpg  \n",
            "  inflating: /content/cannabis-health-diagnosis/data/train/Calcium Deficiency/Q3EOVDNRNE_jpeg.rf.af7d5b02fb96fa323fa63d8e32d2ebdb.jpg  \n",
            "  inflating: /content/cannabis-health-diagnosis/data/train/Calcium Deficiency/Q3EOVDNRNE_jpeg.rf.eec31b6ba9920e245a05c1e6db1c38e6.jpg  \n",
            "   creating: /content/cannabis-health-diagnosis/data/train/Healthy/\n",
            "  inflating: /content/cannabis-health-diagnosis/data/train/Healthy/aug_0_3200444.jpg  \n",
            "  inflating: /content/cannabis-health-diagnosis/data/train/Healthy/aug_0_4205750.jpg  \n",
            "  inflating: /content/cannabis-health-diagnosis/data/train/Healthy/aug_0_538208.jpg  \n",
            "  inflating: /content/cannabis-health-diagnosis/data/train/Healthy/aug_0_546779.jpg  \n",
            "  inflating: /content/cannabis-health-diagnosis/data/train/Healthy/aug_0_5768007.jpg  \n",
            "  inflating: /content/cannabis-health-diagnosis/data/train/Healthy/aug_0_6097953.jpg  \n",
            "  inflating: /content/cannabis-health-diagnosis/data/train/Healthy/aug_0_6170186.jpg  \n",
            "  inflating: /content/cannabis-health-diagnosis/data/train/Healthy/aug_0_7511002.jpg  \n",
            "  inflating: /content/cannabis-health-diagnosis/data/train/Healthy/aug_0_8933002.jpg  \n",
            "  inflating: /content/cannabis-health-diagnosis/data/train/Healthy/aug_0_9190082.jpg  \n",
            "  inflating: /content/cannabis-health-diagnosis/data/train/Healthy/aug_1_4081345.jpg  \n",
            "  inflating: /content/cannabis-health-diagnosis/data/train/Healthy/aug_1_4731825.jpg  \n",
            "  inflating: /content/cannabis-health-diagnosis/data/train/Healthy/aug_1_5025793.jpg  \n",
            "  inflating: /content/cannabis-health-diagnosis/data/train/Healthy/aug_1_557979.jpg  \n",
            "  inflating: /content/cannabis-health-diagnosis/data/train/Healthy/aug_1_6917819.jpg  \n",
            "  inflating: /content/cannabis-health-diagnosis/data/train/Healthy/aug_1_7521506.jpg  \n",
            "  inflating: /content/cannabis-health-diagnosis/data/train/Healthy/aug_1_7941973.jpg  \n",
            "  inflating: /content/cannabis-health-diagnosis/data/train/Healthy/aug_1_8111920.jpg  \n",
            "  inflating: /content/cannabis-health-diagnosis/data/train/Healthy/aug_1_8846107.jpg  \n",
            "  inflating: /content/cannabis-health-diagnosis/data/train/Healthy/aug_2_3153768.jpg  \n",
            "  inflating: /content/cannabis-health-diagnosis/data/train/Healthy/aug_2_3602291.jpg  \n",
            "  inflating: /content/cannabis-health-diagnosis/data/train/Healthy/aug_2_4735818.jpg  \n",
            "  inflating: /content/cannabis-health-diagnosis/data/train/Healthy/aug_2_4889399.jpg  \n",
            "  inflating: /content/cannabis-health-diagnosis/data/train/Healthy/aug_2_7175872.jpg  \n",
            "  inflating: /content/cannabis-health-diagnosis/data/train/Healthy/aug_2_7675541.jpg  \n",
            "  inflating: /content/cannabis-health-diagnosis/data/train/Healthy/aug_2_7938118.jpg  \n",
            "  inflating: /content/cannabis-health-diagnosis/data/train/Healthy/aug_2_8176059.jpg  \n",
            "  inflating: /content/cannabis-health-diagnosis/data/train/Healthy/aug_2_8758336.jpg  \n",
            "  inflating: /content/cannabis-health-diagnosis/data/train/Healthy/aug_3_193039.jpg  \n",
            "  inflating: /content/cannabis-health-diagnosis/data/train/Healthy/aug_3_3314703.jpg  \n",
            "  inflating: /content/cannabis-health-diagnosis/data/train/Healthy/aug_3_4576969.jpg  \n",
            "  inflating: /content/cannabis-health-diagnosis/data/train/Healthy/aug_3_5850767.jpg  \n",
            "  inflating: /content/cannabis-health-diagnosis/data/train/Healthy/aug_3_6112822.jpg  \n",
            "  inflating: /content/cannabis-health-diagnosis/data/train/Healthy/aug_3_6156780.jpg  \n",
            "  inflating: /content/cannabis-health-diagnosis/data/train/Healthy/aug_3_6479385.jpg  \n",
            "  inflating: /content/cannabis-health-diagnosis/data/train/Healthy/aug_3_76546.jpg  \n",
            "  inflating: /content/cannabis-health-diagnosis/data/train/Healthy/aug_3_8744356.jpg  \n",
            "  inflating: /content/cannabis-health-diagnosis/data/train/Healthy/aug_4_1049829.jpg  \n",
            "  inflating: /content/cannabis-health-diagnosis/data/train/Healthy/aug_4_1216658.jpg  \n",
            "  inflating: /content/cannabis-health-diagnosis/data/train/Healthy/aug_4_2159886.jpg  \n",
            "  inflating: /content/cannabis-health-diagnosis/data/train/Healthy/aug_4_3118598.jpg  \n",
            "  inflating: /content/cannabis-health-diagnosis/data/train/Healthy/aug_4_391973.jpg  \n",
            "  inflating: /content/cannabis-health-diagnosis/data/train/Healthy/aug_4_4503809.jpg  \n",
            "  inflating: /content/cannabis-health-diagnosis/data/train/Healthy/aug_4_5169338.jpg  \n",
            "  inflating: /content/cannabis-health-diagnosis/data/train/Healthy/aug_4_8193800.jpg  \n",
            "  inflating: /content/cannabis-health-diagnosis/data/train/Healthy/aug_4_9221465.jpg  \n",
            "  inflating: /content/cannabis-health-diagnosis/data/train/Healthy/aug_5_2170013.jpg  \n",
            "  inflating: /content/cannabis-health-diagnosis/data/train/Healthy/aug_5_2477038.jpg  \n",
            "  inflating: /content/cannabis-health-diagnosis/data/train/Healthy/aug_5_2737354.jpg  \n",
            "  inflating: /content/cannabis-health-diagnosis/data/train/Healthy/aug_5_3576143.jpg  \n",
            "  inflating: /content/cannabis-health-diagnosis/data/train/Healthy/aug_5_3587153.jpg  \n",
            "  inflating: /content/cannabis-health-diagnosis/data/train/Healthy/aug_5_4679802.jpg  \n",
            "  inflating: /content/cannabis-health-diagnosis/data/train/Healthy/aug_5_5269821.jpg  \n",
            "  inflating: /content/cannabis-health-diagnosis/data/train/Healthy/aug_5_6537951.jpg  \n",
            "  inflating: /content/cannabis-health-diagnosis/data/train/Healthy/aug_5_9649194.jpg  \n",
            "  inflating: /content/cannabis-health-diagnosis/data/train/Healthy/aug_6_2019732.jpg  \n",
            "  inflating: /content/cannabis-health-diagnosis/data/train/Healthy/aug_6_2406949.jpg  \n",
            "  inflating: /content/cannabis-health-diagnosis/data/train/Healthy/aug_6_4999482.jpg  \n",
            "  inflating: /content/cannabis-health-diagnosis/data/train/Healthy/aug_6_6478409.jpg  \n",
            "  inflating: /content/cannabis-health-diagnosis/data/train/Healthy/aug_6_6938645.jpg  \n",
            "  inflating: /content/cannabis-health-diagnosis/data/train/Healthy/aug_6_7014762.jpg  \n",
            "  inflating: /content/cannabis-health-diagnosis/data/train/Healthy/aug_6_8416865.jpg  \n",
            "  inflating: /content/cannabis-health-diagnosis/data/train/Healthy/aug_6_8995495.jpg  \n",
            "  inflating: /content/cannabis-health-diagnosis/data/train/Healthy/aug_6_9534899.jpg  \n",
            "  inflating: /content/cannabis-health-diagnosis/data/train/Healthy/aug_7_2130756.jpg  \n",
            "  inflating: /content/cannabis-health-diagnosis/data/train/Healthy/aug_7_2533901.jpg  \n",
            "  inflating: /content/cannabis-health-diagnosis/data/train/Healthy/aug_7_2581884.jpg  \n",
            "  inflating: /content/cannabis-health-diagnosis/data/train/Healthy/aug_7_290312.jpg  \n",
            "  inflating: /content/cannabis-health-diagnosis/data/train/Healthy/aug_7_337908.jpg  \n",
            "  inflating: /content/cannabis-health-diagnosis/data/train/Healthy/aug_7_8090520.jpg  \n",
            "  inflating: /content/cannabis-health-diagnosis/data/train/Healthy/aug_7_9104304.jpg  \n",
            "  inflating: /content/cannabis-health-diagnosis/data/train/Healthy/aug_7_9153197.jpg  \n",
            "  inflating: /content/cannabis-health-diagnosis/data/train/Healthy/aug_7_9880154.jpg  \n",
            "  inflating: /content/cannabis-health-diagnosis/data/train/Healthy/aug_8_1493790.jpg  \n",
            "  inflating: /content/cannabis-health-diagnosis/data/train/Healthy/aug_8_3450562.jpg  \n",
            "  inflating: /content/cannabis-health-diagnosis/data/train/Healthy/aug_8_551629.jpg  \n",
            "  inflating: /content/cannabis-health-diagnosis/data/train/Healthy/aug_8_5868732.jpg  \n",
            "  inflating: /content/cannabis-health-diagnosis/data/train/Healthy/aug_8_6356427.jpg  \n",
            "  inflating: /content/cannabis-health-diagnosis/data/train/Healthy/aug_8_6504689.jpg  \n",
            "  inflating: /content/cannabis-health-diagnosis/data/train/Healthy/aug_8_7250288.jpg  \n",
            "  inflating: /content/cannabis-health-diagnosis/data/train/Healthy/aug_8_9136222.jpg  \n",
            "  inflating: /content/cannabis-health-diagnosis/data/train/Healthy/aug_9_1212402.jpg  \n",
            "  inflating: /content/cannabis-health-diagnosis/data/train/Healthy/aug_9_1393697.jpg  \n",
            "  inflating: /content/cannabis-health-diagnosis/data/train/Healthy/aug_9_158861.jpg  \n",
            "  inflating: /content/cannabis-health-diagnosis/data/train/Healthy/aug_9_3794389.jpg  \n",
            "  inflating: /content/cannabis-health-diagnosis/data/train/Healthy/aug_9_400604.jpg  \n",
            "  inflating: /content/cannabis-health-diagnosis/data/train/Healthy/aug_9_5794550.jpg  \n",
            "  inflating: /content/cannabis-health-diagnosis/data/train/Healthy/aug_9_8205898.jpg  \n",
            "  inflating: /content/cannabis-health-diagnosis/data/train/Healthy/aug_9_8981898.jpg  \n",
            "  inflating: /content/cannabis-health-diagnosis/data/train/Healthy/aug_9_9042891.jpg  \n",
            "  inflating: /content/cannabis-health-diagnosis/data/train/Healthy/healthy-marijuana-leaf.jpg  \n",
            "  inflating: /content/cannabis-health-diagnosis/data/train/Healthy/healthy_1000_F_354069308_6gsW4dYQSnShY3ZRzudWRdm8Jz48jHbg.jpg  \n",
            "  inflating: /content/cannabis-health-diagnosis/data/train/Healthy/healthy_a-close-up-shot-of-a-cannabis-plant-with-vibrant-green-leaves-showcasing-its-growth-and-healthy-foliage-photo.jpg  \n",
            "  inflating: /content/cannabis-health-diagnosis/data/train/Healthy/healthy_Cannabis-leaves-header_1200x500_0000_iStock-883312588.jpg  \n",
            "  inflating: /content/cannabis-health-diagnosis/data/train/Healthy/healthy_cannabis.jpg  \n",
            "  inflating: /content/cannabis-health-diagnosis/data/train/Healthy/healthy_Leaf_White_Background-1024x576.jpg  \n",
            "  inflating: /content/cannabis-health-diagnosis/data/train/Healthy/healthy_planta-marihuana-sana.jpg  \n",
            "  inflating: /content/cannabis-health-diagnosis/data/train/Healthy/healthy_roots-cannabistop-cpro.jpg  \n",
            "  inflating: /content/cannabis-health-diagnosis/data/train/Healthy/healthy_Ryan-Douglas-Cannabis-Photo.jpg  \n",
            "  inflating: /content/cannabis-health-diagnosis/data/train/Healthy/healthy_Sonoma-Farms_041-768x512.jpg  \n",
            "   creating: /content/cannabis-health-diagnosis/data/train/Iron Deficiency/\n",
            "  inflating: /content/cannabis-health-diagnosis/data/train/Iron Deficiency/iron-deficiency-weed-yellow-leaves-leaf_FV_jpeg.rf.0660bcecabbb7e0be6a44edca4fc208f.jpg  \n",
            "  inflating: /content/cannabis-health-diagnosis/data/train/Iron Deficiency/iron-deficiency-weed-yellow-leaves-leaf_FV_jpeg.rf.163d8347766b5d3aa8deeb17da90eec9.jpg  \n",
            "  inflating: /content/cannabis-health-diagnosis/data/train/Iron Deficiency/iron-deficiency-weed-yellow-leaves-leaf_FV_jpeg.rf.1a1725db9c976a8812b6f5f43293d757.jpg  \n",
            "  inflating: /content/cannabis-health-diagnosis/data/train/Iron Deficiency/iron-deficiency-weed-yellow-leaves-leaf_FV_jpeg.rf.85258ad47010979357d91f0fae5a7655.jpg  \n",
            "  inflating: /content/cannabis-health-diagnosis/data/train/Iron Deficiency/iron-deficiency-weed-yellow-leaves-leaf_FV_jpeg.rf.e128b1f2bab35cd32cefad1891e36f17.jpg  \n",
            "  inflating: /content/cannabis-health-diagnosis/data/train/Iron Deficiency/OIP-2ZEa5TgArPyvMsnxWzAFmwHaDD_jpg.rf.19c12c82bd76c00eb78d1c36120c40e3.jpg  \n",
            "  inflating: /content/cannabis-health-diagnosis/data/train/Iron Deficiency/OIP-2ZEa5TgArPyvMsnxWzAFmwHaDD_jpg.rf.22c5994ec53e9fe34fc2349c635a2029.jpg  \n",
            "  inflating: /content/cannabis-health-diagnosis/data/train/Iron Deficiency/OIP-2ZEa5TgArPyvMsnxWzAFmwHaDD_jpg.rf.61e0368c4a1a37fa4aac6a19e5a3eb3d.jpg  \n",
            "  inflating: /content/cannabis-health-diagnosis/data/train/Iron Deficiency/OIP-2ZEa5TgArPyvMsnxWzAFmwHaDD_jpg.rf.74cabc3fafe5973253ace274c746a36d.jpg  \n",
            "  inflating: /content/cannabis-health-diagnosis/data/train/Iron Deficiency/OIP-2ZEa5TgArPyvMsnxWzAFmwHaDD_jpg.rf.d366a3875d82501f3c4a46bc54661530.jpg  \n",
            "  inflating: /content/cannabis-health-diagnosis/data/train/Iron Deficiency/OIP-97wk3Os-x8oKr1xsntkeLgHaHa_jpg.rf.3a4f21207da4d57b7570201f884523e9.jpg  \n",
            "  inflating: /content/cannabis-health-diagnosis/data/train/Iron Deficiency/OIP-97wk3Os-x8oKr1xsntkeLgHaHa_jpg.rf.5ed2cdf18d66b1c7341dba6e4c7bcfa9.jpg  \n",
            "  inflating: /content/cannabis-health-diagnosis/data/train/Iron Deficiency/OIP-97wk3Os-x8oKr1xsntkeLgHaHa_jpg.rf.69fe07c247e67970967fe03f87587de4.jpg  \n",
            "  inflating: /content/cannabis-health-diagnosis/data/train/Iron Deficiency/OIP-97wk3Os-x8oKr1xsntkeLgHaHa_jpg.rf.bb01cd34484946d2d28cb92c0383cd60.jpg  \n",
            "  inflating: /content/cannabis-health-diagnosis/data/train/Iron Deficiency/OIP-97wk3Os-x8oKr1xsntkeLgHaHa_jpg.rf.efa424ac3b43db3ca769162d99777abe.jpg  \n",
            "  inflating: /content/cannabis-health-diagnosis/data/train/Iron Deficiency/OIP-b6OwCykWrpW5FaTFZOjEJQHaE7_jpg.rf.1ce49c7916d4e8712c85f07a8996e306.jpg  \n",
            "  inflating: /content/cannabis-health-diagnosis/data/train/Iron Deficiency/OIP-b6OwCykWrpW5FaTFZOjEJQHaE7_jpg.rf.26bc6084131c04371035960ce24c66ac.jpg  \n",
            "  inflating: /content/cannabis-health-diagnosis/data/train/Iron Deficiency/OIP-b6OwCykWrpW5FaTFZOjEJQHaE7_jpg.rf.a3fd7fe58eb1a5a02bc3493fe2e09dfb.jpg  \n",
            "  inflating: /content/cannabis-health-diagnosis/data/train/Iron Deficiency/OIP-b6OwCykWrpW5FaTFZOjEJQHaE7_jpg.rf.d3ad8d469630c7484597a35febfc48f4.jpg  \n",
            "  inflating: /content/cannabis-health-diagnosis/data/train/Iron Deficiency/OIP-b6OwCykWrpW5FaTFZOjEJQHaE7_jpg.rf.f0acba7fb0c4240e7791e05b140fb884.jpg  \n",
            "  inflating: /content/cannabis-health-diagnosis/data/train/Iron Deficiency/OIP-cVGqqye5kYILmpi5roBRIQHaFj_jpg.rf.24a2b135e7d45fb3267b0114214bae21.jpg  \n",
            "  inflating: /content/cannabis-health-diagnosis/data/train/Iron Deficiency/OIP-cVGqqye5kYILmpi5roBRIQHaFj_jpg.rf.8588a98329c7c30cf3033320b8371d26.jpg  \n",
            "  inflating: /content/cannabis-health-diagnosis/data/train/Iron Deficiency/OIP-cVGqqye5kYILmpi5roBRIQHaFj_jpg.rf.b7dc5db117f557da8ff93ef1fa7b363a.jpg  \n",
            "  inflating: /content/cannabis-health-diagnosis/data/train/Iron Deficiency/OIP-cVGqqye5kYILmpi5roBRIQHaFj_jpg.rf.c06e2b26f4d5974e7128e267bc8bf335.jpg  \n",
            "  inflating: /content/cannabis-health-diagnosis/data/train/Iron Deficiency/OIP-cVGqqye5kYILmpi5roBRIQHaFj_jpg.rf.fb90856adcb46d33a42f9b69b684991b.jpg  \n",
            "  inflating: /content/cannabis-health-diagnosis/data/train/Iron Deficiency/OIP-gSUvTZdvtTc08Q6d2-wYlwHaHa_jpg.rf.0a455cdf13bc3c953802319a4b47eaa5.jpg  \n",
            "  inflating: /content/cannabis-health-diagnosis/data/train/Iron Deficiency/OIP-gSUvTZdvtTc08Q6d2-wYlwHaHa_jpg.rf.309dc7e5e12af3f2bfe19d117e77a1b2.jpg  \n",
            "  inflating: /content/cannabis-health-diagnosis/data/train/Iron Deficiency/OIP-gSUvTZdvtTc08Q6d2-wYlwHaHa_jpg.rf.7cc1a71ef19e983c5acf33b6a6a17543.jpg  \n",
            "  inflating: /content/cannabis-health-diagnosis/data/train/Iron Deficiency/OIP-gSUvTZdvtTc08Q6d2-wYlwHaHa_jpg.rf.d4e52112cc035cf963a4cc366e68c50f.jpg  \n",
            "  inflating: /content/cannabis-health-diagnosis/data/train/Iron Deficiency/OIP-gSUvTZdvtTc08Q6d2-wYlwHaHa_jpg.rf.e27c9e0fe37fca3d3c5fd509f2b74e2a.jpg  \n",
            "  inflating: /content/cannabis-health-diagnosis/data/train/Iron Deficiency/OIP-K--je8UUyMrjSAFo__W3oAHaFj_jpg.rf.11cafe8fae4eeb09e030733cf1e7d61a.jpg  \n",
            "  inflating: /content/cannabis-health-diagnosis/data/train/Iron Deficiency/OIP-K--je8UUyMrjSAFo__W3oAHaFj_jpg.rf.587bc0388ac3885b38d49e4bc64a39b2.jpg  \n",
            "  inflating: /content/cannabis-health-diagnosis/data/train/Iron Deficiency/OIP-K--je8UUyMrjSAFo__W3oAHaFj_jpg.rf.69074d9b482706154628d422b6a032da.jpg  \n",
            "  inflating: /content/cannabis-health-diagnosis/data/train/Iron Deficiency/OIP-K--je8UUyMrjSAFo__W3oAHaFj_jpg.rf.8e01ee2e5ef6e004315ce0dde9b4f09f.jpg  \n",
            "  inflating: /content/cannabis-health-diagnosis/data/train/Iron Deficiency/OIP-K--je8UUyMrjSAFo__W3oAHaFj_jpg.rf.cc6bde75e3099ab51c624e3547811449.jpg  \n",
            "  inflating: /content/cannabis-health-diagnosis/data/train/Iron Deficiency/OIP-K9prav-fr7eQp1nsfn32OwAAAA_jpg.rf.2208b1bf176abc42a383306a5038afc0.jpg  \n",
            "  inflating: /content/cannabis-health-diagnosis/data/train/Iron Deficiency/OIP-K9prav-fr7eQp1nsfn32OwAAAA_jpg.rf.5efc94cfa99abbb4f23e07287a49cd5c.jpg  \n",
            "  inflating: /content/cannabis-health-diagnosis/data/train/Iron Deficiency/OIP-K9prav-fr7eQp1nsfn32OwAAAA_jpg.rf.af5bd6d2990b743b6f569681a062ab92.jpg  \n",
            "  inflating: /content/cannabis-health-diagnosis/data/train/Iron Deficiency/OIP-K9prav-fr7eQp1nsfn32OwAAAA_jpg.rf.d61dfeb73cc64051f25fd50bf446ae3c.jpg  \n",
            "  inflating: /content/cannabis-health-diagnosis/data/train/Iron Deficiency/OIP-K9prav-fr7eQp1nsfn32OwAAAA_jpg.rf.e130700b00a7cf592e34b5260139dea9.jpg  \n",
            "  inflating: /content/cannabis-health-diagnosis/data/train/Iron Deficiency/OIP-laU-yLzEr0xkRSExEwgScwHaHa_jpg.rf.0fa3b7e14e65e0f958d4183bae01d9a1.jpg  \n",
            "  inflating: /content/cannabis-health-diagnosis/data/train/Iron Deficiency/OIP-laU-yLzEr0xkRSExEwgScwHaHa_jpg.rf.3307e502d5bc3dcf2246c075be749cea.jpg  \n",
            "  inflating: /content/cannabis-health-diagnosis/data/train/Iron Deficiency/OIP-laU-yLzEr0xkRSExEwgScwHaHa_jpg.rf.c44a50b574b18702fc5ce81eb072b3d2.jpg  \n",
            "  inflating: /content/cannabis-health-diagnosis/data/train/Iron Deficiency/OIP-laU-yLzEr0xkRSExEwgScwHaHa_jpg.rf.f2413eaddfc09fc3a54432617f959ce2.jpg  \n",
            "  inflating: /content/cannabis-health-diagnosis/data/train/Iron Deficiency/OIP-laU-yLzEr0xkRSExEwgScwHaHa_jpg.rf.fd1f9de6b7028edbb32f11d1c55843b3.jpg  \n",
            "  inflating: /content/cannabis-health-diagnosis/data/train/Iron Deficiency/OIP-MCmgO15u9S-WeGoVAqEx9wHaFj_jpg.rf.3846492b68e899222498e24ad0f2e1fa.jpg  \n",
            "  inflating: /content/cannabis-health-diagnosis/data/train/Iron Deficiency/OIP-MCmgO15u9S-WeGoVAqEx9wHaFj_jpg.rf.3f43acdf53e6671f4b458af8bd4b3c4b.jpg  \n",
            "  inflating: /content/cannabis-health-diagnosis/data/train/Iron Deficiency/OIP-MCmgO15u9S-WeGoVAqEx9wHaFj_jpg.rf.4dbd77370dbffd8df127c7cbe1679347.jpg  \n",
            "  inflating: /content/cannabis-health-diagnosis/data/train/Iron Deficiency/OIP-MCmgO15u9S-WeGoVAqEx9wHaFj_jpg.rf.98bfed03164e838d3b1e8ce198a9ad47.jpg  \n",
            "  inflating: /content/cannabis-health-diagnosis/data/train/Iron Deficiency/OIP-MCmgO15u9S-WeGoVAqEx9wHaFj_jpg.rf.a71bbe7504246b66660e190899c9c655.jpg  \n",
            "  inflating: /content/cannabis-health-diagnosis/data/train/Iron Deficiency/OIP-NI4i3MjCDJgluitYTcJWugHaJ4_jpg.rf.08803a0d84d5856ad19d498db72f02d0.jpg  \n",
            "  inflating: /content/cannabis-health-diagnosis/data/train/Iron Deficiency/OIP-NI4i3MjCDJgluitYTcJWugHaJ4_jpg.rf.7005dfb2141c6ff9a8fb950ffae23fd7.jpg  \n",
            "  inflating: /content/cannabis-health-diagnosis/data/train/Iron Deficiency/OIP-NI4i3MjCDJgluitYTcJWugHaJ4_jpg.rf.bb1cf03e85643f531ba089138b349346.jpg  \n",
            "  inflating: /content/cannabis-health-diagnosis/data/train/Iron Deficiency/OIP-NI4i3MjCDJgluitYTcJWugHaJ4_jpg.rf.c1c2fd5d6c66a2e762ab63c7a94dfa80.jpg  \n",
            "  inflating: /content/cannabis-health-diagnosis/data/train/Iron Deficiency/OIP-NI4i3MjCDJgluitYTcJWugHaJ4_jpg.rf.f13f5c0475ddeaa79130968268fd3390.jpg  \n",
            "  inflating: /content/cannabis-health-diagnosis/data/train/Iron Deficiency/OIP-tbE6GZYvwSZRtNB51BfiaAHaJ4_jpg.rf.0aa4ac92e9fdedc2628ff0225a8786cb.jpg  \n",
            "  inflating: /content/cannabis-health-diagnosis/data/train/Iron Deficiency/OIP-tbE6GZYvwSZRtNB51BfiaAHaJ4_jpg.rf.3d5a45eeed84ae66830bbe3c199ae030.jpg  \n",
            "  inflating: /content/cannabis-health-diagnosis/data/train/Iron Deficiency/OIP-tbE6GZYvwSZRtNB51BfiaAHaJ4_jpg.rf.65533d5abb2f0c11917b43946f7bfd55.jpg  \n",
            "  inflating: /content/cannabis-health-diagnosis/data/train/Iron Deficiency/OIP-tbE6GZYvwSZRtNB51BfiaAHaJ4_jpg.rf.7543f3ad8a27fd416c36080d72570910.jpg  \n",
            "  inflating: /content/cannabis-health-diagnosis/data/train/Iron Deficiency/OIP-tbE6GZYvwSZRtNB51BfiaAHaJ4_jpg.rf.7b71a152e0929fc934e172b9e5b95c02.jpg  \n",
            "  inflating: /content/cannabis-health-diagnosis/data/train/Iron Deficiency/OIP-ZV1kIRPj9kPqC1UHJjRotwHaFP_jpg.rf.40f9fc69bde97bda5b1c69e7f87a5b38.jpg  \n",
            "  inflating: /content/cannabis-health-diagnosis/data/train/Iron Deficiency/OIP-ZV1kIRPj9kPqC1UHJjRotwHaFP_jpg.rf.698f85d76bc2f655613e86d8a1800ad8.jpg  \n",
            "  inflating: /content/cannabis-health-diagnosis/data/train/Iron Deficiency/OIP-ZV1kIRPj9kPqC1UHJjRotwHaFP_jpg.rf.7455e9b720562e1797d5da797dd06414.jpg  \n",
            "  inflating: /content/cannabis-health-diagnosis/data/train/Iron Deficiency/OIP-ZV1kIRPj9kPqC1UHJjRotwHaFP_jpg.rf.955b7b5a459b137778f41856c89f78a0.jpg  \n",
            "  inflating: /content/cannabis-health-diagnosis/data/train/Iron Deficiency/OIP-ZV1kIRPj9kPqC1UHJjRotwHaFP_jpg.rf.aa1ab6c622f80071a212046e35af45f4.jpg  \n",
            "  inflating: /content/cannabis-health-diagnosis/data/train/Iron Deficiency/post-25110-0-66489500-1313325551_jpg.rf.36dbce39df8b9513511f3c7944102651.jpg  \n",
            "  inflating: /content/cannabis-health-diagnosis/data/train/Iron Deficiency/post-25110-0-66489500-1313325551_jpg.rf.756c78988542d148fc22ea99e715a74a.jpg  \n",
            "  inflating: /content/cannabis-health-diagnosis/data/train/Iron Deficiency/post-25110-0-66489500-1313325551_jpg.rf.8a2c79e6314e5b7cb2684a09b2d58bcc.jpg  \n",
            "  inflating: /content/cannabis-health-diagnosis/data/train/Iron Deficiency/post-25110-0-66489500-1313325551_jpg.rf.a3e4c870b897c191f9fe063c9f5801fd.jpg  \n",
            "  inflating: /content/cannabis-health-diagnosis/data/train/Iron Deficiency/post-25110-0-66489500-1313325551_jpg.rf.ffdd741374d12f5cabb2b9a0c10a6da8.jpg  \n",
            "  inflating: /content/cannabis-health-diagnosis/data/train/Iron Deficiency/severe-iron-deficiency-cannabis_jpg.rf.1ec0ab7cb104e2d779cb43c7dc674275.jpg  \n",
            "  inflating: /content/cannabis-health-diagnosis/data/train/Iron Deficiency/severe-iron-deficiency-cannabis_jpg.rf.1f562f79a858f452296873c457eda43d.jpg  \n",
            "  inflating: /content/cannabis-health-diagnosis/data/train/Iron Deficiency/severe-iron-deficiency-cannabis_jpg.rf.29a07ee2bd7b1f55818155ff282b265a.jpg  \n",
            "  inflating: /content/cannabis-health-diagnosis/data/train/Iron Deficiency/severe-iron-deficiency-cannabis_jpg.rf.5da28a9f1cc88a9318375cb0d0c12a25.jpg  \n",
            "  inflating: /content/cannabis-health-diagnosis/data/train/Iron Deficiency/severe-iron-deficiency-cannabis_jpg.rf.8db0463caf151aaef3581237833c2a18.jpg  \n",
            "   creating: /content/cannabis-health-diagnosis/data/train/Magnesium Deficiency/\n",
            "  inflating: /content/cannabis-health-diagnosis/data/train/Magnesium Deficiency/cannabis-magnesium-deficiency-beginning_jpeg.rf.256020a5c8ebde9acd6a41f07147015a.jpg  \n",
            "  inflating: /content/cannabis-health-diagnosis/data/train/Magnesium Deficiency/cannabis-magnesium-deficiency-beginning_jpeg.rf.8a1ca83fbbc392ae60b5060b87921f0b.jpg  \n",
            "  inflating: /content/cannabis-health-diagnosis/data/train/Magnesium Deficiency/cannabis-magnesium-deficiency-beginning_jpeg.rf.8f14d130a713a6dfebb179181119f5eb.jpg  \n",
            "  inflating: /content/cannabis-health-diagnosis/data/train/Magnesium Deficiency/cannabis-magnesium-deficiency-beginning_jpeg.rf.8fb4587b560e34e6d386c71a27734187.jpg  \n",
            "  inflating: /content/cannabis-health-diagnosis/data/train/Magnesium Deficiency/cannabis-magnesium-deficiency-beginning_jpeg.rf.cab240581605fbc0eea3d8dc45aa2c01.jpg  \n",
            "  inflating: /content/cannabis-health-diagnosis/data/train/Magnesium Deficiency/cannabis-magnesium-deficiency-closeup_jpg.rf.227504b876d2497f05aa25ee791bb427.jpg  \n",
            "  inflating: /content/cannabis-health-diagnosis/data/train/Magnesium Deficiency/cannabis-magnesium-deficiency-closeup_jpg.rf.35053c88ee38d817ae0eede43240cc50.jpg  \n",
            "  inflating: /content/cannabis-health-diagnosis/data/train/Magnesium Deficiency/cannabis-magnesium-deficiency-closeup_jpg.rf.5d2d94a5bb147c0f4b10661b76a162f2.jpg  \n",
            "  inflating: /content/cannabis-health-diagnosis/data/train/Magnesium Deficiency/cannabis-magnesium-deficiency-closeup_jpg.rf.d0aadcc42f54cdb53ea880c4dd0b30c4.jpg  \n",
            "  inflating: /content/cannabis-health-diagnosis/data/train/Magnesium Deficiency/cannabis-magnesium-deficiency-closeup_jpg.rf.eb5d00fbda5f34be7d7fa3f6ce6c0d54.jpg  \n",
            "  inflating: /content/cannabis-health-diagnosis/data/train/Magnesium Deficiency/F0NY0SLDQV_jpeg.rf.39368147e31fb0a46c77f3ca83e431ff.jpg  \n",
            "  inflating: /content/cannabis-health-diagnosis/data/train/Magnesium Deficiency/F0NY0SLDQV_jpeg.rf.45027c4cac544c892a82c3607b936fb6.jpg  \n",
            "  inflating: /content/cannabis-health-diagnosis/data/train/Magnesium Deficiency/F0NY0SLDQV_jpeg.rf.57811e5594b9fc6b60ad1d4fcae1daca.jpg  \n",
            "  inflating: /content/cannabis-health-diagnosis/data/train/Magnesium Deficiency/F0NY0SLDQV_jpeg.rf.61a0bd42e0c368e13d7d34d9270c6ddd.jpg  \n",
            "  inflating: /content/cannabis-health-diagnosis/data/train/Magnesium Deficiency/F0NY0SLDQV_jpeg.rf.f1c4aa200027f18fa465eba44f8cb04c.jpg  \n",
            "  inflating: /content/cannabis-health-diagnosis/data/train/Magnesium Deficiency/low-magnesium-in-cannabis_jpeg.rf.381f77ce64e797c36b39adf95143cf8e.jpg  \n",
            "  inflating: /content/cannabis-health-diagnosis/data/train/Magnesium Deficiency/low-magnesium-in-cannabis_jpeg.rf.4b9cb91ca4ec0df4c8003a2cbe664cf7.jpg  \n",
            "  inflating: /content/cannabis-health-diagnosis/data/train/Magnesium Deficiency/low-magnesium-in-cannabis_jpeg.rf.5e7f0e54795452b5c858c93fecca448c.jpg  \n",
            "  inflating: /content/cannabis-health-diagnosis/data/train/Magnesium Deficiency/low-magnesium-in-cannabis_jpeg.rf.a7915294d411bfb34d0c7d5e13299bd5.jpg  \n",
            "  inflating: /content/cannabis-health-diagnosis/data/train/Magnesium Deficiency/low-magnesium-in-cannabis_jpeg.rf.de5dd6a9d3b19d3d06093c7e9997254c.jpg  \n",
            "  inflating: /content/cannabis-health-diagnosis/data/train/Magnesium Deficiency/Magnesium-deficiency-1-768x540_jpeg.rf.38825a0db9944175ea0e6f5eb9a6c5d1.jpg  \n",
            "  inflating: /content/cannabis-health-diagnosis/data/train/Magnesium Deficiency/Magnesium-deficiency-1-768x540_jpeg.rf.416fd4d1ef7902b98f314abdd9ce02c4.jpg  \n",
            "  inflating: /content/cannabis-health-diagnosis/data/train/Magnesium Deficiency/Magnesium-deficiency-1-768x540_jpeg.rf.5c8722c45fdea9b5fd06dd8c27b51d70.jpg  \n",
            "  inflating: /content/cannabis-health-diagnosis/data/train/Magnesium Deficiency/Magnesium-deficiency-1-768x540_jpeg.rf.d54e9bd5aa342ddc729a250da36d57e3.jpg  \n",
            "  inflating: /content/cannabis-health-diagnosis/data/train/Magnesium Deficiency/Magnesium-deficiency-1-768x540_jpeg.rf.e16a8736051c11d183237ce981c7a5ce.jpg  \n",
            "  inflating: /content/cannabis-health-diagnosis/data/train/Magnesium Deficiency/magnesium-deficiency-cannabis-yellow-stripe-leaf-calmag_17_jpeg.rf.1075843a759def19e26874f0bec296c6.jpg  \n",
            "  inflating: /content/cannabis-health-diagnosis/data/train/Magnesium Deficiency/magnesium-deficiency-cannabis-yellow-stripe-leaf-calmag_17_jpeg.rf.1512e7e6e4a92dc0c690cdfe967f72e1.jpg  \n",
            "  inflating: /content/cannabis-health-diagnosis/data/train/Magnesium Deficiency/magnesium-deficiency-cannabis-yellow-stripe-leaf-calmag_17_jpeg.rf.50e8715766f5f6200e56d15f7caf3e74.jpg  \n",
            "  inflating: /content/cannabis-health-diagnosis/data/train/Magnesium Deficiency/magnesium-deficiency-cannabis-yellow-stripe-leaf-calmag_17_jpeg.rf.9dfc371cbb7c650be5aadb46f80bc975.jpg  \n",
            "  inflating: /content/cannabis-health-diagnosis/data/train/Magnesium Deficiency/magnesium-deficiency-cannabis-yellow-stripe-leaf-calmag_17_jpeg.rf.bd74ba0268b25171b7cb228967b0bee0.jpg  \n",
            "  inflating: /content/cannabis-health-diagnosis/data/train/Magnesium Deficiency/magnesium-deficiency-cannabis-yellow-stripe-leaf-calmag_2I_jpeg.rf.456fb07d3e46e960b3d52482469e5c85.jpg  \n",
            "  inflating: /content/cannabis-health-diagnosis/data/train/Magnesium Deficiency/magnesium-deficiency-cannabis-yellow-stripe-leaf-calmag_2I_jpeg.rf.6c73eb0af576920537df5f42aa330a24.jpg  \n",
            "  inflating: /content/cannabis-health-diagnosis/data/train/Magnesium Deficiency/magnesium-deficiency-cannabis-yellow-stripe-leaf-calmag_2I_jpeg.rf.6dc8b19fea3e70cf06ba0e11b46f33ac.jpg  \n",
            "  inflating: /content/cannabis-health-diagnosis/data/train/Magnesium Deficiency/magnesium-deficiency-cannabis-yellow-stripe-leaf-calmag_2I_jpeg.rf.904446b5b025189d327b4628f019431f.jpg  \n",
            "  inflating: /content/cannabis-health-diagnosis/data/train/Magnesium Deficiency/magnesium-deficiency-cannabis-yellow-stripe-leaf-calmag_2I_jpeg.rf.ba07904f028ac636526c2a46f609f224.jpg  \n",
            "  inflating: /content/cannabis-health-diagnosis/data/train/Magnesium Deficiency/magnesium-deficiency-cannabis-yellow-stripe-leaf-calmag_5F_jpeg.rf.1cf924e8c03af4b7931660aa63d35d7e.jpg  \n",
            "  inflating: /content/cannabis-health-diagnosis/data/train/Magnesium Deficiency/magnesium-deficiency-cannabis-yellow-stripe-leaf-calmag_5F_jpeg.rf.2e8eb2523e1d612e10f80e69be862121.jpg  \n",
            "  inflating: /content/cannabis-health-diagnosis/data/train/Magnesium Deficiency/magnesium-deficiency-cannabis-yellow-stripe-leaf-calmag_5F_jpeg.rf.95701a3fb38b031fd43938e115698138.jpg  \n",
            "  inflating: /content/cannabis-health-diagnosis/data/train/Magnesium Deficiency/magnesium-deficiency-cannabis-yellow-stripe-leaf-calmag_5F_jpeg.rf.ca0f226384b2ce25fd62265edd255070.jpg  \n",
            "  inflating: /content/cannabis-health-diagnosis/data/train/Magnesium Deficiency/magnesium-deficiency-cannabis-yellow-stripe-leaf-calmag_5F_jpeg.rf.fc033276618e3922319b9649d3c12f4a.jpg  \n",
            "  inflating: /content/cannabis-health-diagnosis/data/train/Magnesium Deficiency/magnesium-deficiency-cannabis-yellow-stripe-leaf-calmag_6I_jpeg.rf.022384a8729066f15cf1e33006f84fe9.jpg  \n",
            "  inflating: /content/cannabis-health-diagnosis/data/train/Magnesium Deficiency/magnesium-deficiency-cannabis-yellow-stripe-leaf-calmag_6I_jpeg.rf.1efd0872dcf6cabcaa936ed20f2bf6d9.jpg  \n",
            "  inflating: /content/cannabis-health-diagnosis/data/train/Magnesium Deficiency/magnesium-deficiency-cannabis-yellow-stripe-leaf-calmag_6I_jpeg.rf.295ac6fd27be8433042c5a29ba4a9aa1.jpg  \n",
            "  inflating: /content/cannabis-health-diagnosis/data/train/Magnesium Deficiency/magnesium-deficiency-cannabis-yellow-stripe-leaf-calmag_6I_jpeg.rf.6f0be214cb8963c608787d4843dca841.jpg  \n",
            "  inflating: /content/cannabis-health-diagnosis/data/train/Magnesium Deficiency/magnesium-deficiency-cannabis-yellow-stripe-leaf-calmag_6I_jpeg.rf.c57ed3ada50e4923321f8dd2be87f485.jpg  \n",
            "  inflating: /content/cannabis-health-diagnosis/data/train/Magnesium Deficiency/magnesium-deficiency-cannabis-yellow-stripe-leaf-calmag_6W_jpeg.rf.6e020e8f07c2c79952d1b5fa41dbffcd.jpg  \n",
            "  inflating: /content/cannabis-health-diagnosis/data/train/Magnesium Deficiency/magnesium-deficiency-cannabis-yellow-stripe-leaf-calmag_6W_jpeg.rf.a7a88213ad7420790eaf2a56a42922b7.jpg  \n",
            "  inflating: /content/cannabis-health-diagnosis/data/train/Magnesium Deficiency/magnesium-deficiency-cannabis-yellow-stripe-leaf-calmag_6W_jpeg.rf.b4b52d70c59dd566ee565c9dfb450cf8.jpg  \n",
            "  inflating: /content/cannabis-health-diagnosis/data/train/Magnesium Deficiency/magnesium-deficiency-cannabis-yellow-stripe-leaf-calmag_6W_jpeg.rf.ba32940a92a9fe645261a42f4d2174c5.jpg  \n",
            "  inflating: /content/cannabis-health-diagnosis/data/train/Magnesium Deficiency/magnesium-deficiency-cannabis-yellow-stripe-leaf-calmag_6W_jpeg.rf.d9247a806f8f107c048b8613823a8d99.jpg  \n",
            "  inflating: /content/cannabis-health-diagnosis/data/train/Magnesium Deficiency/magnesium-deficiency-cannabis-yellow-stripe-leaf-calmag_72_jpeg.rf.8377c9c174357e325aa411e40ad9ebe8.jpg  \n",
            "  inflating: /content/cannabis-health-diagnosis/data/train/Magnesium Deficiency/magnesium-deficiency-cannabis-yellow-stripe-leaf-calmag_72_jpeg.rf.b26a66d762331a75af150ba2e57c10ee.jpg  \n",
            "  inflating: /content/cannabis-health-diagnosis/data/train/Magnesium Deficiency/magnesium-deficiency-cannabis-yellow-stripe-leaf-calmag_72_jpeg.rf.e727fe6b84ab5908e888d6d57ced73f4.jpg  \n",
            "  inflating: /content/cannabis-health-diagnosis/data/train/Magnesium Deficiency/magnesium-deficiency-cannabis-yellow-stripe-leaf-calmag_72_jpeg.rf.e80296cc6a8ca45bbb1c448b751f9382.jpg  \n",
            "  inflating: /content/cannabis-health-diagnosis/data/train/Magnesium Deficiency/magnesium-deficiency-cannabis-yellow-stripe-leaf-calmag_72_jpeg.rf.f6fb9fcb39f1aef1759f7f06808f4c67.jpg  \n",
            "  inflating: /content/cannabis-health-diagnosis/data/train/Magnesium Deficiency/magnesium-deficiency-cannabis-yellow-stripe-leaf-calmag_7R_jpeg.rf.36a62596dd76bbdf140c07c5ca693ef8.jpg  \n",
            "  inflating: /content/cannabis-health-diagnosis/data/train/Magnesium Deficiency/magnesium-deficiency-cannabis-yellow-stripe-leaf-calmag_7R_jpeg.rf.456f9416f84f112229485a32c10b6733.jpg  \n",
            "  inflating: /content/cannabis-health-diagnosis/data/train/Magnesium Deficiency/magnesium-deficiency-cannabis-yellow-stripe-leaf-calmag_7R_jpeg.rf.92cfa62c60906f8ba89658a0ce94e2c5.jpg  \n",
            "  inflating: /content/cannabis-health-diagnosis/data/train/Magnesium Deficiency/magnesium-deficiency-cannabis-yellow-stripe-leaf-calmag_7R_jpeg.rf.9c2c90504460f3c6132ac19e66e1b5d3.jpg  \n",
            "  inflating: /content/cannabis-health-diagnosis/data/train/Magnesium Deficiency/magnesium-deficiency-cannabis-yellow-stripe-leaf-calmag_7R_jpeg.rf.f566baa0d08c13086582af9f0480b7f9.jpg  \n",
            "   creating: /content/cannabis-health-diagnosis/data/train/Manganese Deficiency/\n",
            "  inflating: /content/cannabis-health-diagnosis/data/train/Manganese Deficiency/27_manganese-toxicity_jpg.rf.08cdc273ef9724610cf9af2095ca837e.jpg  \n",
            "  inflating: /content/cannabis-health-diagnosis/data/train/Manganese Deficiency/27_manganese-toxicity_jpg.rf.0c4e0c697862ff562abd31c148d5303f.jpg  \n",
            "  inflating: /content/cannabis-health-diagnosis/data/train/Manganese Deficiency/27_manganese-toxicity_jpg.rf.276397a798aa25442deee121e22f628f.jpg  \n",
            "  inflating: /content/cannabis-health-diagnosis/data/train/Manganese Deficiency/27_manganese-toxicity_jpg.rf.38bdf3686897ea16d86d4b1e542c41af.jpg  \n",
            "  inflating: /content/cannabis-health-diagnosis/data/train/Manganese Deficiency/27_manganese-toxicity_jpg.rf.e0f61273bfece938642058b3de3cc918.jpg  \n",
            "  inflating: /content/cannabis-health-diagnosis/data/train/Manganese Deficiency/2eb4a925dc3940d2d0486275ca8104f8_jpg.rf.15f25481cfb182e17fe76864659a3836.jpg  \n",
            "  inflating: /content/cannabis-health-diagnosis/data/train/Manganese Deficiency/2eb4a925dc3940d2d0486275ca8104f8_jpg.rf.2eb28ce750b25fe3f460d1fbb336fe82.jpg  \n",
            "  inflating: /content/cannabis-health-diagnosis/data/train/Manganese Deficiency/2eb4a925dc3940d2d0486275ca8104f8_jpg.rf.5c89abfd53de838f30b81c0b207b1dbd.jpg  \n",
            "  inflating: /content/cannabis-health-diagnosis/data/train/Manganese Deficiency/2eb4a925dc3940d2d0486275ca8104f8_jpg.rf.5d433ab8d163462cdaeed593f6eabcb6.jpg  \n",
            "  inflating: /content/cannabis-health-diagnosis/data/train/Manganese Deficiency/2eb4a925dc3940d2d0486275ca8104f8_jpg.rf.c2a57ddcbfb3887a050068708e542447.jpg  \n",
            "  inflating: /content/cannabis-health-diagnosis/data/train/Manganese Deficiency/aug_0_2368760.jpg  \n",
            "  inflating: /content/cannabis-health-diagnosis/data/train/Manganese Deficiency/aug_12_8519717.jpg  \n",
            "  inflating: /content/cannabis-health-diagnosis/data/train/Manganese Deficiency/aug_14_9841722.jpg  \n",
            "  inflating: /content/cannabis-health-diagnosis/data/train/Manganese Deficiency/aug_15_3905154.jpg  \n",
            "  inflating: /content/cannabis-health-diagnosis/data/train/Manganese Deficiency/aug_16_3531868.jpg  \n",
            "  inflating: /content/cannabis-health-diagnosis/data/train/Manganese Deficiency/aug_17_9692783.jpg  \n",
            "  inflating: /content/cannabis-health-diagnosis/data/train/Manganese Deficiency/aug_18_1520155.jpg  \n",
            "  inflating: /content/cannabis-health-diagnosis/data/train/Manganese Deficiency/aug_19_8020001.jpg  \n",
            "  inflating: /content/cannabis-health-diagnosis/data/train/Manganese Deficiency/aug_1_1375148.jpg  \n",
            "  inflating: /content/cannabis-health-diagnosis/data/train/Manganese Deficiency/aug_20_5552494.jpg  \n",
            "  inflating: /content/cannabis-health-diagnosis/data/train/Manganese Deficiency/aug_21_2811715.jpg  \n",
            "  inflating: /content/cannabis-health-diagnosis/data/train/Manganese Deficiency/aug_22_5174894.jpg  \n",
            "  inflating: /content/cannabis-health-diagnosis/data/train/Manganese Deficiency/aug_23_7592929.jpg  \n",
            "  inflating: /content/cannabis-health-diagnosis/data/train/Manganese Deficiency/aug_24_8548834.jpg  \n",
            "  inflating: /content/cannabis-health-diagnosis/data/train/Manganese Deficiency/aug_25_6395590.jpg  \n",
            "  inflating: /content/cannabis-health-diagnosis/data/train/Manganese Deficiency/aug_27_5734700.jpg  \n",
            "  inflating: /content/cannabis-health-diagnosis/data/train/Manganese Deficiency/aug_28_4106195.jpg  \n",
            "  inflating: /content/cannabis-health-diagnosis/data/train/Manganese Deficiency/aug_29_4391519.jpg  \n",
            "  inflating: /content/cannabis-health-diagnosis/data/train/Manganese Deficiency/aug_2_3420921.jpg  \n",
            "  inflating: /content/cannabis-health-diagnosis/data/train/Manganese Deficiency/aug_30_8387334.jpg  \n",
            "  inflating: /content/cannabis-health-diagnosis/data/train/Manganese Deficiency/aug_31_8204197.jpg  \n",
            "  inflating: /content/cannabis-health-diagnosis/data/train/Manganese Deficiency/aug_32_6160761.jpg  \n",
            "  inflating: /content/cannabis-health-diagnosis/data/train/Manganese Deficiency/aug_33_2700897.jpg  \n",
            "  inflating: /content/cannabis-health-diagnosis/data/train/Manganese Deficiency/aug_34_9433742.jpg  \n",
            "  inflating: /content/cannabis-health-diagnosis/data/train/Manganese Deficiency/aug_36_2481919.jpg  \n",
            "  inflating: /content/cannabis-health-diagnosis/data/train/Manganese Deficiency/aug_37_8163875.jpg  \n",
            "  inflating: /content/cannabis-health-diagnosis/data/train/Manganese Deficiency/aug_38_711044.jpg  \n",
            "  inflating: /content/cannabis-health-diagnosis/data/train/Manganese Deficiency/aug_39_8742398.jpg  \n",
            "  inflating: /content/cannabis-health-diagnosis/data/train/Manganese Deficiency/aug_40_8062606.jpg  \n",
            "  inflating: /content/cannabis-health-diagnosis/data/train/Manganese Deficiency/aug_42_6798852.jpg  \n",
            "  inflating: /content/cannabis-health-diagnosis/data/train/Manganese Deficiency/aug_44_1546381.jpg  \n",
            "  inflating: /content/cannabis-health-diagnosis/data/train/Manganese Deficiency/aug_46_2468728.jpg  \n",
            "  inflating: /content/cannabis-health-diagnosis/data/train/Manganese Deficiency/aug_47_825340.jpg  \n",
            "  inflating: /content/cannabis-health-diagnosis/data/train/Manganese Deficiency/aug_48_3381306.jpg  \n",
            "  inflating: /content/cannabis-health-diagnosis/data/train/Manganese Deficiency/aug_49_1710336.jpg  \n",
            "  inflating: /content/cannabis-health-diagnosis/data/train/Manganese Deficiency/aug_4_5549182.jpg  \n",
            "  inflating: /content/cannabis-health-diagnosis/data/train/Manganese Deficiency/aug_50_5456990.jpg  \n",
            "  inflating: /content/cannabis-health-diagnosis/data/train/Manganese Deficiency/aug_51_8469780.jpg  \n",
            "  inflating: /content/cannabis-health-diagnosis/data/train/Manganese Deficiency/aug_52_6830210.jpg  \n",
            "  inflating: /content/cannabis-health-diagnosis/data/train/Manganese Deficiency/aug_53_2821981.jpg  \n",
            "  inflating: /content/cannabis-health-diagnosis/data/train/Manganese Deficiency/aug_54_4260786.jpg  \n",
            "  inflating: /content/cannabis-health-diagnosis/data/train/Manganese Deficiency/aug_5_5429860.jpg  \n",
            "  inflating: /content/cannabis-health-diagnosis/data/train/Manganese Deficiency/aug_6_4954651.jpg  \n",
            "  inflating: /content/cannabis-health-diagnosis/data/train/Manganese Deficiency/aug_7_723730.jpg  \n",
            "  inflating: /content/cannabis-health-diagnosis/data/train/Manganese Deficiency/aug_8_1425003.jpg  \n",
            "  inflating: /content/cannabis-health-diagnosis/data/train/Manganese Deficiency/aug_9_7322012.jpg  \n",
            "  inflating: /content/cannabis-health-diagnosis/data/train/Manganese Deficiency/file_png.rf.1397df6be305fadeb955a7d7d49f5b0c.jpg  \n",
            "  inflating: /content/cannabis-health-diagnosis/data/train/Manganese Deficiency/file_png.rf.1f0db46eda7222d3bb20cf885a100550.jpg  \n",
            "  inflating: /content/cannabis-health-diagnosis/data/train/Manganese Deficiency/file_png.rf.501d6f2e861ce55ac7081518e2fc3af0.jpg  \n",
            "  inflating: /content/cannabis-health-diagnosis/data/train/Manganese Deficiency/file_png.rf.f2ec1a208ddd28347fbcdcccd0215a99.jpg  \n",
            "  inflating: /content/cannabis-health-diagnosis/data/train/Manganese Deficiency/file_png.rf.fd052e9f2101fcfc8ec187c0c29eab41.jpg  \n",
            "  inflating: /content/cannabis-health-diagnosis/data/train/Manganese Deficiency/image5_jpeg.rf.14985d5e99d6b43265719ed72d068b2e.jpg  \n",
            "  inflating: /content/cannabis-health-diagnosis/data/train/Manganese Deficiency/image5_jpeg.rf.1cabe985e363c36e8e31b5f1bd389342.jpg  \n",
            "  inflating: /content/cannabis-health-diagnosis/data/train/Manganese Deficiency/image5_jpeg.rf.6e9dcddc271d84f2b8b6c4a7fb2967a3.jpg  \n",
            "  inflating: /content/cannabis-health-diagnosis/data/train/Manganese Deficiency/image5_jpeg.rf.e071d788c43b307786207218b59b3396.jpg  \n",
            "  inflating: /content/cannabis-health-diagnosis/data/train/Manganese Deficiency/image5_jpeg.rf.f58f2f6c9c36617ad8bebbd781a291d7.jpg  \n",
            "  inflating: /content/cannabis-health-diagnosis/data/train/Manganese Deficiency/mang-6_jpg.rf.00a483716939fb560775a04af0c41eec.jpg  \n",
            "  inflating: /content/cannabis-health-diagnosis/data/train/Manganese Deficiency/mang-6_jpg.rf.1a22eea08b2cd6c6a27dba8eb452771f.jpg  \n",
            "  inflating: /content/cannabis-health-diagnosis/data/train/Manganese Deficiency/mang-6_jpg.rf.94cc62a49cc02e45d19d1d705ceb7bc8.jpg  \n",
            "  inflating: /content/cannabis-health-diagnosis/data/train/Manganese Deficiency/mang-6_jpg.rf.9bdc2ac0954002a5802f5c42ca8ef9fe.jpg  \n",
            "  inflating: /content/cannabis-health-diagnosis/data/train/Manganese Deficiency/mang-6_jpg.rf.d9253610b3763ec7193f81278694a021.jpg  \n",
            "  inflating: /content/cannabis-health-diagnosis/data/train/Manganese Deficiency/mang-7_jpg.rf.3e58814138ce26e19490ad702683b165.jpg  \n",
            "  inflating: /content/cannabis-health-diagnosis/data/train/Manganese Deficiency/mang-7_jpg.rf.40d52bfce94b2e5d4589d0f8b5ea04a4.jpg  \n",
            "  inflating: /content/cannabis-health-diagnosis/data/train/Manganese Deficiency/mang-7_jpg.rf.9299cf3eabb741900e9d13a24bcdd3f7.jpg  \n",
            "  inflating: /content/cannabis-health-diagnosis/data/train/Manganese Deficiency/mang-7_jpg.rf.c63c7248639aa650e4b0412da99315a7.jpg  \n",
            "  inflating: /content/cannabis-health-diagnosis/data/train/Manganese Deficiency/mang-7_jpg.rf.d6463d891912ff84661199b80a361e9b.jpg  \n",
            "  inflating: /content/cannabis-health-diagnosis/data/train/Manganese Deficiency/marijuana-clone-6-d_jpg.rf.19f7497088a3775fbb9b8e6cb822c295.jpg  \n",
            "  inflating: /content/cannabis-health-diagnosis/data/train/Manganese Deficiency/marijuana-clone-6-d_jpg.rf.6ce31dc09a5d245a83b85d3553e54c6e.jpg  \n",
            "  inflating: /content/cannabis-health-diagnosis/data/train/Manganese Deficiency/marijuana-clone-6-d_jpg.rf.af1a4f10f0408497b61bb4ea7a64312a.jpg  \n",
            "  inflating: /content/cannabis-health-diagnosis/data/train/Manganese Deficiency/marijuana-clone-6-d_jpg.rf.e6448765bd491530e1f4265c0fd3f231.jpg  \n",
            "  inflating: /content/cannabis-health-diagnosis/data/train/Manganese Deficiency/marijuana-clone-6-d_jpg.rf.e6566f1d50c54591e76a3d390c11ecf6.jpg  \n",
            "  inflating: /content/cannabis-health-diagnosis/data/train/Manganese Deficiency/OIP-5XArhwF8B3T4L0kvc5Xw-wHaE7_jpg.rf.0b6c4cc54c5d99b3b8b227c9108bcd17.jpg  \n",
            "  inflating: /content/cannabis-health-diagnosis/data/train/Manganese Deficiency/OIP-5XArhwF8B3T4L0kvc5Xw-wHaE7_jpg.rf.3e3ca32f5a0ad9529c8d599a1303bd90.jpg  \n",
            "  inflating: /content/cannabis-health-diagnosis/data/train/Manganese Deficiency/OIP-5XArhwF8B3T4L0kvc5Xw-wHaE7_jpg.rf.6b5b4817f15a0ab2e5a4c187d1a2dd39.jpg  \n",
            "  inflating: /content/cannabis-health-diagnosis/data/train/Manganese Deficiency/OIP-5XArhwF8B3T4L0kvc5Xw-wHaE7_jpg.rf.e36524734097468e641953adefe125dc.jpg  \n",
            "  inflating: /content/cannabis-health-diagnosis/data/train/Manganese Deficiency/OIP-5XArhwF8B3T4L0kvc5Xw-wHaE7_jpg.rf.ec65ca1796f4a6e2d5c2820948adc14c.jpg  \n",
            "  inflating: /content/cannabis-health-diagnosis/data/train/Manganese Deficiency/OIP-7jGmyhqJ65-gSpjhT1W4DAHaFj_jpg.rf.71f80f4659c0a34665df7850507bb8b9.jpg  \n",
            "  inflating: /content/cannabis-health-diagnosis/data/train/Manganese Deficiency/OIP-7jGmyhqJ65-gSpjhT1W4DAHaFj_jpg.rf.77db14529a6b98338b7dd2dbc21f61cd.jpg  \n",
            "  inflating: /content/cannabis-health-diagnosis/data/train/Manganese Deficiency/OIP-7jGmyhqJ65-gSpjhT1W4DAHaFj_jpg.rf.876836da98eee84d519aabfa6cb27918.jpg  \n",
            "  inflating: /content/cannabis-health-diagnosis/data/train/Manganese Deficiency/OIP-7jGmyhqJ65-gSpjhT1W4DAHaFj_jpg.rf.a70fa09213c64466fb085fed86acf224.jpg  \n",
            "  inflating: /content/cannabis-health-diagnosis/data/train/Manganese Deficiency/OIP-7jGmyhqJ65-gSpjhT1W4DAHaFj_jpg.rf.f32309335003dfece4572141a85dc97a.jpg  \n",
            "  inflating: /content/cannabis-health-diagnosis/data/train/Manganese Deficiency/OIP-wbQG0Uw-3h7t4I31mvLTAAHaE7_jpg.rf.2bd17b613ae64f714d26ef5db529aa16.jpg  \n",
            "  inflating: /content/cannabis-health-diagnosis/data/train/Manganese Deficiency/OIP-wbQG0Uw-3h7t4I31mvLTAAHaE7_jpg.rf.3ce64cfca7c147d75c1eb30a532a485f.jpg  \n",
            "  inflating: /content/cannabis-health-diagnosis/data/train/Manganese Deficiency/OIP-wbQG0Uw-3h7t4I31mvLTAAHaE7_jpg.rf.7fdcfaf4d8b22d149ce0a3cf5bfcf308.jpg  \n",
            "  inflating: /content/cannabis-health-diagnosis/data/train/Manganese Deficiency/OIP-wbQG0Uw-3h7t4I31mvLTAAHaE7_jpg.rf.b5ffd2bbe2c484476559526176a45dd6.jpg  \n",
            "  inflating: /content/cannabis-health-diagnosis/data/train/Manganese Deficiency/OIP-wbQG0Uw-3h7t4I31mvLTAAHaE7_jpg.rf.e1d610e2db9c4be49da506676b3d83fb.jpg  \n",
            "  inflating: /content/cannabis-health-diagnosis/data/train/Manganese Deficiency/Severe-manganese-deficiency-1-768x576_jpeg.rf.0d400621f224a0421a639ddeb58d5deb.jpg  \n",
            "  inflating: /content/cannabis-health-diagnosis/data/train/Manganese Deficiency/Severe-manganese-deficiency-1-768x576_jpeg.rf.55ef0d745b52c70125acd3232c4ce67d.jpg  \n",
            "  inflating: /content/cannabis-health-diagnosis/data/train/Manganese Deficiency/Severe-manganese-deficiency-1-768x576_jpeg.rf.62f2541f38eaa75df17e571f203c5666.jpg  \n",
            "  inflating: /content/cannabis-health-diagnosis/data/train/Manganese Deficiency/Severe-manganese-deficiency-1-768x576_jpeg.rf.cb6f537b7906fb81ebc7977a86ae53c6.jpg  \n",
            "  inflating: /content/cannabis-health-diagnosis/data/train/Manganese Deficiency/Severe-manganese-deficiency-1-768x576_jpeg.rf.ef9dae24ce24e9e8cd10273da7dbe80a.jpg  \n",
            "   creating: /content/cannabis-health-diagnosis/data/train/Nitrogen Deficiency/\n",
            "  inflating: /content/cannabis-health-diagnosis/data/train/Nitrogen Deficiency/Cannabis-nitrogen-deficiency-marijuana-weed-growing-yellow-leaf_V9_jpeg.rf.07082c451fbbfee031b8d75c407ab5a9.jpg  \n",
            "  inflating: /content/cannabis-health-diagnosis/data/train/Nitrogen Deficiency/Cannabis-nitrogen-deficiency-marijuana-weed-growing-yellow-leaf_V9_jpeg.rf.282225a60c6b6becf3c9834d93202198.jpg  \n",
            "  inflating: /content/cannabis-health-diagnosis/data/train/Nitrogen Deficiency/Cannabis-nitrogen-deficiency-marijuana-weed-growing-yellow-leaf_V9_jpeg.rf.6990ad387654c0103aa76790afc722b6.jpg  \n",
            "  inflating: /content/cannabis-health-diagnosis/data/train/Nitrogen Deficiency/Cannabis-nitrogen-deficiency-marijuana-weed-growing-yellow-leaf_V9_jpeg.rf.6cd20dfaf44f4b93d0e5b2e81551fc97.jpg  \n",
            "  inflating: /content/cannabis-health-diagnosis/data/train/Nitrogen Deficiency/Cannabis-nitrogen-deficiency-marijuana-weed-growing-yellow-leaf_V9_jpeg.rf.f769877ef5f610bd7e63db6dfe8c6bcb.jpg  \n",
            "  inflating: /content/cannabis-health-diagnosis/data/train/Nitrogen Deficiency/nitrogen-deficiency-weed-yellow-brown-leaf-drooping-wilting_2Z_jpeg.rf.24de9dfe65d8f24793925b1b3dee5fa6.jpg  \n",
            "  inflating: /content/cannabis-health-diagnosis/data/train/Nitrogen Deficiency/nitrogen-deficiency-weed-yellow-brown-leaf-drooping-wilting_2Z_jpeg.rf.395139e096acb53045e5ca9deb90c316.jpg  \n",
            "  inflating: /content/cannabis-health-diagnosis/data/train/Nitrogen Deficiency/nitrogen-deficiency-weed-yellow-brown-leaf-drooping-wilting_2Z_jpeg.rf.44680b1b6395a78a9421ffcdb4e5c72a.jpg  \n",
            "  inflating: /content/cannabis-health-diagnosis/data/train/Nitrogen Deficiency/nitrogen-deficiency-weed-yellow-brown-leaf-drooping-wilting_2Z_jpeg.rf.83fcce1f6d88f488a1e1e79bcb475484.jpg  \n",
            "  inflating: /content/cannabis-health-diagnosis/data/train/Nitrogen Deficiency/nitrogen-deficiency-weed-yellow-brown-leaf-drooping-wilting_2Z_jpeg.rf.b1e3e81534bdd4ceedb5f3bd12296152.jpg  \n",
            "  inflating: /content/cannabis-health-diagnosis/data/train/Nitrogen Deficiency/nitrogen-deficiency-weed-yellow-brown-leaf-drooping-wilting_5H_jpeg.rf.01ac339582cdfe8b6059418d696e8f9b.jpg  \n",
            "  inflating: /content/cannabis-health-diagnosis/data/train/Nitrogen Deficiency/nitrogen-deficiency-weed-yellow-brown-leaf-drooping-wilting_5H_jpeg.rf.0d328fe510cc4053353fcb0f710e9667.jpg  \n",
            "  inflating: /content/cannabis-health-diagnosis/data/train/Nitrogen Deficiency/nitrogen-deficiency-weed-yellow-brown-leaf-drooping-wilting_5H_jpeg.rf.4fd20e2d8c27523f36c8782afd2569a1.jpg  \n",
            "  inflating: /content/cannabis-health-diagnosis/data/train/Nitrogen Deficiency/nitrogen-deficiency-weed-yellow-brown-leaf-drooping-wilting_5H_jpeg.rf.650a6e609e75e9439e64441fc569bbfa.jpg  \n",
            "  inflating: /content/cannabis-health-diagnosis/data/train/Nitrogen Deficiency/nitrogen-deficiency-weed-yellow-brown-leaf-drooping-wilting_5H_jpeg.rf.bb14de6d3cd73d9568b7d8fef51e9310.jpg  \n",
            "  inflating: /content/cannabis-health-diagnosis/data/train/Nitrogen Deficiency/nitrogen-deficiency-weed-yellow-brown-leaf-drooping-wilting_97_jpeg.rf.198c6f0d805d0b8d0860bb8bacf3ae10.jpg  \n",
            "  inflating: /content/cannabis-health-diagnosis/data/train/Nitrogen Deficiency/nitrogen-deficiency-weed-yellow-brown-leaf-drooping-wilting_97_jpeg.rf.4a944fee02da8873e3e00d51ccbbdc39.jpg  \n",
            "  inflating: /content/cannabis-health-diagnosis/data/train/Nitrogen Deficiency/nitrogen-deficiency-weed-yellow-brown-leaf-drooping-wilting_97_jpeg.rf.73b2d6fecbfd767a0131caff0421b82a.jpg  \n",
            "  inflating: /content/cannabis-health-diagnosis/data/train/Nitrogen Deficiency/nitrogen-deficiency-weed-yellow-brown-leaf-drooping-wilting_97_jpeg.rf.b2d6d9735250c140f1e32e429ea2096c.jpg  \n",
            "  inflating: /content/cannabis-health-diagnosis/data/train/Nitrogen Deficiency/nitrogen-deficiency-weed-yellow-brown-leaf-drooping-wilting_97_jpeg.rf.dc302e93458479b7a3c8138d91d3489b.jpg  \n",
            "  inflating: /content/cannabis-health-diagnosis/data/train/Nitrogen Deficiency/nitrogen-deficiency-weed-yellow-brown-leaf-drooping-wilting_DE_jpeg.rf.18b96932ea9cfe18df30a238cf5b0fd6.jpg  \n",
            "  inflating: /content/cannabis-health-diagnosis/data/train/Nitrogen Deficiency/nitrogen-deficiency-weed-yellow-brown-leaf-drooping-wilting_DE_jpeg.rf.2326b85161391fb25e626e3dfa9f36f4.jpg  \n",
            "  inflating: /content/cannabis-health-diagnosis/data/train/Nitrogen Deficiency/nitrogen-deficiency-weed-yellow-brown-leaf-drooping-wilting_DE_jpeg.rf.2999c6c41e7eee32565967a3f91f1438.jpg  \n",
            "  inflating: /content/cannabis-health-diagnosis/data/train/Nitrogen Deficiency/nitrogen-deficiency-weed-yellow-brown-leaf-drooping-wilting_DE_jpeg.rf.314a5b137d1239eb8577e4258f78ce3d.jpg  \n",
            "  inflating: /content/cannabis-health-diagnosis/data/train/Nitrogen Deficiency/nitrogen-deficiency-weed-yellow-brown-leaf-drooping-wilting_DE_jpeg.rf.354521cc495a383d72f638fea5c9a29d.jpg  \n",
            "  inflating: /content/cannabis-health-diagnosis/data/train/Nitrogen Deficiency/nitrogen-deficiency-weed-yellow-brown-leaf-drooping-wilting_EJ_jpeg.rf.450fb9ad59801c82624034869bd5944d.jpg  \n",
            "  inflating: /content/cannabis-health-diagnosis/data/train/Nitrogen Deficiency/nitrogen-deficiency-weed-yellow-brown-leaf-drooping-wilting_EJ_jpeg.rf.6fb6fed86f31559c8c0744a4e2b3a6f3.jpg  \n",
            "  inflating: /content/cannabis-health-diagnosis/data/train/Nitrogen Deficiency/nitrogen-deficiency-weed-yellow-brown-leaf-drooping-wilting_EJ_jpeg.rf.8e193f03dc130120dc3814803f0af17e.jpg  \n",
            "  inflating: /content/cannabis-health-diagnosis/data/train/Nitrogen Deficiency/nitrogen-deficiency-weed-yellow-brown-leaf-drooping-wilting_EJ_jpeg.rf.b1a78664709d318befb48936120b0c5d.jpg  \n",
            "  inflating: /content/cannabis-health-diagnosis/data/train/Nitrogen Deficiency/nitrogen-deficiency-weed-yellow-brown-leaf-drooping-wilting_EJ_jpeg.rf.d2808ad4ebb1e4a056d3e44aedf066fc.jpg  \n",
            "  inflating: /content/cannabis-health-diagnosis/data/train/Nitrogen Deficiency/nitrogen-deficiency-weed-yellow-brown-leaf-drooping-wilting_HN_jpeg.rf.15c07b346600554e8fc6e7b4a5a81505.jpg  \n",
            "  inflating: /content/cannabis-health-diagnosis/data/train/Nitrogen Deficiency/nitrogen-deficiency-weed-yellow-brown-leaf-drooping-wilting_HN_jpeg.rf.7950350bd00b134d8b9758c195611dcb.jpg  \n",
            "  inflating: /content/cannabis-health-diagnosis/data/train/Nitrogen Deficiency/nitrogen-deficiency-weed-yellow-brown-leaf-drooping-wilting_HN_jpeg.rf.7d39742dc4dd7652f09e6de05380af19.jpg  \n",
            "  inflating: /content/cannabis-health-diagnosis/data/train/Nitrogen Deficiency/nitrogen-deficiency-weed-yellow-brown-leaf-drooping-wilting_HN_jpeg.rf.daafc8d9b4ef2be1be1419aab561967b.jpg  \n",
            "  inflating: /content/cannabis-health-diagnosis/data/train/Nitrogen Deficiency/nitrogen-deficiency-weed-yellow-brown-leaf-drooping-wilting_HN_jpeg.rf.fd8cf343de3790026aacf51e0d91ae0c.jpg  \n",
            "  inflating: /content/cannabis-health-diagnosis/data/train/Nitrogen Deficiency/nitrogen-deficiency-weed-yellow-brown-leaf-drooping-wilting_IY_jpeg.rf.0c9792f0d6b3acbbb57f4d828715d246.jpg  \n",
            "  inflating: /content/cannabis-health-diagnosis/data/train/Nitrogen Deficiency/nitrogen-deficiency-weed-yellow-brown-leaf-drooping-wilting_IY_jpeg.rf.8dbe5b8332a00dadf470731580b121c7.jpg  \n",
            "  inflating: /content/cannabis-health-diagnosis/data/train/Nitrogen Deficiency/nitrogen-deficiency-weed-yellow-brown-leaf-drooping-wilting_IY_jpeg.rf.a08806375ec7c63e525099564a3ed437.jpg  \n",
            "  inflating: /content/cannabis-health-diagnosis/data/train/Nitrogen Deficiency/nitrogen-deficiency-weed-yellow-brown-leaf-drooping-wilting_IY_jpeg.rf.b10629d7824ffddb21b6c6eae839638f.jpg  \n",
            "  inflating: /content/cannabis-health-diagnosis/data/train/Nitrogen Deficiency/nitrogen-deficiency-weed-yellow-brown-leaf-drooping-wilting_IY_jpeg.rf.d5dd3287b75a45ce1e6857b73d01cc15.jpg  \n",
            "  inflating: /content/cannabis-health-diagnosis/data/train/Nitrogen Deficiency/nitrogen-deficiency-weed-yellow-brown-leaf-drooping-wilting_K8_jpeg.rf.0fc631e16f59b07df7e1765c53b4281a.jpg  \n",
            "  inflating: /content/cannabis-health-diagnosis/data/train/Nitrogen Deficiency/nitrogen-deficiency-weed-yellow-brown-leaf-drooping-wilting_K8_jpeg.rf.578227ead7ca3bb8dc8f78ac096f6667.jpg  \n",
            "  inflating: /content/cannabis-health-diagnosis/data/train/Nitrogen Deficiency/nitrogen-deficiency-weed-yellow-brown-leaf-drooping-wilting_K8_jpeg.rf.6bcf4137bd4c807cd0b89ae75acd59dd.jpg  \n",
            "  inflating: /content/cannabis-health-diagnosis/data/train/Nitrogen Deficiency/nitrogen-deficiency-weed-yellow-brown-leaf-drooping-wilting_K8_jpeg.rf.6de5e004a70a90d199a6866f988fbcde.jpg  \n",
            "  inflating: /content/cannabis-health-diagnosis/data/train/Nitrogen Deficiency/nitrogen-deficiency-weed-yellow-brown-leaf-drooping-wilting_K8_jpeg.rf.ccd1a9019995986b15120acb7b85948f.jpg  \n",
            "  inflating: /content/cannabis-health-diagnosis/data/train/Nitrogen Deficiency/nitrogen-deficiency-weed-yellow-brown-leaf-drooping-wilting_OE_jpeg.rf.0fe9e81616c2f7d29cbeccd87bf9ceac.jpg  \n",
            "  inflating: /content/cannabis-health-diagnosis/data/train/Nitrogen Deficiency/nitrogen-deficiency-weed-yellow-brown-leaf-drooping-wilting_OE_jpeg.rf.254e4d96922deb00f208f881923bb2aa.jpg  \n",
            "  inflating: /content/cannabis-health-diagnosis/data/train/Nitrogen Deficiency/nitrogen-deficiency-weed-yellow-brown-leaf-drooping-wilting_OE_jpeg.rf.706c6686cdc194c050fceaf524a439dd.jpg  \n",
            "  inflating: /content/cannabis-health-diagnosis/data/train/Nitrogen Deficiency/nitrogen-deficiency-weed-yellow-brown-leaf-drooping-wilting_OE_jpeg.rf.94e25ab8ec965bbe65d238893d3b2bfb.jpg  \n",
            "  inflating: /content/cannabis-health-diagnosis/data/train/Nitrogen Deficiency/nitrogen-deficiency-weed-yellow-brown-leaf-drooping-wilting_OE_jpeg.rf.fb8dbb2eda7fef73725de7849eac3e38.jpg  \n",
            "  inflating: /content/cannabis-health-diagnosis/data/train/Nitrogen Deficiency/nitrogen-deficiency-weed-yellow-brown-leaf-drooping-wilting_QU_jpeg.rf.12ceb62b26e7d1048be023e568406cb1.jpg  \n",
            "  inflating: /content/cannabis-health-diagnosis/data/train/Nitrogen Deficiency/nitrogen-deficiency-weed-yellow-brown-leaf-drooping-wilting_QU_jpeg.rf.1e2987695daf2513531066a608b39d12.jpg  \n",
            "  inflating: /content/cannabis-health-diagnosis/data/train/Nitrogen Deficiency/nitrogen-deficiency-weed-yellow-brown-leaf-drooping-wilting_QU_jpeg.rf.457d8650c8ebddbc9810179f8e1e73e6.jpg  \n",
            "  inflating: /content/cannabis-health-diagnosis/data/train/Nitrogen Deficiency/nitrogen-deficiency-weed-yellow-brown-leaf-drooping-wilting_QU_jpeg.rf.4c6197d24f7af5791a7d881eee2c7fc5.jpg  \n",
            "  inflating: /content/cannabis-health-diagnosis/data/train/Nitrogen Deficiency/nitrogen-deficiency-weed-yellow-brown-leaf-drooping-wilting_QU_jpeg.rf.ecfa5fa6c1f647c9dcb5b69aafc0d1b0.jpg  \n",
            "  inflating: /content/cannabis-health-diagnosis/data/train/Nitrogen Deficiency/nitrogen-deficiency-weed-yellow-brown-leaf-drooping-wilting_SN_jpeg.rf.3692060c8e80f6c7fa4cd9241df3dc4c.jpg  \n",
            "  inflating: /content/cannabis-health-diagnosis/data/train/Nitrogen Deficiency/nitrogen-deficiency-weed-yellow-brown-leaf-drooping-wilting_SN_jpeg.rf.6d154c0a3432c9adb46381f7c215ee6d.jpg  \n",
            "  inflating: /content/cannabis-health-diagnosis/data/train/Nitrogen Deficiency/nitrogen-deficiency-weed-yellow-brown-leaf-drooping-wilting_SN_jpeg.rf.8d364b1266f0a5ed6a97aaabd6b3f993.jpg  \n",
            "  inflating: /content/cannabis-health-diagnosis/data/train/Nitrogen Deficiency/nitrogen-deficiency-weed-yellow-brown-leaf-drooping-wilting_SN_jpeg.rf.9382ded088e60c796fbfce18f1d98a5c.jpg  \n",
            "  inflating: /content/cannabis-health-diagnosis/data/train/Nitrogen Deficiency/nitrogen-deficiency-weed-yellow-brown-leaf-drooping-wilting_SN_jpeg.rf.ed8fc844710fafca08fab796a31965d8.jpg  \n",
            "  inflating: /content/cannabis-health-diagnosis/data/train/Nitrogen Deficiency/nitrogen-deficiency-weed-yellow-brown-leaf-drooping_3K_jpeg.rf.5e543533a53ab4d316c1e28f869fcb17.jpg  \n",
            "  inflating: /content/cannabis-health-diagnosis/data/train/Nitrogen Deficiency/nitrogen-deficiency-weed-yellow-brown-leaf-drooping_3K_jpeg.rf.7ccbba6b4ff4b27e68294ade9c7d10a8.jpg  \n",
            "  inflating: /content/cannabis-health-diagnosis/data/train/Nitrogen Deficiency/nitrogen-deficiency-weed-yellow-brown-leaf-drooping_3K_jpeg.rf.c07e939db81db3bbb1f4870b44df8e7f.jpg  \n",
            "  inflating: /content/cannabis-health-diagnosis/data/train/Nitrogen Deficiency/nitrogen-deficiency-weed-yellow-brown-leaf-drooping_3K_jpeg.rf.d623654aea27fcb552445ceb67ad228a.jpg  \n",
            "  inflating: /content/cannabis-health-diagnosis/data/train/Nitrogen Deficiency/nitrogen-deficiency-weed-yellow-brown-leaf-drooping_3K_jpeg.rf.ffdabc054a864b2da13ff1642546b81e.jpg  \n",
            "  inflating: /content/cannabis-health-diagnosis/data/train/Nitrogen Deficiency/nitrogen-deficiency-weed-yellow-brown-leaf-drooping_TI_jpeg.rf.0379fbe0e78af76848e1d1cf32d17611.jpg  \n",
            "  inflating: /content/cannabis-health-diagnosis/data/train/Nitrogen Deficiency/nitrogen-deficiency-weed-yellow-brown-leaf-drooping_TI_jpeg.rf.07674ba3774df1469663952775ddbbfb.jpg  \n",
            "  inflating: /content/cannabis-health-diagnosis/data/train/Nitrogen Deficiency/nitrogen-deficiency-weed-yellow-brown-leaf-drooping_TI_jpeg.rf.0a1cc872821cfedb0dc9a8dcf41917c3.jpg  \n",
            "  inflating: /content/cannabis-health-diagnosis/data/train/Nitrogen Deficiency/nitrogen-deficiency-weed-yellow-brown-leaf-drooping_TI_jpeg.rf.1137ed0bab7a36e29aa3970561385fc0.jpg  \n",
            "  inflating: /content/cannabis-health-diagnosis/data/train/Nitrogen Deficiency/nitrogen-deficiency-weed-yellow-brown-leaf-drooping_TI_jpeg.rf.a362b4045d5379173a96148a4263a8db.jpg  \n",
            "   creating: /content/cannabis-health-diagnosis/data/train/PH Fluctuation/\n",
            "  inflating: /content/cannabis-health-diagnosis/data/train/PH Fluctuation/aug_55_4371839.jpg  \n",
            "  inflating: /content/cannabis-health-diagnosis/data/train/PH Fluctuation/aug_56_643961.jpg  \n",
            "  inflating: /content/cannabis-health-diagnosis/data/train/PH Fluctuation/aug_58_1983921.jpg  \n",
            "  inflating: /content/cannabis-health-diagnosis/data/train/PH Fluctuation/aug_59_6799069.jpg  \n",
            "  inflating: /content/cannabis-health-diagnosis/data/train/PH Fluctuation/aug_61_9674083.jpg  \n",
            "  inflating: /content/cannabis-health-diagnosis/data/train/PH Fluctuation/aug_62_4451628.jpg  \n",
            "  inflating: /content/cannabis-health-diagnosis/data/train/PH Fluctuation/aug_63_8901918.jpg  \n",
            "  inflating: /content/cannabis-health-diagnosis/data/train/PH Fluctuation/aug_64_9025063.jpg  \n",
            "  inflating: /content/cannabis-health-diagnosis/data/train/PH Fluctuation/aug_65_2947990.jpg  \n",
            "  inflating: /content/cannabis-health-diagnosis/data/train/PH Fluctuation/aug_66_5220540.jpg  \n",
            "  inflating: /content/cannabis-health-diagnosis/data/train/PH Fluctuation/aug_67_403368.jpg  \n",
            "  inflating: /content/cannabis-health-diagnosis/data/train/PH Fluctuation/aug_69_5947275.jpg  \n",
            "  inflating: /content/cannabis-health-diagnosis/data/train/PH Fluctuation/aug_70_8643224.jpg  \n",
            "  inflating: /content/cannabis-health-diagnosis/data/train/PH Fluctuation/aug_71_4920912.jpg  \n",
            "  inflating: /content/cannabis-health-diagnosis/data/train/PH Fluctuation/aug_72_7125489.jpg  \n",
            "  inflating: /content/cannabis-health-diagnosis/data/train/PH Fluctuation/aug_73_7401861.jpg  \n",
            "  inflating: /content/cannabis-health-diagnosis/data/train/PH Fluctuation/aug_75_6316857.jpg  \n",
            "  inflating: /content/cannabis-health-diagnosis/data/train/PH Fluctuation/aug_76_5355937.jpg  \n",
            "  inflating: /content/cannabis-health-diagnosis/data/train/PH Fluctuation/aug_77_2454309.jpg  \n",
            "  inflating: /content/cannabis-health-diagnosis/data/train/PH Fluctuation/aug_78_7380903.jpg  \n",
            "  inflating: /content/cannabis-health-diagnosis/data/train/PH Fluctuation/aug_79_3054335.jpg  \n",
            "  inflating: /content/cannabis-health-diagnosis/data/train/PH Fluctuation/aug_82_5798727.jpg  \n",
            "  inflating: /content/cannabis-health-diagnosis/data/train/PH Fluctuation/aug_83_2866940.jpg  \n",
            "  inflating: /content/cannabis-health-diagnosis/data/train/PH Fluctuation/aug_84_7005105.jpg  \n",
            "  inflating: /content/cannabis-health-diagnosis/data/train/PH Fluctuation/aug_85_1472354.jpg  \n",
            "  inflating: /content/cannabis-health-diagnosis/data/train/PH Fluctuation/aug_86_2045206.jpg  \n",
            "  inflating: /content/cannabis-health-diagnosis/data/train/PH Fluctuation/aug_87_9684853.jpg  \n",
            "  inflating: /content/cannabis-health-diagnosis/data/train/PH Fluctuation/aug_88_200156.jpg  \n",
            "  inflating: /content/cannabis-health-diagnosis/data/train/PH Fluctuation/aug_89_6814296.jpg  \n",
            "  inflating: /content/cannabis-health-diagnosis/data/train/PH Fluctuation/aug_90_1307752.jpg  \n",
            "  inflating: /content/cannabis-health-diagnosis/data/train/PH Fluctuation/aug_92_7546905.jpg  \n",
            "  inflating: /content/cannabis-health-diagnosis/data/train/PH Fluctuation/aug_94_9989968.jpg  \n",
            "  inflating: /content/cannabis-health-diagnosis/data/train/PH Fluctuation/aug_95_3997294.jpg  \n",
            "  inflating: /content/cannabis-health-diagnosis/data/train/PH Fluctuation/aug_96_6487560.jpg  \n",
            "  inflating: /content/cannabis-health-diagnosis/data/train/PH Fluctuation/aug_97_2572352.jpg  \n",
            "  inflating: /content/cannabis-health-diagnosis/data/train/PH Fluctuation/aug_98_5134354.jpg  \n",
            "  inflating: /content/cannabis-health-diagnosis/data/train/PH Fluctuation/aug_99_8986715.jpg  \n",
            "  inflating: /content/cannabis-health-diagnosis/data/train/PH Fluctuation/Cannabis-weed-PH-fluctuation-brown-marks-acidic-soil-proper-ph-level-chart-marijuana-growing_8J_jpeg.rf.12f09a2046de2db282ad6d40a947660c.jpg  \n",
            "  inflating: /content/cannabis-health-diagnosis/data/train/PH Fluctuation/Cannabis-weed-PH-fluctuation-brown-marks-acidic-soil-proper-ph-level-chart-marijuana-growing_8J_jpeg.rf.415a49392c0c8b114dd218d59061c276.jpg  \n",
            "  inflating: /content/cannabis-health-diagnosis/data/train/PH Fluctuation/Cannabis-weed-PH-fluctuation-brown-marks-acidic-soil-proper-ph-level-chart-marijuana-growing_8J_jpeg.rf.d40d0d7406ecc0bb844a64d9cc9d9d2e.jpg  \n",
            "  inflating: /content/cannabis-health-diagnosis/data/train/PH Fluctuation/Cannabis-weed-PH-fluctuation-brown-marks-acidic-soil-proper-ph-level-chart-marijuana-growing_8J_jpeg.rf.eb7b9c095759ba2bbd5a556156467170.jpg  \n",
            "  inflating: /content/cannabis-health-diagnosis/data/train/PH Fluctuation/Cannabis-weed-PH-fluctuation-brown-marks-acidic-soil-proper-ph-level-chart-marijuana-growing_8J_jpeg.rf.f9f02788c7da0ab59ce5c0c455b503bb.jpg  \n",
            "  inflating: /content/cannabis-health-diagnosis/data/train/PH Fluctuation/Cannabis-weed-PH-fluctuation-brown-marks-acidic-soil-proper-ph-level-chart-marijuana-growing_8R_jpeg.rf.0e9120069d754d1105bac3aa883113ad.jpg  \n",
            "  inflating: /content/cannabis-health-diagnosis/data/train/PH Fluctuation/Cannabis-weed-PH-fluctuation-brown-marks-acidic-soil-proper-ph-level-chart-marijuana-growing_8R_jpeg.rf.10230551b3a897b2b2b925fb8036feb2.jpg  \n",
            "  inflating: /content/cannabis-health-diagnosis/data/train/PH Fluctuation/Cannabis-weed-PH-fluctuation-brown-marks-acidic-soil-proper-ph-level-chart-marijuana-growing_8R_jpeg.rf.12f38cd1cc45d81dff3b0913d0a20766.jpg  \n",
            "  inflating: /content/cannabis-health-diagnosis/data/train/PH Fluctuation/Cannabis-weed-PH-fluctuation-brown-marks-acidic-soil-proper-ph-level-chart-marijuana-growing_8R_jpeg.rf.1df92dc8a2f6dd28d0aba5475f1b04f8.jpg  \n",
            "  inflating: /content/cannabis-health-diagnosis/data/train/PH Fluctuation/Cannabis-weed-PH-fluctuation-brown-marks-acidic-soil-proper-ph-level-chart-marijuana-growing_8R_jpeg.rf.c40a113b49ec8d10fa38c43e44d63f7a.jpg  \n",
            "  inflating: /content/cannabis-health-diagnosis/data/train/PH Fluctuation/Cannabis-weed-PH-fluctuation-brown-marks-acidic-soil-proper-ph-level-chart-marijuana-growing_A8_jpeg.rf.4f4dc4901e2e3e286a8117bc6d683cbf.jpg  \n",
            "  inflating: /content/cannabis-health-diagnosis/data/train/PH Fluctuation/Cannabis-weed-PH-fluctuation-brown-marks-acidic-soil-proper-ph-level-chart-marijuana-growing_A8_jpeg.rf.64a5235e59f335321699cc66bede0634.jpg  \n",
            "  inflating: /content/cannabis-health-diagnosis/data/train/PH Fluctuation/Cannabis-weed-PH-fluctuation-brown-marks-acidic-soil-proper-ph-level-chart-marijuana-growing_A8_jpeg.rf.a59ca949ac39869b880bcae979b1608d.jpg  \n",
            "  inflating: /content/cannabis-health-diagnosis/data/train/PH Fluctuation/Cannabis-weed-PH-fluctuation-brown-marks-acidic-soil-proper-ph-level-chart-marijuana-growing_A8_jpeg.rf.b8e0164df6b431f044525705c3d83347.jpg  \n",
            "  inflating: /content/cannabis-health-diagnosis/data/train/PH Fluctuation/Cannabis-weed-PH-fluctuation-brown-marks-acidic-soil-proper-ph-level-chart-marijuana-growing_A8_jpeg.rf.fefedc5fb75530a5bbb37ec6de116986.jpg  \n",
            "  inflating: /content/cannabis-health-diagnosis/data/train/PH Fluctuation/Cannabis-weed-PH-fluctuation-brown-marks-acidic-soil-proper-ph-level-chart-marijuana-growing_BI_jpeg.rf.0041ef0f0719db430f51e223084ac679.jpg  \n",
            "  inflating: /content/cannabis-health-diagnosis/data/train/PH Fluctuation/Cannabis-weed-PH-fluctuation-brown-marks-acidic-soil-proper-ph-level-chart-marijuana-growing_BI_jpeg.rf.10ce9f6a885bbb3a73ab23c4edcbcf78.jpg  \n",
            "  inflating: /content/cannabis-health-diagnosis/data/train/PH Fluctuation/Cannabis-weed-PH-fluctuation-brown-marks-acidic-soil-proper-ph-level-chart-marijuana-growing_BI_jpeg.rf.687e872613caea10f55483007a639272.jpg  \n",
            "  inflating: /content/cannabis-health-diagnosis/data/train/PH Fluctuation/Cannabis-weed-PH-fluctuation-brown-marks-acidic-soil-proper-ph-level-chart-marijuana-growing_BI_jpeg.rf.7954904eb88fc45afeb0f408f6c75523.jpg  \n",
            "  inflating: /content/cannabis-health-diagnosis/data/train/PH Fluctuation/Cannabis-weed-PH-fluctuation-brown-marks-acidic-soil-proper-ph-level-chart-marijuana-growing_BI_jpeg.rf.8d636bc8d852ece005498d0402c10c69.jpg  \n",
            "  inflating: /content/cannabis-health-diagnosis/data/train/PH Fluctuation/Cannabis-weed-PH-fluctuation-brown-marks-acidic-soil-proper-ph-level-chart-marijuana-growing_C6_jpeg.rf.3b182484bb2d6e4abeed7e062c4b1e8f.jpg  \n",
            "  inflating: /content/cannabis-health-diagnosis/data/train/PH Fluctuation/Cannabis-weed-PH-fluctuation-brown-marks-acidic-soil-proper-ph-level-chart-marijuana-growing_C6_jpeg.rf.7ba4ca7e15381ee367b8ebe7c88ecc7d.jpg  \n",
            "  inflating: /content/cannabis-health-diagnosis/data/train/PH Fluctuation/Cannabis-weed-PH-fluctuation-brown-marks-acidic-soil-proper-ph-level-chart-marijuana-growing_C6_jpeg.rf.bec3b46f62cf2482a7a19169abb1bcb0.jpg  \n",
            "  inflating: /content/cannabis-health-diagnosis/data/train/PH Fluctuation/Cannabis-weed-PH-fluctuation-brown-marks-acidic-soil-proper-ph-level-chart-marijuana-growing_C6_jpeg.rf.dee0eb3d5e056e753c320925d8420bbd.jpg  \n",
            "  inflating: /content/cannabis-health-diagnosis/data/train/PH Fluctuation/Cannabis-weed-PH-fluctuation-brown-marks-acidic-soil-proper-ph-level-chart-marijuana-growing_C6_jpeg.rf.fc9524fc7411d746096a47f99a8bd147.jpg  \n",
            "  inflating: /content/cannabis-health-diagnosis/data/train/PH Fluctuation/Cannabis-weed-PH-fluctuation-brown-marks-acidic-soil-proper-ph-level-chart-marijuana-growing_D4_jpeg.rf.2d1cc1667db7d26a50fa7d778dfbdb82.jpg  \n",
            "  inflating: /content/cannabis-health-diagnosis/data/train/PH Fluctuation/Cannabis-weed-PH-fluctuation-brown-marks-acidic-soil-proper-ph-level-chart-marijuana-growing_D4_jpeg.rf.37259de6f753be72e3ea063410bc73c4.jpg  \n",
            "  inflating: /content/cannabis-health-diagnosis/data/train/PH Fluctuation/Cannabis-weed-PH-fluctuation-brown-marks-acidic-soil-proper-ph-level-chart-marijuana-growing_D4_jpeg.rf.48da42945bb86c1dd8b081032d85be97.jpg  \n",
            "  inflating: /content/cannabis-health-diagnosis/data/train/PH Fluctuation/Cannabis-weed-PH-fluctuation-brown-marks-acidic-soil-proper-ph-level-chart-marijuana-growing_D4_jpeg.rf.af8426935a5f836002662dd1be143b0e.jpg  \n",
            "  inflating: /content/cannabis-health-diagnosis/data/train/PH Fluctuation/Cannabis-weed-PH-fluctuation-brown-marks-acidic-soil-proper-ph-level-chart-marijuana-growing_D4_jpeg.rf.faed26b34a2ed704ca817eb9071fcd5a.jpg  \n",
            "  inflating: /content/cannabis-health-diagnosis/data/train/PH Fluctuation/Cannabis-weed-PH-fluctuation-brown-marks-acidic-soil-proper-ph-level-chart-marijuana-growing_GL_jpeg.rf.085d4324afed16a86b1c255f5c0a469b.jpg  \n",
            "  inflating: /content/cannabis-health-diagnosis/data/train/PH Fluctuation/Cannabis-weed-PH-fluctuation-brown-marks-acidic-soil-proper-ph-level-chart-marijuana-growing_GL_jpeg.rf.1a8dcc38126909639e260f2b63fe7e5f.jpg  \n",
            "  inflating: /content/cannabis-health-diagnosis/data/train/PH Fluctuation/Cannabis-weed-PH-fluctuation-brown-marks-acidic-soil-proper-ph-level-chart-marijuana-growing_GL_jpeg.rf.9297754dba9befd9e7726d6745f394fd.jpg  \n",
            "  inflating: /content/cannabis-health-diagnosis/data/train/PH Fluctuation/Cannabis-weed-PH-fluctuation-brown-marks-acidic-soil-proper-ph-level-chart-marijuana-growing_GL_jpeg.rf.ac1c7bb1a5dda06a795925f5ec50c4dd.jpg  \n",
            "  inflating: /content/cannabis-health-diagnosis/data/train/PH Fluctuation/Cannabis-weed-PH-fluctuation-brown-marks-acidic-soil-proper-ph-level-chart-marijuana-growing_GL_jpeg.rf.ad8c076b10114fc56f773d223e7eccfb.jpg  \n",
            "  inflating: /content/cannabis-health-diagnosis/data/train/PH Fluctuation/Cannabis-weed-PH-fluctuation-brown-marks-acidic-soil-proper-ph-level-chart-marijuana-growing_K2_jpeg.rf.248f983e2dac13b060705ad895850f44.jpg  \n",
            "  inflating: /content/cannabis-health-diagnosis/data/train/PH Fluctuation/Cannabis-weed-PH-fluctuation-brown-marks-acidic-soil-proper-ph-level-chart-marijuana-growing_K2_jpeg.rf.63b2e1e60fccba429d0f51c0c79412c3.jpg  \n",
            "  inflating: /content/cannabis-health-diagnosis/data/train/PH Fluctuation/Cannabis-weed-PH-fluctuation-brown-marks-acidic-soil-proper-ph-level-chart-marijuana-growing_K2_jpeg.rf.6a2dcd57450092d3b597e3e8e65abde9.jpg  \n",
            "  inflating: /content/cannabis-health-diagnosis/data/train/PH Fluctuation/Cannabis-weed-PH-fluctuation-brown-marks-acidic-soil-proper-ph-level-chart-marijuana-growing_K2_jpeg.rf.f1cd2547982c339481af57888e212f12.jpg  \n",
            "  inflating: /content/cannabis-health-diagnosis/data/train/PH Fluctuation/Cannabis-weed-PH-fluctuation-brown-marks-acidic-soil-proper-ph-level-chart-marijuana-growing_K2_jpeg.rf.fcb076ed3d9a220924c9f2c8ea85ba7b.jpg  \n",
            "  inflating: /content/cannabis-health-diagnosis/data/train/PH Fluctuation/Cannabis-weed-PH-fluctuation-brown-marks-acidic-soil-proper-ph-level-chart-marijuana-growing_ZE_jpeg.rf.01c08f11f79c2abfcb60b45189b1711c.jpg  \n",
            "  inflating: /content/cannabis-health-diagnosis/data/train/PH Fluctuation/Cannabis-weed-PH-fluctuation-brown-marks-acidic-soil-proper-ph-level-chart-marijuana-growing_ZE_jpeg.rf.06f3bd49291b74cb2b41943a575aad38.jpg  \n",
            "  inflating: /content/cannabis-health-diagnosis/data/train/PH Fluctuation/Cannabis-weed-PH-fluctuation-brown-marks-acidic-soil-proper-ph-level-chart-marijuana-growing_ZE_jpeg.rf.693efdf4a7bb9753860f3d5c4b8f04ea.jpg  \n",
            "  inflating: /content/cannabis-health-diagnosis/data/train/PH Fluctuation/Cannabis-weed-PH-fluctuation-brown-marks-acidic-soil-proper-ph-level-chart-marijuana-growing_ZE_jpeg.rf.770cfed7cbb1d3a49d446786274a5d9e.jpg  \n",
            "  inflating: /content/cannabis-health-diagnosis/data/train/PH Fluctuation/Cannabis-weed-PH-fluctuation-brown-marks-acidic-soil-proper-ph-level-chart-marijuana-growing_ZE_jpeg.rf.df818090f708168714051bff7b0998ec.jpg  \n",
            "   creating: /content/cannabis-health-diagnosis/data/train/Phosphorus Deficiency/\n",
            "  inflating: /content/cannabis-health-diagnosis/data/train/Phosphorus Deficiency/aug_100_6643122.jpg  \n",
            "  inflating: /content/cannabis-health-diagnosis/data/train/Phosphorus Deficiency/aug_101_6408634.jpg  \n",
            "  inflating: /content/cannabis-health-diagnosis/data/train/Phosphorus Deficiency/aug_102_238396.jpg  \n",
            "  inflating: /content/cannabis-health-diagnosis/data/train/Phosphorus Deficiency/aug_104_3932940.jpg  \n",
            "  inflating: /content/cannabis-health-diagnosis/data/train/Phosphorus Deficiency/aug_105_2451383.jpg  \n",
            "  inflating: /content/cannabis-health-diagnosis/data/train/Phosphorus Deficiency/aug_107_1602602.jpg  \n",
            "  inflating: /content/cannabis-health-diagnosis/data/train/Phosphorus Deficiency/aug_108_9213819.jpg  \n",
            "  inflating: /content/cannabis-health-diagnosis/data/train/Phosphorus Deficiency/aug_109_960878.jpg  \n",
            "  inflating: /content/cannabis-health-diagnosis/data/train/Phosphorus Deficiency/aug_110_3661164.jpg  \n",
            "  inflating: /content/cannabis-health-diagnosis/data/train/Phosphorus Deficiency/aug_111_6758526.jpg  \n",
            "  inflating: /content/cannabis-health-diagnosis/data/train/Phosphorus Deficiency/aug_112_4202626.jpg  \n",
            "  inflating: /content/cannabis-health-diagnosis/data/train/Phosphorus Deficiency/aug_114_682396.jpg  \n",
            "  inflating: /content/cannabis-health-diagnosis/data/train/Phosphorus Deficiency/aug_115_5914992.jpg  \n",
            "  inflating: /content/cannabis-health-diagnosis/data/train/Phosphorus Deficiency/aug_117_4516866.jpg  \n",
            "  inflating: /content/cannabis-health-diagnosis/data/train/Phosphorus Deficiency/aug_118_3251987.jpg  \n",
            "  inflating: /content/cannabis-health-diagnosis/data/train/Phosphorus Deficiency/aug_119_5320897.jpg  \n",
            "  inflating: /content/cannabis-health-diagnosis/data/train/Phosphorus Deficiency/aug_120_8253301.jpg  \n",
            "  inflating: /content/cannabis-health-diagnosis/data/train/Phosphorus Deficiency/aug_121_6065177.jpg  \n",
            "  inflating: /content/cannabis-health-diagnosis/data/train/Phosphorus Deficiency/aug_122_5212044.jpg  \n",
            "  inflating: /content/cannabis-health-diagnosis/data/train/Phosphorus Deficiency/aug_123_2409025.jpg  \n",
            "  inflating: /content/cannabis-health-diagnosis/data/train/Phosphorus Deficiency/aug_124_2076827.jpg  \n",
            "  inflating: /content/cannabis-health-diagnosis/data/train/Phosphorus Deficiency/aug_125_7772625.jpg  \n",
            "  inflating: /content/cannabis-health-diagnosis/data/train/Phosphorus Deficiency/aug_126_5368097.jpg  \n",
            "  inflating: /content/cannabis-health-diagnosis/data/train/Phosphorus Deficiency/aug_127_959606.jpg  \n",
            "  inflating: /content/cannabis-health-diagnosis/data/train/Phosphorus Deficiency/aug_128_1714107.jpg  \n",
            "  inflating: /content/cannabis-health-diagnosis/data/train/Phosphorus Deficiency/aug_129_3411279.jpg  \n",
            "  inflating: /content/cannabis-health-diagnosis/data/train/Phosphorus Deficiency/aug_130_1179119.jpg  \n",
            "  inflating: /content/cannabis-health-diagnosis/data/train/Phosphorus Deficiency/aug_131_4942265.jpg  \n",
            "  inflating: /content/cannabis-health-diagnosis/data/train/Phosphorus Deficiency/aug_133_210130.jpg  \n",
            "  inflating: /content/cannabis-health-diagnosis/data/train/Phosphorus Deficiency/aug_134_9729742.jpg  \n",
            "  inflating: /content/cannabis-health-diagnosis/data/train/Phosphorus Deficiency/aug_135_8511302.jpg  \n",
            "  inflating: /content/cannabis-health-diagnosis/data/train/Phosphorus Deficiency/aug_136_5186493.jpg  \n",
            "  inflating: /content/cannabis-health-diagnosis/data/train/Phosphorus Deficiency/aug_137_7135500.jpg  \n",
            "  inflating: /content/cannabis-health-diagnosis/data/train/Phosphorus Deficiency/aug_138_6370730.jpg  \n",
            "  inflating: /content/cannabis-health-diagnosis/data/train/Phosphorus Deficiency/aug_139_6863563.jpg  \n",
            "  inflating: /content/cannabis-health-diagnosis/data/train/Phosphorus Deficiency/aug_140_5224748.jpg  \n",
            "  inflating: /content/cannabis-health-diagnosis/data/train/Phosphorus Deficiency/aug_141_7062785.jpg  \n",
            "  inflating: /content/cannabis-health-diagnosis/data/train/Phosphorus Deficiency/aug_142_5390550.jpg  \n",
            "  inflating: /content/cannabis-health-diagnosis/data/train/Phosphorus Deficiency/aug_144_972353.jpg  \n",
            "  inflating: /content/cannabis-health-diagnosis/data/train/Phosphorus Deficiency/aug_145_9734903.jpg  \n",
            "  inflating: /content/cannabis-health-diagnosis/data/train/Phosphorus Deficiency/aug_147_5780618.jpg  \n",
            "  inflating: /content/cannabis-health-diagnosis/data/train/Phosphorus Deficiency/aug_148_3890074.jpg  \n",
            "  inflating: /content/cannabis-health-diagnosis/data/train/Phosphorus Deficiency/aug_149_4280653.jpg  \n",
            "  inflating: /content/cannabis-health-diagnosis/data/train/Phosphorus Deficiency/phosphorus-deficiency-cannabis-weed-dark-leaf-spots-bronze-brown-leaves_0B_jpeg.rf.54c1bde79078e4e5b914d21067bfc44e.jpg  \n",
            "  inflating: /content/cannabis-health-diagnosis/data/train/Phosphorus Deficiency/phosphorus-deficiency-cannabis-weed-dark-leaf-spots-bronze-brown-leaves_0B_jpeg.rf.5611b184cdb5e153e285d93ce5f244e8.jpg  \n",
            "  inflating: /content/cannabis-health-diagnosis/data/train/Phosphorus Deficiency/phosphorus-deficiency-cannabis-weed-dark-leaf-spots-bronze-brown-leaves_0B_jpeg.rf.605cf3d7bc214781e8cb704055a3a93d.jpg  \n",
            "  inflating: /content/cannabis-health-diagnosis/data/train/Phosphorus Deficiency/phosphorus-deficiency-cannabis-weed-dark-leaf-spots-bronze-brown-leaves_0B_jpeg.rf.61134094dcc55bcf7e88404368f9f553.jpg  \n",
            "  inflating: /content/cannabis-health-diagnosis/data/train/Phosphorus Deficiency/phosphorus-deficiency-cannabis-weed-dark-leaf-spots-bronze-brown-leaves_0B_jpeg.rf.6da30e754395acd6be53bb744f79a362.jpg  \n",
            "  inflating: /content/cannabis-health-diagnosis/data/train/Phosphorus Deficiency/phosphorus-deficiency-cannabis-weed-dark-leaf-spots-bronze-brown-leaves_0Y_jpeg.rf.0e9417c7e8710e0fdd463750ee4e0ab8.jpg  \n",
            "  inflating: /content/cannabis-health-diagnosis/data/train/Phosphorus Deficiency/phosphorus-deficiency-cannabis-weed-dark-leaf-spots-bronze-brown-leaves_0Y_jpeg.rf.2312586337e465e5850f5ec93595ec31.jpg  \n",
            "  inflating: /content/cannabis-health-diagnosis/data/train/Phosphorus Deficiency/phosphorus-deficiency-cannabis-weed-dark-leaf-spots-bronze-brown-leaves_0Y_jpeg.rf.299ad02286edeb78a262dca89a2fa883.jpg  \n",
            "  inflating: /content/cannabis-health-diagnosis/data/train/Phosphorus Deficiency/phosphorus-deficiency-cannabis-weed-dark-leaf-spots-bronze-brown-leaves_0Y_jpeg.rf.2f7005ff44ea808edd37647982f85a8c.jpg  \n",
            "  inflating: /content/cannabis-health-diagnosis/data/train/Phosphorus Deficiency/phosphorus-deficiency-cannabis-weed-dark-leaf-spots-bronze-brown-leaves_0Y_jpeg.rf.6fb546d69bec9aab0d3260fd7e68108f.jpg  \n",
            "  inflating: /content/cannabis-health-diagnosis/data/train/Phosphorus Deficiency/phosphorus-deficiency-cannabis-weed-dark-leaf-spots-bronze-brown-leaves_0Y_jpeg.rf.7a1b187e2bab6c4442bc18007a178274.jpg  \n",
            "  inflating: /content/cannabis-health-diagnosis/data/train/Phosphorus Deficiency/phosphorus-deficiency-cannabis-weed-dark-leaf-spots-bronze-brown-leaves_0Y_jpeg.rf.999dcd439f61f4ebe7a378f490a55c84.jpg  \n",
            "  inflating: /content/cannabis-health-diagnosis/data/train/Phosphorus Deficiency/phosphorus-deficiency-cannabis-weed-dark-leaf-spots-bronze-brown-leaves_0Y_jpeg.rf.ae7209fd18a240c142ad1228ff0f4044.jpg  \n",
            "  inflating: /content/cannabis-health-diagnosis/data/train/Phosphorus Deficiency/phosphorus-deficiency-cannabis-weed-dark-leaf-spots-bronze-brown-leaves_0Y_jpeg.rf.b3ed927d6eec30065f61f7cd09c07214.jpg  \n",
            "  inflating: /content/cannabis-health-diagnosis/data/train/Phosphorus Deficiency/phosphorus-deficiency-cannabis-weed-dark-leaf-spots-bronze-brown-leaves_0Y_jpeg.rf.fdfcd72c5278356b05495f087cda3498.jpg  \n",
            "  inflating: /content/cannabis-health-diagnosis/data/train/Phosphorus Deficiency/phosphorus-deficiency-cannabis-weed-dark-leaf-spots-bronze-brown-leaves_1W_jpeg.rf.3ce3bfd1b0cafc23104bbdb768ed2316.jpg  \n",
            "  inflating: /content/cannabis-health-diagnosis/data/train/Phosphorus Deficiency/phosphorus-deficiency-cannabis-weed-dark-leaf-spots-bronze-brown-leaves_1W_jpeg.rf.428df21b700d08956e7598f9391e7b1d.jpg  \n",
            "  inflating: /content/cannabis-health-diagnosis/data/train/Phosphorus Deficiency/phosphorus-deficiency-cannabis-weed-dark-leaf-spots-bronze-brown-leaves_1W_jpeg.rf.649648ffe0e9a592f35a2200c55758f5.jpg  \n",
            "  inflating: /content/cannabis-health-diagnosis/data/train/Phosphorus Deficiency/phosphorus-deficiency-cannabis-weed-dark-leaf-spots-bronze-brown-leaves_1W_jpeg.rf.7bfa5bbd0ee0148a9b65c58aee432916.jpg  \n",
            "  inflating: /content/cannabis-health-diagnosis/data/train/Phosphorus Deficiency/phosphorus-deficiency-cannabis-weed-dark-leaf-spots-bronze-brown-leaves_1W_jpeg.rf.dd0ff5765c7564cb277556062ef79581.jpg  \n",
            "  inflating: /content/cannabis-health-diagnosis/data/train/Phosphorus Deficiency/phosphorus-deficiency-cannabis-weed-dark-leaf-spots-bronze-brown-leaves_3A_jpeg.rf.0b3ba16e6a4524211efd45f70028d254.jpg  \n",
            "  inflating: /content/cannabis-health-diagnosis/data/train/Phosphorus Deficiency/phosphorus-deficiency-cannabis-weed-dark-leaf-spots-bronze-brown-leaves_3A_jpeg.rf.18649c7a0e878167fbf424a06652342f.jpg  \n",
            "  inflating: /content/cannabis-health-diagnosis/data/train/Phosphorus Deficiency/phosphorus-deficiency-cannabis-weed-dark-leaf-spots-bronze-brown-leaves_3A_jpeg.rf.4bf4c6856fa03db3b44da1d56df81b31.jpg  \n",
            "  inflating: /content/cannabis-health-diagnosis/data/train/Phosphorus Deficiency/phosphorus-deficiency-cannabis-weed-dark-leaf-spots-bronze-brown-leaves_3A_jpeg.rf.79d74e660d9ce3bcf0438d3de66d86ca.jpg  \n",
            "  inflating: /content/cannabis-health-diagnosis/data/train/Phosphorus Deficiency/phosphorus-deficiency-cannabis-weed-dark-leaf-spots-bronze-brown-leaves_3A_jpeg.rf.cbe4d65e9464c9e04286e4fd3c2f3be0.jpg  \n",
            "  inflating: /content/cannabis-health-diagnosis/data/train/Phosphorus Deficiency/phosphorus-deficiency-cannabis-weed-dark-leaf-spots-bronze-brown-leaves_9J_jpeg.rf.4c8528121eba69cf79817d142fe1f24b.jpg  \n",
            "  inflating: /content/cannabis-health-diagnosis/data/train/Phosphorus Deficiency/phosphorus-deficiency-cannabis-weed-dark-leaf-spots-bronze-brown-leaves_9J_jpeg.rf.4d992cf67c61478cfe6593567e0c652b.jpg  \n",
            "  inflating: /content/cannabis-health-diagnosis/data/train/Phosphorus Deficiency/phosphorus-deficiency-cannabis-weed-dark-leaf-spots-bronze-brown-leaves_9J_jpeg.rf.84e9c80777297cfe507adc412a6c21e5.jpg  \n",
            "  inflating: /content/cannabis-health-diagnosis/data/train/Phosphorus Deficiency/phosphorus-deficiency-cannabis-weed-dark-leaf-spots-bronze-brown-leaves_9J_jpeg.rf.c4060f98e8fdf9e39aadedc8d6436a87.jpg  \n",
            "  inflating: /content/cannabis-health-diagnosis/data/train/Phosphorus Deficiency/phosphorus-deficiency-cannabis-weed-dark-leaf-spots-bronze-brown-leaves_9J_jpeg.rf.cdaba21c3df31011f5cdc5328d079097.jpg  \n",
            "  inflating: /content/cannabis-health-diagnosis/data/train/Phosphorus Deficiency/phosphorus-deficiency-cannabis-weed-dark-leaf-spots-bronze-brown-leaves_HY_jpeg.rf.5d1f86c39aac24ef734664781f4f66bb.jpg  \n",
            "  inflating: /content/cannabis-health-diagnosis/data/train/Phosphorus Deficiency/phosphorus-deficiency-cannabis-weed-dark-leaf-spots-bronze-brown-leaves_HY_jpeg.rf.846c38b0f487908d16aa7e87be1038a7.jpg  \n",
            "  inflating: /content/cannabis-health-diagnosis/data/train/Phosphorus Deficiency/phosphorus-deficiency-cannabis-weed-dark-leaf-spots-bronze-brown-leaves_HY_jpeg.rf.a3271a9423a2d76608f3351beecb2aea.jpg  \n",
            "  inflating: /content/cannabis-health-diagnosis/data/train/Phosphorus Deficiency/phosphorus-deficiency-cannabis-weed-dark-leaf-spots-bronze-brown-leaves_HY_jpeg.rf.cc4cc592ea99e280a92c2433dcced4ca.jpg  \n",
            "  inflating: /content/cannabis-health-diagnosis/data/train/Phosphorus Deficiency/phosphorus-deficiency-cannabis-weed-dark-leaf-spots-bronze-brown-leaves_HY_jpeg.rf.e0e00cceabb7a5388ad14e2180ebde8d.jpg  \n",
            "  inflating: /content/cannabis-health-diagnosis/data/train/Phosphorus Deficiency/phosphorus-deficiency-cannabis-weed-dark-leaf-spots-bronze-brown-leaves_PB_jpeg.rf.6133e3da40f4cc956b4292438c68f496.jpg  \n",
            "  inflating: /content/cannabis-health-diagnosis/data/train/Phosphorus Deficiency/phosphorus-deficiency-cannabis-weed-dark-leaf-spots-bronze-brown-leaves_PB_jpeg.rf.86d64b6faf7cf33fcd14432be2952741.jpg  \n",
            "  inflating: /content/cannabis-health-diagnosis/data/train/Phosphorus Deficiency/phosphorus-deficiency-cannabis-weed-dark-leaf-spots-bronze-brown-leaves_PB_jpeg.rf.c4fbcb3b28af9718d0e6c6f63f7ea9fe.jpg  \n",
            "  inflating: /content/cannabis-health-diagnosis/data/train/Phosphorus Deficiency/phosphorus-deficiency-cannabis-weed-dark-leaf-spots-bronze-brown-leaves_PB_jpeg.rf.d859761337e614ffe5dc3ed6ffb2a105.jpg  \n",
            "  inflating: /content/cannabis-health-diagnosis/data/train/Phosphorus Deficiency/phosphorus-deficiency-cannabis-weed-dark-leaf-spots-bronze-brown-leaves_PB_jpeg.rf.e5db42defefdee585aff08daa6bd61bf.jpg  \n",
            "  inflating: /content/cannabis-health-diagnosis/data/train/Phosphorus Deficiency/phosphorus-deficiency-cannabis-weed-dark-leaf-spots-bronze-brown-leaves_WD_jpeg.rf.06934bc95f25e37de13e270c204d5bed.jpg  \n",
            "  inflating: /content/cannabis-health-diagnosis/data/train/Phosphorus Deficiency/phosphorus-deficiency-cannabis-weed-dark-leaf-spots-bronze-brown-leaves_WD_jpeg.rf.2295180deb063ee934e443239a197b4b.jpg  \n",
            "  inflating: /content/cannabis-health-diagnosis/data/train/Phosphorus Deficiency/phosphorus-deficiency-cannabis-weed-dark-leaf-spots-bronze-brown-leaves_WD_jpeg.rf.a1ec613b1437a30b47e5f5e82f45ffcc.jpg  \n",
            "  inflating: /content/cannabis-health-diagnosis/data/train/Phosphorus Deficiency/phosphorus-deficiency-cannabis-weed-dark-leaf-spots-bronze-brown-leaves_WD_jpeg.rf.c804ba30b3c70a87b08b111e330f8368.jpg  \n",
            "  inflating: /content/cannabis-health-diagnosis/data/train/Phosphorus Deficiency/phosphorus-deficiency-cannabis-weed-dark-leaf-spots-bronze-brown-leaves_WD_jpeg.rf.e8ee0d031c260fc1250bafe08992a954.jpg  \n",
            "  inflating: /content/cannabis-health-diagnosis/data/train/Phosphorus Deficiency/phosphorus-deficiency_jpeg.rf.1063638fa752cd9c5dd032e42a1d566f.jpg  \n",
            "  inflating: /content/cannabis-health-diagnosis/data/train/Phosphorus Deficiency/phosphorus-deficiency_jpeg.rf.5fb4058156d6243346c8e75ae9566633.jpg  \n",
            "  inflating: /content/cannabis-health-diagnosis/data/train/Phosphorus Deficiency/phosphorus-deficiency_jpeg.rf.d203f6e74b3b41fc32040dbcd18f87b6.jpg  \n",
            "  inflating: /content/cannabis-health-diagnosis/data/train/Phosphorus Deficiency/phosphorus-deficiency_jpeg.rf.d9aa81eb3573e045cd76ff770884b6d0.jpg  \n",
            "  inflating: /content/cannabis-health-diagnosis/data/train/Phosphorus Deficiency/phosphorus-deficiency_jpeg.rf.f45b0ffc7d723d2b67c0de55b672d64d.jpg  \n",
            "   creating: /content/cannabis-health-diagnosis/data/train/Potassium Deficiency/\n",
            "  inflating: /content/cannabis-health-diagnosis/data/train/Potassium Deficiency/aug_150_4623922.jpg  \n",
            "  inflating: /content/cannabis-health-diagnosis/data/train/Potassium Deficiency/aug_152_4737583.jpg  \n",
            "  inflating: /content/cannabis-health-diagnosis/data/train/Potassium Deficiency/aug_153_7956277.jpg  \n",
            "  inflating: /content/cannabis-health-diagnosis/data/train/Potassium Deficiency/aug_155_3680370.jpg  \n",
            "  inflating: /content/cannabis-health-diagnosis/data/train/Potassium Deficiency/aug_156_8418334.jpg  \n",
            "  inflating: /content/cannabis-health-diagnosis/data/train/Potassium Deficiency/aug_157_8880312.jpg  \n",
            "  inflating: /content/cannabis-health-diagnosis/data/train/Potassium Deficiency/aug_158_4320816.jpg  \n",
            "  inflating: /content/cannabis-health-diagnosis/data/train/Potassium Deficiency/aug_159_9556763.jpg  \n",
            "  inflating: /content/cannabis-health-diagnosis/data/train/Potassium Deficiency/aug_160_8806620.jpg  \n",
            "  inflating: /content/cannabis-health-diagnosis/data/train/Potassium Deficiency/aug_161_2679180.jpg  \n",
            "  inflating: /content/cannabis-health-diagnosis/data/train/Potassium Deficiency/aug_163_143591.jpg  \n",
            "  inflating: /content/cannabis-health-diagnosis/data/train/Potassium Deficiency/aug_164_2319439.jpg  \n",
            "  inflating: /content/cannabis-health-diagnosis/data/train/Potassium Deficiency/aug_165_81966.jpg  \n",
            "  inflating: /content/cannabis-health-diagnosis/data/train/Potassium Deficiency/aug_166_9315345.jpg  \n",
            "  inflating: /content/cannabis-health-diagnosis/data/train/Potassium Deficiency/aug_167_773496.jpg  \n",
            "  inflating: /content/cannabis-health-diagnosis/data/train/Potassium Deficiency/aug_168_3755882.jpg  \n",
            "  inflating: /content/cannabis-health-diagnosis/data/train/Potassium Deficiency/aug_169_1535499.jpg  \n",
            "  inflating: /content/cannabis-health-diagnosis/data/train/Potassium Deficiency/aug_170_5136650.jpg  \n",
            "  inflating: /content/cannabis-health-diagnosis/data/train/Potassium Deficiency/aug_171_7310866.jpg  \n",
            "  inflating: /content/cannabis-health-diagnosis/data/train/Potassium Deficiency/aug_172_9137772.jpg  \n",
            "  inflating: /content/cannabis-health-diagnosis/data/train/Potassium Deficiency/aug_173_4674800.jpg  \n",
            "  inflating: /content/cannabis-health-diagnosis/data/train/Potassium Deficiency/aug_175_8524093.jpg  \n",
            "  inflating: /content/cannabis-health-diagnosis/data/train/Potassium Deficiency/aug_176_8110818.jpg  \n",
            "  inflating: /content/cannabis-health-diagnosis/data/train/Potassium Deficiency/aug_177_5545666.jpg  \n",
            "  inflating: /content/cannabis-health-diagnosis/data/train/Potassium Deficiency/aug_178_723785.jpg  \n",
            "  inflating: /content/cannabis-health-diagnosis/data/train/Potassium Deficiency/aug_180_9886567.jpg  \n",
            "  inflating: /content/cannabis-health-diagnosis/data/train/Potassium Deficiency/aug_182_8340952.jpg  \n",
            "  inflating: /content/cannabis-health-diagnosis/data/train/Potassium Deficiency/aug_183_5647280.jpg  \n",
            "  inflating: /content/cannabis-health-diagnosis/data/train/Potassium Deficiency/aug_184_4526638.jpg  \n",
            "  inflating: /content/cannabis-health-diagnosis/data/train/Potassium Deficiency/aug_185_2348816.jpg  \n",
            "  inflating: /content/cannabis-health-diagnosis/data/train/Potassium Deficiency/aug_186_272186.jpg  \n",
            "  inflating: /content/cannabis-health-diagnosis/data/train/Potassium Deficiency/aug_187_6660807.jpg  \n",
            "  inflating: /content/cannabis-health-diagnosis/data/train/Potassium Deficiency/aug_188_4272497.jpg  \n",
            "  inflating: /content/cannabis-health-diagnosis/data/train/Potassium Deficiency/aug_189_996586.jpg  \n",
            "  inflating: /content/cannabis-health-diagnosis/data/train/Potassium Deficiency/aug_190_831469.jpg  \n",
            "  inflating: /content/cannabis-health-diagnosis/data/train/Potassium Deficiency/aug_191_8369811.jpg  \n",
            "  inflating: /content/cannabis-health-diagnosis/data/train/Potassium Deficiency/aug_192_3072338.jpg  \n",
            "  inflating: /content/cannabis-health-diagnosis/data/train/Potassium Deficiency/aug_193_815596.jpg  \n",
            "  inflating: /content/cannabis-health-diagnosis/data/train/Potassium Deficiency/ILGM_Signs-of-a-potassium-deficiency_jpeg.rf.45f25b26dab5c3844eb50f0b151b7634.jpg  \n",
            "  inflating: /content/cannabis-health-diagnosis/data/train/Potassium Deficiency/ILGM_Signs-of-a-potassium-deficiency_jpeg.rf.6d3168687358136dd7ec9b600d425ca7.jpg  \n",
            "  inflating: /content/cannabis-health-diagnosis/data/train/Potassium Deficiency/ILGM_Signs-of-a-potassium-deficiency_jpeg.rf.82421d8d8d79be29dab531bbdf10e120.jpg  \n",
            "  inflating: /content/cannabis-health-diagnosis/data/train/Potassium Deficiency/ILGM_Signs-of-a-potassium-deficiency_jpeg.rf.fcdb7a68e002ff7123c94205b1cd31b3.jpg  \n",
            "  inflating: /content/cannabis-health-diagnosis/data/train/Potassium Deficiency/ILGM_Signs-of-a-potassium-deficiency_jpeg.rf.fe091096115e08ac90924566ed289653.jpg  \n",
            "  inflating: /content/cannabis-health-diagnosis/data/train/Potassium Deficiency/is-this-a-nutrient-deficiency_jpeg.rf.146107fb28b2c83b2b068e307bff1761.jpg  \n",
            "  inflating: /content/cannabis-health-diagnosis/data/train/Potassium Deficiency/is-this-a-nutrient-deficiency_jpeg.rf.4125866c782b0f52a420692cee4031af.jpg  \n",
            "  inflating: /content/cannabis-health-diagnosis/data/train/Potassium Deficiency/is-this-a-nutrient-deficiency_jpeg.rf.61c20bd650c9d51918ac8e6341a4cdd5.jpg  \n",
            "  inflating: /content/cannabis-health-diagnosis/data/train/Potassium Deficiency/is-this-a-nutrient-deficiency_jpeg.rf.a058f68034b4e27421293abf0336bcdb.jpg  \n",
            "  inflating: /content/cannabis-health-diagnosis/data/train/Potassium Deficiency/is-this-a-nutrient-deficiency_jpeg.rf.e56ecee8b50cd7bfbf2fd12a7ee9c096.jpg  \n",
            "  inflating: /content/cannabis-health-diagnosis/data/train/Potassium Deficiency/other-problems-commonly-mistaken-for-potassium-deficiency__qwQlEDYcAIX92ThY_jpeg.rf.51f490b3697e83f3372949bdf8a83c5a.jpg  \n",
            "  inflating: /content/cannabis-health-diagnosis/data/train/Potassium Deficiency/other-problems-commonly-mistaken-for-potassium-deficiency__qwQlEDYcAIX92ThY_jpeg.rf.740eac288dc69d93e6c5c0cebdf057a2.jpg  \n",
            "  inflating: /content/cannabis-health-diagnosis/data/train/Potassium Deficiency/other-problems-commonly-mistaken-for-potassium-deficiency__qwQlEDYcAIX92ThY_jpeg.rf.74eed5609b7c74bd1e3b33e401dcddb3.jpg  \n",
            "  inflating: /content/cannabis-health-diagnosis/data/train/Potassium Deficiency/other-problems-commonly-mistaken-for-potassium-deficiency__qwQlEDYcAIX92ThY_jpeg.rf.c7fb02d0b8d2272991748a292691edc6.jpg  \n",
            "  inflating: /content/cannabis-health-diagnosis/data/train/Potassium Deficiency/other-problems-commonly-mistaken-for-potassium-deficiency__qwQlEDYcAIX92ThY_jpeg.rf.fde291b2a443a352f05bb0d36e5a09ba.jpg  \n",
            "  inflating: /content/cannabis-health-diagnosis/data/train/Potassium Deficiency/planta-de-cannabis-afectada-por-una-carencia-de-potasio-avanzada_jpeg.rf.3678f6e78adb4e695fb28c0f29a2083e.jpg  \n",
            "  inflating: /content/cannabis-health-diagnosis/data/train/Potassium Deficiency/planta-de-cannabis-afectada-por-una-carencia-de-potasio-avanzada_jpeg.rf.3c76af00e889542ee15d476e21e42787.jpg  \n",
            "  inflating: /content/cannabis-health-diagnosis/data/train/Potassium Deficiency/planta-de-cannabis-afectada-por-una-carencia-de-potasio-avanzada_jpeg.rf.6268155232f7fd422720e73e49747178.jpg  \n",
            "  inflating: /content/cannabis-health-diagnosis/data/train/Potassium Deficiency/planta-de-cannabis-afectada-por-una-carencia-de-potasio-avanzada_jpeg.rf.8e4d0ca6b08bb46c2c61214a3ef4bf61.jpg  \n",
            "  inflating: /content/cannabis-health-diagnosis/data/train/Potassium Deficiency/planta-de-cannabis-afectada-por-una-carencia-de-potasio-avanzada_jpeg.rf.a5e536120c008f6874ebd3117ea09c31.jpg  \n",
            "  inflating: /content/cannabis-health-diagnosis/data/train/Potassium Deficiency/potassium-deficiency-burnt-tips-leaves_jpeg.rf.52366a4d454f3e1038158ace183cb2e1.jpg  \n",
            "  inflating: /content/cannabis-health-diagnosis/data/train/Potassium Deficiency/potassium-deficiency-burnt-tips-leaves_jpeg.rf.bda4977bd229b4a272e61dd7929e3fc2.jpg  \n",
            "  inflating: /content/cannabis-health-diagnosis/data/train/Potassium Deficiency/potassium-deficiency-burnt-tips-leaves_jpeg.rf.ef575ff4527260a9b07d57e5ed526d42.jpg  \n",
            "  inflating: /content/cannabis-health-diagnosis/data/train/Potassium Deficiency/potassium-deficiency-burnt-tips-leaves_jpeg.rf.ef9d44e23983223f5dc9e33df014724c.jpg  \n",
            "  inflating: /content/cannabis-health-diagnosis/data/train/Potassium Deficiency/potassium-deficiency-burnt-tips-leaves_jpeg.rf.f04127ed9a5eba861c3957e09f9f143d.jpg  \n",
            "  inflating: /content/cannabis-health-diagnosis/data/train/Potassium Deficiency/POTASSIUM-deficiency-leaf-and-plant_jpeg.rf.11e4f867bea8248a0222b9b5a81a8191.jpg  \n",
            "  inflating: /content/cannabis-health-diagnosis/data/train/Potassium Deficiency/POTASSIUM-deficiency-leaf-and-plant_jpeg.rf.419c4c815b4b03ccea395ab2f33aba96.jpg  \n",
            "  inflating: /content/cannabis-health-diagnosis/data/train/Potassium Deficiency/POTASSIUM-deficiency-leaf-and-plant_jpeg.rf.539368468731845e6ce84ba430055caf.jpg  \n",
            "  inflating: /content/cannabis-health-diagnosis/data/train/Potassium Deficiency/POTASSIUM-deficiency-leaf-and-plant_jpeg.rf.8cf1b28d9089ef0544a9de25e81b4c7a.jpg  \n",
            "  inflating: /content/cannabis-health-diagnosis/data/train/Potassium Deficiency/POTASSIUM-deficiency-leaf-and-plant_jpeg.rf.fb4c4330dea2143a3dda3c0d87f5cf01.jpg  \n",
            "  inflating: /content/cannabis-health-diagnosis/data/train/Potassium Deficiency/potassium-deficiency-marijuana-middle-leaves_jpeg.rf.014160cc7581dbaae699756294e66fb1.jpg  \n",
            "  inflating: /content/cannabis-health-diagnosis/data/train/Potassium Deficiency/potassium-deficiency-marijuana-middle-leaves_jpeg.rf.051c4e54b6349836c754c84de8132ef2.jpg  \n",
            "  inflating: /content/cannabis-health-diagnosis/data/train/Potassium Deficiency/potassium-deficiency-marijuana-middle-leaves_jpeg.rf.0f9cecd714e330c61daf4af84b5412d8.jpg  \n",
            "  inflating: /content/cannabis-health-diagnosis/data/train/Potassium Deficiency/potassium-deficiency-marijuana-middle-leaves_jpeg.rf.8e0a6aae47948bc2cdea6e8ec8e3c09b.jpg  \n",
            "  inflating: /content/cannabis-health-diagnosis/data/train/Potassium Deficiency/potassium-deficiency-marijuana-middle-leaves_jpeg.rf.b7940e198713f662fdfe5391a5d21856.jpg  \n",
            "  inflating: /content/cannabis-health-diagnosis/data/train/Potassium Deficiency/potassium-deficiency-marijuana_jpeg.rf.11d7b63fe01f559f2318fa20f46c76d1.jpg  \n",
            "  inflating: /content/cannabis-health-diagnosis/data/train/Potassium Deficiency/potassium-deficiency-marijuana_jpeg.rf.166a3e699c925e4619010df2dcda1bab.jpg  \n",
            "  inflating: /content/cannabis-health-diagnosis/data/train/Potassium Deficiency/potassium-deficiency-marijuana_jpeg.rf.482728850cfb416b06059b0f995fa148.jpg  \n",
            "  inflating: /content/cannabis-health-diagnosis/data/train/Potassium Deficiency/potassium-deficiency-marijuana_jpeg.rf.509c72a563e5fe6510059b23bb075160.jpg  \n",
            "  inflating: /content/cannabis-health-diagnosis/data/train/Potassium Deficiency/potassium-deficiency-marijuana_jpeg.rf.72b47f2a0f2c9faae8f256436b742b4e.jpg  \n",
            "  inflating: /content/cannabis-health-diagnosis/data/train/Potassium Deficiency/potassium-deficient-leaf_jpeg.rf.4081564b21625ea97b566d272adab07e.jpg  \n",
            "  inflating: /content/cannabis-health-diagnosis/data/train/Potassium Deficiency/potassium-deficient-leaf_jpeg.rf.46a755d3820330b7a720e9bf38e5d99a.jpg  \n",
            "  inflating: /content/cannabis-health-diagnosis/data/train/Potassium Deficiency/potassium-deficient-leaf_jpeg.rf.b2b8ff087a601f278480c973915cac6b.jpg  \n",
            "  inflating: /content/cannabis-health-diagnosis/data/train/Potassium Deficiency/potassium-deficient-leaf_jpeg.rf.c7c10850307c8f888ed71b0874f42c5e.jpg  \n",
            "  inflating: /content/cannabis-health-diagnosis/data/train/Potassium Deficiency/potassium-deficient-leaf_jpeg.rf.d749944124f8687f827556fe50db7aae.jpg  \n",
            "   creating: /content/cannabis-health-diagnosis/data/train/Powdery Mildew/\n",
            "  inflating: /content/cannabis-health-diagnosis/data/train/Powdery Mildew/cannabis-white-powdery-mildew-outdoor-weed-pathogen_35_jpeg.rf.0c234b56b6de6fa0311a218802b005b4.jpg  \n",
            "  inflating: /content/cannabis-health-diagnosis/data/train/Powdery Mildew/cannabis-white-powdery-mildew-outdoor-weed-pathogen_35_jpeg.rf.206381f06f9f16e6b9b1a3dca449150e.jpg  \n",
            "  inflating: /content/cannabis-health-diagnosis/data/train/Powdery Mildew/cannabis-white-powdery-mildew-outdoor-weed-pathogen_35_jpeg.rf.843a4a2db1cbea18b20a2144c4d80d69.jpg  \n",
            "  inflating: /content/cannabis-health-diagnosis/data/train/Powdery Mildew/cannabis-white-powdery-mildew-outdoor-weed-pathogen_35_jpeg.rf.e575902d63d72d9fff4ba3f2464d1e6a.jpg  \n",
            "  inflating: /content/cannabis-health-diagnosis/data/train/Powdery Mildew/cannabis-white-powdery-mildew-outdoor-weed-pathogen_35_jpeg.rf.ed0812c3883ac7254025b1d1b04f462d.jpg  \n",
            "  inflating: /content/cannabis-health-diagnosis/data/train/Powdery Mildew/cannabis-white-powdery-mildew-outdoor-weed-pathogen_4M_jpeg.rf.1242fde2488be0fe890217bb5560c7f0.jpg  \n",
            "  inflating: /content/cannabis-health-diagnosis/data/train/Powdery Mildew/cannabis-white-powdery-mildew-outdoor-weed-pathogen_4M_jpeg.rf.16e2d4f9cd14548ad4e678496b58ea2c.jpg  \n",
            "  inflating: /content/cannabis-health-diagnosis/data/train/Powdery Mildew/cannabis-white-powdery-mildew-outdoor-weed-pathogen_4M_jpeg.rf.827344e887ced5241e2ca5b114175dea.jpg  \n",
            "  inflating: /content/cannabis-health-diagnosis/data/train/Powdery Mildew/cannabis-white-powdery-mildew-outdoor-weed-pathogen_4M_jpeg.rf.cd0998507c274ce02d6780ebe82e0396.jpg  \n",
            "  inflating: /content/cannabis-health-diagnosis/data/train/Powdery Mildew/cannabis-white-powdery-mildew-outdoor-weed-pathogen_4M_jpeg.rf.cf4ba204167ce6af234cc0f5dbbeb4e2.jpg  \n",
            "  inflating: /content/cannabis-health-diagnosis/data/train/Powdery Mildew/cannabis-white-powdery-mildew-outdoor-weed-pathogen_9O_jpeg.rf.0576fee9874e2b490a4640baf393881e.jpg  \n",
            "  inflating: /content/cannabis-health-diagnosis/data/train/Powdery Mildew/cannabis-white-powdery-mildew-outdoor-weed-pathogen_9O_jpeg.rf.0ddea8870f87e6c2e6bd459685a5e354.jpg  \n",
            "  inflating: /content/cannabis-health-diagnosis/data/train/Powdery Mildew/cannabis-white-powdery-mildew-outdoor-weed-pathogen_9O_jpeg.rf.33826ad88f4059bdddeb9bcf60532ba2.jpg  \n",
            "  inflating: /content/cannabis-health-diagnosis/data/train/Powdery Mildew/cannabis-white-powdery-mildew-outdoor-weed-pathogen_9O_jpeg.rf.48d2558d50f310af7845d398bc2d9511.jpg  \n",
            "  inflating: /content/cannabis-health-diagnosis/data/train/Powdery Mildew/cannabis-white-powdery-mildew-outdoor-weed-pathogen_9O_jpeg.rf.f577f04ef2e8a3957a424158e117ddf0.jpg  \n",
            "  inflating: /content/cannabis-health-diagnosis/data/train/Powdery Mildew/cannabis-white-powdery-mildew-outdoor-weed-pathogen_HA_jpeg.rf.7c588ed04deef8dbd3f9048eb4f8f9f8.jpg  \n",
            "  inflating: /content/cannabis-health-diagnosis/data/train/Powdery Mildew/cannabis-white-powdery-mildew-outdoor-weed-pathogen_HA_jpeg.rf.8d4945d39a7e659e6d65035f71d5590f.jpg  \n",
            "  inflating: /content/cannabis-health-diagnosis/data/train/Powdery Mildew/cannabis-white-powdery-mildew-outdoor-weed-pathogen_HA_jpeg.rf.96dfecb3037158ae90736760faa37f48.jpg  \n",
            "  inflating: /content/cannabis-health-diagnosis/data/train/Powdery Mildew/cannabis-white-powdery-mildew-outdoor-weed-pathogen_HA_jpeg.rf.a3d1012b900f897cf1ff64c470c47de3.jpg  \n",
            "  inflating: /content/cannabis-health-diagnosis/data/train/Powdery Mildew/cannabis-white-powdery-mildew-outdoor-weed-pathogen_HA_jpeg.rf.b28c877ae384fef95d61896691e28e32.jpg  \n",
            "  inflating: /content/cannabis-health-diagnosis/data/train/Powdery Mildew/cannabis-white-powdery-mildew-outdoor-weed-pathogen_PJ_jpeg.rf.2146b563956c5f330930140949f31b6f.jpg  \n",
            "  inflating: /content/cannabis-health-diagnosis/data/train/Powdery Mildew/cannabis-white-powdery-mildew-outdoor-weed-pathogen_PJ_jpeg.rf.449560b0ef93ba7a90ceacf92981a35d.jpg  \n",
            "  inflating: /content/cannabis-health-diagnosis/data/train/Powdery Mildew/cannabis-white-powdery-mildew-outdoor-weed-pathogen_PJ_jpeg.rf.71a95a69ebd2c4c948967a9899c11fbb.jpg  \n",
            "  inflating: /content/cannabis-health-diagnosis/data/train/Powdery Mildew/cannabis-white-powdery-mildew-outdoor-weed-pathogen_PJ_jpeg.rf.836e6b5b2bcbb5679a4f6c78c2944109.jpg  \n",
            "  inflating: /content/cannabis-health-diagnosis/data/train/Powdery Mildew/cannabis-white-powdery-mildew-outdoor-weed-pathogen_PJ_jpeg.rf.a4e9cdd8d6abc25806650e0ba2d02d12.jpg  \n",
            "  inflating: /content/cannabis-health-diagnosis/data/train/Powdery Mildew/cannabis-white-powdery-mildew-outdoor-weed-_03_jpeg.rf.346f0ba6c56aa4c341bbee940c89dec0.jpg  \n",
            "  inflating: /content/cannabis-health-diagnosis/data/train/Powdery Mildew/cannabis-white-powdery-mildew-outdoor-weed-_03_jpeg.rf.54039a29f5dff6bcd2c1eeb4060a4fb5.jpg  \n",
            "  inflating: /content/cannabis-health-diagnosis/data/train/Powdery Mildew/cannabis-white-powdery-mildew-outdoor-weed-_03_jpeg.rf.6c05d5b0e471dd5bbc6d7c140626e786.jpg  \n",
            "  inflating: /content/cannabis-health-diagnosis/data/train/Powdery Mildew/cannabis-white-powdery-mildew-outdoor-weed-_03_jpeg.rf.9d23e9bf00daf9f0ba8e2127a5df6fc4.jpg  \n",
            "  inflating: /content/cannabis-health-diagnosis/data/train/Powdery Mildew/cannabis-white-powdery-mildew-outdoor-weed-_03_jpeg.rf.da2be93490c0a5fe7bb6f9281e884bf1.jpg  \n",
            "  inflating: /content/cannabis-health-diagnosis/data/train/Powdery Mildew/cannabis-white-powdery-mildew-outdoor-weed-_1H_jpeg.rf.262e8a84973b491bc9a2a3def1293c4a.jpg  \n",
            "  inflating: /content/cannabis-health-diagnosis/data/train/Powdery Mildew/cannabis-white-powdery-mildew-outdoor-weed-_1H_jpeg.rf.304e3aa59e587f90591a85843c77eadb.jpg  \n",
            "  inflating: /content/cannabis-health-diagnosis/data/train/Powdery Mildew/cannabis-white-powdery-mildew-outdoor-weed-_1H_jpeg.rf.37fa44c2ca6c774fafc3cd3f0da8c0a0.jpg  \n",
            "  inflating: /content/cannabis-health-diagnosis/data/train/Powdery Mildew/cannabis-white-powdery-mildew-outdoor-weed-_1H_jpeg.rf.9a7974f5ce448112523c16ded3afb812.jpg  \n",
            "  inflating: /content/cannabis-health-diagnosis/data/train/Powdery Mildew/cannabis-white-powdery-mildew-outdoor-weed-_1H_jpeg.rf.b85c48341c7c0843556d3ae1ea1608b0.jpg  \n",
            "  inflating: /content/cannabis-health-diagnosis/data/train/Powdery Mildew/cannabis-white-powdery-mildew-outdoor-weed-_FY_jpeg.rf.272a4af8cbe7992a7379a36c14b29bcb.jpg  \n",
            "  inflating: /content/cannabis-health-diagnosis/data/train/Powdery Mildew/cannabis-white-powdery-mildew-outdoor-weed-_FY_jpeg.rf.79dfec46c1fc1214174f0f1a8f27f0fe.jpg  \n",
            "  inflating: /content/cannabis-health-diagnosis/data/train/Powdery Mildew/cannabis-white-powdery-mildew-outdoor-weed-_FY_jpeg.rf.d76a6fcf11a280d04dfb211aeb81b086.jpg  \n",
            "  inflating: /content/cannabis-health-diagnosis/data/train/Powdery Mildew/cannabis-white-powdery-mildew-outdoor-weed-_FY_jpeg.rf.dc13f856d3fbf881cf09072189b70c41.jpg  \n",
            "  inflating: /content/cannabis-health-diagnosis/data/train/Powdery Mildew/cannabis-white-powdery-mildew-outdoor-weed-_FY_jpeg.rf.f2484b4ba5d98ab1cc0a2e44424ee49f.jpg  \n",
            "  inflating: /content/cannabis-health-diagnosis/data/train/Powdery Mildew/Elevated-Botanist-Powdery-Mildew_png.rf.09f528e354bf1f9f0d12895153394512.jpg  \n",
            "  inflating: /content/cannabis-health-diagnosis/data/train/Powdery Mildew/Elevated-Botanist-Powdery-Mildew_png.rf.135677509f68807f3c219af75d4fa65d.jpg  \n",
            "  inflating: /content/cannabis-health-diagnosis/data/train/Powdery Mildew/Elevated-Botanist-Powdery-Mildew_png.rf.987b9dd99ed7ee59569ede9a0f7e1029.jpg  \n",
            "  inflating: /content/cannabis-health-diagnosis/data/train/Powdery Mildew/Elevated-Botanist-Powdery-Mildew_png.rf.b4c02a3b352425be271ab7b175953c39.jpg  \n",
            "  inflating: /content/cannabis-health-diagnosis/data/train/Powdery Mildew/Elevated-Botanist-Powdery-Mildew_png.rf.bc6c080e6c0b7cd76a0a4c2451d733bf.jpg  \n",
            "  inflating: /content/cannabis-health-diagnosis/data/train/Powdery Mildew/mildew3-33fyfni9g28yrzdv6b4x77rgbuiyy5cr56h1sf19pqim1h330_png.rf.21a7d68fc30105acebfbec33cad0fd5b.jpg  \n",
            "  inflating: /content/cannabis-health-diagnosis/data/train/Powdery Mildew/mildew3-33fyfni9g28yrzdv6b4x77rgbuiyy5cr56h1sf19pqim1h330_png.rf.319773259944d727a6663aa74c0a94c9.jpg  \n",
            "  inflating: /content/cannabis-health-diagnosis/data/train/Powdery Mildew/mildew3-33fyfni9g28yrzdv6b4x77rgbuiyy5cr56h1sf19pqim1h330_png.rf.d4b0a323d169336c8357ec258f46da93.jpg  \n",
            "  inflating: /content/cannabis-health-diagnosis/data/train/Powdery Mildew/mildew3-33fyfni9g28yrzdv6b4x77rgbuiyy5cr56h1sf19pqim1h330_png.rf.ee058fd0b499cb8249e0b8cd1be857af.jpg  \n",
            "  inflating: /content/cannabis-health-diagnosis/data/train/Powdery Mildew/mildew3-33fyfni9g28yrzdv6b4x77rgbuiyy5cr56h1sf19pqim1h330_png.rf.f4815864faf391afc371ffe895bc6467.jpg  \n",
            "  inflating: /content/cannabis-health-diagnosis/data/train/Powdery Mildew/pm2_jpeg.rf.7a859347fb020f1fc9812a0af0bc2078.jpg  \n",
            "  inflating: /content/cannabis-health-diagnosis/data/train/Powdery Mildew/pm2_jpeg.rf.9151f32920de0cc9082485a8deafcab9.jpg  \n",
            "  inflating: /content/cannabis-health-diagnosis/data/train/Powdery Mildew/pm2_jpeg.rf.94b91fe0f4176d685c4adc48fc864024.jpg  \n",
            "  inflating: /content/cannabis-health-diagnosis/data/train/Powdery Mildew/pm2_jpeg.rf.b9f1cc65d53bfaa461af2a9426341454.jpg  \n",
            "  inflating: /content/cannabis-health-diagnosis/data/train/Powdery Mildew/pm2_jpeg.rf.d6bfe203399da318b0cb87dcae3c7ae5.jpg  \n",
            "  inflating: /content/cannabis-health-diagnosis/data/train/Powdery Mildew/powdery-mildew-on-cannabis-weed-marijuana_jpeg.rf.10ebb98239130597579f5776e3774bde.jpg  \n",
            "  inflating: /content/cannabis-health-diagnosis/data/train/Powdery Mildew/powdery-mildew-on-cannabis-weed-marijuana_jpeg.rf.2800d3783c3cdb6262038a00b180a746.jpg  \n",
            "  inflating: /content/cannabis-health-diagnosis/data/train/Powdery Mildew/powdery-mildew-on-cannabis-weed-marijuana_jpeg.rf.98601fb4ee369975e5086c75c4dddb63.jpg  \n",
            "  inflating: /content/cannabis-health-diagnosis/data/train/Powdery Mildew/powdery-mildew-on-cannabis-weed-marijuana_jpeg.rf.c13a5aa18786dcc8fd411e5145918776.jpg  \n",
            "  inflating: /content/cannabis-health-diagnosis/data/train/Powdery Mildew/powdery-mildew-on-cannabis-weed-marijuana_jpeg.rf.fe4acaa6528b5927c4f61de40fabd4a5.jpg  \n",
            "   creating: /content/cannabis-health-diagnosis/data/train/Sulfur Deficiency/\n",
            "  inflating: /content/cannabis-health-diagnosis/data/train/Sulfur Deficiency/aug_195_3911655.jpg  \n",
            "  inflating: /content/cannabis-health-diagnosis/data/train/Sulfur Deficiency/aug_197_7807053.jpg  \n",
            "  inflating: /content/cannabis-health-diagnosis/data/train/Sulfur Deficiency/aug_198_325574.jpg  \n",
            "  inflating: /content/cannabis-health-diagnosis/data/train/Sulfur Deficiency/aug_199_4870464.jpg  \n",
            "  inflating: /content/cannabis-health-diagnosis/data/train/Sulfur Deficiency/aug_200_9566766.jpg  \n",
            "  inflating: /content/cannabis-health-diagnosis/data/train/Sulfur Deficiency/aug_201_5995416.jpg  \n",
            "  inflating: /content/cannabis-health-diagnosis/data/train/Sulfur Deficiency/aug_202_1100244.jpg  \n",
            "  inflating: /content/cannabis-health-diagnosis/data/train/Sulfur Deficiency/aug_203_2843893.jpg  \n",
            "  inflating: /content/cannabis-health-diagnosis/data/train/Sulfur Deficiency/aug_205_8598911.jpg  \n",
            "  inflating: /content/cannabis-health-diagnosis/data/train/Sulfur Deficiency/aug_206_8676121.jpg  \n",
            "  inflating: /content/cannabis-health-diagnosis/data/train/Sulfur Deficiency/aug_207_2561140.jpg  \n",
            "  inflating: /content/cannabis-health-diagnosis/data/train/Sulfur Deficiency/aug_208_7922538.jpg  \n",
            "  inflating: /content/cannabis-health-diagnosis/data/train/Sulfur Deficiency/aug_210_3829231.jpg  \n",
            "  inflating: /content/cannabis-health-diagnosis/data/train/Sulfur Deficiency/aug_213_4277132.jpg  \n",
            "  inflating: /content/cannabis-health-diagnosis/data/train/Sulfur Deficiency/aug_214_3338490.jpg  \n",
            "  inflating: /content/cannabis-health-diagnosis/data/train/Sulfur Deficiency/aug_215_4207970.jpg  \n",
            "  inflating: /content/cannabis-health-diagnosis/data/train/Sulfur Deficiency/aug_216_1043302.jpg  \n",
            "  inflating: /content/cannabis-health-diagnosis/data/train/Sulfur Deficiency/aug_217_2504428.jpg  \n",
            "  inflating: /content/cannabis-health-diagnosis/data/train/Sulfur Deficiency/aug_218_2596959.jpg  \n",
            "  inflating: /content/cannabis-health-diagnosis/data/train/Sulfur Deficiency/aug_219_5681918.jpg  \n",
            "  inflating: /content/cannabis-health-diagnosis/data/train/Sulfur Deficiency/aug_222_3358615.jpg  \n",
            "  inflating: /content/cannabis-health-diagnosis/data/train/Sulfur Deficiency/aug_223_5357092.jpg  \n",
            "  inflating: /content/cannabis-health-diagnosis/data/train/Sulfur Deficiency/aug_225_6872624.jpg  \n",
            "  inflating: /content/cannabis-health-diagnosis/data/train/Sulfur Deficiency/aug_226_1390728.jpg  \n",
            "  inflating: /content/cannabis-health-diagnosis/data/train/Sulfur Deficiency/aug_227_2823831.jpg  \n",
            "  inflating: /content/cannabis-health-diagnosis/data/train/Sulfur Deficiency/aug_228_4361183.jpg  \n",
            "  inflating: /content/cannabis-health-diagnosis/data/train/Sulfur Deficiency/aug_229_8622504.jpg  \n",
            "  inflating: /content/cannabis-health-diagnosis/data/train/Sulfur Deficiency/aug_230_4438329.jpg  \n",
            "  inflating: /content/cannabis-health-diagnosis/data/train/Sulfur Deficiency/aug_231_3021357.jpg  \n",
            "  inflating: /content/cannabis-health-diagnosis/data/train/Sulfur Deficiency/aug_233_8041881.jpg  \n",
            "  inflating: /content/cannabis-health-diagnosis/data/train/Sulfur Deficiency/aug_234_2818078.jpg  \n",
            "  inflating: /content/cannabis-health-diagnosis/data/train/Sulfur Deficiency/aug_235_4082398.jpg  \n",
            "  inflating: /content/cannabis-health-diagnosis/data/train/Sulfur Deficiency/aug_236_426921.jpg  \n",
            "  inflating: /content/cannabis-health-diagnosis/data/train/Sulfur Deficiency/aug_237_8264190.jpg  \n",
            "  inflating: /content/cannabis-health-diagnosis/data/train/Sulfur Deficiency/aug_238_519780.jpg  \n",
            "  inflating: /content/cannabis-health-diagnosis/data/train/Sulfur Deficiency/aug_239_9980316.jpg  \n",
            "  inflating: /content/cannabis-health-diagnosis/data/train/Sulfur Deficiency/FDSH208LGA_jpeg.rf.270a4ad88e63fd09d88559285ef52b84.jpg  \n",
            "  inflating: /content/cannabis-health-diagnosis/data/train/Sulfur Deficiency/FDSH208LGA_jpeg.rf.2ca290d99cca37f049f2ad5c5848c313.jpg  \n",
            "  inflating: /content/cannabis-health-diagnosis/data/train/Sulfur Deficiency/FDSH208LGA_jpeg.rf.6a2fea2a59f6940bba29d32388573404.jpg  \n",
            "  inflating: /content/cannabis-health-diagnosis/data/train/Sulfur Deficiency/FDSH208LGA_jpeg.rf.8c7d12dbf39008c46818cae73f76a28c.jpg  \n",
            "  inflating: /content/cannabis-health-diagnosis/data/train/Sulfur Deficiency/FDSH208LGA_jpeg.rf.9437ada3c8447f2f11aba28e3787c676.jpg  \n",
            "  inflating: /content/cannabis-health-diagnosis/data/train/Sulfur Deficiency/sulfur-deficiency-weed-yellow-leaves-chlorosis_0P_jpeg.rf.09538396ed86885a6b1117c6fcaadf06.jpg  \n",
            "  inflating: /content/cannabis-health-diagnosis/data/train/Sulfur Deficiency/sulfur-deficiency-weed-yellow-leaves-chlorosis_0P_jpeg.rf.2a6af24229ffc7f5a48be86989115d74.jpg  \n",
            "  inflating: /content/cannabis-health-diagnosis/data/train/Sulfur Deficiency/sulfur-deficiency-weed-yellow-leaves-chlorosis_0P_jpeg.rf.d30a408c1ea86ce50f49ee5b7f89bdc1.jpg  \n",
            "  inflating: /content/cannabis-health-diagnosis/data/train/Sulfur Deficiency/sulfur-deficiency-weed-yellow-leaves-chlorosis_0P_jpeg.rf.e3e82b5775e884987423c1c4bb58eb3b.jpg  \n",
            "  inflating: /content/cannabis-health-diagnosis/data/train/Sulfur Deficiency/sulfur-deficiency-weed-yellow-leaves-chlorosis_0P_jpeg.rf.fb20b3af6abb2f838b7f46dd0adca3e4.jpg  \n",
            "  inflating: /content/cannabis-health-diagnosis/data/train/Sulfur Deficiency/sulfur-deficiency-weed-yellow-leaves-chlorosis_5S_png.rf.1b414944c33f51a2fe27ccd75797438a.jpg  \n",
            "  inflating: /content/cannabis-health-diagnosis/data/train/Sulfur Deficiency/sulfur-deficiency-weed-yellow-leaves-chlorosis_5S_png.rf.a9286749bdf8c03294747b380fa8c70d.jpg  \n",
            "  inflating: /content/cannabis-health-diagnosis/data/train/Sulfur Deficiency/sulfur-deficiency-weed-yellow-leaves-chlorosis_5S_png.rf.d260a1d1425f4f098724e4ae7d263b16.jpg  \n",
            "  inflating: /content/cannabis-health-diagnosis/data/train/Sulfur Deficiency/sulfur-deficiency-weed-yellow-leaves-chlorosis_5S_png.rf.da5c570467dbee472ecb4d539328fda1.jpg  \n",
            "  inflating: /content/cannabis-health-diagnosis/data/train/Sulfur Deficiency/sulfur-deficiency-weed-yellow-leaves-chlorosis_5S_png.rf.db075b7be148d0a8042f69720ed0b67e.jpg  \n",
            "  inflating: /content/cannabis-health-diagnosis/data/train/Sulfur Deficiency/sulfur-deficiency-weed-yellow-leaves-chlorosis_ER_png.rf.2b46d5a838ec827004816cf8fe5f7738.jpg  \n",
            "  inflating: /content/cannabis-health-diagnosis/data/train/Sulfur Deficiency/sulfur-deficiency-weed-yellow-leaves-chlorosis_ER_png.rf.55169010d04387878f94a32acaa9b360.jpg  \n",
            "  inflating: /content/cannabis-health-diagnosis/data/train/Sulfur Deficiency/sulfur-deficiency-weed-yellow-leaves-chlorosis_ER_png.rf.607705246a162841c393b3f7ab4b19d3.jpg  \n",
            "  inflating: /content/cannabis-health-diagnosis/data/train/Sulfur Deficiency/sulfur-deficiency-weed-yellow-leaves-chlorosis_ER_png.rf.84af00ddd6f0b286b433272220c45de1.jpg  \n",
            "  inflating: /content/cannabis-health-diagnosis/data/train/Sulfur Deficiency/sulfur-deficiency-weed-yellow-leaves-chlorosis_ER_png.rf.e33cdc2dbfee4434ad4c2dae53ff869e.jpg  \n",
            "  inflating: /content/cannabis-health-diagnosis/data/train/Sulfur Deficiency/sulfur-deficiency-weed-yellow-leaves-chlorosis_HM_png.rf.132c12ce693209b4daf0007b0b656289.jpg  \n",
            "  inflating: /content/cannabis-health-diagnosis/data/train/Sulfur Deficiency/sulfur-deficiency-weed-yellow-leaves-chlorosis_HM_png.rf.2044c89982d784cb4aff8e2a66142a64.jpg  \n",
            "  inflating: /content/cannabis-health-diagnosis/data/train/Sulfur Deficiency/sulfur-deficiency-weed-yellow-leaves-chlorosis_HM_png.rf.525e14a70627555632e5dd99e02e4137.jpg  \n",
            "  inflating: /content/cannabis-health-diagnosis/data/train/Sulfur Deficiency/sulfur-deficiency-weed-yellow-leaves-chlorosis_HM_png.rf.8c3f60553006f84a4208f98f02b71133.jpg  \n",
            "  inflating: /content/cannabis-health-diagnosis/data/train/Sulfur Deficiency/sulfur-deficiency-weed-yellow-leaves-chlorosis_HM_png.rf.b754ee96f32570d60e27a7e6dbe03951.jpg  \n",
            "  inflating: /content/cannabis-health-diagnosis/data/train/Sulfur Deficiency/sulfur-deficiency-weed-yellow-leaves-chlorosis_RL_png.rf.212c229bb7798f9415631227b8dc2c9a.jpg  \n",
            "  inflating: /content/cannabis-health-diagnosis/data/train/Sulfur Deficiency/sulfur-deficiency-weed-yellow-leaves-chlorosis_RL_png.rf.2d1a8a2e55a613d1cca14c9bf200a15d.jpg  \n",
            "  inflating: /content/cannabis-health-diagnosis/data/train/Sulfur Deficiency/sulfur-deficiency-weed-yellow-leaves-chlorosis_RL_png.rf.743f65a1aaef01031201e30b0faf2288.jpg  \n",
            "  inflating: /content/cannabis-health-diagnosis/data/train/Sulfur Deficiency/sulfur-deficiency-weed-yellow-leaves-chlorosis_RL_png.rf.b5e355244f5c6f907831e234275f2985.jpg  \n",
            "  inflating: /content/cannabis-health-diagnosis/data/train/Sulfur Deficiency/sulfur-deficiency-weed-yellow-leaves-chlorosis_RL_png.rf.ec035fe9ff892b350dde9cccf2b2c6b2.jpg  \n",
            "  inflating: /content/cannabis-health-diagnosis/data/train/Sulfur Deficiency/sulfur-deficiency-weed-yellow-leaves-chlorosis_UF_jpeg.rf.02fbb0c5a222b7b811227e6952d23d75.jpg  \n",
            "  inflating: /content/cannabis-health-diagnosis/data/train/Sulfur Deficiency/sulfur-deficiency-weed-yellow-leaves-chlorosis_UF_jpeg.rf.0aa8dcfe13a32a6f35d9f2ac942a129b.jpg  \n",
            "  inflating: /content/cannabis-health-diagnosis/data/train/Sulfur Deficiency/sulfur-deficiency-weed-yellow-leaves-chlorosis_UF_jpeg.rf.6a60ccc9ed886796423e2221f39d4ee8.jpg  \n",
            "  inflating: /content/cannabis-health-diagnosis/data/train/Sulfur Deficiency/sulfur-deficiency-weed-yellow-leaves-chlorosis_UF_jpeg.rf.b6ac65562791ec57c6c68ce2fc23ff7e.jpg  \n",
            "  inflating: /content/cannabis-health-diagnosis/data/train/Sulfur Deficiency/sulfur-deficiency-weed-yellow-leaves-chlorosis_UF_jpeg.rf.c11eda4121f508d187d2d3eac17fb03b.jpg  \n",
            "  inflating: /content/cannabis-health-diagnosis/data/train/Sulfur Deficiency/sulfur-deficiency-weed-yellow-leaves-chlorosis_UH_png.rf.0fa3cc0ff028899599c893d9bc7403e4.jpg  \n",
            "  inflating: /content/cannabis-health-diagnosis/data/train/Sulfur Deficiency/sulfur-deficiency-weed-yellow-leaves-chlorosis_UH_png.rf.2335a1a67553b4d3c859c5571ef0b384.jpg  \n",
            "  inflating: /content/cannabis-health-diagnosis/data/train/Sulfur Deficiency/sulfur-deficiency-weed-yellow-leaves-chlorosis_UH_png.rf.52a3dca796048fbf1c013f4697359486.jpg  \n",
            "  inflating: /content/cannabis-health-diagnosis/data/train/Sulfur Deficiency/sulfur-deficiency-weed-yellow-leaves-chlorosis_UH_png.rf.b309d994b1f76259c2c5080115a525b4.jpg  \n",
            "  inflating: /content/cannabis-health-diagnosis/data/train/Sulfur Deficiency/sulfur-deficiency-weed-yellow-leaves-chlorosis_UH_png.rf.f8b77ab1352fecb0690c4397672c59b4.jpg  \n",
            "  inflating: /content/cannabis-health-diagnosis/data/train/Sulfur Deficiency/sulfur-deficiency-weed-yellow-leaves-chlorosis_XX_png.rf.2074ce8f4f235d917ccba3c04b3f48ef.jpg  \n",
            "  inflating: /content/cannabis-health-diagnosis/data/train/Sulfur Deficiency/sulfur-deficiency-weed-yellow-leaves-chlorosis_XX_png.rf.4f9a8e72e198e572ea45d53a2fefa313.jpg  \n",
            "  inflating: /content/cannabis-health-diagnosis/data/train/Sulfur Deficiency/sulfur-deficiency-weed-yellow-leaves-chlorosis_XX_png.rf.51decf82bf684c611beee0cb4cf66c1c.jpg  \n",
            "  inflating: /content/cannabis-health-diagnosis/data/train/Sulfur Deficiency/sulfur-deficiency-weed-yellow-leaves-chlorosis_XX_png.rf.7d735b93902e33f347cd0b9b58ff6001.jpg  \n",
            "  inflating: /content/cannabis-health-diagnosis/data/train/Sulfur Deficiency/sulfur-deficiency-weed-yellow-leaves-chlorosis_XX_png.rf.8a08420e7d062effac1ab3fa87158001.jpg  \n",
            "   creating: /content/cannabis-health-diagnosis/data/valid/\n",
            "   creating: /content/cannabis-health-diagnosis/data/valid/Aphids/\n",
            "  inflating: /content/cannabis-health-diagnosis/data/valid/Aphids/0e0405d4ca36bfd0836736dc2c1c7f9e_jpeg.rf.9555217be989dc9035cf28ddae3db13d.jpg  \n",
            "  inflating: /content/cannabis-health-diagnosis/data/valid/Aphids/cannabis-aphid-photo-1024x640_jpeg.rf.bf010b0a3d1ca29feb02cb2455f00471.jpg  \n",
            "  inflating: /content/cannabis-health-diagnosis/data/valid/Aphids/cannabis-marijuana-aphids-outdoor-garden-pests_DF_jpeg.rf.aebcd8fbae95c494b1353057e5d1c069.jpg  \n",
            "  inflating: /content/cannabis-health-diagnosis/data/valid/Aphids/cannabis-marijuana-aphids-outdoor-garden-pests_MF_jpeg.rf.9f6ff5992195e9a95767d07c9484ba2c.jpg  \n",
            "   creating: /content/cannabis-health-diagnosis/data/valid/Calcium Deficiency/\n",
            "  inflating: /content/cannabis-health-diagnosis/data/valid/Calcium Deficiency/cannabis-calcium-deficiency-nutrient-deficiencies-yellow-brown-spots-calmag-weed-growing-problems_1J_png.rf.24f89920be11f8f6bf0d361799a44d05.jpg  \n",
            "  inflating: /content/cannabis-health-diagnosis/data/valid/Calcium Deficiency/cannabis-calcium-deficiency-nutrient-deficiencies-yellow-brown-spots-calmag-weed-growing-problems_5Q_png.rf.07d8bfc688d066fe1b50603ee7aa31bd.jpg  \n",
            "  inflating: /content/cannabis-health-diagnosis/data/valid/Calcium Deficiency/cannabis-calcium-deficiency-nutrient-deficiencies-yellow-brown-spots-calmag-weed-growing-problems_CR_jpeg.rf.bfca96c81fd133da73fa6cb844fc1aa7.jpg  \n",
            "  inflating: /content/cannabis-health-diagnosis/data/valid/Calcium Deficiency/cannabis-calcium-deficiency-nutrient-deficiencies-yellow-brown-spots-calmag-weed-growing-problems_RT_jpeg.rf.4ed244b93f7fac41f753c6870e828fd5.jpg  \n",
            "   creating: /content/cannabis-health-diagnosis/data/valid/Healthy/\n",
            "  inflating: /content/cannabis-health-diagnosis/data/valid/Healthy/healthy_1000_F_252835935_BLNK9WY9v6H39no86cEtZZFgxvRJOwtQ.jpg  \n",
            "  inflating: /content/cannabis-health-diagnosis/data/valid/Healthy/healthy_477775313.jpg  \n",
            "   creating: /content/cannabis-health-diagnosis/data/valid/Iron Deficiency/\n",
            "  inflating: /content/cannabis-health-diagnosis/data/valid/Iron Deficiency/iron-deficiency-weed-yellow-leaves-leaf_QG_jpeg.rf.d68598a3ee8e36d2035eef171da520de.jpg  \n",
            "  inflating: /content/cannabis-health-diagnosis/data/valid/Iron Deficiency/OIP-07M8wxe9-cVmHm8QX_53AwHaFj_jpg.rf.5b3ce65fae9a5db4824fb779f6b99993.jpg  \n",
            "  inflating: /content/cannabis-health-diagnosis/data/valid/Iron Deficiency/OIP-Iu84V06BnrHMDiKXlZvNigHaFj_jpg.rf.e3dbf23dc7c25172217fa0b35fb6c48c.jpg  \n",
            "  inflating: /content/cannabis-health-diagnosis/data/valid/Iron Deficiency/PO9CYS7NK7_jpeg.rf.59b51e186092f72df174f9c56ce4e552.jpg  \n",
            "   creating: /content/cannabis-health-diagnosis/data/valid/Magnesium Deficiency/\n",
            "  inflating: /content/cannabis-health-diagnosis/data/valid/Magnesium Deficiency/mag-deficiency_jpeg.rf.2399e150aff1a1464d90ec5b315f5eaa.jpg  \n",
            "  inflating: /content/cannabis-health-diagnosis/data/valid/Magnesium Deficiency/magnesium-deficiency-cannabis-yellow-stripe-leaf-calmag_6R_jpeg.rf.69ac49e1ff568f0c7c74e031af7413c4.jpg  \n",
            "  inflating: /content/cannabis-health-diagnosis/data/valid/Magnesium Deficiency/magnesium-deficiency-cannabis-yellow-stripe-leaf-calmag_6V_jpeg.rf.92cdd66547f110a376dc6f7549d68d2e.jpg  \n",
            "   creating: /content/cannabis-health-diagnosis/data/valid/Manganese Deficiency/\n",
            "  inflating: /content/cannabis-health-diagnosis/data/valid/Manganese Deficiency/11dce0_f9b03a25c5cb4c89bd5b88bf791fc7c3mv2_png.rf.d3b1c6fdcd80484b325f11a9c18bcc35.jpg  \n",
            "  inflating: /content/cannabis-health-diagnosis/data/valid/Manganese Deficiency/OIP-6Djb8A6LziRU_p6eujBylgHaEK_jpg.rf.a9509e2fef567ca44376e3141d71d677.jpg  \n",
            "  inflating: /content/cannabis-health-diagnosis/data/valid/Manganese Deficiency/OIP-EubNTGhdOHQkmc1MsiZqCgHaFj_jpg.rf.de46db6c9098c15916a99184099da3b3.jpg  \n",
            "   creating: /content/cannabis-health-diagnosis/data/valid/Nitrogen Deficiency/\n",
            "  inflating: /content/cannabis-health-diagnosis/data/valid/Nitrogen Deficiency/nitrogen-deficiency-weed-yellow-brown-leaf-drooping-wilting_1N_jpeg.rf.946b75d4e2bc06c8636c38bf761d5b2c.jpg  \n",
            "  inflating: /content/cannabis-health-diagnosis/data/valid/Nitrogen Deficiency/nitrogen-deficiency-weed-yellow-brown-leaf-drooping-wilting_OZ_jpeg.rf.a88586605b3fe626700ed012095a7990.jpg  \n",
            "  inflating: /content/cannabis-health-diagnosis/data/valid/Nitrogen Deficiency/nitrogen-deficiency-weed-yellow-brown-leaf-drooping-wilting_UW_jpeg.rf.36dccf72f3ce560c9b8a253505199721.jpg  \n",
            "  inflating: /content/cannabis-health-diagnosis/data/valid/Nitrogen Deficiency/nitrogen-deficiency-weed-yellow-brown-leaf-drooping_6T_jpeg.rf.971058b3b7dcc616ff5e75b30c50d664.jpg  \n",
            "   creating: /content/cannabis-health-diagnosis/data/valid/PH Fluctuation/\n",
            "  inflating: /content/cannabis-health-diagnosis/data/valid/PH Fluctuation/Cannabis-weed-PH-fluctuation-brown-marks-acidic-soil-proper-ph-level-chart-marijuana-growing_CW_jpeg.rf.fc361e6e9b4a1c7ab4c50a3b6ff19204.jpg  \n",
            "  inflating: /content/cannabis-health-diagnosis/data/valid/PH Fluctuation/Cannabis-weed-PH-fluctuation-brown-marks-acidic-soil-proper-ph-level-chart-marijuana-growing_NZ_jpeg.rf.088bb01c5acff4d3fcea2c053878736f.jpg  \n",
            "   creating: /content/cannabis-health-diagnosis/data/valid/Phosphorus Deficiency/\n",
            "  inflating: /content/cannabis-health-diagnosis/data/valid/Phosphorus Deficiency/phosphorus-deficiency-cannabis-weed-dark-leaf-spots-bronze-brown-leaves_LL_jpeg.rf.09c28c4f11a4c8f100987a96ee9b11ff.jpg  \n",
            "  inflating: /content/cannabis-health-diagnosis/data/valid/Phosphorus Deficiency/phosphorus-deficiency-cannabis-weed-dark-leaf-spots-bronze-brown-leaves_RM_jpeg.rf.b51dbe4ec6a515f59c3b7108cb569b73.jpg  \n",
            "   creating: /content/cannabis-health-diagnosis/data/valid/Potassium Deficiency/\n",
            "  inflating: /content/cannabis-health-diagnosis/data/valid/Potassium Deficiency/lacking-potassium-marijuana-lower-leaves_jpeg.rf.a5250239da66febe99cf45d5418dfcb2.jpg  \n",
            "  inflating: /content/cannabis-health-diagnosis/data/valid/Potassium Deficiency/potassium-deficiency-weed-yellow-brown-edges_jpeg.rf.257d9a2014b74b7e1035825a9f8f880f.jpg  \n",
            "   creating: /content/cannabis-health-diagnosis/data/valid/Powdery Mildew/\n",
            "  inflating: /content/cannabis-health-diagnosis/data/valid/Powdery Mildew/cannabis-white-powdery-mildew-outdoor-weed-pathogen_QB_jpeg.rf.073cc78263d18008c5c13e1da31730f9.jpg  \n",
            "  inflating: /content/cannabis-health-diagnosis/data/valid/Powdery Mildew/cannabis-white-powdery-mildew-outdoor-weed-pathogen_YW_jpeg.rf.881e3cc8026b6c55997fdc90dbc1a222.jpg  \n",
            "  inflating: /content/cannabis-health-diagnosis/data/valid/Powdery Mildew/mildew-leaf-big-buds-mag_jpeg.rf.0687743a617c4f6212d4c3d9612c97d8.jpg  \n",
            "   creating: /content/cannabis-health-diagnosis/data/valid/Sulfur Deficiency/\n",
            "  inflating: /content/cannabis-health-diagnosis/data/valid/Sulfur Deficiency/sulfur-deficiency-weed-yellow-leaves-chlorosis_19_jpeg.rf.c239df14cc019fe138e42d891c526532.jpg  \n",
            "  inflating: /content/cannabis-health-diagnosis/data/valid/Sulfur Deficiency/sulfur-deficiency-weed-yellow-leaves-chlorosis_TR_png.rf.16a43acd94d60fa0f8a1037a1202522f.jpg  \n"
          ]
        }
      ]
    },
    {
      "cell_type": "code",
      "source": [
        "!ls /content/cannabis-health-diagnosis/data/"
      ],
      "metadata": {
        "colab": {
          "base_uri": "https://localhost:8080/"
        },
        "id": "iHp0pZL2TcDE",
        "outputId": "f130e5d9-a4c7-4a4e-b475-17e95f46e351"
      },
      "execution_count": 4,
      "outputs": [
        {
          "output_type": "stream",
          "name": "stdout",
          "text": [
            "test  train  valid\n"
          ]
        }
      ]
    },
    {
      "cell_type": "code",
      "source": [
        "data_dir = '/content/cannabis-health-diagnosis/data/'"
      ],
      "metadata": {
        "id": "ftKCT98qTz5i"
      },
      "execution_count": 5,
      "outputs": []
    },
    {
      "cell_type": "code",
      "source": [
        "# from google.colab import drive\n",
        "# drive.mount('/content/drive')"
      ],
      "metadata": {
        "colab": {
          "base_uri": "https://localhost:8080/"
        },
        "id": "NfHZfXScUXJT",
        "outputId": "ecf0504a-9fbb-46a9-a25a-2c86bc9df675"
      },
      "execution_count": 6,
      "outputs": [
        {
          "output_type": "stream",
          "name": "stdout",
          "text": [
            "Mounted at /content/drive\n"
          ]
        }
      ]
    },
    {
      "cell_type": "markdown",
      "source": [
        "# **Training**"
      ],
      "metadata": {
        "id": "5sb5YyFeUFM_"
      }
    },
    {
      "cell_type": "code",
      "source": [
        "from tensorflow.keras import Sequential,Input,Model\n",
        "from tensorflow.keras.layers import Dense,Dropout,GlobalAveragePooling2D,Flatten\n",
        "from tensorflow.keras.preprocessing import image # Keras own inbuild image class\n",
        "from tensorflow.keras.optimizers import Adam\n",
        "from tensorflow.keras.applications.resnet50 import ResNet50, decode_predictions, preprocess_input\n",
        "from tensorflow.keras.metrics import Precision, Recall"
      ],
      "metadata": {
        "id": "y4x-pagQU-7w"
      },
      "execution_count": 6,
      "outputs": []
    },
    {
      "cell_type": "code",
      "source": [
        "from tensorflow.keras.optimizers import Adam"
      ],
      "metadata": {
        "id": "XE4htNlET-7o"
      },
      "execution_count": 7,
      "outputs": []
    },
    {
      "cell_type": "code",
      "source": [
        "from tensorflow.keras.applications.vgg16 import VGG16\n",
        "# from tensorflow import keras as K\n",
        "import tensorflow.keras.backend as K\n",
        "K.clear_session()\n",
        "\n",
        "#1. Select the convolutional base / Pretrained network\n",
        "base_model = VGG16(include_top=False, input_shape=(416, 416, 3))"
      ],
      "metadata": {
        "id": "csFPoVjDVEDd",
        "colab": {
          "base_uri": "https://localhost:8080/"
        },
        "outputId": "1c9f9615-8802-4525-a250-7f79f5513b17"
      },
      "execution_count": 8,
      "outputs": [
        {
          "output_type": "stream",
          "name": "stdout",
          "text": [
            "Downloading data from https://storage.googleapis.com/tensorflow/keras-applications/vgg16/vgg16_weights_tf_dim_ordering_tf_kernels_notop.h5\n",
            "\u001b[1m58889256/58889256\u001b[0m \u001b[32m━━━━━━━━━━━━━━━━━━━━\u001b[0m\u001b[37m\u001b[0m \u001b[1m0s\u001b[0m 0us/step\n"
          ]
        }
      ]
    },
    {
      "cell_type": "code",
      "source": [
        "base_model.trainable= False"
      ],
      "metadata": {
        "id": "wVXDuZI6VGh-"
      },
      "execution_count": 9,
      "outputs": []
    },
    {
      "cell_type": "code",
      "source": [
        "base_model.summary()"
      ],
      "metadata": {
        "colab": {
          "base_uri": "https://localhost:8080/",
          "height": 737
        },
        "id": "T9Dfpb6NVKBu",
        "outputId": "fc8a900d-db3c-495c-ee03-77324bb40baa"
      },
      "execution_count": 10,
      "outputs": [
        {
          "output_type": "display_data",
          "data": {
            "text/plain": [
              "\u001b[1mModel: \"vgg16\"\u001b[0m\n"
            ],
            "text/html": [
              "<pre style=\"white-space:pre;overflow-x:auto;line-height:normal;font-family:Menlo,'DejaVu Sans Mono',consolas,'Courier New',monospace\"><span style=\"font-weight: bold\">Model: \"vgg16\"</span>\n",
              "</pre>\n"
            ]
          },
          "metadata": {}
        },
        {
          "output_type": "display_data",
          "data": {
            "text/plain": [
              "┏━━━━━━━━━━━━━━━━━━━━━━━━━━━━━━━━━━━━━━┳━━━━━━━━━━━━━━━━━━━━━━━━━━━━━┳━━━━━━━━━━━━━━━━━┓\n",
              "┃\u001b[1m \u001b[0m\u001b[1mLayer (type)                        \u001b[0m\u001b[1m \u001b[0m┃\u001b[1m \u001b[0m\u001b[1mOutput Shape               \u001b[0m\u001b[1m \u001b[0m┃\u001b[1m \u001b[0m\u001b[1m        Param #\u001b[0m\u001b[1m \u001b[0m┃\n",
              "┡━━━━━━━━━━━━━━━━━━━━━━━━━━━━━━━━━━━━━━╇━━━━━━━━━━━━━━━━━━━━━━━━━━━━━╇━━━━━━━━━━━━━━━━━┩\n",
              "│ input_layer (\u001b[38;5;33mInputLayer\u001b[0m)             │ (\u001b[38;5;45mNone\u001b[0m, \u001b[38;5;34m416\u001b[0m, \u001b[38;5;34m416\u001b[0m, \u001b[38;5;34m3\u001b[0m)         │               \u001b[38;5;34m0\u001b[0m │\n",
              "├──────────────────────────────────────┼─────────────────────────────┼─────────────────┤\n",
              "│ block1_conv1 (\u001b[38;5;33mConv2D\u001b[0m)                │ (\u001b[38;5;45mNone\u001b[0m, \u001b[38;5;34m416\u001b[0m, \u001b[38;5;34m416\u001b[0m, \u001b[38;5;34m64\u001b[0m)        │           \u001b[38;5;34m1,792\u001b[0m │\n",
              "├──────────────────────────────────────┼─────────────────────────────┼─────────────────┤\n",
              "│ block1_conv2 (\u001b[38;5;33mConv2D\u001b[0m)                │ (\u001b[38;5;45mNone\u001b[0m, \u001b[38;5;34m416\u001b[0m, \u001b[38;5;34m416\u001b[0m, \u001b[38;5;34m64\u001b[0m)        │          \u001b[38;5;34m36,928\u001b[0m │\n",
              "├──────────────────────────────────────┼─────────────────────────────┼─────────────────┤\n",
              "│ block1_pool (\u001b[38;5;33mMaxPooling2D\u001b[0m)           │ (\u001b[38;5;45mNone\u001b[0m, \u001b[38;5;34m208\u001b[0m, \u001b[38;5;34m208\u001b[0m, \u001b[38;5;34m64\u001b[0m)        │               \u001b[38;5;34m0\u001b[0m │\n",
              "├──────────────────────────────────────┼─────────────────────────────┼─────────────────┤\n",
              "│ block2_conv1 (\u001b[38;5;33mConv2D\u001b[0m)                │ (\u001b[38;5;45mNone\u001b[0m, \u001b[38;5;34m208\u001b[0m, \u001b[38;5;34m208\u001b[0m, \u001b[38;5;34m128\u001b[0m)       │          \u001b[38;5;34m73,856\u001b[0m │\n",
              "├──────────────────────────────────────┼─────────────────────────────┼─────────────────┤\n",
              "│ block2_conv2 (\u001b[38;5;33mConv2D\u001b[0m)                │ (\u001b[38;5;45mNone\u001b[0m, \u001b[38;5;34m208\u001b[0m, \u001b[38;5;34m208\u001b[0m, \u001b[38;5;34m128\u001b[0m)       │         \u001b[38;5;34m147,584\u001b[0m │\n",
              "├──────────────────────────────────────┼─────────────────────────────┼─────────────────┤\n",
              "│ block2_pool (\u001b[38;5;33mMaxPooling2D\u001b[0m)           │ (\u001b[38;5;45mNone\u001b[0m, \u001b[38;5;34m104\u001b[0m, \u001b[38;5;34m104\u001b[0m, \u001b[38;5;34m128\u001b[0m)       │               \u001b[38;5;34m0\u001b[0m │\n",
              "├──────────────────────────────────────┼─────────────────────────────┼─────────────────┤\n",
              "│ block3_conv1 (\u001b[38;5;33mConv2D\u001b[0m)                │ (\u001b[38;5;45mNone\u001b[0m, \u001b[38;5;34m104\u001b[0m, \u001b[38;5;34m104\u001b[0m, \u001b[38;5;34m256\u001b[0m)       │         \u001b[38;5;34m295,168\u001b[0m │\n",
              "├──────────────────────────────────────┼─────────────────────────────┼─────────────────┤\n",
              "│ block3_conv2 (\u001b[38;5;33mConv2D\u001b[0m)                │ (\u001b[38;5;45mNone\u001b[0m, \u001b[38;5;34m104\u001b[0m, \u001b[38;5;34m104\u001b[0m, \u001b[38;5;34m256\u001b[0m)       │         \u001b[38;5;34m590,080\u001b[0m │\n",
              "├──────────────────────────────────────┼─────────────────────────────┼─────────────────┤\n",
              "│ block3_conv3 (\u001b[38;5;33mConv2D\u001b[0m)                │ (\u001b[38;5;45mNone\u001b[0m, \u001b[38;5;34m104\u001b[0m, \u001b[38;5;34m104\u001b[0m, \u001b[38;5;34m256\u001b[0m)       │         \u001b[38;5;34m590,080\u001b[0m │\n",
              "├──────────────────────────────────────┼─────────────────────────────┼─────────────────┤\n",
              "│ block3_pool (\u001b[38;5;33mMaxPooling2D\u001b[0m)           │ (\u001b[38;5;45mNone\u001b[0m, \u001b[38;5;34m52\u001b[0m, \u001b[38;5;34m52\u001b[0m, \u001b[38;5;34m256\u001b[0m)         │               \u001b[38;5;34m0\u001b[0m │\n",
              "├──────────────────────────────────────┼─────────────────────────────┼─────────────────┤\n",
              "│ block4_conv1 (\u001b[38;5;33mConv2D\u001b[0m)                │ (\u001b[38;5;45mNone\u001b[0m, \u001b[38;5;34m52\u001b[0m, \u001b[38;5;34m52\u001b[0m, \u001b[38;5;34m512\u001b[0m)         │       \u001b[38;5;34m1,180,160\u001b[0m │\n",
              "├──────────────────────────────────────┼─────────────────────────────┼─────────────────┤\n",
              "│ block4_conv2 (\u001b[38;5;33mConv2D\u001b[0m)                │ (\u001b[38;5;45mNone\u001b[0m, \u001b[38;5;34m52\u001b[0m, \u001b[38;5;34m52\u001b[0m, \u001b[38;5;34m512\u001b[0m)         │       \u001b[38;5;34m2,359,808\u001b[0m │\n",
              "├──────────────────────────────────────┼─────────────────────────────┼─────────────────┤\n",
              "│ block4_conv3 (\u001b[38;5;33mConv2D\u001b[0m)                │ (\u001b[38;5;45mNone\u001b[0m, \u001b[38;5;34m52\u001b[0m, \u001b[38;5;34m52\u001b[0m, \u001b[38;5;34m512\u001b[0m)         │       \u001b[38;5;34m2,359,808\u001b[0m │\n",
              "├──────────────────────────────────────┼─────────────────────────────┼─────────────────┤\n",
              "│ block4_pool (\u001b[38;5;33mMaxPooling2D\u001b[0m)           │ (\u001b[38;5;45mNone\u001b[0m, \u001b[38;5;34m26\u001b[0m, \u001b[38;5;34m26\u001b[0m, \u001b[38;5;34m512\u001b[0m)         │               \u001b[38;5;34m0\u001b[0m │\n",
              "├──────────────────────────────────────┼─────────────────────────────┼─────────────────┤\n",
              "│ block5_conv1 (\u001b[38;5;33mConv2D\u001b[0m)                │ (\u001b[38;5;45mNone\u001b[0m, \u001b[38;5;34m26\u001b[0m, \u001b[38;5;34m26\u001b[0m, \u001b[38;5;34m512\u001b[0m)         │       \u001b[38;5;34m2,359,808\u001b[0m │\n",
              "├──────────────────────────────────────┼─────────────────────────────┼─────────────────┤\n",
              "│ block5_conv2 (\u001b[38;5;33mConv2D\u001b[0m)                │ (\u001b[38;5;45mNone\u001b[0m, \u001b[38;5;34m26\u001b[0m, \u001b[38;5;34m26\u001b[0m, \u001b[38;5;34m512\u001b[0m)         │       \u001b[38;5;34m2,359,808\u001b[0m │\n",
              "├──────────────────────────────────────┼─────────────────────────────┼─────────────────┤\n",
              "│ block5_conv3 (\u001b[38;5;33mConv2D\u001b[0m)                │ (\u001b[38;5;45mNone\u001b[0m, \u001b[38;5;34m26\u001b[0m, \u001b[38;5;34m26\u001b[0m, \u001b[38;5;34m512\u001b[0m)         │       \u001b[38;5;34m2,359,808\u001b[0m │\n",
              "├──────────────────────────────────────┼─────────────────────────────┼─────────────────┤\n",
              "│ block5_pool (\u001b[38;5;33mMaxPooling2D\u001b[0m)           │ (\u001b[38;5;45mNone\u001b[0m, \u001b[38;5;34m13\u001b[0m, \u001b[38;5;34m13\u001b[0m, \u001b[38;5;34m512\u001b[0m)         │               \u001b[38;5;34m0\u001b[0m │\n",
              "└──────────────────────────────────────┴─────────────────────────────┴─────────────────┘\n"
            ],
            "text/html": [
              "<pre style=\"white-space:pre;overflow-x:auto;line-height:normal;font-family:Menlo,'DejaVu Sans Mono',consolas,'Courier New',monospace\">┏━━━━━━━━━━━━━━━━━━━━━━━━━━━━━━━━━━━━━━┳━━━━━━━━━━━━━━━━━━━━━━━━━━━━━┳━━━━━━━━━━━━━━━━━┓\n",
              "┃<span style=\"font-weight: bold\"> Layer (type)                         </span>┃<span style=\"font-weight: bold\"> Output Shape                </span>┃<span style=\"font-weight: bold\">         Param # </span>┃\n",
              "┡━━━━━━━━━━━━━━━━━━━━━━━━━━━━━━━━━━━━━━╇━━━━━━━━━━━━━━━━━━━━━━━━━━━━━╇━━━━━━━━━━━━━━━━━┩\n",
              "│ input_layer (<span style=\"color: #0087ff; text-decoration-color: #0087ff\">InputLayer</span>)             │ (<span style=\"color: #00d7ff; text-decoration-color: #00d7ff\">None</span>, <span style=\"color: #00af00; text-decoration-color: #00af00\">416</span>, <span style=\"color: #00af00; text-decoration-color: #00af00\">416</span>, <span style=\"color: #00af00; text-decoration-color: #00af00\">3</span>)         │               <span style=\"color: #00af00; text-decoration-color: #00af00\">0</span> │\n",
              "├──────────────────────────────────────┼─────────────────────────────┼─────────────────┤\n",
              "│ block1_conv1 (<span style=\"color: #0087ff; text-decoration-color: #0087ff\">Conv2D</span>)                │ (<span style=\"color: #00d7ff; text-decoration-color: #00d7ff\">None</span>, <span style=\"color: #00af00; text-decoration-color: #00af00\">416</span>, <span style=\"color: #00af00; text-decoration-color: #00af00\">416</span>, <span style=\"color: #00af00; text-decoration-color: #00af00\">64</span>)        │           <span style=\"color: #00af00; text-decoration-color: #00af00\">1,792</span> │\n",
              "├──────────────────────────────────────┼─────────────────────────────┼─────────────────┤\n",
              "│ block1_conv2 (<span style=\"color: #0087ff; text-decoration-color: #0087ff\">Conv2D</span>)                │ (<span style=\"color: #00d7ff; text-decoration-color: #00d7ff\">None</span>, <span style=\"color: #00af00; text-decoration-color: #00af00\">416</span>, <span style=\"color: #00af00; text-decoration-color: #00af00\">416</span>, <span style=\"color: #00af00; text-decoration-color: #00af00\">64</span>)        │          <span style=\"color: #00af00; text-decoration-color: #00af00\">36,928</span> │\n",
              "├──────────────────────────────────────┼─────────────────────────────┼─────────────────┤\n",
              "│ block1_pool (<span style=\"color: #0087ff; text-decoration-color: #0087ff\">MaxPooling2D</span>)           │ (<span style=\"color: #00d7ff; text-decoration-color: #00d7ff\">None</span>, <span style=\"color: #00af00; text-decoration-color: #00af00\">208</span>, <span style=\"color: #00af00; text-decoration-color: #00af00\">208</span>, <span style=\"color: #00af00; text-decoration-color: #00af00\">64</span>)        │               <span style=\"color: #00af00; text-decoration-color: #00af00\">0</span> │\n",
              "├──────────────────────────────────────┼─────────────────────────────┼─────────────────┤\n",
              "│ block2_conv1 (<span style=\"color: #0087ff; text-decoration-color: #0087ff\">Conv2D</span>)                │ (<span style=\"color: #00d7ff; text-decoration-color: #00d7ff\">None</span>, <span style=\"color: #00af00; text-decoration-color: #00af00\">208</span>, <span style=\"color: #00af00; text-decoration-color: #00af00\">208</span>, <span style=\"color: #00af00; text-decoration-color: #00af00\">128</span>)       │          <span style=\"color: #00af00; text-decoration-color: #00af00\">73,856</span> │\n",
              "├──────────────────────────────────────┼─────────────────────────────┼─────────────────┤\n",
              "│ block2_conv2 (<span style=\"color: #0087ff; text-decoration-color: #0087ff\">Conv2D</span>)                │ (<span style=\"color: #00d7ff; text-decoration-color: #00d7ff\">None</span>, <span style=\"color: #00af00; text-decoration-color: #00af00\">208</span>, <span style=\"color: #00af00; text-decoration-color: #00af00\">208</span>, <span style=\"color: #00af00; text-decoration-color: #00af00\">128</span>)       │         <span style=\"color: #00af00; text-decoration-color: #00af00\">147,584</span> │\n",
              "├──────────────────────────────────────┼─────────────────────────────┼─────────────────┤\n",
              "│ block2_pool (<span style=\"color: #0087ff; text-decoration-color: #0087ff\">MaxPooling2D</span>)           │ (<span style=\"color: #00d7ff; text-decoration-color: #00d7ff\">None</span>, <span style=\"color: #00af00; text-decoration-color: #00af00\">104</span>, <span style=\"color: #00af00; text-decoration-color: #00af00\">104</span>, <span style=\"color: #00af00; text-decoration-color: #00af00\">128</span>)       │               <span style=\"color: #00af00; text-decoration-color: #00af00\">0</span> │\n",
              "├──────────────────────────────────────┼─────────────────────────────┼─────────────────┤\n",
              "│ block3_conv1 (<span style=\"color: #0087ff; text-decoration-color: #0087ff\">Conv2D</span>)                │ (<span style=\"color: #00d7ff; text-decoration-color: #00d7ff\">None</span>, <span style=\"color: #00af00; text-decoration-color: #00af00\">104</span>, <span style=\"color: #00af00; text-decoration-color: #00af00\">104</span>, <span style=\"color: #00af00; text-decoration-color: #00af00\">256</span>)       │         <span style=\"color: #00af00; text-decoration-color: #00af00\">295,168</span> │\n",
              "├──────────────────────────────────────┼─────────────────────────────┼─────────────────┤\n",
              "│ block3_conv2 (<span style=\"color: #0087ff; text-decoration-color: #0087ff\">Conv2D</span>)                │ (<span style=\"color: #00d7ff; text-decoration-color: #00d7ff\">None</span>, <span style=\"color: #00af00; text-decoration-color: #00af00\">104</span>, <span style=\"color: #00af00; text-decoration-color: #00af00\">104</span>, <span style=\"color: #00af00; text-decoration-color: #00af00\">256</span>)       │         <span style=\"color: #00af00; text-decoration-color: #00af00\">590,080</span> │\n",
              "├──────────────────────────────────────┼─────────────────────────────┼─────────────────┤\n",
              "│ block3_conv3 (<span style=\"color: #0087ff; text-decoration-color: #0087ff\">Conv2D</span>)                │ (<span style=\"color: #00d7ff; text-decoration-color: #00d7ff\">None</span>, <span style=\"color: #00af00; text-decoration-color: #00af00\">104</span>, <span style=\"color: #00af00; text-decoration-color: #00af00\">104</span>, <span style=\"color: #00af00; text-decoration-color: #00af00\">256</span>)       │         <span style=\"color: #00af00; text-decoration-color: #00af00\">590,080</span> │\n",
              "├──────────────────────────────────────┼─────────────────────────────┼─────────────────┤\n",
              "│ block3_pool (<span style=\"color: #0087ff; text-decoration-color: #0087ff\">MaxPooling2D</span>)           │ (<span style=\"color: #00d7ff; text-decoration-color: #00d7ff\">None</span>, <span style=\"color: #00af00; text-decoration-color: #00af00\">52</span>, <span style=\"color: #00af00; text-decoration-color: #00af00\">52</span>, <span style=\"color: #00af00; text-decoration-color: #00af00\">256</span>)         │               <span style=\"color: #00af00; text-decoration-color: #00af00\">0</span> │\n",
              "├──────────────────────────────────────┼─────────────────────────────┼─────────────────┤\n",
              "│ block4_conv1 (<span style=\"color: #0087ff; text-decoration-color: #0087ff\">Conv2D</span>)                │ (<span style=\"color: #00d7ff; text-decoration-color: #00d7ff\">None</span>, <span style=\"color: #00af00; text-decoration-color: #00af00\">52</span>, <span style=\"color: #00af00; text-decoration-color: #00af00\">52</span>, <span style=\"color: #00af00; text-decoration-color: #00af00\">512</span>)         │       <span style=\"color: #00af00; text-decoration-color: #00af00\">1,180,160</span> │\n",
              "├──────────────────────────────────────┼─────────────────────────────┼─────────────────┤\n",
              "│ block4_conv2 (<span style=\"color: #0087ff; text-decoration-color: #0087ff\">Conv2D</span>)                │ (<span style=\"color: #00d7ff; text-decoration-color: #00d7ff\">None</span>, <span style=\"color: #00af00; text-decoration-color: #00af00\">52</span>, <span style=\"color: #00af00; text-decoration-color: #00af00\">52</span>, <span style=\"color: #00af00; text-decoration-color: #00af00\">512</span>)         │       <span style=\"color: #00af00; text-decoration-color: #00af00\">2,359,808</span> │\n",
              "├──────────────────────────────────────┼─────────────────────────────┼─────────────────┤\n",
              "│ block4_conv3 (<span style=\"color: #0087ff; text-decoration-color: #0087ff\">Conv2D</span>)                │ (<span style=\"color: #00d7ff; text-decoration-color: #00d7ff\">None</span>, <span style=\"color: #00af00; text-decoration-color: #00af00\">52</span>, <span style=\"color: #00af00; text-decoration-color: #00af00\">52</span>, <span style=\"color: #00af00; text-decoration-color: #00af00\">512</span>)         │       <span style=\"color: #00af00; text-decoration-color: #00af00\">2,359,808</span> │\n",
              "├──────────────────────────────────────┼─────────────────────────────┼─────────────────┤\n",
              "│ block4_pool (<span style=\"color: #0087ff; text-decoration-color: #0087ff\">MaxPooling2D</span>)           │ (<span style=\"color: #00d7ff; text-decoration-color: #00d7ff\">None</span>, <span style=\"color: #00af00; text-decoration-color: #00af00\">26</span>, <span style=\"color: #00af00; text-decoration-color: #00af00\">26</span>, <span style=\"color: #00af00; text-decoration-color: #00af00\">512</span>)         │               <span style=\"color: #00af00; text-decoration-color: #00af00\">0</span> │\n",
              "├──────────────────────────────────────┼─────────────────────────────┼─────────────────┤\n",
              "│ block5_conv1 (<span style=\"color: #0087ff; text-decoration-color: #0087ff\">Conv2D</span>)                │ (<span style=\"color: #00d7ff; text-decoration-color: #00d7ff\">None</span>, <span style=\"color: #00af00; text-decoration-color: #00af00\">26</span>, <span style=\"color: #00af00; text-decoration-color: #00af00\">26</span>, <span style=\"color: #00af00; text-decoration-color: #00af00\">512</span>)         │       <span style=\"color: #00af00; text-decoration-color: #00af00\">2,359,808</span> │\n",
              "├──────────────────────────────────────┼─────────────────────────────┼─────────────────┤\n",
              "│ block5_conv2 (<span style=\"color: #0087ff; text-decoration-color: #0087ff\">Conv2D</span>)                │ (<span style=\"color: #00d7ff; text-decoration-color: #00d7ff\">None</span>, <span style=\"color: #00af00; text-decoration-color: #00af00\">26</span>, <span style=\"color: #00af00; text-decoration-color: #00af00\">26</span>, <span style=\"color: #00af00; text-decoration-color: #00af00\">512</span>)         │       <span style=\"color: #00af00; text-decoration-color: #00af00\">2,359,808</span> │\n",
              "├──────────────────────────────────────┼─────────────────────────────┼─────────────────┤\n",
              "│ block5_conv3 (<span style=\"color: #0087ff; text-decoration-color: #0087ff\">Conv2D</span>)                │ (<span style=\"color: #00d7ff; text-decoration-color: #00d7ff\">None</span>, <span style=\"color: #00af00; text-decoration-color: #00af00\">26</span>, <span style=\"color: #00af00; text-decoration-color: #00af00\">26</span>, <span style=\"color: #00af00; text-decoration-color: #00af00\">512</span>)         │       <span style=\"color: #00af00; text-decoration-color: #00af00\">2,359,808</span> │\n",
              "├──────────────────────────────────────┼─────────────────────────────┼─────────────────┤\n",
              "│ block5_pool (<span style=\"color: #0087ff; text-decoration-color: #0087ff\">MaxPooling2D</span>)           │ (<span style=\"color: #00d7ff; text-decoration-color: #00d7ff\">None</span>, <span style=\"color: #00af00; text-decoration-color: #00af00\">13</span>, <span style=\"color: #00af00; text-decoration-color: #00af00\">13</span>, <span style=\"color: #00af00; text-decoration-color: #00af00\">512</span>)         │               <span style=\"color: #00af00; text-decoration-color: #00af00\">0</span> │\n",
              "└──────────────────────────────────────┴─────────────────────────────┴─────────────────┘\n",
              "</pre>\n"
            ]
          },
          "metadata": {}
        },
        {
          "output_type": "display_data",
          "data": {
            "text/plain": [
              "\u001b[1m Total params: \u001b[0m\u001b[38;5;34m14,714,688\u001b[0m (56.13 MB)\n"
            ],
            "text/html": [
              "<pre style=\"white-space:pre;overflow-x:auto;line-height:normal;font-family:Menlo,'DejaVu Sans Mono',consolas,'Courier New',monospace\"><span style=\"font-weight: bold\"> Total params: </span><span style=\"color: #00af00; text-decoration-color: #00af00\">14,714,688</span> (56.13 MB)\n",
              "</pre>\n"
            ]
          },
          "metadata": {}
        },
        {
          "output_type": "display_data",
          "data": {
            "text/plain": [
              "\u001b[1m Trainable params: \u001b[0m\u001b[38;5;34m0\u001b[0m (0.00 B)\n"
            ],
            "text/html": [
              "<pre style=\"white-space:pre;overflow-x:auto;line-height:normal;font-family:Menlo,'DejaVu Sans Mono',consolas,'Courier New',monospace\"><span style=\"font-weight: bold\"> Trainable params: </span><span style=\"color: #00af00; text-decoration-color: #00af00\">0</span> (0.00 B)\n",
              "</pre>\n"
            ]
          },
          "metadata": {}
        },
        {
          "output_type": "display_data",
          "data": {
            "text/plain": [
              "\u001b[1m Non-trainable params: \u001b[0m\u001b[38;5;34m14,714,688\u001b[0m (56.13 MB)\n"
            ],
            "text/html": [
              "<pre style=\"white-space:pre;overflow-x:auto;line-height:normal;font-family:Menlo,'DejaVu Sans Mono',consolas,'Courier New',monospace\"><span style=\"font-weight: bold\"> Non-trainable params: </span><span style=\"color: #00af00; text-decoration-color: #00af00\">14,714,688</span> (56.13 MB)\n",
              "</pre>\n"
            ]
          },
          "metadata": {}
        }
      ]
    },
    {
      "cell_type": "code",
      "source": [
        "inputs = Input(shape=(416,416,3))\n",
        "\n",
        "base = base_model(inputs)\n",
        "\n",
        "flatten = Flatten()(base)\n",
        "\n",
        "outputs = Dense(12,activation='softmax')(flatten)\n",
        "\n",
        "model_tf = Model(inputs,outputs)"
      ],
      "metadata": {
        "id": "CiQ5djz6VPbp"
      },
      "execution_count": 26,
      "outputs": []
    },
    {
      "cell_type": "code",
      "source": [
        "model_tf.summary()"
      ],
      "metadata": {
        "colab": {
          "base_uri": "https://localhost:8080/",
          "height": 257
        },
        "id": "k0Z_bKJCVSsS",
        "outputId": "f683a1b2-cffa-40ca-8e46-1f46d468805c"
      },
      "execution_count": 27,
      "outputs": [
        {
          "output_type": "display_data",
          "data": {
            "text/plain": [
              "\u001b[1mModel: \"functional_1\"\u001b[0m\n"
            ],
            "text/html": [
              "<pre style=\"white-space:pre;overflow-x:auto;line-height:normal;font-family:Menlo,'DejaVu Sans Mono',consolas,'Courier New',monospace\"><span style=\"font-weight: bold\">Model: \"functional_1\"</span>\n",
              "</pre>\n"
            ]
          },
          "metadata": {}
        },
        {
          "output_type": "display_data",
          "data": {
            "text/plain": [
              "┏━━━━━━━━━━━━━━━━━━━━━━━━━━━━━━━━━━━━━━┳━━━━━━━━━━━━━━━━━━━━━━━━━━━━━┳━━━━━━━━━━━━━━━━━┓\n",
              "┃\u001b[1m \u001b[0m\u001b[1mLayer (type)                        \u001b[0m\u001b[1m \u001b[0m┃\u001b[1m \u001b[0m\u001b[1mOutput Shape               \u001b[0m\u001b[1m \u001b[0m┃\u001b[1m \u001b[0m\u001b[1m        Param #\u001b[0m\u001b[1m \u001b[0m┃\n",
              "┡━━━━━━━━━━━━━━━━━━━━━━━━━━━━━━━━━━━━━━╇━━━━━━━━━━━━━━━━━━━━━━━━━━━━━╇━━━━━━━━━━━━━━━━━┩\n",
              "│ input_layer_2 (\u001b[38;5;33mInputLayer\u001b[0m)           │ (\u001b[38;5;45mNone\u001b[0m, \u001b[38;5;34m416\u001b[0m, \u001b[38;5;34m416\u001b[0m, \u001b[38;5;34m3\u001b[0m)         │               \u001b[38;5;34m0\u001b[0m │\n",
              "├──────────────────────────────────────┼─────────────────────────────┼─────────────────┤\n",
              "│ vgg16 (\u001b[38;5;33mFunctional\u001b[0m)                   │ (\u001b[38;5;45mNone\u001b[0m, \u001b[38;5;34m13\u001b[0m, \u001b[38;5;34m13\u001b[0m, \u001b[38;5;34m512\u001b[0m)         │      \u001b[38;5;34m14,714,688\u001b[0m │\n",
              "├──────────────────────────────────────┼─────────────────────────────┼─────────────────┤\n",
              "│ flatten_1 (\u001b[38;5;33mFlatten\u001b[0m)                  │ (\u001b[38;5;45mNone\u001b[0m, \u001b[38;5;34m86528\u001b[0m)               │               \u001b[38;5;34m0\u001b[0m │\n",
              "├──────────────────────────────────────┼─────────────────────────────┼─────────────────┤\n",
              "│ dense_1 (\u001b[38;5;33mDense\u001b[0m)                      │ (\u001b[38;5;45mNone\u001b[0m, \u001b[38;5;34m12\u001b[0m)                  │       \u001b[38;5;34m1,038,348\u001b[0m │\n",
              "└──────────────────────────────────────┴─────────────────────────────┴─────────────────┘\n"
            ],
            "text/html": [
              "<pre style=\"white-space:pre;overflow-x:auto;line-height:normal;font-family:Menlo,'DejaVu Sans Mono',consolas,'Courier New',monospace\">┏━━━━━━━━━━━━━━━━━━━━━━━━━━━━━━━━━━━━━━┳━━━━━━━━━━━━━━━━━━━━━━━━━━━━━┳━━━━━━━━━━━━━━━━━┓\n",
              "┃<span style=\"font-weight: bold\"> Layer (type)                         </span>┃<span style=\"font-weight: bold\"> Output Shape                </span>┃<span style=\"font-weight: bold\">         Param # </span>┃\n",
              "┡━━━━━━━━━━━━━━━━━━━━━━━━━━━━━━━━━━━━━━╇━━━━━━━━━━━━━━━━━━━━━━━━━━━━━╇━━━━━━━━━━━━━━━━━┩\n",
              "│ input_layer_2 (<span style=\"color: #0087ff; text-decoration-color: #0087ff\">InputLayer</span>)           │ (<span style=\"color: #00d7ff; text-decoration-color: #00d7ff\">None</span>, <span style=\"color: #00af00; text-decoration-color: #00af00\">416</span>, <span style=\"color: #00af00; text-decoration-color: #00af00\">416</span>, <span style=\"color: #00af00; text-decoration-color: #00af00\">3</span>)         │               <span style=\"color: #00af00; text-decoration-color: #00af00\">0</span> │\n",
              "├──────────────────────────────────────┼─────────────────────────────┼─────────────────┤\n",
              "│ vgg16 (<span style=\"color: #0087ff; text-decoration-color: #0087ff\">Functional</span>)                   │ (<span style=\"color: #00d7ff; text-decoration-color: #00d7ff\">None</span>, <span style=\"color: #00af00; text-decoration-color: #00af00\">13</span>, <span style=\"color: #00af00; text-decoration-color: #00af00\">13</span>, <span style=\"color: #00af00; text-decoration-color: #00af00\">512</span>)         │      <span style=\"color: #00af00; text-decoration-color: #00af00\">14,714,688</span> │\n",
              "├──────────────────────────────────────┼─────────────────────────────┼─────────────────┤\n",
              "│ flatten_1 (<span style=\"color: #0087ff; text-decoration-color: #0087ff\">Flatten</span>)                  │ (<span style=\"color: #00d7ff; text-decoration-color: #00d7ff\">None</span>, <span style=\"color: #00af00; text-decoration-color: #00af00\">86528</span>)               │               <span style=\"color: #00af00; text-decoration-color: #00af00\">0</span> │\n",
              "├──────────────────────────────────────┼─────────────────────────────┼─────────────────┤\n",
              "│ dense_1 (<span style=\"color: #0087ff; text-decoration-color: #0087ff\">Dense</span>)                      │ (<span style=\"color: #00d7ff; text-decoration-color: #00d7ff\">None</span>, <span style=\"color: #00af00; text-decoration-color: #00af00\">12</span>)                  │       <span style=\"color: #00af00; text-decoration-color: #00af00\">1,038,348</span> │\n",
              "└──────────────────────────────────────┴─────────────────────────────┴─────────────────┘\n",
              "</pre>\n"
            ]
          },
          "metadata": {}
        },
        {
          "output_type": "display_data",
          "data": {
            "text/plain": [
              "\u001b[1m Total params: \u001b[0m\u001b[38;5;34m15,753,036\u001b[0m (60.09 MB)\n"
            ],
            "text/html": [
              "<pre style=\"white-space:pre;overflow-x:auto;line-height:normal;font-family:Menlo,'DejaVu Sans Mono',consolas,'Courier New',monospace\"><span style=\"font-weight: bold\"> Total params: </span><span style=\"color: #00af00; text-decoration-color: #00af00\">15,753,036</span> (60.09 MB)\n",
              "</pre>\n"
            ]
          },
          "metadata": {}
        },
        {
          "output_type": "display_data",
          "data": {
            "text/plain": [
              "\u001b[1m Trainable params: \u001b[0m\u001b[38;5;34m1,038,348\u001b[0m (3.96 MB)\n"
            ],
            "text/html": [
              "<pre style=\"white-space:pre;overflow-x:auto;line-height:normal;font-family:Menlo,'DejaVu Sans Mono',consolas,'Courier New',monospace\"><span style=\"font-weight: bold\"> Trainable params: </span><span style=\"color: #00af00; text-decoration-color: #00af00\">1,038,348</span> (3.96 MB)\n",
              "</pre>\n"
            ]
          },
          "metadata": {}
        },
        {
          "output_type": "display_data",
          "data": {
            "text/plain": [
              "\u001b[1m Non-trainable params: \u001b[0m\u001b[38;5;34m14,714,688\u001b[0m (56.13 MB)\n"
            ],
            "text/html": [
              "<pre style=\"white-space:pre;overflow-x:auto;line-height:normal;font-family:Menlo,'DejaVu Sans Mono',consolas,'Courier New',monospace\"><span style=\"font-weight: bold\"> Non-trainable params: </span><span style=\"color: #00af00; text-decoration-color: #00af00\">14,714,688</span> (56.13 MB)\n",
              "</pre>\n"
            ]
          },
          "metadata": {}
        }
      ]
    },
    {
      "cell_type": "code",
      "source": [
        "classes = [\n",
        "    'Healthy',\n",
        "    'Manganese Deficiency',\n",
        "    'Phosphorus Deficiency',\n",
        "    'Potassium Deficiency',\n",
        "    'Calcium Deficiency',\n",
        "    'PH Fluctuation',\n",
        "    'Sulfur Deficiency',\n",
        "    'Iron Deficiency',\n",
        "    'Nitrogen Deficiency',\n",
        "    'Aphids',\n",
        "    'Magnesium Deficiency',\n",
        "    'Powdery Mildew'\n",
        "]"
      ],
      "metadata": {
        "id": "ze9SHg3xUN6i"
      },
      "execution_count": 45,
      "outputs": []
    },
    {
      "cell_type": "code",
      "source": [
        "data_gen = image.ImageDataGenerator(\n",
        "    preprocessing_function=preprocess_input,\n",
        "    fill_mode='nearest',\n",
        "    rotation_range=360,\n",
        ")"
      ],
      "metadata": {
        "id": "CRNaTPXpU0kI"
      },
      "execution_count": 14,
      "outputs": []
    },
    {
      "cell_type": "code",
      "source": [
        "train_data_gen = data_gen.flow_from_directory(\n",
        "    directory='/content/cannabis-health-diagnosis/data/train',\n",
        "    class_mode=\"categorical\",\n",
        "    classes=classes,\n",
        "    batch_size=5,\n",
        "    target_size=(416, 416),\n",
        ")"
      ],
      "metadata": {
        "colab": {
          "base_uri": "https://localhost:8080/"
        },
        "id": "XQMQqDJUU5sJ",
        "outputId": "90aab28f-b614-42dc-a490-948482c06f34"
      },
      "execution_count": 15,
      "outputs": [
        {
          "output_type": "stream",
          "name": "stdout",
          "text": [
            "Found 955 images belonging to 12 classes.\n"
          ]
        }
      ]
    },
    {
      "cell_type": "code",
      "source": [
        "val_data_gen = data_gen.flow_from_directory(\n",
        "    directory='/content/cannabis-health-diagnosis/data/valid',\n",
        "    class_mode=\"categorical\",\n",
        "    classes=classes,\n",
        "    batch_size=5,\n",
        "    target_size=(416, 416),\n",
        ")"
      ],
      "metadata": {
        "colab": {
          "base_uri": "https://localhost:8080/"
        },
        "id": "nNNwcahzU7Lg",
        "outputId": "bd4f1f56-8219-4dc8-b147-e1cd8840b6a8"
      },
      "execution_count": 16,
      "outputs": [
        {
          "output_type": "stream",
          "name": "stdout",
          "text": [
            "Found 35 images belonging to 12 classes.\n"
          ]
        }
      ]
    },
    {
      "cell_type": "code",
      "source": [
        "from tensorflow.keras.callbacks import EarlyStopping"
      ],
      "metadata": {
        "id": "lgaPNAbVVdSG"
      },
      "execution_count": 17,
      "outputs": []
    },
    {
      "cell_type": "code",
      "source": [
        "!pip install --upgrade tensorflow"
      ],
      "metadata": {
        "colab": {
          "base_uri": "https://localhost:8080/"
        },
        "id": "DW874ua_WMrh",
        "outputId": "31da442d-e74f-48d5-a18e-a58b03a365ba"
      },
      "execution_count": 18,
      "outputs": [
        {
          "output_type": "stream",
          "name": "stdout",
          "text": [
            "Requirement already satisfied: tensorflow in /usr/local/lib/python3.10/dist-packages (2.17.0)\n",
            "Requirement already satisfied: absl-py>=1.0.0 in /usr/local/lib/python3.10/dist-packages (from tensorflow) (1.4.0)\n",
            "Requirement already satisfied: astunparse>=1.6.0 in /usr/local/lib/python3.10/dist-packages (from tensorflow) (1.6.3)\n",
            "Requirement already satisfied: flatbuffers>=24.3.25 in /usr/local/lib/python3.10/dist-packages (from tensorflow) (24.3.25)\n",
            "Requirement already satisfied: gast!=0.5.0,!=0.5.1,!=0.5.2,>=0.2.1 in /usr/local/lib/python3.10/dist-packages (from tensorflow) (0.6.0)\n",
            "Requirement already satisfied: google-pasta>=0.1.1 in /usr/local/lib/python3.10/dist-packages (from tensorflow) (0.2.0)\n",
            "Requirement already satisfied: h5py>=3.10.0 in /usr/local/lib/python3.10/dist-packages (from tensorflow) (3.11.0)\n",
            "Requirement already satisfied: libclang>=13.0.0 in /usr/local/lib/python3.10/dist-packages (from tensorflow) (18.1.1)\n",
            "Requirement already satisfied: ml-dtypes<0.5.0,>=0.3.1 in /usr/local/lib/python3.10/dist-packages (from tensorflow) (0.4.1)\n",
            "Requirement already satisfied: opt-einsum>=2.3.2 in /usr/local/lib/python3.10/dist-packages (from tensorflow) (3.4.0)\n",
            "Requirement already satisfied: packaging in /usr/local/lib/python3.10/dist-packages (from tensorflow) (24.1)\n",
            "Requirement already satisfied: protobuf!=4.21.0,!=4.21.1,!=4.21.2,!=4.21.3,!=4.21.4,!=4.21.5,<5.0.0dev,>=3.20.3 in /usr/local/lib/python3.10/dist-packages (from tensorflow) (3.20.3)\n",
            "Requirement already satisfied: requests<3,>=2.21.0 in /usr/local/lib/python3.10/dist-packages (from tensorflow) (2.32.3)\n",
            "Requirement already satisfied: setuptools in /usr/local/lib/python3.10/dist-packages (from tensorflow) (71.0.4)\n",
            "Requirement already satisfied: six>=1.12.0 in /usr/local/lib/python3.10/dist-packages (from tensorflow) (1.16.0)\n",
            "Requirement already satisfied: termcolor>=1.1.0 in /usr/local/lib/python3.10/dist-packages (from tensorflow) (2.4.0)\n",
            "Requirement already satisfied: typing-extensions>=3.6.6 in /usr/local/lib/python3.10/dist-packages (from tensorflow) (4.12.2)\n",
            "Requirement already satisfied: wrapt>=1.11.0 in /usr/local/lib/python3.10/dist-packages (from tensorflow) (1.16.0)\n",
            "Requirement already satisfied: grpcio<2.0,>=1.24.3 in /usr/local/lib/python3.10/dist-packages (from tensorflow) (1.64.1)\n",
            "Requirement already satisfied: tensorboard<2.18,>=2.17 in /usr/local/lib/python3.10/dist-packages (from tensorflow) (2.17.0)\n",
            "Requirement already satisfied: keras>=3.2.0 in /usr/local/lib/python3.10/dist-packages (from tensorflow) (3.4.1)\n",
            "Requirement already satisfied: tensorflow-io-gcs-filesystem>=0.23.1 in /usr/local/lib/python3.10/dist-packages (from tensorflow) (0.37.1)\n",
            "Requirement already satisfied: numpy<2.0.0,>=1.23.5 in /usr/local/lib/python3.10/dist-packages (from tensorflow) (1.26.4)\n",
            "Requirement already satisfied: wheel<1.0,>=0.23.0 in /usr/local/lib/python3.10/dist-packages (from astunparse>=1.6.0->tensorflow) (0.44.0)\n",
            "Requirement already satisfied: rich in /usr/local/lib/python3.10/dist-packages (from keras>=3.2.0->tensorflow) (13.8.1)\n",
            "Requirement already satisfied: namex in /usr/local/lib/python3.10/dist-packages (from keras>=3.2.0->tensorflow) (0.0.8)\n",
            "Requirement already satisfied: optree in /usr/local/lib/python3.10/dist-packages (from keras>=3.2.0->tensorflow) (0.12.1)\n",
            "Requirement already satisfied: charset-normalizer<4,>=2 in /usr/local/lib/python3.10/dist-packages (from requests<3,>=2.21.0->tensorflow) (3.3.2)\n",
            "Requirement already satisfied: idna<4,>=2.5 in /usr/local/lib/python3.10/dist-packages (from requests<3,>=2.21.0->tensorflow) (3.10)\n",
            "Requirement already satisfied: urllib3<3,>=1.21.1 in /usr/local/lib/python3.10/dist-packages (from requests<3,>=2.21.0->tensorflow) (2.2.3)\n",
            "Requirement already satisfied: certifi>=2017.4.17 in /usr/local/lib/python3.10/dist-packages (from requests<3,>=2.21.0->tensorflow) (2024.8.30)\n",
            "Requirement already satisfied: markdown>=2.6.8 in /usr/local/lib/python3.10/dist-packages (from tensorboard<2.18,>=2.17->tensorflow) (3.7)\n",
            "Requirement already satisfied: tensorboard-data-server<0.8.0,>=0.7.0 in /usr/local/lib/python3.10/dist-packages (from tensorboard<2.18,>=2.17->tensorflow) (0.7.2)\n",
            "Requirement already satisfied: werkzeug>=1.0.1 in /usr/local/lib/python3.10/dist-packages (from tensorboard<2.18,>=2.17->tensorflow) (3.0.4)\n",
            "Requirement already satisfied: MarkupSafe>=2.1.1 in /usr/local/lib/python3.10/dist-packages (from werkzeug>=1.0.1->tensorboard<2.18,>=2.17->tensorflow) (2.1.5)\n",
            "Requirement already satisfied: markdown-it-py>=2.2.0 in /usr/local/lib/python3.10/dist-packages (from rich->keras>=3.2.0->tensorflow) (3.0.0)\n",
            "Requirement already satisfied: pygments<3.0.0,>=2.13.0 in /usr/local/lib/python3.10/dist-packages (from rich->keras>=3.2.0->tensorflow) (2.18.0)\n",
            "Requirement already satisfied: mdurl~=0.1 in /usr/local/lib/python3.10/dist-packages (from markdown-it-py>=2.2.0->rich->keras>=3.2.0->tensorflow) (0.1.2)\n"
          ]
        }
      ]
    },
    {
      "cell_type": "code",
      "source": [
        "!pip show keras"
      ],
      "metadata": {
        "colab": {
          "base_uri": "https://localhost:8080/"
        },
        "id": "ou5uaObLX72b",
        "outputId": "2dcab1bf-cea5-403a-ddc3-0dc10b790037"
      },
      "execution_count": 20,
      "outputs": [
        {
          "output_type": "stream",
          "name": "stdout",
          "text": [
            "Name: keras\n",
            "Version: 3.4.1\n",
            "Summary: Multi-backend Keras.\n",
            "Home-page: https://github.com/keras-team/keras\n",
            "Author: Keras team\n",
            "Author-email: keras-users@googlegroups.com\n",
            "License: Apache License 2.0\n",
            "Location: /usr/local/lib/python3.10/dist-packages\n",
            "Requires: absl-py, h5py, ml-dtypes, namex, numpy, optree, packaging, rich\n",
            "Required-by: tensorflow\n"
          ]
        }
      ]
    },
    {
      "cell_type": "code",
      "source": [
        "!pip show tensorflow"
      ],
      "metadata": {
        "colab": {
          "base_uri": "https://localhost:8080/"
        },
        "id": "FjqEZxhKYA8f",
        "outputId": "091bbd90-e047-492f-a2e1-b31d39a66268"
      },
      "execution_count": 21,
      "outputs": [
        {
          "output_type": "stream",
          "name": "stdout",
          "text": [
            "Name: tensorflow\n",
            "Version: 2.17.0\n",
            "Summary: TensorFlow is an open source machine learning framework for everyone.\n",
            "Home-page: https://www.tensorflow.org/\n",
            "Author: Google Inc.\n",
            "Author-email: packages@tensorflow.org\n",
            "License: Apache 2.0\n",
            "Location: /usr/local/lib/python3.10/dist-packages\n",
            "Requires: absl-py, astunparse, flatbuffers, gast, google-pasta, grpcio, h5py, keras, libclang, ml-dtypes, numpy, opt-einsum, packaging, protobuf, requests, setuptools, six, tensorboard, tensorflow-io-gcs-filesystem, termcolor, typing-extensions, wrapt\n",
            "Required-by: dopamine_rl, tf_keras\n"
          ]
        }
      ]
    },
    {
      "cell_type": "code",
      "source": [
        "import keras\n",
        "from tensorflow.keras.metrics import AUC"
      ],
      "metadata": {
        "id": "F-y1kWJvYgkW"
      },
      "execution_count": 21,
      "outputs": []
    },
    {
      "cell_type": "code",
      "source": [
        "from tensorflow.keras.optimizers import SGD"
      ],
      "metadata": {
        "id": "K7M9uqtcV8Ne"
      },
      "execution_count": 22,
      "outputs": []
    },
    {
      "cell_type": "code",
      "source": [
        "model_tf.compile(optimizer=SGD(learning_rate=0.001, momentum=0.9),\n",
        "              loss='categorical_crossentropy',\n",
        "              metrics=['accuracy', Precision(), Recall(), AUC()])\n",
        "\n",
        "model_tf.fit(train_data_gen,\n",
        "             verbose=2,\n",
        "             epochs=20,\n",
        "             validation_data=val_data_gen)"
      ],
      "metadata": {
        "id": "ZNjIcgpTVeFK",
        "colab": {
          "base_uri": "https://localhost:8080/"
        },
        "outputId": "884ee208-c4c7-4960-aaf4-0aff3af0de79"
      },
      "execution_count": 24,
      "outputs": [
        {
          "output_type": "stream",
          "name": "stdout",
          "text": [
            "Epoch 1/20\n",
            "191/191 - 57s - 301ms/step - accuracy: 0.9267 - auc_1: 0.9600 - loss: 91.7640 - precision_2: 0.9267 - recall_2: 0.9267 - val_accuracy: 0.5143 - val_auc_1: 0.7351 - val_loss: 1302.4683 - val_precision_2: 0.5143 - val_recall_2: 0.5143\n",
            "Epoch 2/20\n",
            "191/191 - 52s - 270ms/step - accuracy: 0.9455 - auc_1: 0.9703 - loss: 76.2370 - precision_2: 0.9455 - recall_2: 0.9455 - val_accuracy: 0.4571 - val_auc_1: 0.7039 - val_loss: 1437.8613 - val_precision_2: 0.4571 - val_recall_2: 0.4571\n",
            "Epoch 3/20\n",
            "191/191 - 51s - 268ms/step - accuracy: 0.9634 - auc_1: 0.9800 - loss: 41.3095 - precision_2: 0.9634 - recall_2: 0.9634 - val_accuracy: 0.5143 - val_auc_1: 0.7351 - val_loss: 1248.6746 - val_precision_2: 0.5143 - val_recall_2: 0.5143\n",
            "Epoch 4/20\n",
            "191/191 - 82s - 432ms/step - accuracy: 0.9497 - auc_1: 0.9732 - loss: 61.5477 - precision_2: 0.9497 - recall_2: 0.9497 - val_accuracy: 0.4571 - val_auc_1: 0.7039 - val_loss: 1063.7379 - val_precision_2: 0.4571 - val_recall_2: 0.4571\n",
            "Epoch 5/20\n",
            "191/191 - 51s - 270ms/step - accuracy: 0.9529 - auc_1: 0.9743 - loss: 73.6163 - precision_2: 0.9529 - recall_2: 0.9529 - val_accuracy: 0.4571 - val_auc_1: 0.7039 - val_loss: 1340.4042 - val_precision_2: 0.4571 - val_recall_2: 0.4571\n",
            "Epoch 6/20\n",
            "191/191 - 52s - 272ms/step - accuracy: 0.9686 - auc_1: 0.9829 - loss: 38.5856 - precision_2: 0.9686 - recall_2: 0.9686 - val_accuracy: 0.5429 - val_auc_1: 0.7506 - val_loss: 1093.9176 - val_precision_2: 0.5429 - val_recall_2: 0.5429\n",
            "Epoch 7/20\n",
            "191/191 - 81s - 425ms/step - accuracy: 0.9801 - auc_1: 0.9891 - loss: 19.8569 - precision_2: 0.9801 - recall_2: 0.9801 - val_accuracy: 0.4571 - val_auc_1: 0.7039 - val_loss: 1241.7806 - val_precision_2: 0.4571 - val_recall_2: 0.4571\n",
            "Epoch 8/20\n",
            "191/191 - 54s - 283ms/step - accuracy: 0.9707 - auc_1: 0.9840 - loss: 37.9245 - precision_2: 0.9707 - recall_2: 0.9707 - val_accuracy: 0.4286 - val_auc_1: 0.6883 - val_loss: 1389.8301 - val_precision_2: 0.4286 - val_recall_2: 0.4286\n",
            "Epoch 9/20\n",
            "191/191 - 79s - 416ms/step - accuracy: 0.9832 - auc_1: 0.9909 - loss: 21.7398 - precision_2: 0.9832 - recall_2: 0.9832 - val_accuracy: 0.4857 - val_auc_1: 0.7195 - val_loss: 1635.6031 - val_precision_2: 0.4857 - val_recall_2: 0.4857\n",
            "Epoch 10/20\n",
            "191/191 - 52s - 271ms/step - accuracy: 0.9696 - auc_1: 0.9834 - loss: 25.1614 - precision_2: 0.9696 - recall_2: 0.9696 - val_accuracy: 0.5143 - val_auc_1: 0.7351 - val_loss: 1212.8694 - val_precision_2: 0.5143 - val_recall_2: 0.5143\n",
            "Epoch 11/20\n",
            "191/191 - 51s - 269ms/step - accuracy: 0.9780 - auc_1: 0.9886 - loss: 28.6841 - precision_2: 0.9780 - recall_2: 0.9780 - val_accuracy: 0.5714 - val_auc_1: 0.7662 - val_loss: 1239.6519 - val_precision_2: 0.5714 - val_recall_2: 0.5714\n",
            "Epoch 12/20\n",
            "191/191 - 52s - 273ms/step - accuracy: 0.9843 - auc_1: 0.9914 - loss: 18.4919 - precision_2: 0.9843 - recall_2: 0.9843 - val_accuracy: 0.5714 - val_auc_1: 0.7662 - val_loss: 1092.9955 - val_precision_2: 0.5714 - val_recall_2: 0.5714\n",
            "Epoch 13/20\n",
            "191/191 - 81s - 424ms/step - accuracy: 0.9801 - auc_1: 0.9891 - loss: 16.4036 - precision_2: 0.9801 - recall_2: 0.9801 - val_accuracy: 0.4857 - val_auc_1: 0.7195 - val_loss: 1174.8929 - val_precision_2: 0.4857 - val_recall_2: 0.4857\n",
            "Epoch 14/20\n",
            "191/191 - 82s - 428ms/step - accuracy: 0.9895 - auc_1: 0.9943 - loss: 11.5253 - precision_2: 0.9895 - recall_2: 0.9895 - val_accuracy: 0.4571 - val_auc_1: 0.7039 - val_loss: 1205.5046 - val_precision_2: 0.4571 - val_recall_2: 0.4571\n",
            "Epoch 15/20\n",
            "191/191 - 52s - 270ms/step - accuracy: 0.9832 - auc_1: 0.9909 - loss: 22.0181 - precision_2: 0.9832 - recall_2: 0.9832 - val_accuracy: 0.5429 - val_auc_1: 0.7506 - val_loss: 959.9038 - val_precision_2: 0.5429 - val_recall_2: 0.5429\n",
            "Epoch 16/20\n",
            "191/191 - 52s - 270ms/step - accuracy: 0.9969 - auc_1: 0.9983 - loss: 1.9057 - precision_2: 0.9969 - recall_2: 0.9969 - val_accuracy: 0.4857 - val_auc_1: 0.7195 - val_loss: 1535.8323 - val_precision_2: 0.4857 - val_recall_2: 0.4857\n",
            "Epoch 17/20\n",
            "191/191 - 81s - 423ms/step - accuracy: 0.9958 - auc_1: 0.9977 - loss: 2.9325 - precision_2: 0.9958 - recall_2: 0.9958 - val_accuracy: 0.4571 - val_auc_1: 0.7039 - val_loss: 1220.3727 - val_precision_2: 0.4571 - val_recall_2: 0.4571\n",
            "Epoch 18/20\n",
            "191/191 - 82s - 430ms/step - accuracy: 0.9853 - auc_1: 0.9920 - loss: 16.2674 - precision_2: 0.9853 - recall_2: 0.9853 - val_accuracy: 0.4000 - val_auc_1: 0.6727 - val_loss: 1444.1993 - val_precision_2: 0.4000 - val_recall_2: 0.4000\n",
            "Epoch 19/20\n",
            "191/191 - 51s - 268ms/step - accuracy: 0.9927 - auc_1: 0.9960 - loss: 5.1073 - precision_2: 0.9927 - recall_2: 0.9927 - val_accuracy: 0.5429 - val_auc_1: 0.7650 - val_loss: 1463.4723 - val_precision_2: 0.5429 - val_recall_2: 0.5429\n",
            "Epoch 20/20\n",
            "191/191 - 51s - 268ms/step - accuracy: 0.9927 - auc_1: 0.9960 - loss: 2.5633 - precision_2: 0.9927 - recall_2: 0.9927 - val_accuracy: 0.6000 - val_auc_1: 0.7818 - val_loss: 1035.4225 - val_precision_2: 0.6000 - val_recall_2: 0.6000\n"
          ]
        },
        {
          "output_type": "execute_result",
          "data": {
            "text/plain": [
              "<keras.src.callbacks.history.History at 0x7b27d0159390>"
            ]
          },
          "metadata": {},
          "execution_count": 24
        }
      ]
    },
    {
      "cell_type": "code",
      "source": [
        "model_tf.save('models/plant_disease.h5')"
      ],
      "metadata": {
        "colab": {
          "base_uri": "https://localhost:8080/"
        },
        "id": "IPvWp1_YeF-H",
        "outputId": "c7073591-2ad3-4e3f-ce33-39dabc16b0cb"
      },
      "execution_count": 29,
      "outputs": [
        {
          "output_type": "stream",
          "name": "stderr",
          "text": [
            "WARNING:absl:You are saving your model as an HDF5 file via `model.save()` or `keras.saving.save_model(model)`. This file format is considered legacy. We recommend using instead the native Keras format, e.g. `model.save('my_model.keras')` or `keras.saving.save_model(model, 'my_model.keras')`. \n"
          ]
        }
      ]
    },
    {
      "cell_type": "code",
      "source": [
        "model_tf.save('models/plant_disease.keras')"
      ],
      "metadata": {
        "id": "929POOfhe6vE"
      },
      "execution_count": 30,
      "outputs": []
    },
    {
      "cell_type": "code",
      "source": [
        "img = image.load_img('/content/cannabis-health-diagnosis/data/test/Iron Deficiency/OIP-TTkrZNaBd4uI2Wv-iSjDMgHaE7_jpg.rf.910c110b1c5e9d6332fc268cb5ea281e.jpg',target_size=(416,416))"
      ],
      "metadata": {
        "id": "U4ejeSduf8Nz"
      },
      "execution_count": 31,
      "outputs": []
    },
    {
      "cell_type": "code",
      "source": [
        "import numpy as np"
      ],
      "metadata": {
        "id": "fLDcCUbxg6P2"
      },
      "execution_count": 34,
      "outputs": []
    },
    {
      "cell_type": "code",
      "source": [
        "img = np.expand_dims(img,axis=0) # or img = img.reshape(1,224,224,3)\n",
        "img = preprocess_input(img)"
      ],
      "metadata": {
        "id": "7Ynp81pLgzM0"
      },
      "execution_count": 35,
      "outputs": []
    },
    {
      "cell_type": "markdown",
      "source": [
        "/content/cannabis-health-diagnosis/data/test/Iron Deficiency/OIP-TTkrZNaBd4uI2Wv-iSjDMgHaE7_jpg.rf.910c110b1c5e9d6332fc268cb5ea281e.jpg"
      ],
      "metadata": {
        "id": "0LuL4ZnYgNrq"
      }
    },
    {
      "cell_type": "code",
      "source": [
        "model_tf.predict(img)"
      ],
      "metadata": {
        "colab": {
          "base_uri": "https://localhost:8080/"
        },
        "id": "reI7IDK2hKtt",
        "outputId": "d0a0ec88-4ac0-44b4-f21e-aac91a1dc253"
      },
      "execution_count": 39,
      "outputs": [
        {
          "output_type": "stream",
          "name": "stdout",
          "text": [
            "\u001b[1m1/1\u001b[0m \u001b[32m━━━━━━━━━━━━━━━━━━━━\u001b[0m\u001b[37m\u001b[0m \u001b[1m0s\u001b[0m 22ms/step\n"
          ]
        },
        {
          "output_type": "execute_result",
          "data": {
            "text/plain": [
              "array([[6.7495328e-01, 1.8956656e-05, 1.5835896e-04, 4.8415610e-10,\n",
              "        3.5526955e-07, 7.1809599e-13, 3.8950168e-07, 5.6238907e-09,\n",
              "        2.9134896e-04, 1.1661415e-07, 8.8700489e-08, 3.2457709e-01]],\n",
              "      dtype=float32)"
            ]
          },
          "metadata": {},
          "execution_count": 39
        }
      ]
    },
    {
      "cell_type": "code",
      "source": [
        "import matplotlib.pyplot as plt"
      ],
      "metadata": {
        "id": "xX8TLQYxhf5n"
      },
      "execution_count": 42,
      "outputs": []
    },
    {
      "cell_type": "code",
      "source": [
        "plt.imshow(img[0])"
      ],
      "metadata": {
        "colab": {
          "base_uri": "https://localhost:8080/",
          "height": 490
        },
        "id": "hlZr_NjfhcPm",
        "outputId": "16a69890-3b0a-468f-e1b0-022d3aa0c367"
      },
      "execution_count": 43,
      "outputs": [
        {
          "output_type": "stream",
          "name": "stderr",
          "text": [
            "WARNING:matplotlib.image:Clipping input data to the valid range for imshow with RGB data ([0..1] for floats or [0..255] for integers).\n"
          ]
        },
        {
          "output_type": "execute_result",
          "data": {
            "text/plain": [
              "<matplotlib.image.AxesImage at 0x7b27b1bcb7c0>"
            ]
          },
          "metadata": {},
          "execution_count": 43
        },
        {
          "output_type": "display_data",
          "data": {
            "text/plain": [
              "<Figure size 640x480 with 1 Axes>"
            ],
            "image/png": "[encoded data removed]"
          },
          "metadata": {}
        }
      ]
    },
    {
      "cell_type": "code",
      "source": [
        "img.shape"
      ],
      "metadata": {
        "colab": {
          "base_uri": "https://localhost:8080/"
        },
        "id": "XlQh8yI9hwXe",
        "outputId": "c054a2ec-8661-4fe1-890f-fee63a76cc0b"
      },
      "execution_count": 44,
      "outputs": [
        {
          "output_type": "execute_result",
          "data": {
            "text/plain": [
              "(1, 416, 416, 3)"
            ]
          },
          "metadata": {},
          "execution_count": 44
        }
      ]
    },
    {
      "cell_type": "code",
      "source": [
        "plt.bar(x = ['Healthy','Manganese Deficiency','Phosphorus Deficiency','Potassium Deficiency','Calcium Deficiency','PH Fluctuation','Sulfur Deficiency','Iron Deficiency','Nitrogen Deficiency','Aphids','Magnesium Deficiency','Powdery Mildew'], height = model_tf.predict(img)[0])\n",
        "plt.xticks(rotation=90)"
      ],
      "metadata": {
        "colab": {
          "base_uri": "https://localhost:8080/",
          "height": 817
        },
        "id": "tc0H7FLchyNR",
        "outputId": "496a22fc-3ae9-42cd-8ac9-36a6d57ed5c5"
      },
      "execution_count": 47,
      "outputs": [
        {
          "output_type": "stream",
          "name": "stdout",
          "text": [
            "\u001b[1m1/1\u001b[0m \u001b[32m━━━━━━━━━━━━━━━━━━━━\u001b[0m\u001b[37m\u001b[0m \u001b[1m0s\u001b[0m 21ms/step\n"
          ]
        },
        {
          "output_type": "execute_result",
          "data": {
            "text/plain": [
              "([0, 1, 2, 3, 4, 5, 6, 7, 8, 9, 10, 11],\n",
              " [Text(0, 0, 'Healthy'),\n",
              "  Text(1, 0, 'Manganese Deficiency'),\n",
              "  Text(2, 0, 'Phosphorus Deficiency'),\n",
              "  Text(3, 0, 'Potassium Deficiency'),\n",
              "  Text(4, 0, 'Calcium Deficiency'),\n",
              "  Text(5, 0, 'PH Fluctuation'),\n",
              "  Text(6, 0, 'Sulfur Deficiency'),\n",
              "  Text(7, 0, 'Iron Deficiency'),\n",
              "  Text(8, 0, 'Nitrogen Deficiency'),\n",
              "  Text(9, 0, 'Aphids'),\n",
              "  Text(10, 0, 'Magnesium Deficiency'),\n",
              "  Text(11, 0, 'Powdery Mildew')])"
            ]
          },
          "metadata": {},
          "execution_count": 47
        },
        {
          "output_type": "display_data",
          "data": {
            "text/plain": [
              "<Figure size 640x480 with 1 Axes>"
            ],
            "image/png": "[encoded data removed]"
          },
          "metadata": {}
        }
      ]
    },
    {
      "cell_type": "code",
      "source": [
        "import shutil\n",
        "\n",
        "# Zip the folder (replace 'your_folder' with the name of your folder)\n",
        "shutil.make_archive('data_backup', 'zip', 'your_folder')\n",
        "\n",
        "# Download the zip file\n",
        "from google.colab import files\n",
        "files.download('data_backup.zip')\n"
      ],
      "metadata": {
        "colab": {
          "base_uri": "https://localhost:8080/",
          "height": 17
        },
        "id": "ElXOd7lxkok_",
        "outputId": "8f3eaee4-67b8-4a09-ab34-3cc6ed2d0c28"
      },
      "execution_count": 48,
      "outputs": [
        {
          "output_type": "display_data",
          "data": {
            "text/plain": [
              "<IPython.core.display.Javascript object>"
            ],
            "application/javascript": [
              "\n",
              "    async function download(id, filename, size) {\n",
              "      if (!google.colab.kernel.accessAllowed) {\n",
              "        return;\n",
              "      }\n",
              "      const div = document.createElement('div');\n",
              "      const label = document.createElement('label');\n",
              "      label.textContent = `Downloading \"${filename}\": `;\n",
              "      div.appendChild(label);\n",
              "      const progress = document.createElement('progress');\n",
              "      progress.max = size;\n",
              "      div.appendChild(progress);\n",
              "      document.body.appendChild(div);\n",
              "\n",
              "      const buffers = [];\n",
              "      let downloaded = 0;\n",
              "\n",
              "      const channel = await google.colab.kernel.comms.open(id);\n",
              "      // Send a message to notify the kernel that we're ready.\n",
              "      channel.send({})\n",
              "\n",
              "      for await (const message of channel.messages) {\n",
              "        // Send a message to notify the kernel that we're ready.\n",
              "        channel.send({})\n",
              "        if (message.buffers) {\n",
              "          for (const buffer of message.buffers) {\n",
              "            buffers.push(buffer);\n",
              "            downloaded += buffer.byteLength;\n",
              "            progress.value = downloaded;\n",
              "          }\n",
              "        }\n",
              "      }\n",
              "      const blob = new Blob(buffers, {type: 'application/binary'});\n",
              "      const a = document.createElement('a');\n",
              "      a.href = window.URL.createObjectURL(blob);\n",
              "      a.download = filename;\n",
              "      div.appendChild(a);\n",
              "      a.click();\n",
              "      div.remove();\n",
              "    }\n",
              "  "
            ]
          },
          "metadata": {}
        },
        {
          "output_type": "display_data",
          "data": {
            "text/plain": [
              "<IPython.core.display.Javascript object>"
            ],
            "application/javascript": [
              "download(\"download_5029c829-92c4-46b4-9e9a-ee7591c8dba7\", \"data_backup.zip\", 22)"
            ]
          },
          "metadata": {}
        }
      ]
    }
  ]
}