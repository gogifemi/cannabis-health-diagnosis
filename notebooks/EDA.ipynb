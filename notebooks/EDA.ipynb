{
 "cells": [
  {
   "cell_type": "code",
   "execution_count": 1,
   "metadata": {},
   "outputs": [],
   "source": [
    "import os\n",
    "import pandas as pd\n",
    "import matplotlib.pyplot as plt\n",
    "import matplotlib.image as mpimg\n",
    "import random\n",
    "from PIL import Image"
   ]
  },
  {
   "cell_type": "code",
   "execution_count": 38,
   "metadata": {},
   "outputs": [],
   "source": [
    "# Define paths to the folders\n",
    "train_dir = '../data/train'\n",
    "test_dir = '../data/test'\n",
    "valid_dir = '../data/valid'"
   ]
  },
  {
   "cell_type": "code",
   "execution_count": 41,
   "metadata": {},
   "outputs": [],
   "source": [
    "data_folder = '../data'"
   ]
  },
  {
   "cell_type": "code",
   "execution_count": 64,
   "metadata": {},
   "outputs": [],
   "source": [
    "# Function to collect images and labels from a folder\n",
    "def collect_images_from_folder(folder_path):\n",
    "    data = []\n",
    "    for label in os.listdir(folder_path):\n",
    "        label_path = os.path.join(folder_path, label)\n",
    "        if os.path.isdir(label_path):  # Ensure it's a directory\n",
    "            for img_name in os.listdir(label_path):\n",
    "                if img_name.endswith(('.png', '.jpg', '.jpeg')):  # Check for valid image files\n",
    "                    img_path = os.path.join(label_path, img_name)\n",
    "                    img_path = img_path.replace('\\\\', '/')  # Standardize path slashes\n",
    "                    data.append((img_path, label))  # Append image path and label as a tuple\n",
    "    return pd.DataFrame(data, columns=['image_path', 'label'])  # Return as a DataFrame"
   ]
  },
  {
   "cell_type": "code",
   "execution_count": 65,
   "metadata": {},
   "outputs": [],
   "source": [
    "# Create DataFrames for train, valid, and test\n",
    "train_df = collect_images_from_folder(train_dir)\n",
    "valid_df = collect_images_from_folder(valid_dir)\n",
    "test_df = collect_images_from_folder(test_dir)"
   ]
  },
  {
   "cell_type": "code",
   "execution_count": 67,
   "metadata": {},
   "outputs": [],
   "source": [
    "# Create a master DataFrame with all images (train + valid + test)\n",
    "all_data_df = pd.concat([train_df, valid_df, test_df], ignore_index=True)"
   ]
  },
  {
   "cell_type": "code",
   "execution_count": 77,
   "metadata": {},
   "outputs": [
    {
     "name": "stdout",
     "output_type": "stream",
     "text": [
      "Training set shape: (1300, 2)\n",
      "Validation set shape: (260, 2)\n",
      "Test set shape: (26, 2)\n",
      "Total dataset shape: (1586, 2)\n"
     ]
    }
   ],
   "source": [
    "# Display the shape of each DataFrame to verify the data\n",
    "print(\"Training set shape:\", train_df.shape)\n",
    "print(\"Validation set shape:\", valid_df.shape)\n",
    "print(\"Test set shape:\", test_df.shape)\n",
    "print(\"Total dataset shape:\", all_data_df.shape)"
   ]
  },
  {
   "cell_type": "code",
   "execution_count": 78,
   "metadata": {},
   "outputs": [
    {
     "name": "stdout",
     "output_type": "stream",
     "text": [
      "Training DataFrame sample:\n",
      "                                        image_path   label\n",
      "0        ../data/train/Aphids/00_aphids_train.jpg  Aphids\n",
      "1   ../data/train/Aphids/00_aphids_train_aug0.jpg  Aphids\n",
      "2  ../data/train/Aphids/00_aphids_train_aug10.jpg  Aphids\n",
      "3  ../data/train/Aphids/00_aphids_train_aug20.jpg  Aphids\n",
      "4  ../data/train/Aphids/00_aphids_train_aug30.jpg  Aphids\n",
      "Validation DataFrame sample:\n",
      "                                        image_path   label\n",
      "0        ../data/valid/Aphids/00_aphids_valid.jpg  Aphids\n",
      "1   ../data/valid/Aphids/00_aphids_valid_aug0.jpg  Aphids\n",
      "2  ../data/valid/Aphids/00_aphids_valid_aug10.jpg  Aphids\n",
      "3  ../data/valid/Aphids/00_aphids_valid_aug12.jpg  Aphids\n",
      "4  ../data/valid/Aphids/00_aphids_valid_aug14.jpg  Aphids\n",
      "All Data DataFrame sample:\n",
      "                                        image_path   label\n",
      "0        ../data/train/Aphids/00_aphids_train.jpg  Aphids\n",
      "1   ../data/train/Aphids/00_aphids_train_aug0.jpg  Aphids\n",
      "2  ../data/train/Aphids/00_aphids_train_aug10.jpg  Aphids\n",
      "3  ../data/train/Aphids/00_aphids_train_aug20.jpg  Aphids\n",
      "4  ../data/train/Aphids/00_aphids_train_aug30.jpg  Aphids\n"
     ]
    }
   ],
   "source": [
    "# Example: Display the first few rows of each DataFrame\n",
    "print(\"Training DataFrame sample:\\n\", train_df.head())\n",
    "print(\"Validation DataFrame sample:\\n\", valid_df.head())\n",
    "print(\"All Data DataFrame sample:\\n\", all_data_df.head())"
   ]
  },
  {
   "cell_type": "code",
   "execution_count": 63,
   "metadata": {},
   "outputs": [
    {
     "name": "stdout",
     "output_type": "stream",
     "text": [
      "label\n",
      "Aphids                   122\n",
      "Botrytis                 122\n",
      "Dehydration              122\n",
      "Healthy                  122\n",
      "Leaf Miners              122\n",
      "Nitrogen Deficiency      122\n",
      "Nutrient Burn            122\n",
      "Overwatering             122\n",
      "PH Fluctuation           122\n",
      "Phosphorus Deficiency    122\n",
      "Potassium Deficiency     122\n",
      "Powdery Mildew           122\n",
      "Septoria                 122\n",
      "Name: count, dtype: int64\n"
     ]
    }
   ],
   "source": [
    "class_distribution = all_data_df['label'].value_counts()\n",
    "print(class_distribution)"
   ]
  },
  {
   "cell_type": "code",
   "execution_count": 68,
   "metadata": {},
   "outputs": [
    {
     "data": {
      "text/plain": [
       "label\n",
       "Aphids                   100\n",
       "Botrytis                 100\n",
       "Dehydration              100\n",
       "Healthy                  100\n",
       "Leaf Miners              100\n",
       "Nitrogen Deficiency      100\n",
       "Nutrient Burn            100\n",
       "Overwatering             100\n",
       "PH Fluctuation           100\n",
       "Phosphorus Deficiency    100\n",
       "Potassium Deficiency     100\n",
       "Powdery Mildew           100\n",
       "Septoria                 100\n",
       "Name: count, dtype: int64"
      ]
     },
     "execution_count": 68,
     "metadata": {},
     "output_type": "execute_result"
    }
   ],
   "source": [
    "train_df['label'].value_counts()"
   ]
  },
  {
   "cell_type": "code",
   "execution_count": 69,
   "metadata": {},
   "outputs": [
    {
     "data": {
      "text/plain": [
       "label\n",
       "Aphids                   20\n",
       "Botrytis                 20\n",
       "Dehydration              20\n",
       "Healthy                  20\n",
       "Leaf Miners              20\n",
       "Nitrogen Deficiency      20\n",
       "Nutrient Burn            20\n",
       "Overwatering             20\n",
       "PH Fluctuation           20\n",
       "Phosphorus Deficiency    20\n",
       "Potassium Deficiency     20\n",
       "Powdery Mildew           20\n",
       "Septoria                 20\n",
       "Name: count, dtype: int64"
      ]
     },
     "execution_count": 69,
     "metadata": {},
     "output_type": "execute_result"
    }
   ],
   "source": [
    "valid_df['label'].value_counts()"
   ]
  },
  {
   "cell_type": "code",
   "execution_count": null,
   "metadata": {},
   "outputs": [],
   "source": [
    "# Display labels and images\n",
    "# def display_sample_images(dataframe, label, n=13)\n",
    "#     sample_images = train_df[train_df['label']]"
   ]
  },
  {
   "cell_type": "code",
   "execution_count": 88,
   "metadata": {},
   "outputs": [],
   "source": [
    "# Display the first images from the train set\n",
    "def plot_images_from_df(train_df, title):\n",
    "    num_images = len(train_df)\n",
    "    fig, axes = plt.subplots(3, 5, figsize=(20, 15))\n",
    "    fig.suptitle(title, fontsize=16)\n",
    "\n",
    "    for i, (img_path, label) in enumerate(train_df.values):\n",
    "        img = Image.open(train_df[\"image_path\"])\n",
    "        axes[i].imshow(img)\n",
    "        axes[i].axis('off')\n",
    "        axes[i].set_title(label)\n",
    "\n",
    "    plt.show()"
   ]
  },
  {
   "cell_type": "code",
   "execution_count": null,
   "metadata": {},
   "outputs": [],
   "source": [
    "# Plot first image from each label in train and valid sets\n",
    "plot_images_from_df(train_df, \"First Image from Each Label in the Training Set\")"
   ]
  },
  {
   "cell_type": "code",
   "execution_count": null,
   "metadata": {},
   "outputs": [],
   "source": [
    "# Display 5 random samples from the \"Healthy\" class\n",
    "# display_sample_images(train_df, 'Healthy', n=5)"
   ]
  },
  {
   "cell_type": "code",
   "execution_count": null,
   "metadata": {},
   "outputs": [],
   "source": [
    "# Display 5 random samples from the \"Potassium Deficiency\" class\n",
    "# display_sample_images(train_df, 'Potassium Deficiency', n=5)"
   ]
  },
  {
   "cell_type": "code",
   "execution_count": null,
   "metadata": {},
   "outputs": [],
   "source": [
    "# Visualize class distribution\n",
    "# train_df['label'].value_counts().plot(kind='bar', title='Class Distribution in Training Set')\n",
    "# plt.show()"
   ]
  },
  {
   "cell_type": "code",
   "execution_count": 19,
   "metadata": {},
   "outputs": [],
   "source": [
    "# Training set class distribution\n",
    "# train_class_distribution = train_df['label'].value_counts()"
   ]
  },
  {
   "cell_type": "code",
   "execution_count": null,
   "metadata": {},
   "outputs": [],
   "source": [
    "# Pie chart for training set class distribution\n",
    "# plt.figure(figsize=(8, 8))\n",
    "# plt.pie(train_class_distribution, labels=train_class_distribution.index, autopct='%1.1f%%', startangle=90, colors=plt.cm.Paired.colors)\n",
    "# plt.title('Class Distribution (Training Set)')\n",
    "# plt.axis('equal')  # Equal aspect ratio ensures that pie is drawn as a circle.\n",
    "# plt.show()"
   ]
  }
 ],
 "metadata": {
  "kernelspec": {
   "display_name": ".venv",
   "language": "python",
   "name": "python3"
  },
  "language_info": {
   "codemirror_mode": {
    "name": "ipython",
    "version": 3
   },
   "file_extension": ".py",
   "mimetype": "text/x-python",
   "name": "python",
   "nbconvert_exporter": "python",
   "pygments_lexer": "ipython3",
   "version": "3.11.3"
  }
 },
 "nbformat": 4,
 "nbformat_minor": 2
}
