{
 "cells": [
  {
   "cell_type": "code",
   "execution_count": 18,
   "metadata": {},
   "outputs": [],
   "source": [
    "from tensorflow import keras as K\n",
    "from tensorflow.keras import applications"
   ]
  },
  {
   "cell_type": "code",
   "execution_count": 66,
   "metadata": {},
   "outputs": [],
   "source": [
    "# import libraries\n",
    "from tensorflow.keras.applications.vgg16 import VGG16, decode_predictions, preprocess_input\n",
    "from tensorflow.keras.applications.resnet50 import ResNet50, decode_predictions, preprocess_input\n",
    "from tensorflow.keras.preprocessing import image # Keras own inbuild image class\n",
    "from tensorflow.keras.layers import Dense,Dropout,GlobalAveragePooling2D,Flatten\n",
    "from tensorflow.keras.optimizers import Adam\n",
    "from tensorflow.keras import Sequential,Input,Model\n",
    "\n",
    "import numpy as np\n",
    "import matplotlib.pyplot as plt\n",
    "\n",
    "from PIL import ImageEnhance, ImageFilter\n",
    "import random\n",
    "import os\n",
    "\n",
    "from tensorflow.keras.models import Sequential\n",
    "from tensorflow.keras.layers import Conv2D, Dense, MaxPooling2D, Activation, Flatten\n",
    "\n",
    "from tensorflow.keras.datasets import mnist\n",
    "from tensorflow.keras.utils import to_categorical"
   ]
  },
  {
   "cell_type": "code",
   "execution_count": 20,
   "metadata": {},
   "outputs": [],
   "source": [
    "# Function to resize images\n",
    "def resize_images(folder_path, target_size=(416, 416)):\n",
    "    for img_name in os.listdir(folder_path):\n",
    "        img_path = os.path.join(folder_path, img_name)\n",
    "        if img_name.endswith(('.png', '.jpg', '.jpeg')):  # Check for valid image files\n",
    "            img = Image.open(img_path)\n",
    "            img_resized = img.resize(target_size)\n",
    "            img_resized.save(img_path)  # Overwrite the original image with the resized version\n",
    "\n",
    "# Paths to your train, test, and valid folders\n",
    "train_folder = 'data/train/Healthy'\n",
    "test_folder = 'data/test/Healthy'\n",
    "valid_folder = 'data/valid/Healthy'\n",
    "\n",
    "# Resize images in all folders\n",
    "resize_images(train_folder)\n",
    "resize_images(test_folder)\n",
    "resize_images(valid_folder)\n"
   ]
  },
  {
   "cell_type": "code",
   "execution_count": 21,
   "metadata": {},
   "outputs": [],
   "source": [
    "# folder names containing images of the things you want to classify\n",
    "underrep_classes = ['Manganese Deficiency','PH Fluctuation','Phosphorus Deficiency','Potassium Deficiency','Sulfur Deficiency']\n",
    "new_class = ['Healthy']"
   ]
  },
  {
   "cell_type": "code",
   "execution_count": 22,
   "metadata": {},
   "outputs": [],
   "source": [
    "all_classes = underrep_classes + new_class"
   ]
  },
  {
   "cell_type": "code",
   "execution_count": 23,
   "metadata": {},
   "outputs": [],
   "source": [
    "# define an image data generator\n",
    "# Data augmentation: Applies random distortions and transformations to the images (only on your training data!).\n",
    "\n",
    "data_gen = image.ImageDataGenerator(\n",
    "    # define the preprocessing function that should be applied to all images\n",
    "    preprocessing_function=preprocess_input,\n",
    "    fill_mode='nearest',\n",
    "    rotation_range=360,\n",
    "    # width_shift_range=0.2,\n",
    "    # height_shift_range=0.2,\n",
    "    # horizontal_flip=True, \n",
    "    # zoom_range=0.2,\n",
    "    # shear_range=0.2\n",
    ")"
   ]
  },
  {
   "cell_type": "code",
   "execution_count": 24,
   "metadata": {},
   "outputs": [],
   "source": [
    "# Custom preprocessing function to handle exposure, blur, and noise\n",
    "def custom_preprocessing_function(img):\n",
    "    # Convert to PIL Image for easy manipulation\n",
    "    img = image.array_to_img(img)\n",
    "    \n",
    "    # Apply random exposure change (-10% to +10%)\n",
    "    exposure_factor = random.uniform(0.9, 1.1)  # Between -10% and +10%\n",
    "    enhancer = ImageEnhance.Brightness(img)\n",
    "    img = enhancer.enhance(exposure_factor)\n",
    "    \n",
    "    # Apply blur (up to 1.5px)\n",
    "    blur_radius = random.uniform(0, 1.5)  # Random blur between 0 and 1.5 pixels\n",
    "    img = img.filter(ImageFilter.GaussianBlur(blur_radius))\n",
    "    \n",
    "    # Add random noise (up to 5%)\n",
    "    noise_factor = random.uniform(0, 0.05)  # Up to 5% noise\n",
    "    noise = np.random.normal(loc=0, scale=1, size=(img.size[1], img.size[0], 3)) * noise_factor\n",
    "    img_array = np.asarray(img) / 255.0  # Normalize to [0,1]\n",
    "    img_array = img_array + noise  # Add noise\n",
    "    img_array = np.clip(img_array, 0, 1) * 255.0  # Clip and scale back to [0,255]\n",
    "    \n",
    "    # Convert back to array and return\n",
    "    return image.img_to_array(img_array)"
   ]
  },
  {
   "cell_type": "code",
   "execution_count": 47,
   "metadata": {},
   "outputs": [],
   "source": [
    "# Data augmentation generator (only for Healthy folder)\n",
    "\n",
    "data_gen_health = image.ImageDataGenerator(\n",
    "    # define the preprocessing function that should be applied to all images\n",
    "    preprocessing_function=custom_preprocessing_function,\n",
    "    fill_mode='nearest',\n",
    "    rotation_range=360,\n",
    "    # width_shift_range=0.2,\n",
    "    # height_shift_range=0.2,\n",
    "    # horizontal_flip=True, \n",
    "    # zoom_range=0.2,\n",
    "    # shear_range=0.2\n",
    ")"
   ]
  },
  {
   "cell_type": "code",
   "execution_count": 63,
   "metadata": {},
   "outputs": [
    {
     "name": "stdout",
     "output_type": "stream",
     "text": [
      "Found 240 images belonging to 5 classes.\n"
     ]
    }
   ],
   "source": [
    "# a generator that returns batches of X and y arrays\n",
    "train_data_gen = data_gen.flow_from_directory(\n",
    "    directory='data/train',\n",
    "    class_mode=\"categorical\",\n",
    "    classes=underrep_classes,\n",
    "    batch_size=5,\n",
    "    target_size=(416, 416),\n",
    "    save_to_dir='data/train/',\n",
    "    save_format='jpg',\n",
    "    save_prefix='aug'\n",
    ")\n"
   ]
  },
  {
   "cell_type": "code",
   "execution_count": 49,
   "metadata": {},
   "outputs": [
    {
     "name": "stdout",
     "output_type": "stream",
     "text": [
      "Found 10 images belonging to 1 classes.\n"
     ]
    }
   ],
   "source": [
    "healthy_data_gen = data_gen_health.flow_from_directory(\n",
    "    directory='data/train',\n",
    "    class_mode=\"categorical\",\n",
    "    classes=new_class,\n",
    "    batch_size=5,\n",
    "    target_size=(416, 416),\n",
    "    save_to_dir='data/train/Healthy',\n",
    "    save_format='jpg',\n",
    "    save_prefix='aug'\n",
    ")"
   ]
  },
  {
   "cell_type": "code",
   "execution_count": 42,
   "metadata": {},
   "outputs": [
    {
     "name": "stdout",
     "output_type": "stream",
     "text": [
      "['Manganese Deficiency', 'PH Fluctuation', 'Phosphorus Deficiency', 'Potassium Deficiency', 'Sulfur Deficiency', 'Healthy']\n"
     ]
    }
   ],
   "source": [
    "print(all_classes)"
   ]
  },
  {
   "cell_type": "code",
   "execution_count": 50,
   "metadata": {},
   "outputs": [
    {
     "name": "stdout",
     "output_type": "stream",
     "text": [
      "Found 13 images belonging to 6 classes.\n"
     ]
    }
   ],
   "source": [
    "val_data_gen = data_gen.flow_from_directory(\n",
    "    directory='data/valid',\n",
    "    class_mode=\"categorical\",\n",
    "    classes=all_classes,\n",
    "    batch_size=5,\n",
    "    target_size=(416, 416),\n",
    ")"
   ]
  },
  {
   "cell_type": "code",
   "execution_count": 44,
   "metadata": {},
   "outputs": [
    {
     "data": {
      "text/plain": [
       "{'Manganese Deficiency': 0,\n",
       " 'PH Fluctuation': 1,\n",
       " 'Phosphorus Deficiency': 2,\n",
       " 'Potassium Deficiency': 3,\n",
       " 'Sulfur Deficiency': 4}"
      ]
     },
     "execution_count": 44,
     "metadata": {},
     "output_type": "execute_result"
    }
   ],
   "source": [
    "train_data_gen.class_indices"
   ]
  },
  {
   "cell_type": "code",
   "execution_count": 53,
   "metadata": {},
   "outputs": [
    {
     "name": "stdout",
     "output_type": "stream",
     "text": [
      "Saved augmented image 1\n",
      "Saved augmented image 2\n",
      "Saved augmented image 3\n",
      "Saved augmented image 4\n",
      "Saved augmented image 5\n",
      "Saved augmented image 6\n",
      "Saved augmented image 7\n",
      "Saved augmented image 8\n",
      "Saved augmented image 9\n",
      "Saved augmented image 10\n",
      "Saved augmented image 11\n",
      "Saved augmented image 12\n",
      "Saved augmented image 13\n",
      "Saved augmented image 14\n",
      "Saved augmented image 15\n",
      "Saved augmented image 16\n",
      "Saved augmented image 17\n",
      "Saved augmented image 18\n"
     ]
    }
   ],
   "source": [
    "for i in range(18):\n",
    "    x_batch, y_batch = healthy_data_gen.__next__()\n",
    "    print(f\"Saved augmented image {i+1}\")"
   ]
  },
  {
   "cell_type": "code",
   "execution_count": 65,
   "metadata": {},
   "outputs": [
    {
     "name": "stdout",
     "output_type": "stream",
     "text": [
      "Saved augmented image 1\n",
      "Saved augmented image 2\n",
      "Saved augmented image 3\n",
      "Saved augmented image 4\n",
      "Saved augmented image 5\n",
      "Saved augmented image 6\n",
      "Saved augmented image 7\n",
      "Saved augmented image 8\n",
      "Saved augmented image 9\n",
      "Saved augmented image 10\n",
      "Saved augmented image 11\n",
      "Saved augmented image 12\n",
      "Saved augmented image 13\n",
      "Saved augmented image 14\n",
      "Saved augmented image 15\n",
      "Saved augmented image 16\n",
      "Saved augmented image 17\n",
      "Saved augmented image 18\n",
      "Saved augmented image 19\n",
      "Saved augmented image 20\n",
      "Saved augmented image 21\n",
      "Saved augmented image 22\n",
      "Saved augmented image 23\n",
      "Saved augmented image 24\n",
      "Saved augmented image 25\n",
      "Saved augmented image 26\n",
      "Saved augmented image 27\n",
      "Saved augmented image 28\n",
      "Saved augmented image 29\n",
      "Saved augmented image 30\n",
      "Saved augmented image 31\n",
      "Saved augmented image 32\n",
      "Saved augmented image 33\n",
      "Saved augmented image 34\n",
      "Saved augmented image 35\n",
      "Saved augmented image 36\n",
      "Saved augmented image 37\n",
      "Saved augmented image 38\n",
      "Saved augmented image 39\n",
      "Saved augmented image 40\n"
     ]
    }
   ],
   "source": [
    "for i in range(40):\n",
    "    x_batch1, y_batch1 = train_data_gen.__next__()\n",
    "    print(f\"Saved augmented image {i+1}\")"
   ]
  }
 ],
 "metadata": {
  "kernelspec": {
   "display_name": "Python 3",
   "language": "python",
   "name": "python3"
  },
  "language_info": {
   "codemirror_mode": {
    "name": "ipython",
    "version": 3
   },
   "file_extension": ".py",
   "mimetype": "text/x-python",
   "name": "python",
   "nbconvert_exporter": "python",
   "pygments_lexer": "ipython3",
   "version": "3.11.3"
  }
 },
 "nbformat": 4,
 "nbformat_minor": 2
}
