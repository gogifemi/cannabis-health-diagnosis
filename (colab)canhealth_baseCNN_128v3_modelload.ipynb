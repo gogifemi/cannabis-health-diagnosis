{
  "cells": [
    {
      "cell_type": "markdown",
      "metadata": {
        "id": "view-in-github",
        "colab_type": "text"
      },
      "source": [
        "<a href=\"https://colab.research.google.com/github/gogifemi/cannabis-health-diagnosis/blob/main/(colab)canhealth_baseCNN_128v3_modelload.ipynb\" target=\"_parent\"><img src=\"https://colab.research.google.com/assets/colab-badge.svg\" alt=\"Open In Colab\"/></a>"
      ]
    },
    {
      "cell_type": "code",
      "source": [
        "!git clone https://github.com/gogifemi/cannabis-health-diagnosis.git"
      ],
      "metadata": {
        "colab": {
          "base_uri": "https://localhost:8080/"
        },
        "id": "3sgFflNZhrVo",
        "outputId": "1496722e-70ba-42a2-d359-8f5a9fdf9c10"
      },
      "execution_count": 3,
      "outputs": [
        {
          "output_type": "stream",
          "name": "stdout",
          "text": [
            "Cloning into 'cannabis-health-diagnosis'...\n",
            "remote: Enumerating objects: 176, done.\u001b[K\n",
            "remote: Counting objects: 100% (91/91), done.\u001b[K\n",
            "remote: Compressing objects: 100% (73/73), done.\u001b[K\n",
            "remote: Total 176 (delta 39), reused 37 (delta 13), pack-reused 85 (from 1)\u001b[K\n",
            "Receiving objects: 100% (176/176), 215.83 MiB | 34.81 MiB/s, done.\n",
            "Resolving deltas: 100% (73/73), done.\n",
            "Updating files: 100% (25/25), done.\n"
          ]
        }
      ]
    },
    {
      "cell_type": "code",
      "execution_count": 4,
      "metadata": {
        "id": "yeF5d8ZHhkFS"
      },
      "outputs": [],
      "source": [
        "# importing the required modules\n",
        "import numpy as np\n",
        "import pandas as pd\n",
        "import matplotlib.pyplot as plt\n",
        "import tensorflow as tf\n",
        "from tensorflow.keras import layers, models\n",
        "from time import perf_counter\n",
        "import os\n",
        "from tensorflow.keras.preprocessing.image import ImageDataGenerator\n",
        "from tensorflow.keras.utils import to_categorical\n",
        "from tensorflow.keras.models import Sequential\n",
        "from tensorflow.keras.layers import Conv2D, Dense, MaxPooling2D, Activation, Flatten\n",
        "import cv2\n",
        "import numpy as np"
      ]
    },
    {
      "cell_type": "code",
      "source": [
        "!unzip /content/cannabis-health-diagnosis/data.zip -d /content/cannabis-health-diagnosis/data/"
      ],
      "metadata": {
        "colab": {
          "base_uri": "https://localhost:8080/"
        },
        "id": "OrEDMY71hzYp",
        "outputId": "2be3cd5f-e11c-4ba9-dddb-aa142ee49a73"
      },
      "execution_count": 5,
      "outputs": [
        {
          "output_type": "stream",
          "name": "stdout",
          "text": [
            "Archive:  /content/cannabis-health-diagnosis/data.zip\n",
            "   creating: /content/cannabis-health-diagnosis/data/test/\n",
            "   creating: /content/cannabis-health-diagnosis/data/train/\n",
            "   creating: /content/cannabis-health-diagnosis/data/valid/\n",
            "   creating: /content/cannabis-health-diagnosis/data/test/Aphids/\n",
            "   creating: /content/cannabis-health-diagnosis/data/test/Botrytis/\n",
            "   creating: /content/cannabis-health-diagnosis/data/test/Dehydration/\n",
            "   creating: /content/cannabis-health-diagnosis/data/test/Healthy/\n",
            "   creating: /content/cannabis-health-diagnosis/data/test/Leaf Miners/\n",
            "   creating: /content/cannabis-health-diagnosis/data/test/Nitrogen Deficiency/\n",
            "   creating: /content/cannabis-health-diagnosis/data/test/Nutrient Burn/\n",
            "   creating: /content/cannabis-health-diagnosis/data/test/Overwatering/\n",
            "   creating: /content/cannabis-health-diagnosis/data/test/PH Fluctuation/\n",
            "   creating: /content/cannabis-health-diagnosis/data/test/Phosphorus Deficiency/\n",
            "   creating: /content/cannabis-health-diagnosis/data/test/Potassium Deficiency/\n",
            "   creating: /content/cannabis-health-diagnosis/data/test/Powdery Mildew/\n",
            "   creating: /content/cannabis-health-diagnosis/data/test/Septoria/\n",
            "  inflating: /content/cannabis-health-diagnosis/data/test/Aphids/00_aphids_test.jpg  \n",
            "  inflating: /content/cannabis-health-diagnosis/data/test/Aphids/01_aphids_test.jpg  \n",
            "  inflating: /content/cannabis-health-diagnosis/data/test/Botrytis/00_botrytis_test.jpg  \n",
            "  inflating: /content/cannabis-health-diagnosis/data/test/Botrytis/01_botrytis_test.jpg  \n",
            "  inflating: /content/cannabis-health-diagnosis/data/test/Dehydration/00_dehydration_test.jpg  \n",
            "  inflating: /content/cannabis-health-diagnosis/data/test/Dehydration/01_dehydration_test.jpg  \n",
            "  inflating: /content/cannabis-health-diagnosis/data/test/Healthy/00_healthy_test.jpg  \n",
            "  inflating: /content/cannabis-health-diagnosis/data/test/Healthy/01_healthy_test.jpg  \n",
            "  inflating: /content/cannabis-health-diagnosis/data/test/Leaf Miners/00_leaf_miners_test.jpg  \n",
            "  inflating: /content/cannabis-health-diagnosis/data/test/Leaf Miners/01_leaf_miners_test.jpg  \n",
            "  inflating: /content/cannabis-health-diagnosis/data/test/Nitrogen Deficiency/00_nitrogen_def_test.jpg  \n",
            "  inflating: /content/cannabis-health-diagnosis/data/test/Nitrogen Deficiency/01_nitrogen_def_test.jpg  \n",
            "  inflating: /content/cannabis-health-diagnosis/data/test/Nutrient Burn/00_nutrient_burn_test.jpg  \n",
            "  inflating: /content/cannabis-health-diagnosis/data/test/Nutrient Burn/01_nutrient_burn_test.jpg  \n",
            "  inflating: /content/cannabis-health-diagnosis/data/test/Overwatering/00_overwatering_test.jpg  \n",
            "  inflating: /content/cannabis-health-diagnosis/data/test/Overwatering/01_overwatering_test.jpg  \n",
            "  inflating: /content/cannabis-health-diagnosis/data/test/PH Fluctuation/00_ph_fluctuation_test.jpg  \n",
            "  inflating: /content/cannabis-health-diagnosis/data/test/PH Fluctuation/01_ph_fluctuation_test.jpg  \n",
            "  inflating: /content/cannabis-health-diagnosis/data/test/Phosphorus Deficiency/00_phosphorus_def_test.jpg  \n",
            "  inflating: /content/cannabis-health-diagnosis/data/test/Phosphorus Deficiency/01_phosphorus_def_test.jpg  \n",
            "  inflating: /content/cannabis-health-diagnosis/data/test/Potassium Deficiency/00_potassium_def_test.jpg  \n",
            "  inflating: /content/cannabis-health-diagnosis/data/test/Potassium Deficiency/02_potassium_def_test.jpg  \n",
            "  inflating: /content/cannabis-health-diagnosis/data/test/Powdery Mildew/00_powdery_mildew_test.png  \n",
            "  inflating: /content/cannabis-health-diagnosis/data/test/Powdery Mildew/01_powdery_mildew_test.png  \n",
            "  inflating: /content/cannabis-health-diagnosis/data/test/Septoria/00_septoria_yellowleaf_test.jpg  \n",
            "  inflating: /content/cannabis-health-diagnosis/data/test/Septoria/01_septoria_yellowleaf_test.jpg  \n",
            "   creating: /content/cannabis-health-diagnosis/data/train/Aphids/\n",
            "   creating: /content/cannabis-health-diagnosis/data/train/Botrytis/\n",
            "   creating: /content/cannabis-health-diagnosis/data/train/Dehydration/\n",
            "   creating: /content/cannabis-health-diagnosis/data/train/Healthy/\n",
            "   creating: /content/cannabis-health-diagnosis/data/train/Leaf Miners/\n",
            "   creating: /content/cannabis-health-diagnosis/data/train/Nitrogen Deficiency/\n",
            "   creating: /content/cannabis-health-diagnosis/data/train/Nutrient Burn/\n",
            "   creating: /content/cannabis-health-diagnosis/data/train/Overwatering/\n",
            "   creating: /content/cannabis-health-diagnosis/data/train/PH Fluctuation/\n",
            "   creating: /content/cannabis-health-diagnosis/data/train/Phosphorus Deficiency/\n",
            "   creating: /content/cannabis-health-diagnosis/data/train/Potassium Deficiency/\n",
            "   creating: /content/cannabis-health-diagnosis/data/train/Powdery Mildew/\n",
            "   creating: /content/cannabis-health-diagnosis/data/train/Septoria/\n",
            "  inflating: /content/cannabis-health-diagnosis/data/train/Aphids/00_aphids_train.jpg  \n",
            "  inflating: /content/cannabis-health-diagnosis/data/train/Aphids/00_aphids_train_aug0.jpg  \n",
            "  inflating: /content/cannabis-health-diagnosis/data/train/Aphids/00_aphids_train_aug10.jpg  \n",
            "  inflating: /content/cannabis-health-diagnosis/data/train/Aphids/00_aphids_train_aug20.jpg  \n",
            "  inflating: /content/cannabis-health-diagnosis/data/train/Aphids/00_aphids_train_aug30.jpg  \n",
            "  inflating: /content/cannabis-health-diagnosis/data/train/Aphids/00_aphids_train_aug40.jpg  \n",
            "  inflating: /content/cannabis-health-diagnosis/data/train/Aphids/00_aphids_train_aug50.jpg  \n",
            "  inflating: /content/cannabis-health-diagnosis/data/train/Aphids/00_aphids_train_aug60.jpg  \n",
            "  inflating: /content/cannabis-health-diagnosis/data/train/Aphids/00_aphids_train_aug70.jpg  \n",
            "  inflating: /content/cannabis-health-diagnosis/data/train/Aphids/00_aphids_train_aug80.jpg  \n",
            "  inflating: /content/cannabis-health-diagnosis/data/train/Aphids/01_aphids_train.jpg  \n",
            "  inflating: /content/cannabis-health-diagnosis/data/train/Aphids/01_aphids_train_aug1.jpg  \n",
            "  inflating: /content/cannabis-health-diagnosis/data/train/Aphids/01_aphids_train_aug11.jpg  \n",
            "  inflating: /content/cannabis-health-diagnosis/data/train/Aphids/01_aphids_train_aug21.jpg  \n",
            "  inflating: /content/cannabis-health-diagnosis/data/train/Aphids/01_aphids_train_aug31.jpg  \n",
            "  inflating: /content/cannabis-health-diagnosis/data/train/Aphids/01_aphids_train_aug41.jpg  \n",
            "  inflating: /content/cannabis-health-diagnosis/data/train/Aphids/01_aphids_train_aug51.jpg  \n",
            "  inflating: /content/cannabis-health-diagnosis/data/train/Aphids/01_aphids_train_aug61.jpg  \n",
            "  inflating: /content/cannabis-health-diagnosis/data/train/Aphids/01_aphids_train_aug71.jpg  \n",
            "  inflating: /content/cannabis-health-diagnosis/data/train/Aphids/01_aphids_train_aug81.jpg  \n",
            "  inflating: /content/cannabis-health-diagnosis/data/train/Aphids/02_aphids_train.jpg  \n",
            "  inflating: /content/cannabis-health-diagnosis/data/train/Aphids/02_aphids_train_aug12.jpg  \n",
            "  inflating: /content/cannabis-health-diagnosis/data/train/Aphids/02_aphids_train_aug2.jpg  \n",
            "  inflating: /content/cannabis-health-diagnosis/data/train/Aphids/02_aphids_train_aug22.jpg  \n",
            "  inflating: /content/cannabis-health-diagnosis/data/train/Aphids/02_aphids_train_aug32.jpg  \n",
            "  inflating: /content/cannabis-health-diagnosis/data/train/Aphids/02_aphids_train_aug42.jpg  \n",
            "  inflating: /content/cannabis-health-diagnosis/data/train/Aphids/02_aphids_train_aug52.jpg  \n",
            "  inflating: /content/cannabis-health-diagnosis/data/train/Aphids/02_aphids_train_aug62.jpg  \n",
            "  inflating: /content/cannabis-health-diagnosis/data/train/Aphids/02_aphids_train_aug72.jpg  \n",
            "  inflating: /content/cannabis-health-diagnosis/data/train/Aphids/02_aphids_train_aug82.jpg  \n",
            "  inflating: /content/cannabis-health-diagnosis/data/train/Aphids/03_aphids_train.jpg  \n",
            "  inflating: /content/cannabis-health-diagnosis/data/train/Aphids/03_aphids_train_aug13.jpg  \n",
            "  inflating: /content/cannabis-health-diagnosis/data/train/Aphids/03_aphids_train_aug23.jpg  \n",
            "  inflating: /content/cannabis-health-diagnosis/data/train/Aphids/03_aphids_train_aug3.jpg  \n",
            "  inflating: /content/cannabis-health-diagnosis/data/train/Aphids/03_aphids_train_aug33.jpg  \n",
            "  inflating: /content/cannabis-health-diagnosis/data/train/Aphids/03_aphids_train_aug43.jpg  \n",
            "  inflating: /content/cannabis-health-diagnosis/data/train/Aphids/03_aphids_train_aug53.jpg  \n",
            "  inflating: /content/cannabis-health-diagnosis/data/train/Aphids/03_aphids_train_aug63.jpg  \n",
            "  inflating: /content/cannabis-health-diagnosis/data/train/Aphids/03_aphids_train_aug73.jpg  \n",
            "  inflating: /content/cannabis-health-diagnosis/data/train/Aphids/03_aphids_train_aug83.jpg  \n",
            "  inflating: /content/cannabis-health-diagnosis/data/train/Aphids/04_aphids_train.jpg  \n",
            "  inflating: /content/cannabis-health-diagnosis/data/train/Aphids/04_aphids_train_aug14.jpg  \n",
            "  inflating: /content/cannabis-health-diagnosis/data/train/Aphids/04_aphids_train_aug24.jpg  \n",
            "  inflating: /content/cannabis-health-diagnosis/data/train/Aphids/04_aphids_train_aug34.jpg  \n",
            "  inflating: /content/cannabis-health-diagnosis/data/train/Aphids/04_aphids_train_aug4.jpg  \n",
            "  inflating: /content/cannabis-health-diagnosis/data/train/Aphids/04_aphids_train_aug44.jpg  \n",
            "  inflating: /content/cannabis-health-diagnosis/data/train/Aphids/04_aphids_train_aug54.jpg  \n",
            "  inflating: /content/cannabis-health-diagnosis/data/train/Aphids/04_aphids_train_aug64.jpg  \n",
            "  inflating: /content/cannabis-health-diagnosis/data/train/Aphids/04_aphids_train_aug74.jpg  \n",
            "  inflating: /content/cannabis-health-diagnosis/data/train/Aphids/04_aphids_train_aug84.jpg  \n",
            "  inflating: /content/cannabis-health-diagnosis/data/train/Aphids/05_aphids_train.jpg  \n",
            "  inflating: /content/cannabis-health-diagnosis/data/train/Aphids/05_aphids_train_aug15.jpg  \n",
            "  inflating: /content/cannabis-health-diagnosis/data/train/Aphids/05_aphids_train_aug25.jpg  \n",
            "  inflating: /content/cannabis-health-diagnosis/data/train/Aphids/05_aphids_train_aug35.jpg  \n",
            "  inflating: /content/cannabis-health-diagnosis/data/train/Aphids/05_aphids_train_aug45.jpg  \n",
            "  inflating: /content/cannabis-health-diagnosis/data/train/Aphids/05_aphids_train_aug5.jpg  \n",
            "  inflating: /content/cannabis-health-diagnosis/data/train/Aphids/05_aphids_train_aug55.jpg  \n",
            "  inflating: /content/cannabis-health-diagnosis/data/train/Aphids/05_aphids_train_aug65.jpg  \n",
            "  inflating: /content/cannabis-health-diagnosis/data/train/Aphids/05_aphids_train_aug75.jpg  \n",
            "  inflating: /content/cannabis-health-diagnosis/data/train/Aphids/05_aphids_train_aug85.jpg  \n",
            "  inflating: /content/cannabis-health-diagnosis/data/train/Aphids/06_aphids_train.jpg  \n",
            "  inflating: /content/cannabis-health-diagnosis/data/train/Aphids/06_aphids_train_aug16.jpg  \n",
            "  inflating: /content/cannabis-health-diagnosis/data/train/Aphids/06_aphids_train_aug26.jpg  \n",
            "  inflating: /content/cannabis-health-diagnosis/data/train/Aphids/06_aphids_train_aug36.jpg  \n",
            "  inflating: /content/cannabis-health-diagnosis/data/train/Aphids/06_aphids_train_aug46.jpg  \n",
            "  inflating: /content/cannabis-health-diagnosis/data/train/Aphids/06_aphids_train_aug56.jpg  \n",
            "  inflating: /content/cannabis-health-diagnosis/data/train/Aphids/06_aphids_train_aug6.jpg  \n",
            "  inflating: /content/cannabis-health-diagnosis/data/train/Aphids/06_aphids_train_aug66.jpg  \n",
            "  inflating: /content/cannabis-health-diagnosis/data/train/Aphids/06_aphids_train_aug76.jpg  \n",
            "  inflating: /content/cannabis-health-diagnosis/data/train/Aphids/06_aphids_train_aug86.jpg  \n",
            "  inflating: /content/cannabis-health-diagnosis/data/train/Aphids/07_aphids_train.jpg  \n",
            "  inflating: /content/cannabis-health-diagnosis/data/train/Aphids/07_aphids_train_aug17.jpg  \n",
            "  inflating: /content/cannabis-health-diagnosis/data/train/Aphids/07_aphids_train_aug27.jpg  \n",
            "  inflating: /content/cannabis-health-diagnosis/data/train/Aphids/07_aphids_train_aug37.jpg  \n",
            "  inflating: /content/cannabis-health-diagnosis/data/train/Aphids/07_aphids_train_aug47.jpg  \n",
            "  inflating: /content/cannabis-health-diagnosis/data/train/Aphids/07_aphids_train_aug57.jpg  \n",
            "  inflating: /content/cannabis-health-diagnosis/data/train/Aphids/07_aphids_train_aug67.jpg  \n",
            "  inflating: /content/cannabis-health-diagnosis/data/train/Aphids/07_aphids_train_aug7.jpg  \n",
            "  inflating: /content/cannabis-health-diagnosis/data/train/Aphids/07_aphids_train_aug77.jpg  \n",
            "  inflating: /content/cannabis-health-diagnosis/data/train/Aphids/07_aphids_train_aug87.jpg  \n",
            "  inflating: /content/cannabis-health-diagnosis/data/train/Aphids/08_aphids_train.jpg  \n",
            "  inflating: /content/cannabis-health-diagnosis/data/train/Aphids/08_aphids_train_aug18.jpg  \n",
            "  inflating: /content/cannabis-health-diagnosis/data/train/Aphids/08_aphids_train_aug28.jpg  \n",
            "  inflating: /content/cannabis-health-diagnosis/data/train/Aphids/08_aphids_train_aug38.jpg  \n",
            "  inflating: /content/cannabis-health-diagnosis/data/train/Aphids/08_aphids_train_aug48.jpg  \n",
            "  inflating: /content/cannabis-health-diagnosis/data/train/Aphids/08_aphids_train_aug58.jpg  \n",
            "  inflating: /content/cannabis-health-diagnosis/data/train/Aphids/08_aphids_train_aug68.jpg  \n",
            "  inflating: /content/cannabis-health-diagnosis/data/train/Aphids/08_aphids_train_aug78.jpg  \n",
            "  inflating: /content/cannabis-health-diagnosis/data/train/Aphids/08_aphids_train_aug8.jpg  \n",
            "  inflating: /content/cannabis-health-diagnosis/data/train/Aphids/08_aphids_train_aug88.jpg  \n",
            "  inflating: /content/cannabis-health-diagnosis/data/train/Aphids/09_aphids_train.jpg  \n",
            "  inflating: /content/cannabis-health-diagnosis/data/train/Aphids/09_aphids_train_aug19.jpg  \n",
            "  inflating: /content/cannabis-health-diagnosis/data/train/Aphids/09_aphids_train_aug29.jpg  \n",
            "  inflating: /content/cannabis-health-diagnosis/data/train/Aphids/09_aphids_train_aug39.jpg  \n",
            "  inflating: /content/cannabis-health-diagnosis/data/train/Aphids/09_aphids_train_aug49.jpg  \n",
            "  inflating: /content/cannabis-health-diagnosis/data/train/Aphids/09_aphids_train_aug59.jpg  \n",
            "  inflating: /content/cannabis-health-diagnosis/data/train/Aphids/09_aphids_train_aug69.jpg  \n",
            "  inflating: /content/cannabis-health-diagnosis/data/train/Aphids/09_aphids_train_aug79.jpg  \n",
            "  inflating: /content/cannabis-health-diagnosis/data/train/Aphids/09_aphids_train_aug89.jpg  \n",
            "  inflating: /content/cannabis-health-diagnosis/data/train/Aphids/09_aphids_train_aug9.jpg  \n",
            "  inflating: /content/cannabis-health-diagnosis/data/train/Botrytis/00_botrytis_train.jpg  \n",
            "  inflating: /content/cannabis-health-diagnosis/data/train/Botrytis/00_botrytis_train_aug0.jpg  \n",
            "  inflating: /content/cannabis-health-diagnosis/data/train/Botrytis/00_botrytis_train_aug10.jpg  \n",
            "  inflating: /content/cannabis-health-diagnosis/data/train/Botrytis/00_botrytis_train_aug20.jpg  \n",
            "  inflating: /content/cannabis-health-diagnosis/data/train/Botrytis/00_botrytis_train_aug30.jpg  \n",
            "  inflating: /content/cannabis-health-diagnosis/data/train/Botrytis/00_botrytis_train_aug40.jpg  \n",
            "  inflating: /content/cannabis-health-diagnosis/data/train/Botrytis/00_botrytis_train_aug50.jpg  \n",
            "  inflating: /content/cannabis-health-diagnosis/data/train/Botrytis/00_botrytis_train_aug60.jpg  \n",
            "  inflating: /content/cannabis-health-diagnosis/data/train/Botrytis/00_botrytis_train_aug70.jpg  \n",
            "  inflating: /content/cannabis-health-diagnosis/data/train/Botrytis/00_botrytis_train_aug80.jpg  \n",
            "  inflating: /content/cannabis-health-diagnosis/data/train/Botrytis/01_botrytis_train.jpg  \n",
            "  inflating: /content/cannabis-health-diagnosis/data/train/Botrytis/01_botrytis_train_aug1.jpg  \n",
            "  inflating: /content/cannabis-health-diagnosis/data/train/Botrytis/01_botrytis_train_aug11.jpg  \n",
            "  inflating: /content/cannabis-health-diagnosis/data/train/Botrytis/01_botrytis_train_aug21.jpg  \n",
            "  inflating: /content/cannabis-health-diagnosis/data/train/Botrytis/01_botrytis_train_aug31.jpg  \n",
            "  inflating: /content/cannabis-health-diagnosis/data/train/Botrytis/01_botrytis_train_aug41.jpg  \n",
            "  inflating: /content/cannabis-health-diagnosis/data/train/Botrytis/01_botrytis_train_aug51.jpg  \n",
            "  inflating: /content/cannabis-health-diagnosis/data/train/Botrytis/01_botrytis_train_aug61.jpg  \n",
            "  inflating: /content/cannabis-health-diagnosis/data/train/Botrytis/01_botrytis_train_aug71.jpg  \n",
            "  inflating: /content/cannabis-health-diagnosis/data/train/Botrytis/01_botrytis_train_aug81.jpg  \n",
            "  inflating: /content/cannabis-health-diagnosis/data/train/Botrytis/02_botrytis_train.jpg  \n",
            "  inflating: /content/cannabis-health-diagnosis/data/train/Botrytis/02_botrytis_train_aug12.jpg  \n",
            "  inflating: /content/cannabis-health-diagnosis/data/train/Botrytis/02_botrytis_train_aug2.jpg  \n",
            "  inflating: /content/cannabis-health-diagnosis/data/train/Botrytis/02_botrytis_train_aug22.jpg  \n",
            "  inflating: /content/cannabis-health-diagnosis/data/train/Botrytis/02_botrytis_train_aug32.jpg  \n",
            "  inflating: /content/cannabis-health-diagnosis/data/train/Botrytis/02_botrytis_train_aug42.jpg  \n",
            "  inflating: /content/cannabis-health-diagnosis/data/train/Botrytis/02_botrytis_train_aug52.jpg  \n",
            "  inflating: /content/cannabis-health-diagnosis/data/train/Botrytis/02_botrytis_train_aug62.jpg  \n",
            "  inflating: /content/cannabis-health-diagnosis/data/train/Botrytis/02_botrytis_train_aug72.jpg  \n",
            "  inflating: /content/cannabis-health-diagnosis/data/train/Botrytis/02_botrytis_train_aug82.jpg  \n",
            "  inflating: /content/cannabis-health-diagnosis/data/train/Botrytis/03_botrytis_train.jpg  \n",
            "  inflating: /content/cannabis-health-diagnosis/data/train/Botrytis/03_botrytis_train_aug13.jpg  \n",
            "  inflating: /content/cannabis-health-diagnosis/data/train/Botrytis/03_botrytis_train_aug23.jpg  \n",
            "  inflating: /content/cannabis-health-diagnosis/data/train/Botrytis/03_botrytis_train_aug3.jpg  \n",
            "  inflating: /content/cannabis-health-diagnosis/data/train/Botrytis/03_botrytis_train_aug33.jpg  \n",
            "  inflating: /content/cannabis-health-diagnosis/data/train/Botrytis/03_botrytis_train_aug43.jpg  \n",
            "  inflating: /content/cannabis-health-diagnosis/data/train/Botrytis/03_botrytis_train_aug53.jpg  \n",
            "  inflating: /content/cannabis-health-diagnosis/data/train/Botrytis/03_botrytis_train_aug63.jpg  \n",
            "  inflating: /content/cannabis-health-diagnosis/data/train/Botrytis/03_botrytis_train_aug73.jpg  \n",
            "  inflating: /content/cannabis-health-diagnosis/data/train/Botrytis/03_botrytis_train_aug83.jpg  \n",
            "  inflating: /content/cannabis-health-diagnosis/data/train/Botrytis/04_botrytis_train.jpg  \n",
            "  inflating: /content/cannabis-health-diagnosis/data/train/Botrytis/04_botrytis_train_aug14.jpg  \n",
            "  inflating: /content/cannabis-health-diagnosis/data/train/Botrytis/04_botrytis_train_aug24.jpg  \n",
            "  inflating: /content/cannabis-health-diagnosis/data/train/Botrytis/04_botrytis_train_aug34.jpg  \n",
            "  inflating: /content/cannabis-health-diagnosis/data/train/Botrytis/04_botrytis_train_aug4.jpg  \n",
            "  inflating: /content/cannabis-health-diagnosis/data/train/Botrytis/04_botrytis_train_aug44.jpg  \n",
            "  inflating: /content/cannabis-health-diagnosis/data/train/Botrytis/04_botrytis_train_aug54.jpg  \n",
            "  inflating: /content/cannabis-health-diagnosis/data/train/Botrytis/04_botrytis_train_aug64.jpg  \n",
            "  inflating: /content/cannabis-health-diagnosis/data/train/Botrytis/04_botrytis_train_aug74.jpg  \n",
            "  inflating: /content/cannabis-health-diagnosis/data/train/Botrytis/04_botrytis_train_aug84.jpg  \n",
            "  inflating: /content/cannabis-health-diagnosis/data/train/Botrytis/05_botrytis_train.jpg  \n",
            "  inflating: /content/cannabis-health-diagnosis/data/train/Botrytis/05_botrytis_train_aug15.jpg  \n",
            "  inflating: /content/cannabis-health-diagnosis/data/train/Botrytis/05_botrytis_train_aug25.jpg  \n",
            "  inflating: /content/cannabis-health-diagnosis/data/train/Botrytis/05_botrytis_train_aug35.jpg  \n",
            "  inflating: /content/cannabis-health-diagnosis/data/train/Botrytis/05_botrytis_train_aug45.jpg  \n",
            "  inflating: /content/cannabis-health-diagnosis/data/train/Botrytis/05_botrytis_train_aug5.jpg  \n",
            "  inflating: /content/cannabis-health-diagnosis/data/train/Botrytis/05_botrytis_train_aug55.jpg  \n",
            "  inflating: /content/cannabis-health-diagnosis/data/train/Botrytis/05_botrytis_train_aug65.jpg  \n",
            "  inflating: /content/cannabis-health-diagnosis/data/train/Botrytis/05_botrytis_train_aug75.jpg  \n",
            "  inflating: /content/cannabis-health-diagnosis/data/train/Botrytis/05_botrytis_train_aug85.jpg  \n",
            "  inflating: /content/cannabis-health-diagnosis/data/train/Botrytis/06_botrytis_train.jpg  \n",
            "  inflating: /content/cannabis-health-diagnosis/data/train/Botrytis/06_botrytis_train_aug16.jpg  \n",
            "  inflating: /content/cannabis-health-diagnosis/data/train/Botrytis/06_botrytis_train_aug26.jpg  \n",
            "  inflating: /content/cannabis-health-diagnosis/data/train/Botrytis/06_botrytis_train_aug36.jpg  \n",
            "  inflating: /content/cannabis-health-diagnosis/data/train/Botrytis/06_botrytis_train_aug46.jpg  \n",
            "  inflating: /content/cannabis-health-diagnosis/data/train/Botrytis/06_botrytis_train_aug56.jpg  \n",
            "  inflating: /content/cannabis-health-diagnosis/data/train/Botrytis/06_botrytis_train_aug6.jpg  \n",
            "  inflating: /content/cannabis-health-diagnosis/data/train/Botrytis/06_botrytis_train_aug66.jpg  \n",
            "  inflating: /content/cannabis-health-diagnosis/data/train/Botrytis/06_botrytis_train_aug76.jpg  \n",
            "  inflating: /content/cannabis-health-diagnosis/data/train/Botrytis/06_botrytis_train_aug86.jpg  \n",
            "  inflating: /content/cannabis-health-diagnosis/data/train/Botrytis/07_botrytis_train.jpg  \n",
            "  inflating: /content/cannabis-health-diagnosis/data/train/Botrytis/07_botrytis_train_aug17.jpg  \n",
            "  inflating: /content/cannabis-health-diagnosis/data/train/Botrytis/07_botrytis_train_aug27.jpg  \n",
            "  inflating: /content/cannabis-health-diagnosis/data/train/Botrytis/07_botrytis_train_aug37.jpg  \n",
            "  inflating: /content/cannabis-health-diagnosis/data/train/Botrytis/07_botrytis_train_aug47.jpg  \n",
            "  inflating: /content/cannabis-health-diagnosis/data/train/Botrytis/07_botrytis_train_aug57.jpg  \n",
            "  inflating: /content/cannabis-health-diagnosis/data/train/Botrytis/07_botrytis_train_aug67.jpg  \n",
            "  inflating: /content/cannabis-health-diagnosis/data/train/Botrytis/07_botrytis_train_aug7.jpg  \n",
            "  inflating: /content/cannabis-health-diagnosis/data/train/Botrytis/07_botrytis_train_aug77.jpg  \n",
            "  inflating: /content/cannabis-health-diagnosis/data/train/Botrytis/07_botrytis_train_aug87.jpg  \n",
            "  inflating: /content/cannabis-health-diagnosis/data/train/Botrytis/08_botrytis_train.jpg  \n",
            "  inflating: /content/cannabis-health-diagnosis/data/train/Botrytis/08_botrytis_train_aug18.jpg  \n",
            "  inflating: /content/cannabis-health-diagnosis/data/train/Botrytis/08_botrytis_train_aug28.jpg  \n",
            "  inflating: /content/cannabis-health-diagnosis/data/train/Botrytis/08_botrytis_train_aug38.jpg  \n",
            "  inflating: /content/cannabis-health-diagnosis/data/train/Botrytis/08_botrytis_train_aug48.jpg  \n",
            "  inflating: /content/cannabis-health-diagnosis/data/train/Botrytis/08_botrytis_train_aug58.jpg  \n",
            "  inflating: /content/cannabis-health-diagnosis/data/train/Botrytis/08_botrytis_train_aug68.jpg  \n",
            "  inflating: /content/cannabis-health-diagnosis/data/train/Botrytis/08_botrytis_train_aug78.jpg  \n",
            "  inflating: /content/cannabis-health-diagnosis/data/train/Botrytis/08_botrytis_train_aug8.jpg  \n",
            "  inflating: /content/cannabis-health-diagnosis/data/train/Botrytis/08_botrytis_train_aug88.jpg  \n",
            "  inflating: /content/cannabis-health-diagnosis/data/train/Botrytis/09_botrytis_train.jpg  \n",
            "  inflating: /content/cannabis-health-diagnosis/data/train/Botrytis/09_botrytis_train_aug19.jpg  \n",
            "  inflating: /content/cannabis-health-diagnosis/data/train/Botrytis/09_botrytis_train_aug29.jpg  \n",
            "  inflating: /content/cannabis-health-diagnosis/data/train/Botrytis/09_botrytis_train_aug39.jpg  \n",
            "  inflating: /content/cannabis-health-diagnosis/data/train/Botrytis/09_botrytis_train_aug49.jpg  \n",
            "  inflating: /content/cannabis-health-diagnosis/data/train/Botrytis/09_botrytis_train_aug59.jpg  \n",
            "  inflating: /content/cannabis-health-diagnosis/data/train/Botrytis/09_botrytis_train_aug69.jpg  \n",
            "  inflating: /content/cannabis-health-diagnosis/data/train/Botrytis/09_botrytis_train_aug79.jpg  \n",
            "  inflating: /content/cannabis-health-diagnosis/data/train/Botrytis/09_botrytis_train_aug89.jpg  \n",
            "  inflating: /content/cannabis-health-diagnosis/data/train/Botrytis/09_botrytis_train_aug9.jpg  \n",
            "  inflating: /content/cannabis-health-diagnosis/data/train/Dehydration/00_dehydration_train.jpg  \n",
            "  inflating: /content/cannabis-health-diagnosis/data/train/Dehydration/00_dehydration_train_aug0.jpg  \n",
            "  inflating: /content/cannabis-health-diagnosis/data/train/Dehydration/00_dehydration_train_aug18.jpg  \n",
            "  inflating: /content/cannabis-health-diagnosis/data/train/Dehydration/00_dehydration_train_aug27.jpg  \n",
            "  inflating: /content/cannabis-health-diagnosis/data/train/Dehydration/00_dehydration_train_aug36.jpg  \n",
            "  inflating: /content/cannabis-health-diagnosis/data/train/Dehydration/00_dehydration_train_aug45.jpg  \n",
            "  inflating: /content/cannabis-health-diagnosis/data/train/Dehydration/00_dehydration_train_aug54.jpg  \n",
            "  inflating: /content/cannabis-health-diagnosis/data/train/Dehydration/00_dehydration_train_aug63.jpg  \n",
            "  inflating: /content/cannabis-health-diagnosis/data/train/Dehydration/00_dehydration_train_aug72.jpg  \n",
            "  inflating: /content/cannabis-health-diagnosis/data/train/Dehydration/00_dehydration_train_aug81.jpg  \n",
            "  inflating: /content/cannabis-health-diagnosis/data/train/Dehydration/00_dehydration_train_aug9.jpg  \n",
            "  inflating: /content/cannabis-health-diagnosis/data/train/Dehydration/00_dehydration_train_aug90.jpg  \n",
            "  inflating: /content/cannabis-health-diagnosis/data/train/Dehydration/01_dehydration_train.jpg  \n",
            "  inflating: /content/cannabis-health-diagnosis/data/train/Dehydration/01_dehydration_train_aug1.jpg  \n",
            "  inflating: /content/cannabis-health-diagnosis/data/train/Dehydration/01_dehydration_train_aug10.jpg  \n",
            "  inflating: /content/cannabis-health-diagnosis/data/train/Dehydration/01_dehydration_train_aug19.jpg  \n",
            "  inflating: /content/cannabis-health-diagnosis/data/train/Dehydration/01_dehydration_train_aug28.jpg  \n",
            "  inflating: /content/cannabis-health-diagnosis/data/train/Dehydration/01_dehydration_train_aug37.jpg  \n",
            "  inflating: /content/cannabis-health-diagnosis/data/train/Dehydration/01_dehydration_train_aug46.jpg  \n",
            "  inflating: /content/cannabis-health-diagnosis/data/train/Dehydration/01_dehydration_train_aug55.jpg  \n",
            "  inflating: /content/cannabis-health-diagnosis/data/train/Dehydration/01_dehydration_train_aug64.jpg  \n",
            "  inflating: /content/cannabis-health-diagnosis/data/train/Dehydration/01_dehydration_train_aug73.jpg  \n",
            "  inflating: /content/cannabis-health-diagnosis/data/train/Dehydration/01_dehydration_train_aug82.jpg  \n",
            "  inflating: /content/cannabis-health-diagnosis/data/train/Dehydration/02_dehydration_train.jpg  \n",
            "  inflating: /content/cannabis-health-diagnosis/data/train/Dehydration/02_dehydration_train_aug11.jpg  \n",
            "  inflating: /content/cannabis-health-diagnosis/data/train/Dehydration/02_dehydration_train_aug2.jpg  \n",
            "  inflating: /content/cannabis-health-diagnosis/data/train/Dehydration/02_dehydration_train_aug20.jpg  \n",
            "  inflating: /content/cannabis-health-diagnosis/data/train/Dehydration/02_dehydration_train_aug29.jpg  \n",
            "  inflating: /content/cannabis-health-diagnosis/data/train/Dehydration/02_dehydration_train_aug38.jpg  \n",
            "  inflating: /content/cannabis-health-diagnosis/data/train/Dehydration/02_dehydration_train_aug47.jpg  \n",
            "  inflating: /content/cannabis-health-diagnosis/data/train/Dehydration/02_dehydration_train_aug56.jpg  \n",
            "  inflating: /content/cannabis-health-diagnosis/data/train/Dehydration/02_dehydration_train_aug65.jpg  \n",
            "  inflating: /content/cannabis-health-diagnosis/data/train/Dehydration/02_dehydration_train_aug74.jpg  \n",
            "  inflating: /content/cannabis-health-diagnosis/data/train/Dehydration/02_dehydration_train_aug83.jpg  \n",
            "  inflating: /content/cannabis-health-diagnosis/data/train/Dehydration/03_dehydration_train.jpg  \n",
            "  inflating: /content/cannabis-health-diagnosis/data/train/Dehydration/03_dehydration_train_aug12.jpg  \n",
            "  inflating: /content/cannabis-health-diagnosis/data/train/Dehydration/03_dehydration_train_aug21.jpg  \n",
            "  inflating: /content/cannabis-health-diagnosis/data/train/Dehydration/03_dehydration_train_aug3.jpg  \n",
            "  inflating: /content/cannabis-health-diagnosis/data/train/Dehydration/03_dehydration_train_aug30.jpg  \n",
            "  inflating: /content/cannabis-health-diagnosis/data/train/Dehydration/03_dehydration_train_aug39.jpg  \n",
            "  inflating: /content/cannabis-health-diagnosis/data/train/Dehydration/03_dehydration_train_aug48.jpg  \n",
            "  inflating: /content/cannabis-health-diagnosis/data/train/Dehydration/03_dehydration_train_aug57.jpg  \n",
            "  inflating: /content/cannabis-health-diagnosis/data/train/Dehydration/03_dehydration_train_aug66.jpg  \n",
            "  inflating: /content/cannabis-health-diagnosis/data/train/Dehydration/03_dehydration_train_aug75.jpg  \n",
            "  inflating: /content/cannabis-health-diagnosis/data/train/Dehydration/03_dehydration_train_aug84.jpg  \n",
            "  inflating: /content/cannabis-health-diagnosis/data/train/Dehydration/04_dehydration_train.jpg  \n",
            "  inflating: /content/cannabis-health-diagnosis/data/train/Dehydration/04_dehydration_train_aug13.jpg  \n",
            "  inflating: /content/cannabis-health-diagnosis/data/train/Dehydration/04_dehydration_train_aug22.jpg  \n",
            "  inflating: /content/cannabis-health-diagnosis/data/train/Dehydration/04_dehydration_train_aug31.jpg  \n",
            "  inflating: /content/cannabis-health-diagnosis/data/train/Dehydration/04_dehydration_train_aug4.jpg  \n",
            "  inflating: /content/cannabis-health-diagnosis/data/train/Dehydration/04_dehydration_train_aug40.jpg  \n",
            "  inflating: /content/cannabis-health-diagnosis/data/train/Dehydration/04_dehydration_train_aug49.jpg  \n",
            "  inflating: /content/cannabis-health-diagnosis/data/train/Dehydration/04_dehydration_train_aug58.jpg  \n",
            "  inflating: /content/cannabis-health-diagnosis/data/train/Dehydration/04_dehydration_train_aug67.jpg  \n",
            "  inflating: /content/cannabis-health-diagnosis/data/train/Dehydration/04_dehydration_train_aug76.jpg  \n",
            "  inflating: /content/cannabis-health-diagnosis/data/train/Dehydration/04_dehydration_train_aug85.jpg  \n",
            "  inflating: /content/cannabis-health-diagnosis/data/train/Dehydration/05_dehydration_train.jpg  \n",
            "  inflating: /content/cannabis-health-diagnosis/data/train/Dehydration/05_dehydration_train_aug14.jpg  \n",
            "  inflating: /content/cannabis-health-diagnosis/data/train/Dehydration/05_dehydration_train_aug23.jpg  \n",
            "  inflating: /content/cannabis-health-diagnosis/data/train/Dehydration/05_dehydration_train_aug32.jpg  \n",
            "  inflating: /content/cannabis-health-diagnosis/data/train/Dehydration/05_dehydration_train_aug41.jpg  \n",
            "  inflating: /content/cannabis-health-diagnosis/data/train/Dehydration/05_dehydration_train_aug5.jpg  \n",
            "  inflating: /content/cannabis-health-diagnosis/data/train/Dehydration/05_dehydration_train_aug50.jpg  \n",
            "  inflating: /content/cannabis-health-diagnosis/data/train/Dehydration/05_dehydration_train_aug59.jpg  \n",
            "  inflating: /content/cannabis-health-diagnosis/data/train/Dehydration/05_dehydration_train_aug68.jpg  \n",
            "  inflating: /content/cannabis-health-diagnosis/data/train/Dehydration/05_dehydration_train_aug77.jpg  \n",
            "  inflating: /content/cannabis-health-diagnosis/data/train/Dehydration/05_dehydration_train_aug86.jpg  \n",
            "  inflating: /content/cannabis-health-diagnosis/data/train/Dehydration/06_dehydration_train.jpg  \n",
            "  inflating: /content/cannabis-health-diagnosis/data/train/Dehydration/06_dehydration_train_aug15.jpg  \n",
            "  inflating: /content/cannabis-health-diagnosis/data/train/Dehydration/06_dehydration_train_aug24.jpg  \n",
            "  inflating: /content/cannabis-health-diagnosis/data/train/Dehydration/06_dehydration_train_aug33.jpg  \n",
            "  inflating: /content/cannabis-health-diagnosis/data/train/Dehydration/06_dehydration_train_aug42.jpg  \n",
            "  inflating: /content/cannabis-health-diagnosis/data/train/Dehydration/06_dehydration_train_aug51.jpg  \n",
            "  inflating: /content/cannabis-health-diagnosis/data/train/Dehydration/06_dehydration_train_aug6.jpg  \n",
            "  inflating: /content/cannabis-health-diagnosis/data/train/Dehydration/06_dehydration_train_aug60.jpg  \n",
            "  inflating: /content/cannabis-health-diagnosis/data/train/Dehydration/06_dehydration_train_aug69.jpg  \n",
            "  inflating: /content/cannabis-health-diagnosis/data/train/Dehydration/06_dehydration_train_aug78.jpg  \n",
            "  inflating: /content/cannabis-health-diagnosis/data/train/Dehydration/06_dehydration_train_aug87.jpg  \n",
            "  inflating: /content/cannabis-health-diagnosis/data/train/Dehydration/07_dehydration_train.jpg  \n",
            "  inflating: /content/cannabis-health-diagnosis/data/train/Dehydration/07_dehydration_train_aug16.jpg  \n",
            "  inflating: /content/cannabis-health-diagnosis/data/train/Dehydration/07_dehydration_train_aug25.jpg  \n",
            "  inflating: /content/cannabis-health-diagnosis/data/train/Dehydration/07_dehydration_train_aug34.jpg  \n",
            "  inflating: /content/cannabis-health-diagnosis/data/train/Dehydration/07_dehydration_train_aug43.jpg  \n",
            "  inflating: /content/cannabis-health-diagnosis/data/train/Dehydration/07_dehydration_train_aug52.jpg  \n",
            "  inflating: /content/cannabis-health-diagnosis/data/train/Dehydration/07_dehydration_train_aug61.jpg  \n",
            "  inflating: /content/cannabis-health-diagnosis/data/train/Dehydration/07_dehydration_train_aug7.jpg  \n",
            "  inflating: /content/cannabis-health-diagnosis/data/train/Dehydration/07_dehydration_train_aug70.jpg  \n",
            "  inflating: /content/cannabis-health-diagnosis/data/train/Dehydration/07_dehydration_train_aug79.jpg  \n",
            "  inflating: /content/cannabis-health-diagnosis/data/train/Dehydration/07_dehydration_train_aug88.jpg  \n",
            "  inflating: /content/cannabis-health-diagnosis/data/train/Dehydration/08_dehydration_train.jpg  \n",
            "  inflating: /content/cannabis-health-diagnosis/data/train/Dehydration/08_dehydration_train_aug17.jpg  \n",
            "  inflating: /content/cannabis-health-diagnosis/data/train/Dehydration/08_dehydration_train_aug26.jpg  \n",
            "  inflating: /content/cannabis-health-diagnosis/data/train/Dehydration/08_dehydration_train_aug35.jpg  \n",
            "  inflating: /content/cannabis-health-diagnosis/data/train/Dehydration/08_dehydration_train_aug44.jpg  \n",
            "  inflating: /content/cannabis-health-diagnosis/data/train/Dehydration/08_dehydration_train_aug53.jpg  \n",
            "  inflating: /content/cannabis-health-diagnosis/data/train/Dehydration/08_dehydration_train_aug62.jpg  \n",
            "  inflating: /content/cannabis-health-diagnosis/data/train/Dehydration/08_dehydration_train_aug71.jpg  \n",
            "  inflating: /content/cannabis-health-diagnosis/data/train/Dehydration/08_dehydration_train_aug8.jpg  \n",
            "  inflating: /content/cannabis-health-diagnosis/data/train/Dehydration/08_dehydration_train_aug80.jpg  \n",
            "  inflating: /content/cannabis-health-diagnosis/data/train/Dehydration/08_dehydration_train_aug89.jpg  \n",
            "  inflating: /content/cannabis-health-diagnosis/data/train/Healthy/00_healthy_train.jpg  \n",
            "  inflating: /content/cannabis-health-diagnosis/data/train/Healthy/00_healthy_train_aug0.jpg  \n",
            "  inflating: /content/cannabis-health-diagnosis/data/train/Healthy/00_healthy_train_aug10.jpg  \n",
            "  inflating: /content/cannabis-health-diagnosis/data/train/Healthy/00_healthy_train_aug20.jpg  \n",
            "  inflating: /content/cannabis-health-diagnosis/data/train/Healthy/00_healthy_train_aug30.jpg  \n",
            "  inflating: /content/cannabis-health-diagnosis/data/train/Healthy/00_healthy_train_aug40.jpg  \n",
            "  inflating: /content/cannabis-health-diagnosis/data/train/Healthy/00_healthy_train_aug50.jpg  \n",
            "  inflating: /content/cannabis-health-diagnosis/data/train/Healthy/00_healthy_train_aug60.jpg  \n",
            "  inflating: /content/cannabis-health-diagnosis/data/train/Healthy/00_healthy_train_aug70.jpg  \n",
            "  inflating: /content/cannabis-health-diagnosis/data/train/Healthy/00_healthy_train_aug80.jpg  \n",
            "  inflating: /content/cannabis-health-diagnosis/data/train/Healthy/01_healthy_train.jpg  \n",
            "  inflating: /content/cannabis-health-diagnosis/data/train/Healthy/01_healthy_train_aug1.jpg  \n",
            "  inflating: /content/cannabis-health-diagnosis/data/train/Healthy/01_healthy_train_aug11.jpg  \n",
            "  inflating: /content/cannabis-health-diagnosis/data/train/Healthy/01_healthy_train_aug21.jpg  \n",
            "  inflating: /content/cannabis-health-diagnosis/data/train/Healthy/01_healthy_train_aug31.jpg  \n",
            "  inflating: /content/cannabis-health-diagnosis/data/train/Healthy/01_healthy_train_aug41.jpg  \n",
            "  inflating: /content/cannabis-health-diagnosis/data/train/Healthy/01_healthy_train_aug51.jpg  \n",
            "  inflating: /content/cannabis-health-diagnosis/data/train/Healthy/01_healthy_train_aug61.jpg  \n",
            "  inflating: /content/cannabis-health-diagnosis/data/train/Healthy/01_healthy_train_aug71.jpg  \n",
            "  inflating: /content/cannabis-health-diagnosis/data/train/Healthy/01_healthy_train_aug81.jpg  \n",
            "  inflating: /content/cannabis-health-diagnosis/data/train/Healthy/02_healthy_train.jpg  \n",
            "  inflating: /content/cannabis-health-diagnosis/data/train/Healthy/02_healthy_train_aug12.jpg  \n",
            "  inflating: /content/cannabis-health-diagnosis/data/train/Healthy/02_healthy_train_aug2.jpg  \n",
            "  inflating: /content/cannabis-health-diagnosis/data/train/Healthy/02_healthy_train_aug22.jpg  \n",
            "  inflating: /content/cannabis-health-diagnosis/data/train/Healthy/02_healthy_train_aug32.jpg  \n",
            "  inflating: /content/cannabis-health-diagnosis/data/train/Healthy/02_healthy_train_aug42.jpg  \n",
            "  inflating: /content/cannabis-health-diagnosis/data/train/Healthy/02_healthy_train_aug52.jpg  \n",
            "  inflating: /content/cannabis-health-diagnosis/data/train/Healthy/02_healthy_train_aug62.jpg  \n",
            "  inflating: /content/cannabis-health-diagnosis/data/train/Healthy/02_healthy_train_aug72.jpg  \n",
            "  inflating: /content/cannabis-health-diagnosis/data/train/Healthy/02_healthy_train_aug82.jpg  \n",
            "  inflating: /content/cannabis-health-diagnosis/data/train/Healthy/03_healthy_train.jpg  \n",
            "  inflating: /content/cannabis-health-diagnosis/data/train/Healthy/03_healthy_train_aug13.jpg  \n",
            "  inflating: /content/cannabis-health-diagnosis/data/train/Healthy/03_healthy_train_aug23.jpg  \n",
            "  inflating: /content/cannabis-health-diagnosis/data/train/Healthy/03_healthy_train_aug3.jpg  \n",
            "  inflating: /content/cannabis-health-diagnosis/data/train/Healthy/03_healthy_train_aug33.jpg  \n",
            "  inflating: /content/cannabis-health-diagnosis/data/train/Healthy/03_healthy_train_aug43.jpg  \n",
            "  inflating: /content/cannabis-health-diagnosis/data/train/Healthy/03_healthy_train_aug53.jpg  \n",
            "  inflating: /content/cannabis-health-diagnosis/data/train/Healthy/03_healthy_train_aug63.jpg  \n",
            "  inflating: /content/cannabis-health-diagnosis/data/train/Healthy/03_healthy_train_aug73.jpg  \n",
            "  inflating: /content/cannabis-health-diagnosis/data/train/Healthy/03_healthy_train_aug83.jpg  \n",
            "  inflating: /content/cannabis-health-diagnosis/data/train/Healthy/04_healthy_train.jpg  \n",
            "  inflating: /content/cannabis-health-diagnosis/data/train/Healthy/04_healthy_train_aug14.jpg  \n",
            "  inflating: /content/cannabis-health-diagnosis/data/train/Healthy/04_healthy_train_aug24.jpg  \n",
            "  inflating: /content/cannabis-health-diagnosis/data/train/Healthy/04_healthy_train_aug34.jpg  \n",
            "  inflating: /content/cannabis-health-diagnosis/data/train/Healthy/04_healthy_train_aug4.jpg  \n",
            "  inflating: /content/cannabis-health-diagnosis/data/train/Healthy/04_healthy_train_aug44.jpg  \n",
            "  inflating: /content/cannabis-health-diagnosis/data/train/Healthy/04_healthy_train_aug54.jpg  \n",
            "  inflating: /content/cannabis-health-diagnosis/data/train/Healthy/04_healthy_train_aug64.jpg  \n",
            "  inflating: /content/cannabis-health-diagnosis/data/train/Healthy/04_healthy_train_aug74.jpg  \n",
            "  inflating: /content/cannabis-health-diagnosis/data/train/Healthy/04_healthy_train_aug84.jpg  \n",
            "  inflating: /content/cannabis-health-diagnosis/data/train/Healthy/05_healthy_train.jpg  \n",
            "  inflating: /content/cannabis-health-diagnosis/data/train/Healthy/05_healthy_train_aug15.jpg  \n",
            "  inflating: /content/cannabis-health-diagnosis/data/train/Healthy/05_healthy_train_aug25.jpg  \n",
            "  inflating: /content/cannabis-health-diagnosis/data/train/Healthy/05_healthy_train_aug35.jpg  \n",
            "  inflating: /content/cannabis-health-diagnosis/data/train/Healthy/05_healthy_train_aug45.jpg  \n",
            "  inflating: /content/cannabis-health-diagnosis/data/train/Healthy/05_healthy_train_aug5.jpg  \n",
            "  inflating: /content/cannabis-health-diagnosis/data/train/Healthy/05_healthy_train_aug55.jpg  \n",
            "  inflating: /content/cannabis-health-diagnosis/data/train/Healthy/05_healthy_train_aug65.jpg  \n",
            "  inflating: /content/cannabis-health-diagnosis/data/train/Healthy/05_healthy_train_aug75.jpg  \n",
            "  inflating: /content/cannabis-health-diagnosis/data/train/Healthy/05_healthy_train_aug85.jpg  \n",
            "  inflating: /content/cannabis-health-diagnosis/data/train/Healthy/06_healthy_train.jpg  \n",
            "  inflating: /content/cannabis-health-diagnosis/data/train/Healthy/06_healthy_train_aug16.jpg  \n",
            "  inflating: /content/cannabis-health-diagnosis/data/train/Healthy/06_healthy_train_aug26.jpg  \n",
            "  inflating: /content/cannabis-health-diagnosis/data/train/Healthy/06_healthy_train_aug36.jpg  \n",
            "  inflating: /content/cannabis-health-diagnosis/data/train/Healthy/06_healthy_train_aug46.jpg  \n",
            "  inflating: /content/cannabis-health-diagnosis/data/train/Healthy/06_healthy_train_aug56.jpg  \n",
            "  inflating: /content/cannabis-health-diagnosis/data/train/Healthy/06_healthy_train_aug6.jpg  \n",
            "  inflating: /content/cannabis-health-diagnosis/data/train/Healthy/06_healthy_train_aug66.jpg  \n",
            "  inflating: /content/cannabis-health-diagnosis/data/train/Healthy/06_healthy_train_aug76.jpg  \n",
            "  inflating: /content/cannabis-health-diagnosis/data/train/Healthy/06_healthy_train_aug86.jpg  \n",
            "  inflating: /content/cannabis-health-diagnosis/data/train/Healthy/07_healthy_train.jpg  \n",
            "  inflating: /content/cannabis-health-diagnosis/data/train/Healthy/07_healthy_train_aug17.jpg  \n",
            "  inflating: /content/cannabis-health-diagnosis/data/train/Healthy/07_healthy_train_aug27.jpg  \n",
            "  inflating: /content/cannabis-health-diagnosis/data/train/Healthy/07_healthy_train_aug37.jpg  \n",
            "  inflating: /content/cannabis-health-diagnosis/data/train/Healthy/07_healthy_train_aug47.jpg  \n",
            "  inflating: /content/cannabis-health-diagnosis/data/train/Healthy/07_healthy_train_aug57.jpg  \n",
            "  inflating: /content/cannabis-health-diagnosis/data/train/Healthy/07_healthy_train_aug67.jpg  \n",
            "  inflating: /content/cannabis-health-diagnosis/data/train/Healthy/07_healthy_train_aug7.jpg  \n",
            "  inflating: /content/cannabis-health-diagnosis/data/train/Healthy/07_healthy_train_aug77.jpg  \n",
            "  inflating: /content/cannabis-health-diagnosis/data/train/Healthy/07_healthy_train_aug87.jpg  \n",
            "  inflating: /content/cannabis-health-diagnosis/data/train/Healthy/08_healthy_train.jpg  \n",
            "  inflating: /content/cannabis-health-diagnosis/data/train/Healthy/08_healthy_train_aug18.jpg  \n",
            "  inflating: /content/cannabis-health-diagnosis/data/train/Healthy/08_healthy_train_aug28.jpg  \n",
            "  inflating: /content/cannabis-health-diagnosis/data/train/Healthy/08_healthy_train_aug38.jpg  \n",
            "  inflating: /content/cannabis-health-diagnosis/data/train/Healthy/08_healthy_train_aug48.jpg  \n",
            "  inflating: /content/cannabis-health-diagnosis/data/train/Healthy/08_healthy_train_aug58.jpg  \n",
            "  inflating: /content/cannabis-health-diagnosis/data/train/Healthy/08_healthy_train_aug68.jpg  \n",
            "  inflating: /content/cannabis-health-diagnosis/data/train/Healthy/08_healthy_train_aug78.jpg  \n",
            "  inflating: /content/cannabis-health-diagnosis/data/train/Healthy/08_healthy_train_aug8.jpg  \n",
            "  inflating: /content/cannabis-health-diagnosis/data/train/Healthy/08_healthy_train_aug88.jpg  \n",
            "  inflating: /content/cannabis-health-diagnosis/data/train/Healthy/09_healthy_train.jpg  \n",
            "  inflating: /content/cannabis-health-diagnosis/data/train/Healthy/09_healthy_train_aug19.jpg  \n",
            "  inflating: /content/cannabis-health-diagnosis/data/train/Healthy/09_healthy_train_aug29.jpg  \n",
            "  inflating: /content/cannabis-health-diagnosis/data/train/Healthy/09_healthy_train_aug39.jpg  \n",
            "  inflating: /content/cannabis-health-diagnosis/data/train/Healthy/09_healthy_train_aug49.jpg  \n",
            "  inflating: /content/cannabis-health-diagnosis/data/train/Healthy/09_healthy_train_aug59.jpg  \n",
            "  inflating: /content/cannabis-health-diagnosis/data/train/Healthy/09_healthy_train_aug69.jpg  \n",
            "  inflating: /content/cannabis-health-diagnosis/data/train/Healthy/09_healthy_train_aug79.jpg  \n",
            "  inflating: /content/cannabis-health-diagnosis/data/train/Healthy/09_healthy_train_aug89.jpg  \n",
            "  inflating: /content/cannabis-health-diagnosis/data/train/Healthy/09_healthy_train_aug9.jpg  \n",
            "  inflating: /content/cannabis-health-diagnosis/data/train/Leaf Miners/00_leaf_miners_train.jpg  \n",
            "  inflating: /content/cannabis-health-diagnosis/data/train/Leaf Miners/00_leaf_miners_train_aug0.jpg  \n",
            "  inflating: /content/cannabis-health-diagnosis/data/train/Leaf Miners/00_leaf_miners_train_aug10.jpg  \n",
            "  inflating: /content/cannabis-health-diagnosis/data/train/Leaf Miners/00_leaf_miners_train_aug20.jpg  \n",
            "  inflating: /content/cannabis-health-diagnosis/data/train/Leaf Miners/00_leaf_miners_train_aug30.jpg  \n",
            "  inflating: /content/cannabis-health-diagnosis/data/train/Leaf Miners/00_leaf_miners_train_aug40.jpg  \n",
            "  inflating: /content/cannabis-health-diagnosis/data/train/Leaf Miners/00_leaf_miners_train_aug50.jpg  \n",
            "  inflating: /content/cannabis-health-diagnosis/data/train/Leaf Miners/00_leaf_miners_train_aug60.jpg  \n",
            "  inflating: /content/cannabis-health-diagnosis/data/train/Leaf Miners/00_leaf_miners_train_aug70.jpg  \n",
            "  inflating: /content/cannabis-health-diagnosis/data/train/Leaf Miners/00_leaf_miners_train_aug80.jpg  \n",
            "  inflating: /content/cannabis-health-diagnosis/data/train/Leaf Miners/01_leaf_miners_train.jpg  \n",
            "  inflating: /content/cannabis-health-diagnosis/data/train/Leaf Miners/01_leaf_miners_train_aug1.jpg  \n",
            "  inflating: /content/cannabis-health-diagnosis/data/train/Leaf Miners/01_leaf_miners_train_aug11.jpg  \n",
            "  inflating: /content/cannabis-health-diagnosis/data/train/Leaf Miners/01_leaf_miners_train_aug21.jpg  \n",
            "  inflating: /content/cannabis-health-diagnosis/data/train/Leaf Miners/01_leaf_miners_train_aug31.jpg  \n",
            "  inflating: /content/cannabis-health-diagnosis/data/train/Leaf Miners/01_leaf_miners_train_aug41.jpg  \n",
            "  inflating: /content/cannabis-health-diagnosis/data/train/Leaf Miners/01_leaf_miners_train_aug51.jpg  \n",
            "  inflating: /content/cannabis-health-diagnosis/data/train/Leaf Miners/01_leaf_miners_train_aug61.jpg  \n",
            "  inflating: /content/cannabis-health-diagnosis/data/train/Leaf Miners/01_leaf_miners_train_aug71.jpg  \n",
            "  inflating: /content/cannabis-health-diagnosis/data/train/Leaf Miners/01_leaf_miners_train_aug81.jpg  \n",
            "  inflating: /content/cannabis-health-diagnosis/data/train/Leaf Miners/02_leaf_miners_train.jpg  \n",
            "  inflating: /content/cannabis-health-diagnosis/data/train/Leaf Miners/02_leaf_miners_train_aug12.jpg  \n",
            "  inflating: /content/cannabis-health-diagnosis/data/train/Leaf Miners/02_leaf_miners_train_aug2.jpg  \n",
            "  inflating: /content/cannabis-health-diagnosis/data/train/Leaf Miners/02_leaf_miners_train_aug22.jpg  \n",
            "  inflating: /content/cannabis-health-diagnosis/data/train/Leaf Miners/02_leaf_miners_train_aug32.jpg  \n",
            "  inflating: /content/cannabis-health-diagnosis/data/train/Leaf Miners/02_leaf_miners_train_aug42.jpg  \n",
            "  inflating: /content/cannabis-health-diagnosis/data/train/Leaf Miners/02_leaf_miners_train_aug52.jpg  \n",
            "  inflating: /content/cannabis-health-diagnosis/data/train/Leaf Miners/02_leaf_miners_train_aug62.jpg  \n",
            "  inflating: /content/cannabis-health-diagnosis/data/train/Leaf Miners/02_leaf_miners_train_aug72.jpg  \n",
            "  inflating: /content/cannabis-health-diagnosis/data/train/Leaf Miners/02_leaf_miners_train_aug82.jpg  \n",
            "  inflating: /content/cannabis-health-diagnosis/data/train/Leaf Miners/03_leaf_miners_train.jpg  \n",
            "  inflating: /content/cannabis-health-diagnosis/data/train/Leaf Miners/03_leaf_miners_train_aug13.jpg  \n",
            "  inflating: /content/cannabis-health-diagnosis/data/train/Leaf Miners/03_leaf_miners_train_aug23.jpg  \n",
            "  inflating: /content/cannabis-health-diagnosis/data/train/Leaf Miners/03_leaf_miners_train_aug3.jpg  \n",
            "  inflating: /content/cannabis-health-diagnosis/data/train/Leaf Miners/03_leaf_miners_train_aug33.jpg  \n",
            "  inflating: /content/cannabis-health-diagnosis/data/train/Leaf Miners/03_leaf_miners_train_aug43.jpg  \n",
            "  inflating: /content/cannabis-health-diagnosis/data/train/Leaf Miners/03_leaf_miners_train_aug53.jpg  \n",
            "  inflating: /content/cannabis-health-diagnosis/data/train/Leaf Miners/03_leaf_miners_train_aug63.jpg  \n",
            "  inflating: /content/cannabis-health-diagnosis/data/train/Leaf Miners/03_leaf_miners_train_aug73.jpg  \n",
            "  inflating: /content/cannabis-health-diagnosis/data/train/Leaf Miners/03_leaf_miners_train_aug83.jpg  \n",
            "  inflating: /content/cannabis-health-diagnosis/data/train/Leaf Miners/04_leaf_miners_train.jpg  \n",
            "  inflating: /content/cannabis-health-diagnosis/data/train/Leaf Miners/04_leaf_miners_train_aug14.jpg  \n",
            "  inflating: /content/cannabis-health-diagnosis/data/train/Leaf Miners/04_leaf_miners_train_aug24.jpg  \n",
            "  inflating: /content/cannabis-health-diagnosis/data/train/Leaf Miners/04_leaf_miners_train_aug34.jpg  \n",
            "  inflating: /content/cannabis-health-diagnosis/data/train/Leaf Miners/04_leaf_miners_train_aug4.jpg  \n",
            "  inflating: /content/cannabis-health-diagnosis/data/train/Leaf Miners/04_leaf_miners_train_aug44.jpg  \n",
            "  inflating: /content/cannabis-health-diagnosis/data/train/Leaf Miners/04_leaf_miners_train_aug54.jpg  \n",
            "  inflating: /content/cannabis-health-diagnosis/data/train/Leaf Miners/04_leaf_miners_train_aug64.jpg  \n",
            "  inflating: /content/cannabis-health-diagnosis/data/train/Leaf Miners/04_leaf_miners_train_aug74.jpg  \n",
            "  inflating: /content/cannabis-health-diagnosis/data/train/Leaf Miners/04_leaf_miners_train_aug84.jpg  \n",
            "  inflating: /content/cannabis-health-diagnosis/data/train/Leaf Miners/05_leaf_miners_train.jpg  \n",
            "  inflating: /content/cannabis-health-diagnosis/data/train/Leaf Miners/05_leaf_miners_train_aug15.jpg  \n",
            "  inflating: /content/cannabis-health-diagnosis/data/train/Leaf Miners/05_leaf_miners_train_aug25.jpg  \n",
            "  inflating: /content/cannabis-health-diagnosis/data/train/Leaf Miners/05_leaf_miners_train_aug35.jpg  \n",
            "  inflating: /content/cannabis-health-diagnosis/data/train/Leaf Miners/05_leaf_miners_train_aug45.jpg  \n",
            "  inflating: /content/cannabis-health-diagnosis/data/train/Leaf Miners/05_leaf_miners_train_aug5.jpg  \n",
            "  inflating: /content/cannabis-health-diagnosis/data/train/Leaf Miners/05_leaf_miners_train_aug55.jpg  \n",
            "  inflating: /content/cannabis-health-diagnosis/data/train/Leaf Miners/05_leaf_miners_train_aug65.jpg  \n",
            "  inflating: /content/cannabis-health-diagnosis/data/train/Leaf Miners/05_leaf_miners_train_aug75.jpg  \n",
            "  inflating: /content/cannabis-health-diagnosis/data/train/Leaf Miners/05_leaf_miners_train_aug85.jpg  \n",
            "  inflating: /content/cannabis-health-diagnosis/data/train/Leaf Miners/06_leaf_miners_train.jpg  \n",
            "  inflating: /content/cannabis-health-diagnosis/data/train/Leaf Miners/06_leaf_miners_train_aug16.jpg  \n",
            "  inflating: /content/cannabis-health-diagnosis/data/train/Leaf Miners/06_leaf_miners_train_aug26.jpg  \n",
            "  inflating: /content/cannabis-health-diagnosis/data/train/Leaf Miners/06_leaf_miners_train_aug36.jpg  \n",
            "  inflating: /content/cannabis-health-diagnosis/data/train/Leaf Miners/06_leaf_miners_train_aug46.jpg  \n",
            "  inflating: /content/cannabis-health-diagnosis/data/train/Leaf Miners/06_leaf_miners_train_aug56.jpg  \n",
            "  inflating: /content/cannabis-health-diagnosis/data/train/Leaf Miners/06_leaf_miners_train_aug6.jpg  \n",
            "  inflating: /content/cannabis-health-diagnosis/data/train/Leaf Miners/06_leaf_miners_train_aug66.jpg  \n",
            "  inflating: /content/cannabis-health-diagnosis/data/train/Leaf Miners/06_leaf_miners_train_aug76.jpg  \n",
            "  inflating: /content/cannabis-health-diagnosis/data/train/Leaf Miners/06_leaf_miners_train_aug86.jpg  \n",
            "  inflating: /content/cannabis-health-diagnosis/data/train/Leaf Miners/07_leaf_miners_train.jpg  \n",
            "  inflating: /content/cannabis-health-diagnosis/data/train/Leaf Miners/07_leaf_miners_train_aug17.jpg  \n",
            "  inflating: /content/cannabis-health-diagnosis/data/train/Leaf Miners/07_leaf_miners_train_aug27.jpg  \n",
            "  inflating: /content/cannabis-health-diagnosis/data/train/Leaf Miners/07_leaf_miners_train_aug37.jpg  \n",
            "  inflating: /content/cannabis-health-diagnosis/data/train/Leaf Miners/07_leaf_miners_train_aug47.jpg  \n",
            "  inflating: /content/cannabis-health-diagnosis/data/train/Leaf Miners/07_leaf_miners_train_aug57.jpg  \n",
            "  inflating: /content/cannabis-health-diagnosis/data/train/Leaf Miners/07_leaf_miners_train_aug67.jpg  \n",
            "  inflating: /content/cannabis-health-diagnosis/data/train/Leaf Miners/07_leaf_miners_train_aug7.jpg  \n",
            "  inflating: /content/cannabis-health-diagnosis/data/train/Leaf Miners/07_leaf_miners_train_aug77.jpg  \n",
            "  inflating: /content/cannabis-health-diagnosis/data/train/Leaf Miners/07_leaf_miners_train_aug87.jpg  \n",
            "  inflating: /content/cannabis-health-diagnosis/data/train/Leaf Miners/08_leaf_miners_train.jpg  \n",
            "  inflating: /content/cannabis-health-diagnosis/data/train/Leaf Miners/08_leaf_miners_train_aug18.jpg  \n",
            "  inflating: /content/cannabis-health-diagnosis/data/train/Leaf Miners/08_leaf_miners_train_aug28.jpg  \n",
            "  inflating: /content/cannabis-health-diagnosis/data/train/Leaf Miners/08_leaf_miners_train_aug38.jpg  \n",
            "  inflating: /content/cannabis-health-diagnosis/data/train/Leaf Miners/08_leaf_miners_train_aug48.jpg  \n",
            "  inflating: /content/cannabis-health-diagnosis/data/train/Leaf Miners/08_leaf_miners_train_aug58.jpg  \n",
            "  inflating: /content/cannabis-health-diagnosis/data/train/Leaf Miners/08_leaf_miners_train_aug68.jpg  \n",
            "  inflating: /content/cannabis-health-diagnosis/data/train/Leaf Miners/08_leaf_miners_train_aug78.jpg  \n",
            "  inflating: /content/cannabis-health-diagnosis/data/train/Leaf Miners/08_leaf_miners_train_aug8.jpg  \n",
            "  inflating: /content/cannabis-health-diagnosis/data/train/Leaf Miners/08_leaf_miners_train_aug88.jpg  \n",
            "  inflating: /content/cannabis-health-diagnosis/data/train/Leaf Miners/09_leaf_miners_train.jpg  \n",
            "  inflating: /content/cannabis-health-diagnosis/data/train/Leaf Miners/09_leaf_miners_train_aug19.jpg  \n",
            "  inflating: /content/cannabis-health-diagnosis/data/train/Leaf Miners/09_leaf_miners_train_aug29.jpg  \n",
            "  inflating: /content/cannabis-health-diagnosis/data/train/Leaf Miners/09_leaf_miners_train_aug39.jpg  \n",
            "  inflating: /content/cannabis-health-diagnosis/data/train/Leaf Miners/09_leaf_miners_train_aug49.jpg  \n",
            "  inflating: /content/cannabis-health-diagnosis/data/train/Leaf Miners/09_leaf_miners_train_aug59.jpg  \n",
            "  inflating: /content/cannabis-health-diagnosis/data/train/Leaf Miners/09_leaf_miners_train_aug69.jpg  \n",
            "  inflating: /content/cannabis-health-diagnosis/data/train/Leaf Miners/09_leaf_miners_train_aug79.jpg  \n",
            "  inflating: /content/cannabis-health-diagnosis/data/train/Leaf Miners/09_leaf_miners_train_aug89.jpg  \n",
            "  inflating: /content/cannabis-health-diagnosis/data/train/Leaf Miners/09_leaf_miners_train_aug9.jpg  \n",
            "  inflating: /content/cannabis-health-diagnosis/data/train/Nitrogen Deficiency/00_nitrogen_def_train.jpg  \n",
            "  inflating: /content/cannabis-health-diagnosis/data/train/Nitrogen Deficiency/00_nitrogen_def_train_aug0.jpg  \n",
            "  inflating: /content/cannabis-health-diagnosis/data/train/Nitrogen Deficiency/00_nitrogen_def_train_aug10.jpg  \n",
            "  inflating: /content/cannabis-health-diagnosis/data/train/Nitrogen Deficiency/00_nitrogen_def_train_aug20.jpg  \n",
            "  inflating: /content/cannabis-health-diagnosis/data/train/Nitrogen Deficiency/00_nitrogen_def_train_aug30.jpg  \n",
            "  inflating: /content/cannabis-health-diagnosis/data/train/Nitrogen Deficiency/00_nitrogen_def_train_aug40.jpg  \n",
            "  inflating: /content/cannabis-health-diagnosis/data/train/Nitrogen Deficiency/00_nitrogen_def_train_aug50.jpg  \n",
            "  inflating: /content/cannabis-health-diagnosis/data/train/Nitrogen Deficiency/00_nitrogen_def_train_aug60.jpg  \n",
            "  inflating: /content/cannabis-health-diagnosis/data/train/Nitrogen Deficiency/00_nitrogen_def_train_aug70.jpg  \n",
            "  inflating: /content/cannabis-health-diagnosis/data/train/Nitrogen Deficiency/00_nitrogen_def_train_aug80.jpg  \n",
            "  inflating: /content/cannabis-health-diagnosis/data/train/Nitrogen Deficiency/01_nitrogen_def_train.jpg  \n",
            "  inflating: /content/cannabis-health-diagnosis/data/train/Nitrogen Deficiency/01_nitrogen_def_train_aug1.jpg  \n",
            "  inflating: /content/cannabis-health-diagnosis/data/train/Nitrogen Deficiency/01_nitrogen_def_train_aug11.jpg  \n",
            "  inflating: /content/cannabis-health-diagnosis/data/train/Nitrogen Deficiency/01_nitrogen_def_train_aug21.jpg  \n",
            "  inflating: /content/cannabis-health-diagnosis/data/train/Nitrogen Deficiency/01_nitrogen_def_train_aug31.jpg  \n",
            "  inflating: /content/cannabis-health-diagnosis/data/train/Nitrogen Deficiency/01_nitrogen_def_train_aug41.jpg  \n",
            "  inflating: /content/cannabis-health-diagnosis/data/train/Nitrogen Deficiency/01_nitrogen_def_train_aug51.jpg  \n",
            "  inflating: /content/cannabis-health-diagnosis/data/train/Nitrogen Deficiency/01_nitrogen_def_train_aug61.jpg  \n",
            "  inflating: /content/cannabis-health-diagnosis/data/train/Nitrogen Deficiency/01_nitrogen_def_train_aug71.jpg  \n",
            "  inflating: /content/cannabis-health-diagnosis/data/train/Nitrogen Deficiency/01_nitrogen_def_train_aug81.jpg  \n",
            "  inflating: /content/cannabis-health-diagnosis/data/train/Nitrogen Deficiency/02_nitrogen_def_train.jpg  \n",
            "  inflating: /content/cannabis-health-diagnosis/data/train/Nitrogen Deficiency/02_nitrogen_def_train_aug12.jpg  \n",
            "  inflating: /content/cannabis-health-diagnosis/data/train/Nitrogen Deficiency/02_nitrogen_def_train_aug2.jpg  \n",
            "  inflating: /content/cannabis-health-diagnosis/data/train/Nitrogen Deficiency/02_nitrogen_def_train_aug22.jpg  \n",
            "  inflating: /content/cannabis-health-diagnosis/data/train/Nitrogen Deficiency/02_nitrogen_def_train_aug32.jpg  \n",
            "  inflating: /content/cannabis-health-diagnosis/data/train/Nitrogen Deficiency/02_nitrogen_def_train_aug42.jpg  \n",
            "  inflating: /content/cannabis-health-diagnosis/data/train/Nitrogen Deficiency/02_nitrogen_def_train_aug52.jpg  \n",
            "  inflating: /content/cannabis-health-diagnosis/data/train/Nitrogen Deficiency/02_nitrogen_def_train_aug62.jpg  \n",
            "  inflating: /content/cannabis-health-diagnosis/data/train/Nitrogen Deficiency/02_nitrogen_def_train_aug72.jpg  \n",
            "  inflating: /content/cannabis-health-diagnosis/data/train/Nitrogen Deficiency/02_nitrogen_def_train_aug82.jpg  \n",
            "  inflating: /content/cannabis-health-diagnosis/data/train/Nitrogen Deficiency/03_nitrogen_def_train.jpg  \n",
            "  inflating: /content/cannabis-health-diagnosis/data/train/Nitrogen Deficiency/03_nitrogen_def_train_aug13.jpg  \n",
            "  inflating: /content/cannabis-health-diagnosis/data/train/Nitrogen Deficiency/03_nitrogen_def_train_aug23.jpg  \n",
            "  inflating: /content/cannabis-health-diagnosis/data/train/Nitrogen Deficiency/03_nitrogen_def_train_aug3.jpg  \n",
            "  inflating: /content/cannabis-health-diagnosis/data/train/Nitrogen Deficiency/03_nitrogen_def_train_aug33.jpg  \n",
            "  inflating: /content/cannabis-health-diagnosis/data/train/Nitrogen Deficiency/03_nitrogen_def_train_aug43.jpg  \n",
            "  inflating: /content/cannabis-health-diagnosis/data/train/Nitrogen Deficiency/03_nitrogen_def_train_aug53.jpg  \n",
            "  inflating: /content/cannabis-health-diagnosis/data/train/Nitrogen Deficiency/03_nitrogen_def_train_aug63.jpg  \n",
            "  inflating: /content/cannabis-health-diagnosis/data/train/Nitrogen Deficiency/03_nitrogen_def_train_aug73.jpg  \n",
            "  inflating: /content/cannabis-health-diagnosis/data/train/Nitrogen Deficiency/03_nitrogen_def_train_aug83.jpg  \n",
            "  inflating: /content/cannabis-health-diagnosis/data/train/Nitrogen Deficiency/04_nitrogen_def_train.jpg  \n",
            "  inflating: /content/cannabis-health-diagnosis/data/train/Nitrogen Deficiency/04_nitrogen_def_train_aug14.jpg  \n",
            "  inflating: /content/cannabis-health-diagnosis/data/train/Nitrogen Deficiency/04_nitrogen_def_train_aug24.jpg  \n",
            "  inflating: /content/cannabis-health-diagnosis/data/train/Nitrogen Deficiency/04_nitrogen_def_train_aug34.jpg  \n",
            "  inflating: /content/cannabis-health-diagnosis/data/train/Nitrogen Deficiency/04_nitrogen_def_train_aug4.jpg  \n",
            "  inflating: /content/cannabis-health-diagnosis/data/train/Nitrogen Deficiency/04_nitrogen_def_train_aug44.jpg  \n",
            "  inflating: /content/cannabis-health-diagnosis/data/train/Nitrogen Deficiency/04_nitrogen_def_train_aug54.jpg  \n",
            "  inflating: /content/cannabis-health-diagnosis/data/train/Nitrogen Deficiency/04_nitrogen_def_train_aug64.jpg  \n",
            "  inflating: /content/cannabis-health-diagnosis/data/train/Nitrogen Deficiency/04_nitrogen_def_train_aug74.jpg  \n",
            "  inflating: /content/cannabis-health-diagnosis/data/train/Nitrogen Deficiency/04_nitrogen_def_train_aug84.jpg  \n",
            "  inflating: /content/cannabis-health-diagnosis/data/train/Nitrogen Deficiency/05_nitrogen_def_train.jpg  \n",
            "  inflating: /content/cannabis-health-diagnosis/data/train/Nitrogen Deficiency/05_nitrogen_def_train_aug15.jpg  \n",
            "  inflating: /content/cannabis-health-diagnosis/data/train/Nitrogen Deficiency/05_nitrogen_def_train_aug25.jpg  \n",
            "  inflating: /content/cannabis-health-diagnosis/data/train/Nitrogen Deficiency/05_nitrogen_def_train_aug35.jpg  \n",
            "  inflating: /content/cannabis-health-diagnosis/data/train/Nitrogen Deficiency/05_nitrogen_def_train_aug45.jpg  \n",
            "  inflating: /content/cannabis-health-diagnosis/data/train/Nitrogen Deficiency/05_nitrogen_def_train_aug5.jpg  \n",
            "  inflating: /content/cannabis-health-diagnosis/data/train/Nitrogen Deficiency/05_nitrogen_def_train_aug55.jpg  \n",
            "  inflating: /content/cannabis-health-diagnosis/data/train/Nitrogen Deficiency/05_nitrogen_def_train_aug65.jpg  \n",
            "  inflating: /content/cannabis-health-diagnosis/data/train/Nitrogen Deficiency/05_nitrogen_def_train_aug75.jpg  \n",
            "  inflating: /content/cannabis-health-diagnosis/data/train/Nitrogen Deficiency/05_nitrogen_def_train_aug85.jpg  \n",
            "  inflating: /content/cannabis-health-diagnosis/data/train/Nitrogen Deficiency/06_nitrogen_def_train.jpg  \n",
            "  inflating: /content/cannabis-health-diagnosis/data/train/Nitrogen Deficiency/06_nitrogen_def_train_aug16.jpg  \n",
            "  inflating: /content/cannabis-health-diagnosis/data/train/Nitrogen Deficiency/06_nitrogen_def_train_aug26.jpg  \n",
            "  inflating: /content/cannabis-health-diagnosis/data/train/Nitrogen Deficiency/06_nitrogen_def_train_aug36.jpg  \n",
            "  inflating: /content/cannabis-health-diagnosis/data/train/Nitrogen Deficiency/06_nitrogen_def_train_aug46.jpg  \n",
            "  inflating: /content/cannabis-health-diagnosis/data/train/Nitrogen Deficiency/06_nitrogen_def_train_aug56.jpg  \n",
            "  inflating: /content/cannabis-health-diagnosis/data/train/Nitrogen Deficiency/06_nitrogen_def_train_aug6.jpg  \n",
            "  inflating: /content/cannabis-health-diagnosis/data/train/Nitrogen Deficiency/06_nitrogen_def_train_aug66.jpg  \n",
            "  inflating: /content/cannabis-health-diagnosis/data/train/Nitrogen Deficiency/06_nitrogen_def_train_aug76.jpg  \n",
            "  inflating: /content/cannabis-health-diagnosis/data/train/Nitrogen Deficiency/06_nitrogen_def_train_aug86.jpg  \n",
            "  inflating: /content/cannabis-health-diagnosis/data/train/Nitrogen Deficiency/07_nitrogen_def_train.jpg  \n",
            "  inflating: /content/cannabis-health-diagnosis/data/train/Nitrogen Deficiency/07_nitrogen_def_train_aug17.jpg  \n",
            "  inflating: /content/cannabis-health-diagnosis/data/train/Nitrogen Deficiency/07_nitrogen_def_train_aug27.jpg  \n",
            "  inflating: /content/cannabis-health-diagnosis/data/train/Nitrogen Deficiency/07_nitrogen_def_train_aug37.jpg  \n",
            "  inflating: /content/cannabis-health-diagnosis/data/train/Nitrogen Deficiency/07_nitrogen_def_train_aug47.jpg  \n",
            "  inflating: /content/cannabis-health-diagnosis/data/train/Nitrogen Deficiency/07_nitrogen_def_train_aug57.jpg  \n",
            "  inflating: /content/cannabis-health-diagnosis/data/train/Nitrogen Deficiency/07_nitrogen_def_train_aug67.jpg  \n",
            "  inflating: /content/cannabis-health-diagnosis/data/train/Nitrogen Deficiency/07_nitrogen_def_train_aug7.jpg  \n",
            "  inflating: /content/cannabis-health-diagnosis/data/train/Nitrogen Deficiency/07_nitrogen_def_train_aug77.jpg  \n",
            "  inflating: /content/cannabis-health-diagnosis/data/train/Nitrogen Deficiency/07_nitrogen_def_train_aug87.jpg  \n",
            "  inflating: /content/cannabis-health-diagnosis/data/train/Nitrogen Deficiency/08_nitrogen_def_train.jpg  \n",
            "  inflating: /content/cannabis-health-diagnosis/data/train/Nitrogen Deficiency/08_nitrogen_def_train_aug18.jpg  \n",
            "  inflating: /content/cannabis-health-diagnosis/data/train/Nitrogen Deficiency/08_nitrogen_def_train_aug28.jpg  \n",
            "  inflating: /content/cannabis-health-diagnosis/data/train/Nitrogen Deficiency/08_nitrogen_def_train_aug38.jpg  \n",
            "  inflating: /content/cannabis-health-diagnosis/data/train/Nitrogen Deficiency/08_nitrogen_def_train_aug48.jpg  \n",
            "  inflating: /content/cannabis-health-diagnosis/data/train/Nitrogen Deficiency/08_nitrogen_def_train_aug58.jpg  \n",
            "  inflating: /content/cannabis-health-diagnosis/data/train/Nitrogen Deficiency/08_nitrogen_def_train_aug68.jpg  \n",
            "  inflating: /content/cannabis-health-diagnosis/data/train/Nitrogen Deficiency/08_nitrogen_def_train_aug78.jpg  \n",
            "  inflating: /content/cannabis-health-diagnosis/data/train/Nitrogen Deficiency/08_nitrogen_def_train_aug8.jpg  \n",
            "  inflating: /content/cannabis-health-diagnosis/data/train/Nitrogen Deficiency/08_nitrogen_def_train_aug88.jpg  \n",
            "  inflating: /content/cannabis-health-diagnosis/data/train/Nitrogen Deficiency/09_nitrogen_def_train.jpg  \n",
            "  inflating: /content/cannabis-health-diagnosis/data/train/Nitrogen Deficiency/09_nitrogen_def_train_aug19.jpg  \n",
            "  inflating: /content/cannabis-health-diagnosis/data/train/Nitrogen Deficiency/09_nitrogen_def_train_aug29.jpg  \n",
            "  inflating: /content/cannabis-health-diagnosis/data/train/Nitrogen Deficiency/09_nitrogen_def_train_aug39.jpg  \n",
            "  inflating: /content/cannabis-health-diagnosis/data/train/Nitrogen Deficiency/09_nitrogen_def_train_aug49.jpg  \n",
            "  inflating: /content/cannabis-health-diagnosis/data/train/Nitrogen Deficiency/09_nitrogen_def_train_aug59.jpg  \n",
            "  inflating: /content/cannabis-health-diagnosis/data/train/Nitrogen Deficiency/09_nitrogen_def_train_aug69.jpg  \n",
            "  inflating: /content/cannabis-health-diagnosis/data/train/Nitrogen Deficiency/09_nitrogen_def_train_aug79.jpg  \n",
            "  inflating: /content/cannabis-health-diagnosis/data/train/Nitrogen Deficiency/09_nitrogen_def_train_aug89.jpg  \n",
            "  inflating: /content/cannabis-health-diagnosis/data/train/Nitrogen Deficiency/09_nitrogen_def_train_aug9.jpg  \n",
            "  inflating: /content/cannabis-health-diagnosis/data/train/Nutrient Burn/00_nutrient_burn_train.jpg  \n",
            "  inflating: /content/cannabis-health-diagnosis/data/train/Nutrient Burn/00_nutrient_burn_train_aug0.jpg  \n",
            "  inflating: /content/cannabis-health-diagnosis/data/train/Nutrient Burn/00_nutrient_burn_train_aug10.jpg  \n",
            "  inflating: /content/cannabis-health-diagnosis/data/train/Nutrient Burn/00_nutrient_burn_train_aug20.jpg  \n",
            "  inflating: /content/cannabis-health-diagnosis/data/train/Nutrient Burn/00_nutrient_burn_train_aug30.jpg  \n",
            "  inflating: /content/cannabis-health-diagnosis/data/train/Nutrient Burn/00_nutrient_burn_train_aug40.jpg  \n",
            "  inflating: /content/cannabis-health-diagnosis/data/train/Nutrient Burn/00_nutrient_burn_train_aug50.jpg  \n",
            "  inflating: /content/cannabis-health-diagnosis/data/train/Nutrient Burn/00_nutrient_burn_train_aug60.jpg  \n",
            "  inflating: /content/cannabis-health-diagnosis/data/train/Nutrient Burn/00_nutrient_burn_train_aug70.jpg  \n",
            "  inflating: /content/cannabis-health-diagnosis/data/train/Nutrient Burn/00_nutrient_burn_train_aug80.jpg  \n",
            "  inflating: /content/cannabis-health-diagnosis/data/train/Nutrient Burn/01_nutrient_burn_train.jpg  \n",
            "  inflating: /content/cannabis-health-diagnosis/data/train/Nutrient Burn/01_nutrient_burn_train_aug1.jpg  \n",
            "  inflating: /content/cannabis-health-diagnosis/data/train/Nutrient Burn/01_nutrient_burn_train_aug11.jpg  \n",
            "  inflating: /content/cannabis-health-diagnosis/data/train/Nutrient Burn/01_nutrient_burn_train_aug21.jpg  \n",
            "  inflating: /content/cannabis-health-diagnosis/data/train/Nutrient Burn/01_nutrient_burn_train_aug31.jpg  \n",
            "  inflating: /content/cannabis-health-diagnosis/data/train/Nutrient Burn/01_nutrient_burn_train_aug41.jpg  \n",
            "  inflating: /content/cannabis-health-diagnosis/data/train/Nutrient Burn/01_nutrient_burn_train_aug51.jpg  \n",
            "  inflating: /content/cannabis-health-diagnosis/data/train/Nutrient Burn/01_nutrient_burn_train_aug61.jpg  \n",
            "  inflating: /content/cannabis-health-diagnosis/data/train/Nutrient Burn/01_nutrient_burn_train_aug71.jpg  \n",
            "  inflating: /content/cannabis-health-diagnosis/data/train/Nutrient Burn/01_nutrient_burn_train_aug81.jpg  \n",
            "  inflating: /content/cannabis-health-diagnosis/data/train/Nutrient Burn/02_nutrient_burn_train.jpg  \n",
            "  inflating: /content/cannabis-health-diagnosis/data/train/Nutrient Burn/02_nutrient_burn_train_aug12.jpg  \n",
            "  inflating: /content/cannabis-health-diagnosis/data/train/Nutrient Burn/02_nutrient_burn_train_aug2.jpg  \n",
            "  inflating: /content/cannabis-health-diagnosis/data/train/Nutrient Burn/02_nutrient_burn_train_aug22.jpg  \n",
            "  inflating: /content/cannabis-health-diagnosis/data/train/Nutrient Burn/02_nutrient_burn_train_aug32.jpg  \n",
            "  inflating: /content/cannabis-health-diagnosis/data/train/Nutrient Burn/02_nutrient_burn_train_aug42.jpg  \n",
            "  inflating: /content/cannabis-health-diagnosis/data/train/Nutrient Burn/02_nutrient_burn_train_aug52.jpg  \n",
            "  inflating: /content/cannabis-health-diagnosis/data/train/Nutrient Burn/02_nutrient_burn_train_aug62.jpg  \n",
            "  inflating: /content/cannabis-health-diagnosis/data/train/Nutrient Burn/02_nutrient_burn_train_aug72.jpg  \n",
            "  inflating: /content/cannabis-health-diagnosis/data/train/Nutrient Burn/02_nutrient_burn_train_aug82.jpg  \n",
            "  inflating: /content/cannabis-health-diagnosis/data/train/Nutrient Burn/03_nutrient_burn_train.jpg  \n",
            "  inflating: /content/cannabis-health-diagnosis/data/train/Nutrient Burn/03_nutrient_burn_train_aug13.jpg  \n",
            "  inflating: /content/cannabis-health-diagnosis/data/train/Nutrient Burn/03_nutrient_burn_train_aug23.jpg  \n",
            "  inflating: /content/cannabis-health-diagnosis/data/train/Nutrient Burn/03_nutrient_burn_train_aug3.jpg  \n",
            "  inflating: /content/cannabis-health-diagnosis/data/train/Nutrient Burn/03_nutrient_burn_train_aug33.jpg  \n",
            "  inflating: /content/cannabis-health-diagnosis/data/train/Nutrient Burn/03_nutrient_burn_train_aug43.jpg  \n",
            "  inflating: /content/cannabis-health-diagnosis/data/train/Nutrient Burn/03_nutrient_burn_train_aug53.jpg  \n",
            "  inflating: /content/cannabis-health-diagnosis/data/train/Nutrient Burn/03_nutrient_burn_train_aug63.jpg  \n",
            "  inflating: /content/cannabis-health-diagnosis/data/train/Nutrient Burn/03_nutrient_burn_train_aug73.jpg  \n",
            "  inflating: /content/cannabis-health-diagnosis/data/train/Nutrient Burn/03_nutrient_burn_train_aug83.jpg  \n",
            "  inflating: /content/cannabis-health-diagnosis/data/train/Nutrient Burn/04_nutrient_burn_train.jpg  \n",
            "  inflating: /content/cannabis-health-diagnosis/data/train/Nutrient Burn/04_nutrient_burn_train_aug14.jpg  \n",
            "  inflating: /content/cannabis-health-diagnosis/data/train/Nutrient Burn/04_nutrient_burn_train_aug24.jpg  \n",
            "  inflating: /content/cannabis-health-diagnosis/data/train/Nutrient Burn/04_nutrient_burn_train_aug34.jpg  \n",
            "  inflating: /content/cannabis-health-diagnosis/data/train/Nutrient Burn/04_nutrient_burn_train_aug4.jpg  \n",
            "  inflating: /content/cannabis-health-diagnosis/data/train/Nutrient Burn/04_nutrient_burn_train_aug44.jpg  \n",
            "  inflating: /content/cannabis-health-diagnosis/data/train/Nutrient Burn/04_nutrient_burn_train_aug54.jpg  \n",
            "  inflating: /content/cannabis-health-diagnosis/data/train/Nutrient Burn/04_nutrient_burn_train_aug64.jpg  \n",
            "  inflating: /content/cannabis-health-diagnosis/data/train/Nutrient Burn/04_nutrient_burn_train_aug74.jpg  \n",
            "  inflating: /content/cannabis-health-diagnosis/data/train/Nutrient Burn/04_nutrient_burn_train_aug84.jpg  \n",
            "  inflating: /content/cannabis-health-diagnosis/data/train/Nutrient Burn/05_nutrient_burn_train.jpg  \n",
            "  inflating: /content/cannabis-health-diagnosis/data/train/Nutrient Burn/05_nutrient_burn_train_aug15.jpg  \n",
            "  inflating: /content/cannabis-health-diagnosis/data/train/Nutrient Burn/05_nutrient_burn_train_aug25.jpg  \n",
            "  inflating: /content/cannabis-health-diagnosis/data/train/Nutrient Burn/05_nutrient_burn_train_aug35.jpg  \n",
            "  inflating: /content/cannabis-health-diagnosis/data/train/Nutrient Burn/05_nutrient_burn_train_aug45.jpg  \n",
            "  inflating: /content/cannabis-health-diagnosis/data/train/Nutrient Burn/05_nutrient_burn_train_aug5.jpg  \n",
            "  inflating: /content/cannabis-health-diagnosis/data/train/Nutrient Burn/05_nutrient_burn_train_aug55.jpg  \n",
            "  inflating: /content/cannabis-health-diagnosis/data/train/Nutrient Burn/05_nutrient_burn_train_aug65.jpg  \n",
            "  inflating: /content/cannabis-health-diagnosis/data/train/Nutrient Burn/05_nutrient_burn_train_aug75.jpg  \n",
            "  inflating: /content/cannabis-health-diagnosis/data/train/Nutrient Burn/05_nutrient_burn_train_aug85.jpg  \n",
            "  inflating: /content/cannabis-health-diagnosis/data/train/Nutrient Burn/06_nutrient_burn_train.jpg  \n",
            "  inflating: /content/cannabis-health-diagnosis/data/train/Nutrient Burn/06_nutrient_burn_train_aug16.jpg  \n",
            "  inflating: /content/cannabis-health-diagnosis/data/train/Nutrient Burn/06_nutrient_burn_train_aug26.jpg  \n",
            "  inflating: /content/cannabis-health-diagnosis/data/train/Nutrient Burn/06_nutrient_burn_train_aug36.jpg  \n",
            "  inflating: /content/cannabis-health-diagnosis/data/train/Nutrient Burn/06_nutrient_burn_train_aug46.jpg  \n",
            "  inflating: /content/cannabis-health-diagnosis/data/train/Nutrient Burn/06_nutrient_burn_train_aug56.jpg  \n",
            "  inflating: /content/cannabis-health-diagnosis/data/train/Nutrient Burn/06_nutrient_burn_train_aug6.jpg  \n",
            "  inflating: /content/cannabis-health-diagnosis/data/train/Nutrient Burn/06_nutrient_burn_train_aug66.jpg  \n",
            "  inflating: /content/cannabis-health-diagnosis/data/train/Nutrient Burn/06_nutrient_burn_train_aug76.jpg  \n",
            "  inflating: /content/cannabis-health-diagnosis/data/train/Nutrient Burn/06_nutrient_burn_train_aug86.jpg  \n",
            "  inflating: /content/cannabis-health-diagnosis/data/train/Nutrient Burn/07_nutrient_burn_train.jpg  \n",
            "  inflating: /content/cannabis-health-diagnosis/data/train/Nutrient Burn/07_nutrient_burn_train_aug17.jpg  \n",
            "  inflating: /content/cannabis-health-diagnosis/data/train/Nutrient Burn/07_nutrient_burn_train_aug27.jpg  \n",
            "  inflating: /content/cannabis-health-diagnosis/data/train/Nutrient Burn/07_nutrient_burn_train_aug37.jpg  \n",
            "  inflating: /content/cannabis-health-diagnosis/data/train/Nutrient Burn/07_nutrient_burn_train_aug47.jpg  \n",
            "  inflating: /content/cannabis-health-diagnosis/data/train/Nutrient Burn/07_nutrient_burn_train_aug57.jpg  \n",
            "  inflating: /content/cannabis-health-diagnosis/data/train/Nutrient Burn/07_nutrient_burn_train_aug67.jpg  \n",
            "  inflating: /content/cannabis-health-diagnosis/data/train/Nutrient Burn/07_nutrient_burn_train_aug7.jpg  \n",
            "  inflating: /content/cannabis-health-diagnosis/data/train/Nutrient Burn/07_nutrient_burn_train_aug77.jpg  \n",
            "  inflating: /content/cannabis-health-diagnosis/data/train/Nutrient Burn/07_nutrient_burn_train_aug87.jpg  \n",
            "  inflating: /content/cannabis-health-diagnosis/data/train/Nutrient Burn/08_nutrient_burn_train.jpg  \n",
            "  inflating: /content/cannabis-health-diagnosis/data/train/Nutrient Burn/08_nutrient_burn_train_aug18.jpg  \n",
            "  inflating: /content/cannabis-health-diagnosis/data/train/Nutrient Burn/08_nutrient_burn_train_aug28.jpg  \n",
            "  inflating: /content/cannabis-health-diagnosis/data/train/Nutrient Burn/08_nutrient_burn_train_aug38.jpg  \n",
            "  inflating: /content/cannabis-health-diagnosis/data/train/Nutrient Burn/08_nutrient_burn_train_aug48.jpg  \n",
            "  inflating: /content/cannabis-health-diagnosis/data/train/Nutrient Burn/08_nutrient_burn_train_aug58.jpg  \n",
            "  inflating: /content/cannabis-health-diagnosis/data/train/Nutrient Burn/08_nutrient_burn_train_aug68.jpg  \n",
            "  inflating: /content/cannabis-health-diagnosis/data/train/Nutrient Burn/08_nutrient_burn_train_aug78.jpg  \n",
            "  inflating: /content/cannabis-health-diagnosis/data/train/Nutrient Burn/08_nutrient_burn_train_aug8.jpg  \n",
            "  inflating: /content/cannabis-health-diagnosis/data/train/Nutrient Burn/08_nutrient_burn_train_aug88.jpg  \n",
            "  inflating: /content/cannabis-health-diagnosis/data/train/Nutrient Burn/09_nutrient_burn_train.jpg  \n",
            "  inflating: /content/cannabis-health-diagnosis/data/train/Nutrient Burn/09_nutrient_burn_train_aug19.jpg  \n",
            "  inflating: /content/cannabis-health-diagnosis/data/train/Nutrient Burn/09_nutrient_burn_train_aug29.jpg  \n",
            "  inflating: /content/cannabis-health-diagnosis/data/train/Nutrient Burn/09_nutrient_burn_train_aug39.jpg  \n",
            "  inflating: /content/cannabis-health-diagnosis/data/train/Nutrient Burn/09_nutrient_burn_train_aug49.jpg  \n",
            "  inflating: /content/cannabis-health-diagnosis/data/train/Nutrient Burn/09_nutrient_burn_train_aug59.jpg  \n",
            "  inflating: /content/cannabis-health-diagnosis/data/train/Nutrient Burn/09_nutrient_burn_train_aug69.jpg  \n",
            "  inflating: /content/cannabis-health-diagnosis/data/train/Nutrient Burn/09_nutrient_burn_train_aug79.jpg  \n",
            "  inflating: /content/cannabis-health-diagnosis/data/train/Nutrient Burn/09_nutrient_burn_train_aug89.jpg  \n",
            "  inflating: /content/cannabis-health-diagnosis/data/train/Nutrient Burn/09_nutrient_burn_train_aug9.jpg  \n",
            "  inflating: /content/cannabis-health-diagnosis/data/train/Overwatering/00_overwatering_train.jpg  \n",
            "  inflating: /content/cannabis-health-diagnosis/data/train/Overwatering/00_overwatering_train_aug0.jpg  \n",
            "  inflating: /content/cannabis-health-diagnosis/data/train/Overwatering/00_overwatering_train_aug18.jpg  \n",
            "  inflating: /content/cannabis-health-diagnosis/data/train/Overwatering/00_overwatering_train_aug27.jpg  \n",
            "  inflating: /content/cannabis-health-diagnosis/data/train/Overwatering/00_overwatering_train_aug36.jpg  \n",
            "  inflating: /content/cannabis-health-diagnosis/data/train/Overwatering/00_overwatering_train_aug45.jpg  \n",
            "  inflating: /content/cannabis-health-diagnosis/data/train/Overwatering/00_overwatering_train_aug54.jpg  \n",
            "  inflating: /content/cannabis-health-diagnosis/data/train/Overwatering/00_overwatering_train_aug63.jpg  \n",
            "  inflating: /content/cannabis-health-diagnosis/data/train/Overwatering/00_overwatering_train_aug72.jpg  \n",
            "  inflating: /content/cannabis-health-diagnosis/data/train/Overwatering/00_overwatering_train_aug81.jpg  \n",
            "  inflating: /content/cannabis-health-diagnosis/data/train/Overwatering/00_overwatering_train_aug9.jpg  \n",
            "  inflating: /content/cannabis-health-diagnosis/data/train/Overwatering/00_overwatering_train_aug90.jpg  \n",
            "  inflating: /content/cannabis-health-diagnosis/data/train/Overwatering/01_overwatering_train.jpg  \n",
            "  inflating: /content/cannabis-health-diagnosis/data/train/Overwatering/01_overwatering_train_aug1.jpg  \n",
            "  inflating: /content/cannabis-health-diagnosis/data/train/Overwatering/01_overwatering_train_aug10.jpg  \n",
            "  inflating: /content/cannabis-health-diagnosis/data/train/Overwatering/01_overwatering_train_aug19.jpg  \n",
            "  inflating: /content/cannabis-health-diagnosis/data/train/Overwatering/01_overwatering_train_aug28.jpg  \n",
            "  inflating: /content/cannabis-health-diagnosis/data/train/Overwatering/01_overwatering_train_aug37.jpg  \n",
            "  inflating: /content/cannabis-health-diagnosis/data/train/Overwatering/01_overwatering_train_aug46.jpg  \n",
            "  inflating: /content/cannabis-health-diagnosis/data/train/Overwatering/01_overwatering_train_aug55.jpg  \n",
            "  inflating: /content/cannabis-health-diagnosis/data/train/Overwatering/01_overwatering_train_aug64.jpg  \n",
            "  inflating: /content/cannabis-health-diagnosis/data/train/Overwatering/01_overwatering_train_aug73.jpg  \n",
            "  inflating: /content/cannabis-health-diagnosis/data/train/Overwatering/01_overwatering_train_aug82.jpg  \n",
            "  inflating: /content/cannabis-health-diagnosis/data/train/Overwatering/02_overwatering_train.jpg  \n",
            "  inflating: /content/cannabis-health-diagnosis/data/train/Overwatering/02_overwatering_train_aug11.jpg  \n",
            "  inflating: /content/cannabis-health-diagnosis/data/train/Overwatering/02_overwatering_train_aug2.jpg  \n",
            "  inflating: /content/cannabis-health-diagnosis/data/train/Overwatering/02_overwatering_train_aug20.jpg  \n",
            "  inflating: /content/cannabis-health-diagnosis/data/train/Overwatering/02_overwatering_train_aug29.jpg  \n",
            "  inflating: /content/cannabis-health-diagnosis/data/train/Overwatering/02_overwatering_train_aug38.jpg  \n",
            "  inflating: /content/cannabis-health-diagnosis/data/train/Overwatering/02_overwatering_train_aug47.jpg  \n",
            "  inflating: /content/cannabis-health-diagnosis/data/train/Overwatering/02_overwatering_train_aug56.jpg  \n",
            "  inflating: /content/cannabis-health-diagnosis/data/train/Overwatering/02_overwatering_train_aug65.jpg  \n",
            "  inflating: /content/cannabis-health-diagnosis/data/train/Overwatering/02_overwatering_train_aug74.jpg  \n",
            "  inflating: /content/cannabis-health-diagnosis/data/train/Overwatering/02_overwatering_train_aug83.jpg  \n",
            "  inflating: /content/cannabis-health-diagnosis/data/train/Overwatering/03_overwatering_train.jpg  \n",
            "  inflating: /content/cannabis-health-diagnosis/data/train/Overwatering/03_overwatering_train_aug12.jpg  \n",
            "  inflating: /content/cannabis-health-diagnosis/data/train/Overwatering/03_overwatering_train_aug21.jpg  \n",
            "  inflating: /content/cannabis-health-diagnosis/data/train/Overwatering/03_overwatering_train_aug3.jpg  \n",
            "  inflating: /content/cannabis-health-diagnosis/data/train/Overwatering/03_overwatering_train_aug30.jpg  \n",
            "  inflating: /content/cannabis-health-diagnosis/data/train/Overwatering/03_overwatering_train_aug39.jpg  \n",
            "  inflating: /content/cannabis-health-diagnosis/data/train/Overwatering/03_overwatering_train_aug48.jpg  \n",
            "  inflating: /content/cannabis-health-diagnosis/data/train/Overwatering/03_overwatering_train_aug57.jpg  \n",
            "  inflating: /content/cannabis-health-diagnosis/data/train/Overwatering/03_overwatering_train_aug66.jpg  \n",
            "  inflating: /content/cannabis-health-diagnosis/data/train/Overwatering/03_overwatering_train_aug75.jpg  \n",
            "  inflating: /content/cannabis-health-diagnosis/data/train/Overwatering/03_overwatering_train_aug84.jpg  \n",
            "  inflating: /content/cannabis-health-diagnosis/data/train/Overwatering/04_overwatering_train.jpg  \n",
            "  inflating: /content/cannabis-health-diagnosis/data/train/Overwatering/04_overwatering_train_aug13.jpg  \n",
            "  inflating: /content/cannabis-health-diagnosis/data/train/Overwatering/04_overwatering_train_aug22.jpg  \n",
            "  inflating: /content/cannabis-health-diagnosis/data/train/Overwatering/04_overwatering_train_aug31.jpg  \n",
            "  inflating: /content/cannabis-health-diagnosis/data/train/Overwatering/04_overwatering_train_aug4.jpg  \n",
            "  inflating: /content/cannabis-health-diagnosis/data/train/Overwatering/04_overwatering_train_aug40.jpg  \n",
            "  inflating: /content/cannabis-health-diagnosis/data/train/Overwatering/04_overwatering_train_aug49.jpg  \n",
            "  inflating: /content/cannabis-health-diagnosis/data/train/Overwatering/04_overwatering_train_aug58.jpg  \n",
            "  inflating: /content/cannabis-health-diagnosis/data/train/Overwatering/04_overwatering_train_aug67.jpg  \n",
            "  inflating: /content/cannabis-health-diagnosis/data/train/Overwatering/04_overwatering_train_aug76.jpg  \n",
            "  inflating: /content/cannabis-health-diagnosis/data/train/Overwatering/04_overwatering_train_aug85.jpg  \n",
            "  inflating: /content/cannabis-health-diagnosis/data/train/Overwatering/05_overwatering_train.jpg  \n",
            "  inflating: /content/cannabis-health-diagnosis/data/train/Overwatering/05_overwatering_train_aug14.jpg  \n",
            "  inflating: /content/cannabis-health-diagnosis/data/train/Overwatering/05_overwatering_train_aug23.jpg  \n",
            "  inflating: /content/cannabis-health-diagnosis/data/train/Overwatering/05_overwatering_train_aug32.jpg  \n",
            "  inflating: /content/cannabis-health-diagnosis/data/train/Overwatering/05_overwatering_train_aug41.jpg  \n",
            "  inflating: /content/cannabis-health-diagnosis/data/train/Overwatering/05_overwatering_train_aug5.jpg  \n",
            "  inflating: /content/cannabis-health-diagnosis/data/train/Overwatering/05_overwatering_train_aug50.jpg  \n",
            "  inflating: /content/cannabis-health-diagnosis/data/train/Overwatering/05_overwatering_train_aug59.jpg  \n",
            "  inflating: /content/cannabis-health-diagnosis/data/train/Overwatering/05_overwatering_train_aug68.jpg  \n",
            "  inflating: /content/cannabis-health-diagnosis/data/train/Overwatering/05_overwatering_train_aug77.jpg  \n",
            "  inflating: /content/cannabis-health-diagnosis/data/train/Overwatering/05_overwatering_train_aug86.jpg  \n",
            "  inflating: /content/cannabis-health-diagnosis/data/train/Overwatering/06_overwatering_train.jpg  \n",
            "  inflating: /content/cannabis-health-diagnosis/data/train/Overwatering/06_overwatering_train_aug15.jpg  \n",
            "  inflating: /content/cannabis-health-diagnosis/data/train/Overwatering/06_overwatering_train_aug24.jpg  \n",
            "  inflating: /content/cannabis-health-diagnosis/data/train/Overwatering/06_overwatering_train_aug33.jpg  \n",
            "  inflating: /content/cannabis-health-diagnosis/data/train/Overwatering/06_overwatering_train_aug42.jpg  \n",
            "  inflating: /content/cannabis-health-diagnosis/data/train/Overwatering/06_overwatering_train_aug51.jpg  \n",
            "  inflating: /content/cannabis-health-diagnosis/data/train/Overwatering/06_overwatering_train_aug6.jpg  \n",
            "  inflating: /content/cannabis-health-diagnosis/data/train/Overwatering/06_overwatering_train_aug60.jpg  \n",
            "  inflating: /content/cannabis-health-diagnosis/data/train/Overwatering/06_overwatering_train_aug69.jpg  \n",
            "  inflating: /content/cannabis-health-diagnosis/data/train/Overwatering/06_overwatering_train_aug78.jpg  \n",
            "  inflating: /content/cannabis-health-diagnosis/data/train/Overwatering/06_overwatering_train_aug87.jpg  \n",
            "  inflating: /content/cannabis-health-diagnosis/data/train/Overwatering/07_overwatering_train.jpg  \n",
            "  inflating: /content/cannabis-health-diagnosis/data/train/Overwatering/07_overwatering_train_aug16.jpg  \n",
            "  inflating: /content/cannabis-health-diagnosis/data/train/Overwatering/07_overwatering_train_aug25.jpg  \n",
            "  inflating: /content/cannabis-health-diagnosis/data/train/Overwatering/07_overwatering_train_aug34.jpg  \n",
            "  inflating: /content/cannabis-health-diagnosis/data/train/Overwatering/07_overwatering_train_aug43.jpg  \n",
            "  inflating: /content/cannabis-health-diagnosis/data/train/Overwatering/07_overwatering_train_aug52.jpg  \n",
            "  inflating: /content/cannabis-health-diagnosis/data/train/Overwatering/07_overwatering_train_aug61.jpg  \n",
            "  inflating: /content/cannabis-health-diagnosis/data/train/Overwatering/07_overwatering_train_aug7.jpg  \n",
            "  inflating: /content/cannabis-health-diagnosis/data/train/Overwatering/07_overwatering_train_aug70.jpg  \n",
            "  inflating: /content/cannabis-health-diagnosis/data/train/Overwatering/07_overwatering_train_aug79.jpg  \n",
            "  inflating: /content/cannabis-health-diagnosis/data/train/Overwatering/07_overwatering_train_aug88.jpg  \n",
            "  inflating: /content/cannabis-health-diagnosis/data/train/Overwatering/08_overwatering_train.jpg  \n",
            "  inflating: /content/cannabis-health-diagnosis/data/train/Overwatering/08_overwatering_train_aug17.jpg  \n",
            "  inflating: /content/cannabis-health-diagnosis/data/train/Overwatering/08_overwatering_train_aug26.jpg  \n",
            "  inflating: /content/cannabis-health-diagnosis/data/train/Overwatering/08_overwatering_train_aug35.jpg  \n",
            "  inflating: /content/cannabis-health-diagnosis/data/train/Overwatering/08_overwatering_train_aug44.jpg  \n",
            "  inflating: /content/cannabis-health-diagnosis/data/train/Overwatering/08_overwatering_train_aug53.jpg  \n",
            "  inflating: /content/cannabis-health-diagnosis/data/train/Overwatering/08_overwatering_train_aug62.jpg  \n",
            "  inflating: /content/cannabis-health-diagnosis/data/train/Overwatering/08_overwatering_train_aug71.jpg  \n",
            "  inflating: /content/cannabis-health-diagnosis/data/train/Overwatering/08_overwatering_train_aug8.jpg  \n",
            "  inflating: /content/cannabis-health-diagnosis/data/train/Overwatering/08_overwatering_train_aug80.jpg  \n",
            "  inflating: /content/cannabis-health-diagnosis/data/train/Overwatering/08_overwatering_train_aug89.jpg  \n",
            "  inflating: /content/cannabis-health-diagnosis/data/train/PH Fluctuation/00_ph_fluctuation_train.jpg  \n",
            "  inflating: /content/cannabis-health-diagnosis/data/train/PH Fluctuation/00_ph_fluctuation_train_aug0.jpg  \n",
            "  inflating: /content/cannabis-health-diagnosis/data/train/PH Fluctuation/00_ph_fluctuation_train_aug10.jpg  \n",
            "  inflating: /content/cannabis-health-diagnosis/data/train/PH Fluctuation/00_ph_fluctuation_train_aug20.jpg  \n",
            "  inflating: /content/cannabis-health-diagnosis/data/train/PH Fluctuation/00_ph_fluctuation_train_aug30.jpg  \n",
            "  inflating: /content/cannabis-health-diagnosis/data/train/PH Fluctuation/00_ph_fluctuation_train_aug40.jpg  \n",
            "  inflating: /content/cannabis-health-diagnosis/data/train/PH Fluctuation/00_ph_fluctuation_train_aug50.jpg  \n",
            "  inflating: /content/cannabis-health-diagnosis/data/train/PH Fluctuation/00_ph_fluctuation_train_aug60.jpg  \n",
            "  inflating: /content/cannabis-health-diagnosis/data/train/PH Fluctuation/00_ph_fluctuation_train_aug70.jpg  \n",
            "  inflating: /content/cannabis-health-diagnosis/data/train/PH Fluctuation/00_ph_fluctuation_train_aug80.jpg  \n",
            "  inflating: /content/cannabis-health-diagnosis/data/train/PH Fluctuation/01_ph_fluctuation_train.jpg  \n",
            "  inflating: /content/cannabis-health-diagnosis/data/train/PH Fluctuation/01_ph_fluctuation_train_aug1.jpg  \n",
            "  inflating: /content/cannabis-health-diagnosis/data/train/PH Fluctuation/01_ph_fluctuation_train_aug11.jpg  \n",
            "  inflating: /content/cannabis-health-diagnosis/data/train/PH Fluctuation/01_ph_fluctuation_train_aug21.jpg  \n",
            "  inflating: /content/cannabis-health-diagnosis/data/train/PH Fluctuation/01_ph_fluctuation_train_aug31.jpg  \n",
            "  inflating: /content/cannabis-health-diagnosis/data/train/PH Fluctuation/01_ph_fluctuation_train_aug41.jpg  \n",
            "  inflating: /content/cannabis-health-diagnosis/data/train/PH Fluctuation/01_ph_fluctuation_train_aug51.jpg  \n",
            "  inflating: /content/cannabis-health-diagnosis/data/train/PH Fluctuation/01_ph_fluctuation_train_aug61.jpg  \n",
            "  inflating: /content/cannabis-health-diagnosis/data/train/PH Fluctuation/01_ph_fluctuation_train_aug71.jpg  \n",
            "  inflating: /content/cannabis-health-diagnosis/data/train/PH Fluctuation/01_ph_fluctuation_train_aug81.jpg  \n",
            "  inflating: /content/cannabis-health-diagnosis/data/train/PH Fluctuation/02_ph_fluctuation_train.jpg  \n",
            "  inflating: /content/cannabis-health-diagnosis/data/train/PH Fluctuation/02_ph_fluctuation_train_aug12.jpg  \n",
            "  inflating: /content/cannabis-health-diagnosis/data/train/PH Fluctuation/02_ph_fluctuation_train_aug2.jpg  \n",
            "  inflating: /content/cannabis-health-diagnosis/data/train/PH Fluctuation/02_ph_fluctuation_train_aug22.jpg  \n",
            "  inflating: /content/cannabis-health-diagnosis/data/train/PH Fluctuation/02_ph_fluctuation_train_aug32.jpg  \n",
            "  inflating: /content/cannabis-health-diagnosis/data/train/PH Fluctuation/02_ph_fluctuation_train_aug42.jpg  \n",
            "  inflating: /content/cannabis-health-diagnosis/data/train/PH Fluctuation/02_ph_fluctuation_train_aug52.jpg  \n",
            "  inflating: /content/cannabis-health-diagnosis/data/train/PH Fluctuation/02_ph_fluctuation_train_aug62.jpg  \n",
            "  inflating: /content/cannabis-health-diagnosis/data/train/PH Fluctuation/02_ph_fluctuation_train_aug72.jpg  \n",
            "  inflating: /content/cannabis-health-diagnosis/data/train/PH Fluctuation/02_ph_fluctuation_train_aug82.jpg  \n",
            "  inflating: /content/cannabis-health-diagnosis/data/train/PH Fluctuation/03_ph_fluctuation_train.jpg  \n",
            "  inflating: /content/cannabis-health-diagnosis/data/train/PH Fluctuation/03_ph_fluctuation_train_aug13.jpg  \n",
            "  inflating: /content/cannabis-health-diagnosis/data/train/PH Fluctuation/03_ph_fluctuation_train_aug23.jpg  \n",
            "  inflating: /content/cannabis-health-diagnosis/data/train/PH Fluctuation/03_ph_fluctuation_train_aug3.jpg  \n",
            "  inflating: /content/cannabis-health-diagnosis/data/train/PH Fluctuation/03_ph_fluctuation_train_aug33.jpg  \n",
            "  inflating: /content/cannabis-health-diagnosis/data/train/PH Fluctuation/03_ph_fluctuation_train_aug43.jpg  \n",
            "  inflating: /content/cannabis-health-diagnosis/data/train/PH Fluctuation/03_ph_fluctuation_train_aug53.jpg  \n",
            "  inflating: /content/cannabis-health-diagnosis/data/train/PH Fluctuation/03_ph_fluctuation_train_aug63.jpg  \n",
            "  inflating: /content/cannabis-health-diagnosis/data/train/PH Fluctuation/03_ph_fluctuation_train_aug73.jpg  \n",
            "  inflating: /content/cannabis-health-diagnosis/data/train/PH Fluctuation/03_ph_fluctuation_train_aug83.jpg  \n",
            "  inflating: /content/cannabis-health-diagnosis/data/train/PH Fluctuation/04_ph_fluctuation_train.jpg  \n",
            "  inflating: /content/cannabis-health-diagnosis/data/train/PH Fluctuation/04_ph_fluctuation_train_aug14.jpg  \n",
            "  inflating: /content/cannabis-health-diagnosis/data/train/PH Fluctuation/04_ph_fluctuation_train_aug24.jpg  \n",
            "  inflating: /content/cannabis-health-diagnosis/data/train/PH Fluctuation/04_ph_fluctuation_train_aug34.jpg  \n",
            "  inflating: /content/cannabis-health-diagnosis/data/train/PH Fluctuation/04_ph_fluctuation_train_aug4.jpg  \n",
            "  inflating: /content/cannabis-health-diagnosis/data/train/PH Fluctuation/04_ph_fluctuation_train_aug44.jpg  \n",
            "  inflating: /content/cannabis-health-diagnosis/data/train/PH Fluctuation/04_ph_fluctuation_train_aug54.jpg  \n",
            "  inflating: /content/cannabis-health-diagnosis/data/train/PH Fluctuation/04_ph_fluctuation_train_aug64.jpg  \n",
            "  inflating: /content/cannabis-health-diagnosis/data/train/PH Fluctuation/04_ph_fluctuation_train_aug74.jpg  \n",
            "  inflating: /content/cannabis-health-diagnosis/data/train/PH Fluctuation/04_ph_fluctuation_train_aug84.jpg  \n",
            "  inflating: /content/cannabis-health-diagnosis/data/train/PH Fluctuation/05_ph_fluctuation_train.jpg  \n",
            "  inflating: /content/cannabis-health-diagnosis/data/train/PH Fluctuation/05_ph_fluctuation_train_aug15.jpg  \n",
            "  inflating: /content/cannabis-health-diagnosis/data/train/PH Fluctuation/05_ph_fluctuation_train_aug25.jpg  \n",
            "  inflating: /content/cannabis-health-diagnosis/data/train/PH Fluctuation/05_ph_fluctuation_train_aug35.jpg  \n",
            "  inflating: /content/cannabis-health-diagnosis/data/train/PH Fluctuation/05_ph_fluctuation_train_aug45.jpg  \n",
            "  inflating: /content/cannabis-health-diagnosis/data/train/PH Fluctuation/05_ph_fluctuation_train_aug5.jpg  \n",
            "  inflating: /content/cannabis-health-diagnosis/data/train/PH Fluctuation/05_ph_fluctuation_train_aug55.jpg  \n",
            "  inflating: /content/cannabis-health-diagnosis/data/train/PH Fluctuation/05_ph_fluctuation_train_aug65.jpg  \n",
            "  inflating: /content/cannabis-health-diagnosis/data/train/PH Fluctuation/05_ph_fluctuation_train_aug75.jpg  \n",
            "  inflating: /content/cannabis-health-diagnosis/data/train/PH Fluctuation/05_ph_fluctuation_train_aug85.jpg  \n",
            "  inflating: /content/cannabis-health-diagnosis/data/train/PH Fluctuation/06_ph_fluctuation_train.jpg  \n",
            "  inflating: /content/cannabis-health-diagnosis/data/train/PH Fluctuation/06_ph_fluctuation_train_aug16.jpg  \n",
            "  inflating: /content/cannabis-health-diagnosis/data/train/PH Fluctuation/06_ph_fluctuation_train_aug26.jpg  \n",
            "  inflating: /content/cannabis-health-diagnosis/data/train/PH Fluctuation/06_ph_fluctuation_train_aug36.jpg  \n",
            "  inflating: /content/cannabis-health-diagnosis/data/train/PH Fluctuation/06_ph_fluctuation_train_aug46.jpg  \n",
            "  inflating: /content/cannabis-health-diagnosis/data/train/PH Fluctuation/06_ph_fluctuation_train_aug56.jpg  \n",
            "  inflating: /content/cannabis-health-diagnosis/data/train/PH Fluctuation/06_ph_fluctuation_train_aug6.jpg  \n",
            "  inflating: /content/cannabis-health-diagnosis/data/train/PH Fluctuation/06_ph_fluctuation_train_aug66.jpg  \n",
            "  inflating: /content/cannabis-health-diagnosis/data/train/PH Fluctuation/06_ph_fluctuation_train_aug76.jpg  \n",
            "  inflating: /content/cannabis-health-diagnosis/data/train/PH Fluctuation/06_ph_fluctuation_train_aug86.jpg  \n",
            "  inflating: /content/cannabis-health-diagnosis/data/train/PH Fluctuation/07_ph_fluctuation_train.jpg  \n",
            "  inflating: /content/cannabis-health-diagnosis/data/train/PH Fluctuation/07_ph_fluctuation_train_aug17.jpg  \n",
            "  inflating: /content/cannabis-health-diagnosis/data/train/PH Fluctuation/07_ph_fluctuation_train_aug27.jpg  \n",
            "  inflating: /content/cannabis-health-diagnosis/data/train/PH Fluctuation/07_ph_fluctuation_train_aug37.jpg  \n",
            "  inflating: /content/cannabis-health-diagnosis/data/train/PH Fluctuation/07_ph_fluctuation_train_aug47.jpg  \n",
            "  inflating: /content/cannabis-health-diagnosis/data/train/PH Fluctuation/07_ph_fluctuation_train_aug57.jpg  \n",
            "  inflating: /content/cannabis-health-diagnosis/data/train/PH Fluctuation/07_ph_fluctuation_train_aug67.jpg  \n",
            "  inflating: /content/cannabis-health-diagnosis/data/train/PH Fluctuation/07_ph_fluctuation_train_aug7.jpg  \n",
            "  inflating: /content/cannabis-health-diagnosis/data/train/PH Fluctuation/07_ph_fluctuation_train_aug77.jpg  \n",
            "  inflating: /content/cannabis-health-diagnosis/data/train/PH Fluctuation/07_ph_fluctuation_train_aug87.jpg  \n",
            "  inflating: /content/cannabis-health-diagnosis/data/train/PH Fluctuation/08_ph_fluctuation_train.jpg  \n",
            "  inflating: /content/cannabis-health-diagnosis/data/train/PH Fluctuation/08_ph_fluctuation_train_aug18.jpg  \n",
            "  inflating: /content/cannabis-health-diagnosis/data/train/PH Fluctuation/08_ph_fluctuation_train_aug28.jpg  \n",
            "  inflating: /content/cannabis-health-diagnosis/data/train/PH Fluctuation/08_ph_fluctuation_train_aug38.jpg  \n",
            "  inflating: /content/cannabis-health-diagnosis/data/train/PH Fluctuation/08_ph_fluctuation_train_aug48.jpg  \n",
            "  inflating: /content/cannabis-health-diagnosis/data/train/PH Fluctuation/08_ph_fluctuation_train_aug58.jpg  \n",
            "  inflating: /content/cannabis-health-diagnosis/data/train/PH Fluctuation/08_ph_fluctuation_train_aug68.jpg  \n",
            "  inflating: /content/cannabis-health-diagnosis/data/train/PH Fluctuation/08_ph_fluctuation_train_aug78.jpg  \n",
            "  inflating: /content/cannabis-health-diagnosis/data/train/PH Fluctuation/08_ph_fluctuation_train_aug8.jpg  \n",
            "  inflating: /content/cannabis-health-diagnosis/data/train/PH Fluctuation/08_ph_fluctuation_train_aug88.jpg  \n",
            "  inflating: /content/cannabis-health-diagnosis/data/train/PH Fluctuation/09_ph_fluctuation_train.jpg  \n",
            "  inflating: /content/cannabis-health-diagnosis/data/train/PH Fluctuation/09_ph_fluctuation_train_aug19.jpg  \n",
            "  inflating: /content/cannabis-health-diagnosis/data/train/PH Fluctuation/09_ph_fluctuation_train_aug29.jpg  \n",
            "  inflating: /content/cannabis-health-diagnosis/data/train/PH Fluctuation/09_ph_fluctuation_train_aug39.jpg  \n",
            "  inflating: /content/cannabis-health-diagnosis/data/train/PH Fluctuation/09_ph_fluctuation_train_aug49.jpg  \n",
            "  inflating: /content/cannabis-health-diagnosis/data/train/PH Fluctuation/09_ph_fluctuation_train_aug59.jpg  \n",
            "  inflating: /content/cannabis-health-diagnosis/data/train/PH Fluctuation/09_ph_fluctuation_train_aug69.jpg  \n",
            "  inflating: /content/cannabis-health-diagnosis/data/train/PH Fluctuation/09_ph_fluctuation_train_aug79.jpg  \n",
            "  inflating: /content/cannabis-health-diagnosis/data/train/PH Fluctuation/09_ph_fluctuation_train_aug89.jpg  \n",
            "  inflating: /content/cannabis-health-diagnosis/data/train/PH Fluctuation/09_ph_fluctuation_train_aug9.jpg  \n",
            "  inflating: /content/cannabis-health-diagnosis/data/train/Phosphorus Deficiency/00_phosphorus_def_train.jpg  \n",
            "  inflating: /content/cannabis-health-diagnosis/data/train/Phosphorus Deficiency/00_phosphorus_def_train_aug0.jpg  \n",
            "  inflating: /content/cannabis-health-diagnosis/data/train/Phosphorus Deficiency/00_phosphorus_def_train_aug10.jpg  \n",
            "  inflating: /content/cannabis-health-diagnosis/data/train/Phosphorus Deficiency/00_phosphorus_def_train_aug20.jpg  \n",
            "  inflating: /content/cannabis-health-diagnosis/data/train/Phosphorus Deficiency/00_phosphorus_def_train_aug30.jpg  \n",
            "  inflating: /content/cannabis-health-diagnosis/data/train/Phosphorus Deficiency/00_phosphorus_def_train_aug40.jpg  \n",
            "  inflating: /content/cannabis-health-diagnosis/data/train/Phosphorus Deficiency/00_phosphorus_def_train_aug50.jpg  \n",
            "  inflating: /content/cannabis-health-diagnosis/data/train/Phosphorus Deficiency/00_phosphorus_def_train_aug60.jpg  \n",
            "  inflating: /content/cannabis-health-diagnosis/data/train/Phosphorus Deficiency/00_phosphorus_def_train_aug70.jpg  \n",
            "  inflating: /content/cannabis-health-diagnosis/data/train/Phosphorus Deficiency/00_phosphorus_def_train_aug80.jpg  \n",
            "  inflating: /content/cannabis-health-diagnosis/data/train/Phosphorus Deficiency/01_phosphorus_def_train.jpg  \n",
            "  inflating: /content/cannabis-health-diagnosis/data/train/Phosphorus Deficiency/01_phosphorus_def_train_aug1.jpg  \n",
            "  inflating: /content/cannabis-health-diagnosis/data/train/Phosphorus Deficiency/01_phosphorus_def_train_aug11.jpg  \n",
            "  inflating: /content/cannabis-health-diagnosis/data/train/Phosphorus Deficiency/01_phosphorus_def_train_aug21.jpg  \n",
            "  inflating: /content/cannabis-health-diagnosis/data/train/Phosphorus Deficiency/01_phosphorus_def_train_aug31.jpg  \n",
            "  inflating: /content/cannabis-health-diagnosis/data/train/Phosphorus Deficiency/01_phosphorus_def_train_aug41.jpg  \n",
            "  inflating: /content/cannabis-health-diagnosis/data/train/Phosphorus Deficiency/01_phosphorus_def_train_aug51.jpg  \n",
            "  inflating: /content/cannabis-health-diagnosis/data/train/Phosphorus Deficiency/01_phosphorus_def_train_aug61.jpg  \n",
            "  inflating: /content/cannabis-health-diagnosis/data/train/Phosphorus Deficiency/01_phosphorus_def_train_aug71.jpg  \n",
            "  inflating: /content/cannabis-health-diagnosis/data/train/Phosphorus Deficiency/01_phosphorus_def_train_aug81.jpg  \n",
            "  inflating: /content/cannabis-health-diagnosis/data/train/Phosphorus Deficiency/02_phosphorus_def_train.jpg  \n",
            "  inflating: /content/cannabis-health-diagnosis/data/train/Phosphorus Deficiency/02_phosphorus_def_train_aug12.jpg  \n",
            "  inflating: /content/cannabis-health-diagnosis/data/train/Phosphorus Deficiency/02_phosphorus_def_train_aug2.jpg  \n",
            "  inflating: /content/cannabis-health-diagnosis/data/train/Phosphorus Deficiency/02_phosphorus_def_train_aug22.jpg  \n",
            "  inflating: /content/cannabis-health-diagnosis/data/train/Phosphorus Deficiency/02_phosphorus_def_train_aug32.jpg  \n",
            "  inflating: /content/cannabis-health-diagnosis/data/train/Phosphorus Deficiency/02_phosphorus_def_train_aug42.jpg  \n",
            "  inflating: /content/cannabis-health-diagnosis/data/train/Phosphorus Deficiency/02_phosphorus_def_train_aug52.jpg  \n",
            "  inflating: /content/cannabis-health-diagnosis/data/train/Phosphorus Deficiency/02_phosphorus_def_train_aug62.jpg  \n",
            "  inflating: /content/cannabis-health-diagnosis/data/train/Phosphorus Deficiency/02_phosphorus_def_train_aug72.jpg  \n",
            "  inflating: /content/cannabis-health-diagnosis/data/train/Phosphorus Deficiency/02_phosphorus_def_train_aug82.jpg  \n",
            "  inflating: /content/cannabis-health-diagnosis/data/train/Phosphorus Deficiency/03_phosphorus_def_train.jpg  \n",
            "  inflating: /content/cannabis-health-diagnosis/data/train/Phosphorus Deficiency/03_phosphorus_def_train_aug13.jpg  \n",
            "  inflating: /content/cannabis-health-diagnosis/data/train/Phosphorus Deficiency/03_phosphorus_def_train_aug23.jpg  \n",
            "  inflating: /content/cannabis-health-diagnosis/data/train/Phosphorus Deficiency/03_phosphorus_def_train_aug3.jpg  \n",
            "  inflating: /content/cannabis-health-diagnosis/data/train/Phosphorus Deficiency/03_phosphorus_def_train_aug33.jpg  \n",
            "  inflating: /content/cannabis-health-diagnosis/data/train/Phosphorus Deficiency/03_phosphorus_def_train_aug43.jpg  \n",
            "  inflating: /content/cannabis-health-diagnosis/data/train/Phosphorus Deficiency/03_phosphorus_def_train_aug53.jpg  \n",
            "  inflating: /content/cannabis-health-diagnosis/data/train/Phosphorus Deficiency/03_phosphorus_def_train_aug63.jpg  \n",
            "  inflating: /content/cannabis-health-diagnosis/data/train/Phosphorus Deficiency/03_phosphorus_def_train_aug73.jpg  \n",
            "  inflating: /content/cannabis-health-diagnosis/data/train/Phosphorus Deficiency/03_phosphorus_def_train_aug83.jpg  \n",
            "  inflating: /content/cannabis-health-diagnosis/data/train/Phosphorus Deficiency/04_phosphorus_def_train.jpg  \n",
            "  inflating: /content/cannabis-health-diagnosis/data/train/Phosphorus Deficiency/04_phosphorus_def_train_aug14.jpg  \n",
            "  inflating: /content/cannabis-health-diagnosis/data/train/Phosphorus Deficiency/04_phosphorus_def_train_aug24.jpg  \n",
            "  inflating: /content/cannabis-health-diagnosis/data/train/Phosphorus Deficiency/04_phosphorus_def_train_aug34.jpg  \n",
            "  inflating: /content/cannabis-health-diagnosis/data/train/Phosphorus Deficiency/04_phosphorus_def_train_aug4.jpg  \n",
            "  inflating: /content/cannabis-health-diagnosis/data/train/Phosphorus Deficiency/04_phosphorus_def_train_aug44.jpg  \n",
            "  inflating: /content/cannabis-health-diagnosis/data/train/Phosphorus Deficiency/04_phosphorus_def_train_aug54.jpg  \n",
            "  inflating: /content/cannabis-health-diagnosis/data/train/Phosphorus Deficiency/04_phosphorus_def_train_aug64.jpg  \n",
            "  inflating: /content/cannabis-health-diagnosis/data/train/Phosphorus Deficiency/04_phosphorus_def_train_aug74.jpg  \n",
            "  inflating: /content/cannabis-health-diagnosis/data/train/Phosphorus Deficiency/04_phosphorus_def_train_aug84.jpg  \n",
            "  inflating: /content/cannabis-health-diagnosis/data/train/Phosphorus Deficiency/05_phosphorus_def_train.jpg  \n",
            "  inflating: /content/cannabis-health-diagnosis/data/train/Phosphorus Deficiency/05_phosphorus_def_train_aug15.jpg  \n",
            "  inflating: /content/cannabis-health-diagnosis/data/train/Phosphorus Deficiency/05_phosphorus_def_train_aug25.jpg  \n",
            "  inflating: /content/cannabis-health-diagnosis/data/train/Phosphorus Deficiency/05_phosphorus_def_train_aug35.jpg  \n",
            "  inflating: /content/cannabis-health-diagnosis/data/train/Phosphorus Deficiency/05_phosphorus_def_train_aug45.jpg  \n",
            "  inflating: /content/cannabis-health-diagnosis/data/train/Phosphorus Deficiency/05_phosphorus_def_train_aug5.jpg  \n",
            "  inflating: /content/cannabis-health-diagnosis/data/train/Phosphorus Deficiency/05_phosphorus_def_train_aug55.jpg  \n",
            "  inflating: /content/cannabis-health-diagnosis/data/train/Phosphorus Deficiency/05_phosphorus_def_train_aug65.jpg  \n",
            "  inflating: /content/cannabis-health-diagnosis/data/train/Phosphorus Deficiency/05_phosphorus_def_train_aug75.jpg  \n",
            "  inflating: /content/cannabis-health-diagnosis/data/train/Phosphorus Deficiency/05_phosphorus_def_train_aug85.jpg  \n",
            "  inflating: /content/cannabis-health-diagnosis/data/train/Phosphorus Deficiency/06_phosphorus_def_train.jpg  \n",
            "  inflating: /content/cannabis-health-diagnosis/data/train/Phosphorus Deficiency/06_phosphorus_def_train_aug16.jpg  \n",
            "  inflating: /content/cannabis-health-diagnosis/data/train/Phosphorus Deficiency/06_phosphorus_def_train_aug26.jpg  \n",
            "  inflating: /content/cannabis-health-diagnosis/data/train/Phosphorus Deficiency/06_phosphorus_def_train_aug36.jpg  \n",
            "  inflating: /content/cannabis-health-diagnosis/data/train/Phosphorus Deficiency/06_phosphorus_def_train_aug46.jpg  \n",
            "  inflating: /content/cannabis-health-diagnosis/data/train/Phosphorus Deficiency/06_phosphorus_def_train_aug56.jpg  \n",
            "  inflating: /content/cannabis-health-diagnosis/data/train/Phosphorus Deficiency/06_phosphorus_def_train_aug6.jpg  \n",
            "  inflating: /content/cannabis-health-diagnosis/data/train/Phosphorus Deficiency/06_phosphorus_def_train_aug66.jpg  \n",
            "  inflating: /content/cannabis-health-diagnosis/data/train/Phosphorus Deficiency/06_phosphorus_def_train_aug76.jpg  \n",
            "  inflating: /content/cannabis-health-diagnosis/data/train/Phosphorus Deficiency/06_phosphorus_def_train_aug86.jpg  \n",
            "  inflating: /content/cannabis-health-diagnosis/data/train/Phosphorus Deficiency/07_phosphorus_def_train.jpg  \n",
            "  inflating: /content/cannabis-health-diagnosis/data/train/Phosphorus Deficiency/07_phosphorus_def_train_aug17.jpg  \n",
            "  inflating: /content/cannabis-health-diagnosis/data/train/Phosphorus Deficiency/07_phosphorus_def_train_aug27.jpg  \n",
            "  inflating: /content/cannabis-health-diagnosis/data/train/Phosphorus Deficiency/07_phosphorus_def_train_aug37.jpg  \n",
            "  inflating: /content/cannabis-health-diagnosis/data/train/Phosphorus Deficiency/07_phosphorus_def_train_aug47.jpg  \n",
            "  inflating: /content/cannabis-health-diagnosis/data/train/Phosphorus Deficiency/07_phosphorus_def_train_aug57.jpg  \n",
            "  inflating: /content/cannabis-health-diagnosis/data/train/Phosphorus Deficiency/07_phosphorus_def_train_aug67.jpg  \n",
            "  inflating: /content/cannabis-health-diagnosis/data/train/Phosphorus Deficiency/07_phosphorus_def_train_aug7.jpg  \n",
            "  inflating: /content/cannabis-health-diagnosis/data/train/Phosphorus Deficiency/07_phosphorus_def_train_aug77.jpg  \n",
            "  inflating: /content/cannabis-health-diagnosis/data/train/Phosphorus Deficiency/07_phosphorus_def_train_aug87.jpg  \n",
            "  inflating: /content/cannabis-health-diagnosis/data/train/Phosphorus Deficiency/08_phosphorus_def_train.jpg  \n",
            "  inflating: /content/cannabis-health-diagnosis/data/train/Phosphorus Deficiency/08_phosphorus_def_train_aug18.jpg  \n",
            "  inflating: /content/cannabis-health-diagnosis/data/train/Phosphorus Deficiency/08_phosphorus_def_train_aug28.jpg  \n",
            "  inflating: /content/cannabis-health-diagnosis/data/train/Phosphorus Deficiency/08_phosphorus_def_train_aug38.jpg  \n",
            "  inflating: /content/cannabis-health-diagnosis/data/train/Phosphorus Deficiency/08_phosphorus_def_train_aug48.jpg  \n",
            "  inflating: /content/cannabis-health-diagnosis/data/train/Phosphorus Deficiency/08_phosphorus_def_train_aug58.jpg  \n",
            "  inflating: /content/cannabis-health-diagnosis/data/train/Phosphorus Deficiency/08_phosphorus_def_train_aug68.jpg  \n",
            "  inflating: /content/cannabis-health-diagnosis/data/train/Phosphorus Deficiency/08_phosphorus_def_train_aug78.jpg  \n",
            "  inflating: /content/cannabis-health-diagnosis/data/train/Phosphorus Deficiency/08_phosphorus_def_train_aug8.jpg  \n",
            "  inflating: /content/cannabis-health-diagnosis/data/train/Phosphorus Deficiency/08_phosphorus_def_train_aug88.jpg  \n",
            "  inflating: /content/cannabis-health-diagnosis/data/train/Phosphorus Deficiency/09_phosphorus_def_train.jpg  \n",
            "  inflating: /content/cannabis-health-diagnosis/data/train/Phosphorus Deficiency/09_phosphorus_def_train_aug19.jpg  \n",
            "  inflating: /content/cannabis-health-diagnosis/data/train/Phosphorus Deficiency/09_phosphorus_def_train_aug29.jpg  \n",
            "  inflating: /content/cannabis-health-diagnosis/data/train/Phosphorus Deficiency/09_phosphorus_def_train_aug39.jpg  \n",
            "  inflating: /content/cannabis-health-diagnosis/data/train/Phosphorus Deficiency/09_phosphorus_def_train_aug49.jpg  \n",
            "  inflating: /content/cannabis-health-diagnosis/data/train/Phosphorus Deficiency/09_phosphorus_def_train_aug59.jpg  \n",
            "  inflating: /content/cannabis-health-diagnosis/data/train/Phosphorus Deficiency/09_phosphorus_def_train_aug69.jpg  \n",
            "  inflating: /content/cannabis-health-diagnosis/data/train/Phosphorus Deficiency/09_phosphorus_def_train_aug79.jpg  \n",
            "  inflating: /content/cannabis-health-diagnosis/data/train/Phosphorus Deficiency/09_phosphorus_def_train_aug89.jpg  \n",
            "  inflating: /content/cannabis-health-diagnosis/data/train/Phosphorus Deficiency/09_phosphorus_def_train_aug9.jpg  \n",
            "  inflating: /content/cannabis-health-diagnosis/data/train/Potassium Deficiency/00_potassium_def_train.jpg  \n",
            "  inflating: /content/cannabis-health-diagnosis/data/train/Potassium Deficiency/00_potassium_def_train_aug0.jpg  \n",
            "  inflating: /content/cannabis-health-diagnosis/data/train/Potassium Deficiency/00_potassium_def_train_aug10.jpg  \n",
            "  inflating: /content/cannabis-health-diagnosis/data/train/Potassium Deficiency/00_potassium_def_train_aug20.jpg  \n",
            "  inflating: /content/cannabis-health-diagnosis/data/train/Potassium Deficiency/00_potassium_def_train_aug30.jpg  \n",
            "  inflating: /content/cannabis-health-diagnosis/data/train/Potassium Deficiency/00_potassium_def_train_aug40.jpg  \n",
            "  inflating: /content/cannabis-health-diagnosis/data/train/Potassium Deficiency/00_potassium_def_train_aug50.jpg  \n",
            "  inflating: /content/cannabis-health-diagnosis/data/train/Potassium Deficiency/00_potassium_def_train_aug60.jpg  \n",
            "  inflating: /content/cannabis-health-diagnosis/data/train/Potassium Deficiency/00_potassium_def_train_aug70.jpg  \n",
            "  inflating: /content/cannabis-health-diagnosis/data/train/Potassium Deficiency/00_potassium_def_train_aug80.jpg  \n",
            "  inflating: /content/cannabis-health-diagnosis/data/train/Potassium Deficiency/01_potassium_def_train.jpg  \n",
            "  inflating: /content/cannabis-health-diagnosis/data/train/Potassium Deficiency/01_potassium_def_train_aug1.jpg  \n",
            "  inflating: /content/cannabis-health-diagnosis/data/train/Potassium Deficiency/01_potassium_def_train_aug11.jpg  \n",
            "  inflating: /content/cannabis-health-diagnosis/data/train/Potassium Deficiency/01_potassium_def_train_aug21.jpg  \n",
            "  inflating: /content/cannabis-health-diagnosis/data/train/Potassium Deficiency/01_potassium_def_train_aug31.jpg  \n",
            "  inflating: /content/cannabis-health-diagnosis/data/train/Potassium Deficiency/01_potassium_def_train_aug41.jpg  \n",
            "  inflating: /content/cannabis-health-diagnosis/data/train/Potassium Deficiency/01_potassium_def_train_aug51.jpg  \n",
            "  inflating: /content/cannabis-health-diagnosis/data/train/Potassium Deficiency/01_potassium_def_train_aug61.jpg  \n",
            "  inflating: /content/cannabis-health-diagnosis/data/train/Potassium Deficiency/01_potassium_def_train_aug71.jpg  \n",
            "  inflating: /content/cannabis-health-diagnosis/data/train/Potassium Deficiency/01_potassium_def_train_aug81.jpg  \n",
            "  inflating: /content/cannabis-health-diagnosis/data/train/Potassium Deficiency/02_potassium_def_train.jpg  \n",
            "  inflating: /content/cannabis-health-diagnosis/data/train/Potassium Deficiency/02_potassium_def_train_aug12.jpg  \n",
            "  inflating: /content/cannabis-health-diagnosis/data/train/Potassium Deficiency/02_potassium_def_train_aug2.jpg  \n",
            "  inflating: /content/cannabis-health-diagnosis/data/train/Potassium Deficiency/02_potassium_def_train_aug22.jpg  \n",
            "  inflating: /content/cannabis-health-diagnosis/data/train/Potassium Deficiency/02_potassium_def_train_aug32.jpg  \n",
            "  inflating: /content/cannabis-health-diagnosis/data/train/Potassium Deficiency/02_potassium_def_train_aug42.jpg  \n",
            "  inflating: /content/cannabis-health-diagnosis/data/train/Potassium Deficiency/02_potassium_def_train_aug52.jpg  \n",
            "  inflating: /content/cannabis-health-diagnosis/data/train/Potassium Deficiency/02_potassium_def_train_aug62.jpg  \n",
            "  inflating: /content/cannabis-health-diagnosis/data/train/Potassium Deficiency/02_potassium_def_train_aug72.jpg  \n",
            "  inflating: /content/cannabis-health-diagnosis/data/train/Potassium Deficiency/02_potassium_def_train_aug82.jpg  \n",
            "  inflating: /content/cannabis-health-diagnosis/data/train/Potassium Deficiency/03_potassium_def_train.jpg  \n",
            "  inflating: /content/cannabis-health-diagnosis/data/train/Potassium Deficiency/03_potassium_def_train_aug13.jpg  \n",
            "  inflating: /content/cannabis-health-diagnosis/data/train/Potassium Deficiency/03_potassium_def_train_aug23.jpg  \n",
            "  inflating: /content/cannabis-health-diagnosis/data/train/Potassium Deficiency/03_potassium_def_train_aug3.jpg  \n",
            "  inflating: /content/cannabis-health-diagnosis/data/train/Potassium Deficiency/03_potassium_def_train_aug33.jpg  \n",
            "  inflating: /content/cannabis-health-diagnosis/data/train/Potassium Deficiency/03_potassium_def_train_aug43.jpg  \n",
            "  inflating: /content/cannabis-health-diagnosis/data/train/Potassium Deficiency/03_potassium_def_train_aug53.jpg  \n",
            "  inflating: /content/cannabis-health-diagnosis/data/train/Potassium Deficiency/03_potassium_def_train_aug63.jpg  \n",
            "  inflating: /content/cannabis-health-diagnosis/data/train/Potassium Deficiency/03_potassium_def_train_aug73.jpg  \n",
            "  inflating: /content/cannabis-health-diagnosis/data/train/Potassium Deficiency/03_potassium_def_train_aug83.jpg  \n",
            "  inflating: /content/cannabis-health-diagnosis/data/train/Potassium Deficiency/04_potassium_def_train.jpg  \n",
            "  inflating: /content/cannabis-health-diagnosis/data/train/Potassium Deficiency/04_potassium_def_train_aug14.jpg  \n",
            "  inflating: /content/cannabis-health-diagnosis/data/train/Potassium Deficiency/04_potassium_def_train_aug24.jpg  \n",
            "  inflating: /content/cannabis-health-diagnosis/data/train/Potassium Deficiency/04_potassium_def_train_aug34.jpg  \n",
            "  inflating: /content/cannabis-health-diagnosis/data/train/Potassium Deficiency/04_potassium_def_train_aug4.jpg  \n",
            "  inflating: /content/cannabis-health-diagnosis/data/train/Potassium Deficiency/04_potassium_def_train_aug44.jpg  \n",
            "  inflating: /content/cannabis-health-diagnosis/data/train/Potassium Deficiency/04_potassium_def_train_aug54.jpg  \n",
            "  inflating: /content/cannabis-health-diagnosis/data/train/Potassium Deficiency/04_potassium_def_train_aug64.jpg  \n",
            "  inflating: /content/cannabis-health-diagnosis/data/train/Potassium Deficiency/04_potassium_def_train_aug74.jpg  \n",
            "  inflating: /content/cannabis-health-diagnosis/data/train/Potassium Deficiency/04_potassium_def_train_aug84.jpg  \n",
            "  inflating: /content/cannabis-health-diagnosis/data/train/Potassium Deficiency/05_potassium_def_train.jpg  \n",
            "  inflating: /content/cannabis-health-diagnosis/data/train/Potassium Deficiency/05_potassium_def_train_aug15.jpg  \n",
            "  inflating: /content/cannabis-health-diagnosis/data/train/Potassium Deficiency/05_potassium_def_train_aug25.jpg  \n",
            "  inflating: /content/cannabis-health-diagnosis/data/train/Potassium Deficiency/05_potassium_def_train_aug35.jpg  \n",
            "  inflating: /content/cannabis-health-diagnosis/data/train/Potassium Deficiency/05_potassium_def_train_aug45.jpg  \n",
            "  inflating: /content/cannabis-health-diagnosis/data/train/Potassium Deficiency/05_potassium_def_train_aug5.jpg  \n",
            "  inflating: /content/cannabis-health-diagnosis/data/train/Potassium Deficiency/05_potassium_def_train_aug55.jpg  \n",
            "  inflating: /content/cannabis-health-diagnosis/data/train/Potassium Deficiency/05_potassium_def_train_aug65.jpg  \n",
            "  inflating: /content/cannabis-health-diagnosis/data/train/Potassium Deficiency/05_potassium_def_train_aug75.jpg  \n",
            "  inflating: /content/cannabis-health-diagnosis/data/train/Potassium Deficiency/05_potassium_def_train_aug85.jpg  \n",
            "  inflating: /content/cannabis-health-diagnosis/data/train/Potassium Deficiency/06_potassium_def_train.jpg  \n",
            "  inflating: /content/cannabis-health-diagnosis/data/train/Potassium Deficiency/06_potassium_def_train_aug16.jpg  \n",
            "  inflating: /content/cannabis-health-diagnosis/data/train/Potassium Deficiency/06_potassium_def_train_aug26.jpg  \n",
            "  inflating: /content/cannabis-health-diagnosis/data/train/Potassium Deficiency/06_potassium_def_train_aug36.jpg  \n",
            "  inflating: /content/cannabis-health-diagnosis/data/train/Potassium Deficiency/06_potassium_def_train_aug46.jpg  \n",
            "  inflating: /content/cannabis-health-diagnosis/data/train/Potassium Deficiency/06_potassium_def_train_aug56.jpg  \n",
            "  inflating: /content/cannabis-health-diagnosis/data/train/Potassium Deficiency/06_potassium_def_train_aug6.jpg  \n",
            "  inflating: /content/cannabis-health-diagnosis/data/train/Potassium Deficiency/06_potassium_def_train_aug66.jpg  \n",
            "  inflating: /content/cannabis-health-diagnosis/data/train/Potassium Deficiency/06_potassium_def_train_aug76.jpg  \n",
            "  inflating: /content/cannabis-health-diagnosis/data/train/Potassium Deficiency/06_potassium_def_train_aug86.jpg  \n",
            "  inflating: /content/cannabis-health-diagnosis/data/train/Potassium Deficiency/07_potassium_def_train.jpg  \n",
            "  inflating: /content/cannabis-health-diagnosis/data/train/Potassium Deficiency/07_potassium_def_train_aug17.jpg  \n",
            "  inflating: /content/cannabis-health-diagnosis/data/train/Potassium Deficiency/07_potassium_def_train_aug27.jpg  \n",
            "  inflating: /content/cannabis-health-diagnosis/data/train/Potassium Deficiency/07_potassium_def_train_aug37.jpg  \n",
            "  inflating: /content/cannabis-health-diagnosis/data/train/Potassium Deficiency/07_potassium_def_train_aug47.jpg  \n",
            "  inflating: /content/cannabis-health-diagnosis/data/train/Potassium Deficiency/07_potassium_def_train_aug57.jpg  \n",
            "  inflating: /content/cannabis-health-diagnosis/data/train/Potassium Deficiency/07_potassium_def_train_aug67.jpg  \n",
            "  inflating: /content/cannabis-health-diagnosis/data/train/Potassium Deficiency/07_potassium_def_train_aug7.jpg  \n",
            "  inflating: /content/cannabis-health-diagnosis/data/train/Potassium Deficiency/07_potassium_def_train_aug77.jpg  \n",
            "  inflating: /content/cannabis-health-diagnosis/data/train/Potassium Deficiency/07_potassium_def_train_aug87.jpg  \n",
            "  inflating: /content/cannabis-health-diagnosis/data/train/Potassium Deficiency/08_potassium_def_train.jpg  \n",
            "  inflating: /content/cannabis-health-diagnosis/data/train/Potassium Deficiency/08_potassium_def_train_aug18.jpg  \n",
            "  inflating: /content/cannabis-health-diagnosis/data/train/Potassium Deficiency/08_potassium_def_train_aug28.jpg  \n",
            "  inflating: /content/cannabis-health-diagnosis/data/train/Potassium Deficiency/08_potassium_def_train_aug38.jpg  \n",
            "  inflating: /content/cannabis-health-diagnosis/data/train/Potassium Deficiency/08_potassium_def_train_aug48.jpg  \n",
            "  inflating: /content/cannabis-health-diagnosis/data/train/Potassium Deficiency/08_potassium_def_train_aug58.jpg  \n",
            "  inflating: /content/cannabis-health-diagnosis/data/train/Potassium Deficiency/08_potassium_def_train_aug68.jpg  \n",
            "  inflating: /content/cannabis-health-diagnosis/data/train/Potassium Deficiency/08_potassium_def_train_aug78.jpg  \n",
            "  inflating: /content/cannabis-health-diagnosis/data/train/Potassium Deficiency/08_potassium_def_train_aug8.jpg  \n",
            "  inflating: /content/cannabis-health-diagnosis/data/train/Potassium Deficiency/08_potassium_def_train_aug88.jpg  \n",
            "  inflating: /content/cannabis-health-diagnosis/data/train/Potassium Deficiency/09_potassium_def_train.jpg  \n",
            "  inflating: /content/cannabis-health-diagnosis/data/train/Potassium Deficiency/09_potassium_def_train_aug19.jpg  \n",
            "  inflating: /content/cannabis-health-diagnosis/data/train/Potassium Deficiency/09_potassium_def_train_aug29.jpg  \n",
            "  inflating: /content/cannabis-health-diagnosis/data/train/Potassium Deficiency/09_potassium_def_train_aug39.jpg  \n",
            "  inflating: /content/cannabis-health-diagnosis/data/train/Potassium Deficiency/09_potassium_def_train_aug49.jpg  \n",
            "  inflating: /content/cannabis-health-diagnosis/data/train/Potassium Deficiency/09_potassium_def_train_aug59.jpg  \n",
            "  inflating: /content/cannabis-health-diagnosis/data/train/Potassium Deficiency/09_potassium_def_train_aug69.jpg  \n",
            "  inflating: /content/cannabis-health-diagnosis/data/train/Potassium Deficiency/09_potassium_def_train_aug79.jpg  \n",
            "  inflating: /content/cannabis-health-diagnosis/data/train/Potassium Deficiency/09_potassium_def_train_aug89.jpg  \n",
            "  inflating: /content/cannabis-health-diagnosis/data/train/Potassium Deficiency/09_potassium_def_train_aug9.jpg  \n",
            "  inflating: /content/cannabis-health-diagnosis/data/train/Powdery Mildew/00_powdery_mildew_train.jpg  \n",
            "  inflating: /content/cannabis-health-diagnosis/data/train/Powdery Mildew/00_powdery_mildew_train_aug0.jpg  \n",
            "  inflating: /content/cannabis-health-diagnosis/data/train/Powdery Mildew/00_powdery_mildew_train_aug10.jpg  \n",
            "  inflating: /content/cannabis-health-diagnosis/data/train/Powdery Mildew/00_powdery_mildew_train_aug20.jpg  \n",
            "  inflating: /content/cannabis-health-diagnosis/data/train/Powdery Mildew/00_powdery_mildew_train_aug30.jpg  \n",
            "  inflating: /content/cannabis-health-diagnosis/data/train/Powdery Mildew/00_powdery_mildew_train_aug40.jpg  \n",
            "  inflating: /content/cannabis-health-diagnosis/data/train/Powdery Mildew/00_powdery_mildew_train_aug50.jpg  \n",
            "  inflating: /content/cannabis-health-diagnosis/data/train/Powdery Mildew/00_powdery_mildew_train_aug60.jpg  \n",
            "  inflating: /content/cannabis-health-diagnosis/data/train/Powdery Mildew/00_powdery_mildew_train_aug70.jpg  \n",
            "  inflating: /content/cannabis-health-diagnosis/data/train/Powdery Mildew/00_powdery_mildew_train_aug80.jpg  \n",
            "  inflating: /content/cannabis-health-diagnosis/data/train/Powdery Mildew/01_powdery_mildew_train.jpg  \n",
            "  inflating: /content/cannabis-health-diagnosis/data/train/Powdery Mildew/01_powdery_mildew_train_aug1.jpg  \n",
            "  inflating: /content/cannabis-health-diagnosis/data/train/Powdery Mildew/01_powdery_mildew_train_aug11.jpg  \n",
            "  inflating: /content/cannabis-health-diagnosis/data/train/Powdery Mildew/01_powdery_mildew_train_aug21.jpg  \n",
            "  inflating: /content/cannabis-health-diagnosis/data/train/Powdery Mildew/01_powdery_mildew_train_aug31.jpg  \n",
            "  inflating: /content/cannabis-health-diagnosis/data/train/Powdery Mildew/01_powdery_mildew_train_aug41.jpg  \n",
            "  inflating: /content/cannabis-health-diagnosis/data/train/Powdery Mildew/01_powdery_mildew_train_aug51.jpg  \n",
            "  inflating: /content/cannabis-health-diagnosis/data/train/Powdery Mildew/01_powdery_mildew_train_aug61.jpg  \n",
            "  inflating: /content/cannabis-health-diagnosis/data/train/Powdery Mildew/01_powdery_mildew_train_aug71.jpg  \n",
            "  inflating: /content/cannabis-health-diagnosis/data/train/Powdery Mildew/01_powdery_mildew_train_aug81.jpg  \n",
            "  inflating: /content/cannabis-health-diagnosis/data/train/Powdery Mildew/02_powdery_mildew_train.jpg  \n",
            "  inflating: /content/cannabis-health-diagnosis/data/train/Powdery Mildew/02_powdery_mildew_train_aug12.jpg  \n",
            "  inflating: /content/cannabis-health-diagnosis/data/train/Powdery Mildew/02_powdery_mildew_train_aug2.jpg  \n",
            "  inflating: /content/cannabis-health-diagnosis/data/train/Powdery Mildew/02_powdery_mildew_train_aug22.jpg  \n",
            "  inflating: /content/cannabis-health-diagnosis/data/train/Powdery Mildew/02_powdery_mildew_train_aug32.jpg  \n",
            "  inflating: /content/cannabis-health-diagnosis/data/train/Powdery Mildew/02_powdery_mildew_train_aug42.jpg  \n",
            "  inflating: /content/cannabis-health-diagnosis/data/train/Powdery Mildew/02_powdery_mildew_train_aug52.jpg  \n",
            "  inflating: /content/cannabis-health-diagnosis/data/train/Powdery Mildew/02_powdery_mildew_train_aug62.jpg  \n",
            "  inflating: /content/cannabis-health-diagnosis/data/train/Powdery Mildew/02_powdery_mildew_train_aug72.jpg  \n",
            "  inflating: /content/cannabis-health-diagnosis/data/train/Powdery Mildew/02_powdery_mildew_train_aug82.jpg  \n",
            "  inflating: /content/cannabis-health-diagnosis/data/train/Powdery Mildew/03_powdery_mildew_train.jpg  \n",
            "  inflating: /content/cannabis-health-diagnosis/data/train/Powdery Mildew/03_powdery_mildew_train_aug13.jpg  \n",
            "  inflating: /content/cannabis-health-diagnosis/data/train/Powdery Mildew/03_powdery_mildew_train_aug23.jpg  \n",
            "  inflating: /content/cannabis-health-diagnosis/data/train/Powdery Mildew/03_powdery_mildew_train_aug3.jpg  \n",
            "  inflating: /content/cannabis-health-diagnosis/data/train/Powdery Mildew/03_powdery_mildew_train_aug33.jpg  \n",
            "  inflating: /content/cannabis-health-diagnosis/data/train/Powdery Mildew/03_powdery_mildew_train_aug43.jpg  \n",
            "  inflating: /content/cannabis-health-diagnosis/data/train/Powdery Mildew/03_powdery_mildew_train_aug53.jpg  \n",
            "  inflating: /content/cannabis-health-diagnosis/data/train/Powdery Mildew/03_powdery_mildew_train_aug63.jpg  \n",
            "  inflating: /content/cannabis-health-diagnosis/data/train/Powdery Mildew/03_powdery_mildew_train_aug73.jpg  \n",
            "  inflating: /content/cannabis-health-diagnosis/data/train/Powdery Mildew/03_powdery_mildew_train_aug83.jpg  \n",
            "  inflating: /content/cannabis-health-diagnosis/data/train/Powdery Mildew/04_powdery_mildew_train.jpg  \n",
            "  inflating: /content/cannabis-health-diagnosis/data/train/Powdery Mildew/04_powdery_mildew_train_aug14.jpg  \n",
            "  inflating: /content/cannabis-health-diagnosis/data/train/Powdery Mildew/04_powdery_mildew_train_aug24.jpg  \n",
            "  inflating: /content/cannabis-health-diagnosis/data/train/Powdery Mildew/04_powdery_mildew_train_aug34.jpg  \n",
            "  inflating: /content/cannabis-health-diagnosis/data/train/Powdery Mildew/04_powdery_mildew_train_aug4.jpg  \n",
            "  inflating: /content/cannabis-health-diagnosis/data/train/Powdery Mildew/04_powdery_mildew_train_aug44.jpg  \n",
            "  inflating: /content/cannabis-health-diagnosis/data/train/Powdery Mildew/04_powdery_mildew_train_aug54.jpg  \n",
            "  inflating: /content/cannabis-health-diagnosis/data/train/Powdery Mildew/04_powdery_mildew_train_aug64.jpg  \n",
            "  inflating: /content/cannabis-health-diagnosis/data/train/Powdery Mildew/04_powdery_mildew_train_aug74.jpg  \n",
            "  inflating: /content/cannabis-health-diagnosis/data/train/Powdery Mildew/04_powdery_mildew_train_aug84.jpg  \n",
            "  inflating: /content/cannabis-health-diagnosis/data/train/Powdery Mildew/05_powdery_mildew_train.jpg  \n",
            "  inflating: /content/cannabis-health-diagnosis/data/train/Powdery Mildew/05_powdery_mildew_train_aug15.jpg  \n",
            "  inflating: /content/cannabis-health-diagnosis/data/train/Powdery Mildew/05_powdery_mildew_train_aug25.jpg  \n",
            "  inflating: /content/cannabis-health-diagnosis/data/train/Powdery Mildew/05_powdery_mildew_train_aug35.jpg  \n",
            "  inflating: /content/cannabis-health-diagnosis/data/train/Powdery Mildew/05_powdery_mildew_train_aug45.jpg  \n",
            "  inflating: /content/cannabis-health-diagnosis/data/train/Powdery Mildew/05_powdery_mildew_train_aug5.jpg  \n",
            "  inflating: /content/cannabis-health-diagnosis/data/train/Powdery Mildew/05_powdery_mildew_train_aug55.jpg  \n",
            "  inflating: /content/cannabis-health-diagnosis/data/train/Powdery Mildew/05_powdery_mildew_train_aug65.jpg  \n",
            "  inflating: /content/cannabis-health-diagnosis/data/train/Powdery Mildew/05_powdery_mildew_train_aug75.jpg  \n",
            "  inflating: /content/cannabis-health-diagnosis/data/train/Powdery Mildew/05_powdery_mildew_train_aug85.jpg  \n",
            "  inflating: /content/cannabis-health-diagnosis/data/train/Powdery Mildew/06_powdery_mildew_train.jpg  \n",
            "  inflating: /content/cannabis-health-diagnosis/data/train/Powdery Mildew/06_powdery_mildew_train_aug16.jpg  \n",
            "  inflating: /content/cannabis-health-diagnosis/data/train/Powdery Mildew/06_powdery_mildew_train_aug26.jpg  \n",
            "  inflating: /content/cannabis-health-diagnosis/data/train/Powdery Mildew/06_powdery_mildew_train_aug36.jpg  \n",
            "  inflating: /content/cannabis-health-diagnosis/data/train/Powdery Mildew/06_powdery_mildew_train_aug46.jpg  \n",
            "  inflating: /content/cannabis-health-diagnosis/data/train/Powdery Mildew/06_powdery_mildew_train_aug56.jpg  \n",
            "  inflating: /content/cannabis-health-diagnosis/data/train/Powdery Mildew/06_powdery_mildew_train_aug6.jpg  \n",
            "  inflating: /content/cannabis-health-diagnosis/data/train/Powdery Mildew/06_powdery_mildew_train_aug66.jpg  \n",
            "  inflating: /content/cannabis-health-diagnosis/data/train/Powdery Mildew/06_powdery_mildew_train_aug76.jpg  \n",
            "  inflating: /content/cannabis-health-diagnosis/data/train/Powdery Mildew/06_powdery_mildew_train_aug86.jpg  \n",
            "  inflating: /content/cannabis-health-diagnosis/data/train/Powdery Mildew/07_powdery_mildew_train.jpg  \n",
            "  inflating: /content/cannabis-health-diagnosis/data/train/Powdery Mildew/07_powdery_mildew_train_aug17.jpg  \n",
            "  inflating: /content/cannabis-health-diagnosis/data/train/Powdery Mildew/07_powdery_mildew_train_aug27.jpg  \n",
            "  inflating: /content/cannabis-health-diagnosis/data/train/Powdery Mildew/07_powdery_mildew_train_aug37.jpg  \n",
            "  inflating: /content/cannabis-health-diagnosis/data/train/Powdery Mildew/07_powdery_mildew_train_aug47.jpg  \n",
            "  inflating: /content/cannabis-health-diagnosis/data/train/Powdery Mildew/07_powdery_mildew_train_aug57.jpg  \n",
            "  inflating: /content/cannabis-health-diagnosis/data/train/Powdery Mildew/07_powdery_mildew_train_aug67.jpg  \n",
            "  inflating: /content/cannabis-health-diagnosis/data/train/Powdery Mildew/07_powdery_mildew_train_aug7.jpg  \n",
            "  inflating: /content/cannabis-health-diagnosis/data/train/Powdery Mildew/07_powdery_mildew_train_aug77.jpg  \n",
            "  inflating: /content/cannabis-health-diagnosis/data/train/Powdery Mildew/07_powdery_mildew_train_aug87.jpg  \n",
            "  inflating: /content/cannabis-health-diagnosis/data/train/Powdery Mildew/08_powdery_mildew_train.jpg  \n",
            "  inflating: /content/cannabis-health-diagnosis/data/train/Powdery Mildew/08_powdery_mildew_train_aug18.jpg  \n",
            "  inflating: /content/cannabis-health-diagnosis/data/train/Powdery Mildew/08_powdery_mildew_train_aug28.jpg  \n",
            "  inflating: /content/cannabis-health-diagnosis/data/train/Powdery Mildew/08_powdery_mildew_train_aug38.jpg  \n",
            "  inflating: /content/cannabis-health-diagnosis/data/train/Powdery Mildew/08_powdery_mildew_train_aug48.jpg  \n",
            "  inflating: /content/cannabis-health-diagnosis/data/train/Powdery Mildew/08_powdery_mildew_train_aug58.jpg  \n",
            "  inflating: /content/cannabis-health-diagnosis/data/train/Powdery Mildew/08_powdery_mildew_train_aug68.jpg  \n",
            "  inflating: /content/cannabis-health-diagnosis/data/train/Powdery Mildew/08_powdery_mildew_train_aug78.jpg  \n",
            "  inflating: /content/cannabis-health-diagnosis/data/train/Powdery Mildew/08_powdery_mildew_train_aug8.jpg  \n",
            "  inflating: /content/cannabis-health-diagnosis/data/train/Powdery Mildew/08_powdery_mildew_train_aug88.jpg  \n",
            "  inflating: /content/cannabis-health-diagnosis/data/train/Powdery Mildew/09_powdery_mildew_train.jpg  \n",
            "  inflating: /content/cannabis-health-diagnosis/data/train/Powdery Mildew/09_powdery_mildew_train_aug19.jpg  \n",
            "  inflating: /content/cannabis-health-diagnosis/data/train/Powdery Mildew/09_powdery_mildew_train_aug29.jpg  \n",
            "  inflating: /content/cannabis-health-diagnosis/data/train/Powdery Mildew/09_powdery_mildew_train_aug39.jpg  \n",
            "  inflating: /content/cannabis-health-diagnosis/data/train/Powdery Mildew/09_powdery_mildew_train_aug49.jpg  \n",
            "  inflating: /content/cannabis-health-diagnosis/data/train/Powdery Mildew/09_powdery_mildew_train_aug59.jpg  \n",
            "  inflating: /content/cannabis-health-diagnosis/data/train/Powdery Mildew/09_powdery_mildew_train_aug69.jpg  \n",
            "  inflating: /content/cannabis-health-diagnosis/data/train/Powdery Mildew/09_powdery_mildew_train_aug79.jpg  \n",
            "  inflating: /content/cannabis-health-diagnosis/data/train/Powdery Mildew/09_powdery_mildew_train_aug89.jpg  \n",
            "  inflating: /content/cannabis-health-diagnosis/data/train/Powdery Mildew/09_powdery_mildew_train_aug9.jpg  \n",
            "  inflating: /content/cannabis-health-diagnosis/data/train/Septoria/00_septoria_yellowleaf_train.jpg  \n",
            "  inflating: /content/cannabis-health-diagnosis/data/train/Septoria/00_septoria_yellowleaf_train_aug0.jpg  \n",
            "  inflating: /content/cannabis-health-diagnosis/data/train/Septoria/00_septoria_yellowleaf_train_aug10.jpg  \n",
            "  inflating: /content/cannabis-health-diagnosis/data/train/Septoria/00_septoria_yellowleaf_train_aug20.jpg  \n",
            "  inflating: /content/cannabis-health-diagnosis/data/train/Septoria/00_septoria_yellowleaf_train_aug30.jpg  \n",
            "  inflating: /content/cannabis-health-diagnosis/data/train/Septoria/00_septoria_yellowleaf_train_aug40.jpg  \n",
            "  inflating: /content/cannabis-health-diagnosis/data/train/Septoria/00_septoria_yellowleaf_train_aug50.jpg  \n",
            "  inflating: /content/cannabis-health-diagnosis/data/train/Septoria/00_septoria_yellowleaf_train_aug60.jpg  \n",
            "  inflating: /content/cannabis-health-diagnosis/data/train/Septoria/00_septoria_yellowleaf_train_aug70.jpg  \n",
            "  inflating: /content/cannabis-health-diagnosis/data/train/Septoria/00_septoria_yellowleaf_train_aug80.jpg  \n",
            "  inflating: /content/cannabis-health-diagnosis/data/train/Septoria/01_septoria_yellowleaf_train.jpg  \n",
            "  inflating: /content/cannabis-health-diagnosis/data/train/Septoria/01_septoria_yellowleaf_train_aug1.jpg  \n",
            "  inflating: /content/cannabis-health-diagnosis/data/train/Septoria/01_septoria_yellowleaf_train_aug11.jpg  \n",
            "  inflating: /content/cannabis-health-diagnosis/data/train/Septoria/01_septoria_yellowleaf_train_aug21.jpg  \n",
            "  inflating: /content/cannabis-health-diagnosis/data/train/Septoria/01_septoria_yellowleaf_train_aug31.jpg  \n",
            "  inflating: /content/cannabis-health-diagnosis/data/train/Septoria/01_septoria_yellowleaf_train_aug41.jpg  \n",
            "  inflating: /content/cannabis-health-diagnosis/data/train/Septoria/01_septoria_yellowleaf_train_aug51.jpg  \n",
            "  inflating: /content/cannabis-health-diagnosis/data/train/Septoria/01_septoria_yellowleaf_train_aug61.jpg  \n",
            "  inflating: /content/cannabis-health-diagnosis/data/train/Septoria/01_septoria_yellowleaf_train_aug71.jpg  \n",
            "  inflating: /content/cannabis-health-diagnosis/data/train/Septoria/01_septoria_yellowleaf_train_aug81.jpg  \n",
            "  inflating: /content/cannabis-health-diagnosis/data/train/Septoria/02_septoria_yellowleaf_train.jpg  \n",
            "  inflating: /content/cannabis-health-diagnosis/data/train/Septoria/02_septoria_yellowleaf_train_aug12.jpg  \n",
            "  inflating: /content/cannabis-health-diagnosis/data/train/Septoria/02_septoria_yellowleaf_train_aug2.jpg  \n",
            "  inflating: /content/cannabis-health-diagnosis/data/train/Septoria/02_septoria_yellowleaf_train_aug22.jpg  \n",
            "  inflating: /content/cannabis-health-diagnosis/data/train/Septoria/02_septoria_yellowleaf_train_aug32.jpg  \n",
            "  inflating: /content/cannabis-health-diagnosis/data/train/Septoria/02_septoria_yellowleaf_train_aug42.jpg  \n",
            "  inflating: /content/cannabis-health-diagnosis/data/train/Septoria/02_septoria_yellowleaf_train_aug52.jpg  \n",
            "  inflating: /content/cannabis-health-diagnosis/data/train/Septoria/02_septoria_yellowleaf_train_aug62.jpg  \n",
            "  inflating: /content/cannabis-health-diagnosis/data/train/Septoria/02_septoria_yellowleaf_train_aug72.jpg  \n",
            "  inflating: /content/cannabis-health-diagnosis/data/train/Septoria/02_septoria_yellowleaf_train_aug82.jpg  \n",
            "  inflating: /content/cannabis-health-diagnosis/data/train/Septoria/03_septoria_yellowleaf_train.jpg  \n",
            "  inflating: /content/cannabis-health-diagnosis/data/train/Septoria/03_septoria_yellowleaf_train_aug13.jpg  \n",
            "  inflating: /content/cannabis-health-diagnosis/data/train/Septoria/03_septoria_yellowleaf_train_aug23.jpg  \n",
            "  inflating: /content/cannabis-health-diagnosis/data/train/Septoria/03_septoria_yellowleaf_train_aug3.jpg  \n",
            "  inflating: /content/cannabis-health-diagnosis/data/train/Septoria/03_septoria_yellowleaf_train_aug33.jpg  \n",
            "  inflating: /content/cannabis-health-diagnosis/data/train/Septoria/03_septoria_yellowleaf_train_aug43.jpg  \n",
            "  inflating: /content/cannabis-health-diagnosis/data/train/Septoria/03_septoria_yellowleaf_train_aug53.jpg  \n",
            "  inflating: /content/cannabis-health-diagnosis/data/train/Septoria/03_septoria_yellowleaf_train_aug63.jpg  \n",
            "  inflating: /content/cannabis-health-diagnosis/data/train/Septoria/03_septoria_yellowleaf_train_aug73.jpg  \n",
            "  inflating: /content/cannabis-health-diagnosis/data/train/Septoria/03_septoria_yellowleaf_train_aug83.jpg  \n",
            "  inflating: /content/cannabis-health-diagnosis/data/train/Septoria/04_septoria_yellowleaf_train.jpg  \n",
            "  inflating: /content/cannabis-health-diagnosis/data/train/Septoria/04_septoria_yellowleaf_train_aug14.jpg  \n",
            "  inflating: /content/cannabis-health-diagnosis/data/train/Septoria/04_septoria_yellowleaf_train_aug24.jpg  \n",
            "  inflating: /content/cannabis-health-diagnosis/data/train/Septoria/04_septoria_yellowleaf_train_aug34.jpg  \n",
            "  inflating: /content/cannabis-health-diagnosis/data/train/Septoria/04_septoria_yellowleaf_train_aug4.jpg  \n",
            "  inflating: /content/cannabis-health-diagnosis/data/train/Septoria/04_septoria_yellowleaf_train_aug44.jpg  \n",
            "  inflating: /content/cannabis-health-diagnosis/data/train/Septoria/04_septoria_yellowleaf_train_aug54.jpg  \n",
            "  inflating: /content/cannabis-health-diagnosis/data/train/Septoria/04_septoria_yellowleaf_train_aug64.jpg  \n",
            "  inflating: /content/cannabis-health-diagnosis/data/train/Septoria/04_septoria_yellowleaf_train_aug74.jpg  \n",
            "  inflating: /content/cannabis-health-diagnosis/data/train/Septoria/04_septoria_yellowleaf_train_aug84.jpg  \n",
            "  inflating: /content/cannabis-health-diagnosis/data/train/Septoria/05_septoria_yellowleaf_train.jpg  \n",
            "  inflating: /content/cannabis-health-diagnosis/data/train/Septoria/05_septoria_yellowleaf_train_aug15.jpg  \n",
            "  inflating: /content/cannabis-health-diagnosis/data/train/Septoria/05_septoria_yellowleaf_train_aug25.jpg  \n",
            "  inflating: /content/cannabis-health-diagnosis/data/train/Septoria/05_septoria_yellowleaf_train_aug35.jpg  \n",
            "  inflating: /content/cannabis-health-diagnosis/data/train/Septoria/05_septoria_yellowleaf_train_aug45.jpg  \n",
            "  inflating: /content/cannabis-health-diagnosis/data/train/Septoria/05_septoria_yellowleaf_train_aug5.jpg  \n",
            "  inflating: /content/cannabis-health-diagnosis/data/train/Septoria/05_septoria_yellowleaf_train_aug55.jpg  \n",
            "  inflating: /content/cannabis-health-diagnosis/data/train/Septoria/05_septoria_yellowleaf_train_aug65.jpg  \n",
            "  inflating: /content/cannabis-health-diagnosis/data/train/Septoria/05_septoria_yellowleaf_train_aug75.jpg  \n",
            "  inflating: /content/cannabis-health-diagnosis/data/train/Septoria/05_septoria_yellowleaf_train_aug85.jpg  \n",
            "  inflating: /content/cannabis-health-diagnosis/data/train/Septoria/06_septoria_yellowleaf_train.jpg  \n",
            "  inflating: /content/cannabis-health-diagnosis/data/train/Septoria/06_septoria_yellowleaf_train_aug16.jpg  \n",
            "  inflating: /content/cannabis-health-diagnosis/data/train/Septoria/06_septoria_yellowleaf_train_aug26.jpg  \n",
            "  inflating: /content/cannabis-health-diagnosis/data/train/Septoria/06_septoria_yellowleaf_train_aug36.jpg  \n",
            "  inflating: /content/cannabis-health-diagnosis/data/train/Septoria/06_septoria_yellowleaf_train_aug46.jpg  \n",
            "  inflating: /content/cannabis-health-diagnosis/data/train/Septoria/06_septoria_yellowleaf_train_aug56.jpg  \n",
            "  inflating: /content/cannabis-health-diagnosis/data/train/Septoria/06_septoria_yellowleaf_train_aug6.jpg  \n",
            "  inflating: /content/cannabis-health-diagnosis/data/train/Septoria/06_septoria_yellowleaf_train_aug66.jpg  \n",
            "  inflating: /content/cannabis-health-diagnosis/data/train/Septoria/06_septoria_yellowleaf_train_aug76.jpg  \n",
            "  inflating: /content/cannabis-health-diagnosis/data/train/Septoria/06_septoria_yellowleaf_train_aug86.jpg  \n",
            "  inflating: /content/cannabis-health-diagnosis/data/train/Septoria/07_septoria_yellowleaf_train.jpg  \n",
            "  inflating: /content/cannabis-health-diagnosis/data/train/Septoria/07_septoria_yellowleaf_train_aug17.jpg  \n",
            "  inflating: /content/cannabis-health-diagnosis/data/train/Septoria/07_septoria_yellowleaf_train_aug27.jpg  \n",
            "  inflating: /content/cannabis-health-diagnosis/data/train/Septoria/07_septoria_yellowleaf_train_aug37.jpg  \n",
            "  inflating: /content/cannabis-health-diagnosis/data/train/Septoria/07_septoria_yellowleaf_train_aug47.jpg  \n",
            "  inflating: /content/cannabis-health-diagnosis/data/train/Septoria/07_septoria_yellowleaf_train_aug57.jpg  \n",
            "  inflating: /content/cannabis-health-diagnosis/data/train/Septoria/07_septoria_yellowleaf_train_aug67.jpg  \n",
            "  inflating: /content/cannabis-health-diagnosis/data/train/Septoria/07_septoria_yellowleaf_train_aug7.jpg  \n",
            "  inflating: /content/cannabis-health-diagnosis/data/train/Septoria/07_septoria_yellowleaf_train_aug77.jpg  \n",
            "  inflating: /content/cannabis-health-diagnosis/data/train/Septoria/07_septoria_yellowleaf_train_aug87.jpg  \n",
            "  inflating: /content/cannabis-health-diagnosis/data/train/Septoria/08_septoria_yellowleaf_train.jpg  \n",
            "  inflating: /content/cannabis-health-diagnosis/data/train/Septoria/08_septoria_yellowleaf_train_aug18.jpg  \n",
            "  inflating: /content/cannabis-health-diagnosis/data/train/Septoria/08_septoria_yellowleaf_train_aug28.jpg  \n",
            "  inflating: /content/cannabis-health-diagnosis/data/train/Septoria/08_septoria_yellowleaf_train_aug38.jpg  \n",
            "  inflating: /content/cannabis-health-diagnosis/data/train/Septoria/08_septoria_yellowleaf_train_aug48.jpg  \n",
            "  inflating: /content/cannabis-health-diagnosis/data/train/Septoria/08_septoria_yellowleaf_train_aug58.jpg  \n",
            "  inflating: /content/cannabis-health-diagnosis/data/train/Septoria/08_septoria_yellowleaf_train_aug68.jpg  \n",
            "  inflating: /content/cannabis-health-diagnosis/data/train/Septoria/08_septoria_yellowleaf_train_aug78.jpg  \n",
            "  inflating: /content/cannabis-health-diagnosis/data/train/Septoria/08_septoria_yellowleaf_train_aug8.jpg  \n",
            "  inflating: /content/cannabis-health-diagnosis/data/train/Septoria/08_septoria_yellowleaf_train_aug88.jpg  \n",
            "  inflating: /content/cannabis-health-diagnosis/data/train/Septoria/09_septoria_yellowleaf_train.jpg  \n",
            "  inflating: /content/cannabis-health-diagnosis/data/train/Septoria/09_septoria_yellowleaf_train_aug19.jpg  \n",
            "  inflating: /content/cannabis-health-diagnosis/data/train/Septoria/09_septoria_yellowleaf_train_aug29.jpg  \n",
            "  inflating: /content/cannabis-health-diagnosis/data/train/Septoria/09_septoria_yellowleaf_train_aug39.jpg  \n",
            "  inflating: /content/cannabis-health-diagnosis/data/train/Septoria/09_septoria_yellowleaf_train_aug49.jpg  \n",
            "  inflating: /content/cannabis-health-diagnosis/data/train/Septoria/09_septoria_yellowleaf_train_aug59.jpg  \n",
            "  inflating: /content/cannabis-health-diagnosis/data/train/Septoria/09_septoria_yellowleaf_train_aug69.jpg  \n",
            "  inflating: /content/cannabis-health-diagnosis/data/train/Septoria/09_septoria_yellowleaf_train_aug79.jpg  \n",
            "  inflating: /content/cannabis-health-diagnosis/data/train/Septoria/09_septoria_yellowleaf_train_aug89.jpg  \n",
            "  inflating: /content/cannabis-health-diagnosis/data/train/Septoria/09_septoria_yellowleaf_train_aug9.jpg  \n",
            "   creating: /content/cannabis-health-diagnosis/data/valid/Aphids/\n",
            "   creating: /content/cannabis-health-diagnosis/data/valid/Botrytis/\n",
            "   creating: /content/cannabis-health-diagnosis/data/valid/Dehydration/\n",
            "   creating: /content/cannabis-health-diagnosis/data/valid/Healthy/\n",
            "   creating: /content/cannabis-health-diagnosis/data/valid/Leaf Miners/\n",
            "   creating: /content/cannabis-health-diagnosis/data/valid/Nitrogen Deficiency/\n",
            "   creating: /content/cannabis-health-diagnosis/data/valid/Nutrient Burn/\n",
            "   creating: /content/cannabis-health-diagnosis/data/valid/Overwatering/\n",
            "   creating: /content/cannabis-health-diagnosis/data/valid/PH Fluctuation/\n",
            "   creating: /content/cannabis-health-diagnosis/data/valid/Phosphorus Deficiency/\n",
            "   creating: /content/cannabis-health-diagnosis/data/valid/Potassium Deficiency/\n",
            "   creating: /content/cannabis-health-diagnosis/data/valid/Powdery Mildew/\n",
            "   creating: /content/cannabis-health-diagnosis/data/valid/Septoria/\n",
            "  inflating: /content/cannabis-health-diagnosis/data/valid/Aphids/00_aphids_valid.jpg  \n",
            "  inflating: /content/cannabis-health-diagnosis/data/valid/Aphids/00_aphids_valid_aug0.jpg  \n",
            "  inflating: /content/cannabis-health-diagnosis/data/valid/Aphids/00_aphids_valid_aug10.jpg  \n",
            "  inflating: /content/cannabis-health-diagnosis/data/valid/Aphids/00_aphids_valid_aug12.jpg  \n",
            "  inflating: /content/cannabis-health-diagnosis/data/valid/Aphids/00_aphids_valid_aug14.jpg  \n",
            "  inflating: /content/cannabis-health-diagnosis/data/valid/Aphids/00_aphids_valid_aug16.jpg  \n",
            "  inflating: /content/cannabis-health-diagnosis/data/valid/Aphids/00_aphids_valid_aug2.jpg  \n",
            "  inflating: /content/cannabis-health-diagnosis/data/valid/Aphids/00_aphids_valid_aug4.jpg  \n",
            "  inflating: /content/cannabis-health-diagnosis/data/valid/Aphids/00_aphids_valid_aug6.jpg  \n",
            "  inflating: /content/cannabis-health-diagnosis/data/valid/Aphids/00_aphids_valid_aug8.jpg  \n",
            "  inflating: /content/cannabis-health-diagnosis/data/valid/Aphids/01_aphids_valid.jpg  \n",
            "  inflating: /content/cannabis-health-diagnosis/data/valid/Aphids/01_aphids_valid_aug1.jpg  \n",
            "  inflating: /content/cannabis-health-diagnosis/data/valid/Aphids/01_aphids_valid_aug11.jpg  \n",
            "  inflating: /content/cannabis-health-diagnosis/data/valid/Aphids/01_aphids_valid_aug13.jpg  \n",
            "  inflating: /content/cannabis-health-diagnosis/data/valid/Aphids/01_aphids_valid_aug15.jpg  \n",
            "  inflating: /content/cannabis-health-diagnosis/data/valid/Aphids/01_aphids_valid_aug17.jpg  \n",
            "  inflating: /content/cannabis-health-diagnosis/data/valid/Aphids/01_aphids_valid_aug3.jpg  \n",
            "  inflating: /content/cannabis-health-diagnosis/data/valid/Aphids/01_aphids_valid_aug5.jpg  \n",
            "  inflating: /content/cannabis-health-diagnosis/data/valid/Aphids/01_aphids_valid_aug7.jpg  \n",
            "  inflating: /content/cannabis-health-diagnosis/data/valid/Aphids/01_aphids_valid_aug9.jpg  \n",
            "  inflating: /content/cannabis-health-diagnosis/data/valid/Botrytis/00_botrytis_valid.jpg  \n",
            "  inflating: /content/cannabis-health-diagnosis/data/valid/Botrytis/00_botrytis_valid_aug0.jpg  \n",
            "  inflating: /content/cannabis-health-diagnosis/data/valid/Botrytis/00_botrytis_valid_aug10.jpg  \n",
            "  inflating: /content/cannabis-health-diagnosis/data/valid/Botrytis/00_botrytis_valid_aug12.jpg  \n",
            "  inflating: /content/cannabis-health-diagnosis/data/valid/Botrytis/00_botrytis_valid_aug14.jpg  \n",
            "  inflating: /content/cannabis-health-diagnosis/data/valid/Botrytis/00_botrytis_valid_aug16.jpg  \n",
            "  inflating: /content/cannabis-health-diagnosis/data/valid/Botrytis/00_botrytis_valid_aug2.jpg  \n",
            "  inflating: /content/cannabis-health-diagnosis/data/valid/Botrytis/00_botrytis_valid_aug4.jpg  \n",
            "  inflating: /content/cannabis-health-diagnosis/data/valid/Botrytis/00_botrytis_valid_aug6.jpg  \n",
            "  inflating: /content/cannabis-health-diagnosis/data/valid/Botrytis/00_botrytis_valid_aug8.jpg  \n",
            "  inflating: /content/cannabis-health-diagnosis/data/valid/Botrytis/01_botrytis_valid.jpg  \n",
            "  inflating: /content/cannabis-health-diagnosis/data/valid/Botrytis/01_botrytis_valid_aug1.jpg  \n",
            "  inflating: /content/cannabis-health-diagnosis/data/valid/Botrytis/01_botrytis_valid_aug11.jpg  \n",
            "  inflating: /content/cannabis-health-diagnosis/data/valid/Botrytis/01_botrytis_valid_aug13.jpg  \n",
            "  inflating: /content/cannabis-health-diagnosis/data/valid/Botrytis/01_botrytis_valid_aug15.jpg  \n",
            "  inflating: /content/cannabis-health-diagnosis/data/valid/Botrytis/01_botrytis_valid_aug17.jpg  \n",
            "  inflating: /content/cannabis-health-diagnosis/data/valid/Botrytis/01_botrytis_valid_aug3.jpg  \n",
            "  inflating: /content/cannabis-health-diagnosis/data/valid/Botrytis/01_botrytis_valid_aug5.jpg  \n",
            "  inflating: /content/cannabis-health-diagnosis/data/valid/Botrytis/01_botrytis_valid_aug7.jpg  \n",
            "  inflating: /content/cannabis-health-diagnosis/data/valid/Botrytis/01_botrytis_valid_aug9.jpg  \n",
            "  inflating: /content/cannabis-health-diagnosis/data/valid/Dehydration/00_dehydration_valid.jpg  \n",
            "  inflating: /content/cannabis-health-diagnosis/data/valid/Dehydration/00_dehydration_valid_aug0.jpg  \n",
            "  inflating: /content/cannabis-health-diagnosis/data/valid/Dehydration/00_dehydration_valid_aug10.jpg  \n",
            "  inflating: /content/cannabis-health-diagnosis/data/valid/Dehydration/00_dehydration_valid_aug12.jpg  \n",
            "  inflating: /content/cannabis-health-diagnosis/data/valid/Dehydration/00_dehydration_valid_aug14.jpg  \n",
            "  inflating: /content/cannabis-health-diagnosis/data/valid/Dehydration/00_dehydration_valid_aug16.jpg  \n",
            "  inflating: /content/cannabis-health-diagnosis/data/valid/Dehydration/00_dehydration_valid_aug2.jpg  \n",
            "  inflating: /content/cannabis-health-diagnosis/data/valid/Dehydration/00_dehydration_valid_aug4.jpg  \n",
            "  inflating: /content/cannabis-health-diagnosis/data/valid/Dehydration/00_dehydration_valid_aug6.jpg  \n",
            "  inflating: /content/cannabis-health-diagnosis/data/valid/Dehydration/00_dehydration_valid_aug8.jpg  \n",
            "  inflating: /content/cannabis-health-diagnosis/data/valid/Dehydration/01_dehydration_valid.jpg  \n",
            "  inflating: /content/cannabis-health-diagnosis/data/valid/Dehydration/01_dehydration_valid_aug1.jpg  \n",
            "  inflating: /content/cannabis-health-diagnosis/data/valid/Dehydration/01_dehydration_valid_aug11.jpg  \n",
            "  inflating: /content/cannabis-health-diagnosis/data/valid/Dehydration/01_dehydration_valid_aug13.jpg  \n",
            "  inflating: /content/cannabis-health-diagnosis/data/valid/Dehydration/01_dehydration_valid_aug15.jpg  \n",
            "  inflating: /content/cannabis-health-diagnosis/data/valid/Dehydration/01_dehydration_valid_aug17.jpg  \n",
            "  inflating: /content/cannabis-health-diagnosis/data/valid/Dehydration/01_dehydration_valid_aug3.jpg  \n",
            "  inflating: /content/cannabis-health-diagnosis/data/valid/Dehydration/01_dehydration_valid_aug5.jpg  \n",
            "  inflating: /content/cannabis-health-diagnosis/data/valid/Dehydration/01_dehydration_valid_aug7.jpg  \n",
            "  inflating: /content/cannabis-health-diagnosis/data/valid/Dehydration/01_dehydration_valid_aug9.jpg  \n",
            "  inflating: /content/cannabis-health-diagnosis/data/valid/Healthy/00_healthy_valid.jpg  \n",
            "  inflating: /content/cannabis-health-diagnosis/data/valid/Healthy/00_healthy_valid_aug0.jpg  \n",
            "  inflating: /content/cannabis-health-diagnosis/data/valid/Healthy/00_healthy_valid_aug10.jpg  \n",
            "  inflating: /content/cannabis-health-diagnosis/data/valid/Healthy/00_healthy_valid_aug12.jpg  \n",
            "  inflating: /content/cannabis-health-diagnosis/data/valid/Healthy/00_healthy_valid_aug14.jpg  \n",
            "  inflating: /content/cannabis-health-diagnosis/data/valid/Healthy/00_healthy_valid_aug16.jpg  \n",
            "  inflating: /content/cannabis-health-diagnosis/data/valid/Healthy/00_healthy_valid_aug2.jpg  \n",
            "  inflating: /content/cannabis-health-diagnosis/data/valid/Healthy/00_healthy_valid_aug4.jpg  \n",
            "  inflating: /content/cannabis-health-diagnosis/data/valid/Healthy/00_healthy_valid_aug6.jpg  \n",
            "  inflating: /content/cannabis-health-diagnosis/data/valid/Healthy/00_healthy_valid_aug8.jpg  \n",
            "  inflating: /content/cannabis-health-diagnosis/data/valid/Healthy/01_healthy_valid.jpg  \n",
            "  inflating: /content/cannabis-health-diagnosis/data/valid/Healthy/01_healthy_valid_aug1.jpg  \n",
            "  inflating: /content/cannabis-health-diagnosis/data/valid/Healthy/01_healthy_valid_aug11.jpg  \n",
            "  inflating: /content/cannabis-health-diagnosis/data/valid/Healthy/01_healthy_valid_aug13.jpg  \n",
            "  inflating: /content/cannabis-health-diagnosis/data/valid/Healthy/01_healthy_valid_aug15.jpg  \n",
            "  inflating: /content/cannabis-health-diagnosis/data/valid/Healthy/01_healthy_valid_aug17.jpg  \n",
            "  inflating: /content/cannabis-health-diagnosis/data/valid/Healthy/01_healthy_valid_aug3.jpg  \n",
            "  inflating: /content/cannabis-health-diagnosis/data/valid/Healthy/01_healthy_valid_aug5.jpg  \n",
            "  inflating: /content/cannabis-health-diagnosis/data/valid/Healthy/01_healthy_valid_aug7.jpg  \n",
            "  inflating: /content/cannabis-health-diagnosis/data/valid/Healthy/01_healthy_valid_aug9.jpg  \n",
            "  inflating: /content/cannabis-health-diagnosis/data/valid/Leaf Miners/00_leaf_miners_valid.jpg  \n",
            "  inflating: /content/cannabis-health-diagnosis/data/valid/Leaf Miners/00_leaf_miners_valid_aug0.jpg  \n",
            "  inflating: /content/cannabis-health-diagnosis/data/valid/Leaf Miners/00_leaf_miners_valid_aug10.jpg  \n",
            "  inflating: /content/cannabis-health-diagnosis/data/valid/Leaf Miners/00_leaf_miners_valid_aug12.jpg  \n",
            "  inflating: /content/cannabis-health-diagnosis/data/valid/Leaf Miners/00_leaf_miners_valid_aug14.jpg  \n",
            "  inflating: /content/cannabis-health-diagnosis/data/valid/Leaf Miners/00_leaf_miners_valid_aug16.jpg  \n",
            "  inflating: /content/cannabis-health-diagnosis/data/valid/Leaf Miners/00_leaf_miners_valid_aug2.jpg  \n",
            "  inflating: /content/cannabis-health-diagnosis/data/valid/Leaf Miners/00_leaf_miners_valid_aug4.jpg  \n",
            "  inflating: /content/cannabis-health-diagnosis/data/valid/Leaf Miners/00_leaf_miners_valid_aug6.jpg  \n",
            "  inflating: /content/cannabis-health-diagnosis/data/valid/Leaf Miners/00_leaf_miners_valid_aug8.jpg  \n",
            "  inflating: /content/cannabis-health-diagnosis/data/valid/Leaf Miners/01_leaf_miners_valid.jpg  \n",
            "  inflating: /content/cannabis-health-diagnosis/data/valid/Leaf Miners/01_leaf_miners_valid_aug1.jpg  \n",
            "  inflating: /content/cannabis-health-diagnosis/data/valid/Leaf Miners/01_leaf_miners_valid_aug11.jpg  \n",
            "  inflating: /content/cannabis-health-diagnosis/data/valid/Leaf Miners/01_leaf_miners_valid_aug13.jpg  \n",
            "  inflating: /content/cannabis-health-diagnosis/data/valid/Leaf Miners/01_leaf_miners_valid_aug15.jpg  \n",
            "  inflating: /content/cannabis-health-diagnosis/data/valid/Leaf Miners/01_leaf_miners_valid_aug17.jpg  \n",
            "  inflating: /content/cannabis-health-diagnosis/data/valid/Leaf Miners/01_leaf_miners_valid_aug3.jpg  \n",
            "  inflating: /content/cannabis-health-diagnosis/data/valid/Leaf Miners/01_leaf_miners_valid_aug5.jpg  \n",
            "  inflating: /content/cannabis-health-diagnosis/data/valid/Leaf Miners/01_leaf_miners_valid_aug7.jpg  \n",
            "  inflating: /content/cannabis-health-diagnosis/data/valid/Leaf Miners/01_leaf_miners_valid_aug9.jpg  \n",
            "  inflating: /content/cannabis-health-diagnosis/data/valid/Nitrogen Deficiency/00_nitrogen_def_valid.jpg  \n",
            "  inflating: /content/cannabis-health-diagnosis/data/valid/Nitrogen Deficiency/00_nitrogen_def_valid_aug0.jpg  \n",
            "  inflating: /content/cannabis-health-diagnosis/data/valid/Nitrogen Deficiency/00_nitrogen_def_valid_aug10.jpg  \n",
            "  inflating: /content/cannabis-health-diagnosis/data/valid/Nitrogen Deficiency/00_nitrogen_def_valid_aug12.jpg  \n",
            "  inflating: /content/cannabis-health-diagnosis/data/valid/Nitrogen Deficiency/00_nitrogen_def_valid_aug14.jpg  \n",
            "  inflating: /content/cannabis-health-diagnosis/data/valid/Nitrogen Deficiency/00_nitrogen_def_valid_aug16.jpg  \n",
            "  inflating: /content/cannabis-health-diagnosis/data/valid/Nitrogen Deficiency/00_nitrogen_def_valid_aug2.jpg  \n",
            "  inflating: /content/cannabis-health-diagnosis/data/valid/Nitrogen Deficiency/00_nitrogen_def_valid_aug4.jpg  \n",
            "  inflating: /content/cannabis-health-diagnosis/data/valid/Nitrogen Deficiency/00_nitrogen_def_valid_aug6.jpg  \n",
            "  inflating: /content/cannabis-health-diagnosis/data/valid/Nitrogen Deficiency/00_nitrogen_def_valid_aug8.jpg  \n",
            "  inflating: /content/cannabis-health-diagnosis/data/valid/Nitrogen Deficiency/01_nitrogen_def_valid.jpg  \n",
            "  inflating: /content/cannabis-health-diagnosis/data/valid/Nitrogen Deficiency/01_nitrogen_def_valid_aug1.jpg  \n",
            "  inflating: /content/cannabis-health-diagnosis/data/valid/Nitrogen Deficiency/01_nitrogen_def_valid_aug11.jpg  \n",
            "  inflating: /content/cannabis-health-diagnosis/data/valid/Nitrogen Deficiency/01_nitrogen_def_valid_aug13.jpg  \n",
            "  inflating: /content/cannabis-health-diagnosis/data/valid/Nitrogen Deficiency/01_nitrogen_def_valid_aug15.jpg  \n",
            "  inflating: /content/cannabis-health-diagnosis/data/valid/Nitrogen Deficiency/01_nitrogen_def_valid_aug17.jpg  \n",
            "  inflating: /content/cannabis-health-diagnosis/data/valid/Nitrogen Deficiency/01_nitrogen_def_valid_aug3.jpg  \n",
            "  inflating: /content/cannabis-health-diagnosis/data/valid/Nitrogen Deficiency/01_nitrogen_def_valid_aug5.jpg  \n",
            "  inflating: /content/cannabis-health-diagnosis/data/valid/Nitrogen Deficiency/01_nitrogen_def_valid_aug7.jpg  \n",
            "  inflating: /content/cannabis-health-diagnosis/data/valid/Nitrogen Deficiency/01_nitrogen_def_valid_aug9.jpg  \n",
            "  inflating: /content/cannabis-health-diagnosis/data/valid/Nutrient Burn/00_nutrient_burn_valid.jpg  \n",
            "  inflating: /content/cannabis-health-diagnosis/data/valid/Nutrient Burn/00_nutrient_burn_valid_aug0.jpg  \n",
            "  inflating: /content/cannabis-health-diagnosis/data/valid/Nutrient Burn/00_nutrient_burn_valid_aug10.jpg  \n",
            "  inflating: /content/cannabis-health-diagnosis/data/valid/Nutrient Burn/00_nutrient_burn_valid_aug12.jpg  \n",
            "  inflating: /content/cannabis-health-diagnosis/data/valid/Nutrient Burn/00_nutrient_burn_valid_aug14.jpg  \n",
            "  inflating: /content/cannabis-health-diagnosis/data/valid/Nutrient Burn/00_nutrient_burn_valid_aug16.jpg  \n",
            "  inflating: /content/cannabis-health-diagnosis/data/valid/Nutrient Burn/00_nutrient_burn_valid_aug2.jpg  \n",
            "  inflating: /content/cannabis-health-diagnosis/data/valid/Nutrient Burn/00_nutrient_burn_valid_aug4.jpg  \n",
            "  inflating: /content/cannabis-health-diagnosis/data/valid/Nutrient Burn/00_nutrient_burn_valid_aug6.jpg  \n",
            "  inflating: /content/cannabis-health-diagnosis/data/valid/Nutrient Burn/00_nutrient_burn_valid_aug8.jpg  \n",
            "  inflating: /content/cannabis-health-diagnosis/data/valid/Nutrient Burn/01_nutrient_burn_valid.jpg  \n",
            "  inflating: /content/cannabis-health-diagnosis/data/valid/Nutrient Burn/01_nutrient_burn_valid_aug1.jpg  \n",
            "  inflating: /content/cannabis-health-diagnosis/data/valid/Nutrient Burn/01_nutrient_burn_valid_aug11.jpg  \n",
            "  inflating: /content/cannabis-health-diagnosis/data/valid/Nutrient Burn/01_nutrient_burn_valid_aug13.jpg  \n",
            "  inflating: /content/cannabis-health-diagnosis/data/valid/Nutrient Burn/01_nutrient_burn_valid_aug15.jpg  \n",
            "  inflating: /content/cannabis-health-diagnosis/data/valid/Nutrient Burn/01_nutrient_burn_valid_aug17.jpg  \n",
            "  inflating: /content/cannabis-health-diagnosis/data/valid/Nutrient Burn/01_nutrient_burn_valid_aug3.jpg  \n",
            "  inflating: /content/cannabis-health-diagnosis/data/valid/Nutrient Burn/01_nutrient_burn_valid_aug5.jpg  \n",
            "  inflating: /content/cannabis-health-diagnosis/data/valid/Nutrient Burn/01_nutrient_burn_valid_aug7.jpg  \n",
            "  inflating: /content/cannabis-health-diagnosis/data/valid/Nutrient Burn/01_nutrient_burn_valid_aug9.jpg  \n",
            "  inflating: /content/cannabis-health-diagnosis/data/valid/Overwatering/00_overwatering_valid.jpg  \n",
            "  inflating: /content/cannabis-health-diagnosis/data/valid/Overwatering/00_overwatering_valid_aug0.jpg  \n",
            "  inflating: /content/cannabis-health-diagnosis/data/valid/Overwatering/00_overwatering_valid_aug10.jpg  \n",
            "  inflating: /content/cannabis-health-diagnosis/data/valid/Overwatering/00_overwatering_valid_aug12.jpg  \n",
            "  inflating: /content/cannabis-health-diagnosis/data/valid/Overwatering/00_overwatering_valid_aug14.jpg  \n",
            "  inflating: /content/cannabis-health-diagnosis/data/valid/Overwatering/00_overwatering_valid_aug16.jpg  \n",
            "  inflating: /content/cannabis-health-diagnosis/data/valid/Overwatering/00_overwatering_valid_aug2.jpg  \n",
            "  inflating: /content/cannabis-health-diagnosis/data/valid/Overwatering/00_overwatering_valid_aug4.jpg  \n",
            "  inflating: /content/cannabis-health-diagnosis/data/valid/Overwatering/00_overwatering_valid_aug6.jpg  \n",
            "  inflating: /content/cannabis-health-diagnosis/data/valid/Overwatering/00_overwatering_valid_aug8.jpg  \n",
            "  inflating: /content/cannabis-health-diagnosis/data/valid/Overwatering/01_overwatering_valid.jpg  \n",
            "  inflating: /content/cannabis-health-diagnosis/data/valid/Overwatering/01_overwatering_valid_aug1.jpg  \n",
            "  inflating: /content/cannabis-health-diagnosis/data/valid/Overwatering/01_overwatering_valid_aug11.jpg  \n",
            "  inflating: /content/cannabis-health-diagnosis/data/valid/Overwatering/01_overwatering_valid_aug13.jpg  \n",
            "  inflating: /content/cannabis-health-diagnosis/data/valid/Overwatering/01_overwatering_valid_aug15.jpg  \n",
            "  inflating: /content/cannabis-health-diagnosis/data/valid/Overwatering/01_overwatering_valid_aug17.jpg  \n",
            "  inflating: /content/cannabis-health-diagnosis/data/valid/Overwatering/01_overwatering_valid_aug3.jpg  \n",
            "  inflating: /content/cannabis-health-diagnosis/data/valid/Overwatering/01_overwatering_valid_aug5.jpg  \n",
            "  inflating: /content/cannabis-health-diagnosis/data/valid/Overwatering/01_overwatering_valid_aug7.jpg  \n",
            "  inflating: /content/cannabis-health-diagnosis/data/valid/Overwatering/01_overwatering_valid_aug9.jpg  \n",
            "  inflating: /content/cannabis-health-diagnosis/data/valid/PH Fluctuation/00_ph_fluctuation_valid.jpg  \n",
            "  inflating: /content/cannabis-health-diagnosis/data/valid/PH Fluctuation/00_ph_fluctuation_valid_aug0.jpg  \n",
            "  inflating: /content/cannabis-health-diagnosis/data/valid/PH Fluctuation/00_ph_fluctuation_valid_aug10.jpg  \n",
            "  inflating: /content/cannabis-health-diagnosis/data/valid/PH Fluctuation/00_ph_fluctuation_valid_aug12.jpg  \n",
            "  inflating: /content/cannabis-health-diagnosis/data/valid/PH Fluctuation/00_ph_fluctuation_valid_aug14.jpg  \n",
            "  inflating: /content/cannabis-health-diagnosis/data/valid/PH Fluctuation/00_ph_fluctuation_valid_aug16.jpg  \n",
            "  inflating: /content/cannabis-health-diagnosis/data/valid/PH Fluctuation/00_ph_fluctuation_valid_aug2.jpg  \n",
            "  inflating: /content/cannabis-health-diagnosis/data/valid/PH Fluctuation/00_ph_fluctuation_valid_aug4.jpg  \n",
            "  inflating: /content/cannabis-health-diagnosis/data/valid/PH Fluctuation/00_ph_fluctuation_valid_aug6.jpg  \n",
            "  inflating: /content/cannabis-health-diagnosis/data/valid/PH Fluctuation/00_ph_fluctuation_valid_aug8.jpg  \n",
            "  inflating: /content/cannabis-health-diagnosis/data/valid/PH Fluctuation/01_ph_fluctuation_valid.jpg  \n",
            "  inflating: /content/cannabis-health-diagnosis/data/valid/PH Fluctuation/01_ph_fluctuation_valid_aug1.jpg  \n",
            "  inflating: /content/cannabis-health-diagnosis/data/valid/PH Fluctuation/01_ph_fluctuation_valid_aug11.jpg  \n",
            "  inflating: /content/cannabis-health-diagnosis/data/valid/PH Fluctuation/01_ph_fluctuation_valid_aug13.jpg  \n",
            "  inflating: /content/cannabis-health-diagnosis/data/valid/PH Fluctuation/01_ph_fluctuation_valid_aug15.jpg  \n",
            "  inflating: /content/cannabis-health-diagnosis/data/valid/PH Fluctuation/01_ph_fluctuation_valid_aug17.jpg  \n",
            "  inflating: /content/cannabis-health-diagnosis/data/valid/PH Fluctuation/01_ph_fluctuation_valid_aug3.jpg  \n",
            "  inflating: /content/cannabis-health-diagnosis/data/valid/PH Fluctuation/01_ph_fluctuation_valid_aug5.jpg  \n",
            "  inflating: /content/cannabis-health-diagnosis/data/valid/PH Fluctuation/01_ph_fluctuation_valid_aug7.jpg  \n",
            "  inflating: /content/cannabis-health-diagnosis/data/valid/PH Fluctuation/01_ph_fluctuation_valid_aug9.jpg  \n",
            "  inflating: /content/cannabis-health-diagnosis/data/valid/Phosphorus Deficiency/00_phosphorus_def_valid.jpg  \n",
            "  inflating: /content/cannabis-health-diagnosis/data/valid/Phosphorus Deficiency/00_phosphorus_def_valid_aug0.jpg  \n",
            "  inflating: /content/cannabis-health-diagnosis/data/valid/Phosphorus Deficiency/00_phosphorus_def_valid_aug10.jpg  \n",
            "  inflating: /content/cannabis-health-diagnosis/data/valid/Phosphorus Deficiency/00_phosphorus_def_valid_aug12.jpg  \n",
            "  inflating: /content/cannabis-health-diagnosis/data/valid/Phosphorus Deficiency/00_phosphorus_def_valid_aug14.jpg  \n",
            "  inflating: /content/cannabis-health-diagnosis/data/valid/Phosphorus Deficiency/00_phosphorus_def_valid_aug16.jpg  \n",
            "  inflating: /content/cannabis-health-diagnosis/data/valid/Phosphorus Deficiency/00_phosphorus_def_valid_aug2.jpg  \n",
            "  inflating: /content/cannabis-health-diagnosis/data/valid/Phosphorus Deficiency/00_phosphorus_def_valid_aug4.jpg  \n",
            "  inflating: /content/cannabis-health-diagnosis/data/valid/Phosphorus Deficiency/00_phosphorus_def_valid_aug6.jpg  \n",
            "  inflating: /content/cannabis-health-diagnosis/data/valid/Phosphorus Deficiency/00_phosphorus_def_valid_aug8.jpg  \n",
            "  inflating: /content/cannabis-health-diagnosis/data/valid/Phosphorus Deficiency/01_phosphorus_def_valid.jpg  \n",
            "  inflating: /content/cannabis-health-diagnosis/data/valid/Phosphorus Deficiency/01_phosphorus_def_valid_aug1.jpg  \n",
            "  inflating: /content/cannabis-health-diagnosis/data/valid/Phosphorus Deficiency/01_phosphorus_def_valid_aug11.jpg  \n",
            "  inflating: /content/cannabis-health-diagnosis/data/valid/Phosphorus Deficiency/01_phosphorus_def_valid_aug13.jpg  \n",
            "  inflating: /content/cannabis-health-diagnosis/data/valid/Phosphorus Deficiency/01_phosphorus_def_valid_aug15.jpg  \n",
            "  inflating: /content/cannabis-health-diagnosis/data/valid/Phosphorus Deficiency/01_phosphorus_def_valid_aug17.jpg  \n",
            "  inflating: /content/cannabis-health-diagnosis/data/valid/Phosphorus Deficiency/01_phosphorus_def_valid_aug3.jpg  \n",
            "  inflating: /content/cannabis-health-diagnosis/data/valid/Phosphorus Deficiency/01_phosphorus_def_valid_aug5.jpg  \n",
            "  inflating: /content/cannabis-health-diagnosis/data/valid/Phosphorus Deficiency/01_phosphorus_def_valid_aug7.jpg  \n",
            "  inflating: /content/cannabis-health-diagnosis/data/valid/Phosphorus Deficiency/01_phosphorus_def_valid_aug9.jpg  \n",
            "  inflating: /content/cannabis-health-diagnosis/data/valid/Potassium Deficiency/00_potassium_def_valid.jpg  \n",
            "  inflating: /content/cannabis-health-diagnosis/data/valid/Potassium Deficiency/00_potassium_def_valid_aug0.jpg  \n",
            "  inflating: /content/cannabis-health-diagnosis/data/valid/Potassium Deficiency/00_potassium_def_valid_aug10.jpg  \n",
            "  inflating: /content/cannabis-health-diagnosis/data/valid/Potassium Deficiency/00_potassium_def_valid_aug12.jpg  \n",
            "  inflating: /content/cannabis-health-diagnosis/data/valid/Potassium Deficiency/00_potassium_def_valid_aug14.jpg  \n",
            "  inflating: /content/cannabis-health-diagnosis/data/valid/Potassium Deficiency/00_potassium_def_valid_aug16.jpg  \n",
            "  inflating: /content/cannabis-health-diagnosis/data/valid/Potassium Deficiency/00_potassium_def_valid_aug2.jpg  \n",
            "  inflating: /content/cannabis-health-diagnosis/data/valid/Potassium Deficiency/00_potassium_def_valid_aug4.jpg  \n",
            "  inflating: /content/cannabis-health-diagnosis/data/valid/Potassium Deficiency/00_potassium_def_valid_aug6.jpg  \n",
            "  inflating: /content/cannabis-health-diagnosis/data/valid/Potassium Deficiency/00_potassium_def_valid_aug8.jpg  \n",
            "  inflating: /content/cannabis-health-diagnosis/data/valid/Potassium Deficiency/01_potassium_def_valid.jpg  \n",
            "  inflating: /content/cannabis-health-diagnosis/data/valid/Potassium Deficiency/01_potassium_def_valid_aug1.jpg  \n",
            "  inflating: /content/cannabis-health-diagnosis/data/valid/Potassium Deficiency/01_potassium_def_valid_aug11.jpg  \n",
            "  inflating: /content/cannabis-health-diagnosis/data/valid/Potassium Deficiency/01_potassium_def_valid_aug13.jpg  \n",
            "  inflating: /content/cannabis-health-diagnosis/data/valid/Potassium Deficiency/01_potassium_def_valid_aug15.jpg  \n",
            "  inflating: /content/cannabis-health-diagnosis/data/valid/Potassium Deficiency/01_potassium_def_valid_aug17.jpg  \n",
            "  inflating: /content/cannabis-health-diagnosis/data/valid/Potassium Deficiency/01_potassium_def_valid_aug3.jpg  \n",
            "  inflating: /content/cannabis-health-diagnosis/data/valid/Potassium Deficiency/01_potassium_def_valid_aug5.jpg  \n",
            "  inflating: /content/cannabis-health-diagnosis/data/valid/Potassium Deficiency/01_potassium_def_valid_aug7.jpg  \n",
            "  inflating: /content/cannabis-health-diagnosis/data/valid/Potassium Deficiency/01_potassium_def_valid_aug9.jpg  \n",
            "  inflating: /content/cannabis-health-diagnosis/data/valid/Powdery Mildew/00_powdery_mildew_valid.png  \n",
            "  inflating: /content/cannabis-health-diagnosis/data/valid/Powdery Mildew/00_powdery_mildew_valid_aug0.jpg  \n",
            "  inflating: /content/cannabis-health-diagnosis/data/valid/Powdery Mildew/00_powdery_mildew_valid_aug10.jpg  \n",
            "  inflating: /content/cannabis-health-diagnosis/data/valid/Powdery Mildew/00_powdery_mildew_valid_aug12.jpg  \n",
            "  inflating: /content/cannabis-health-diagnosis/data/valid/Powdery Mildew/00_powdery_mildew_valid_aug14.jpg  \n",
            "  inflating: /content/cannabis-health-diagnosis/data/valid/Powdery Mildew/00_powdery_mildew_valid_aug16.jpg  \n",
            "  inflating: /content/cannabis-health-diagnosis/data/valid/Powdery Mildew/00_powdery_mildew_valid_aug2.jpg  \n",
            "  inflating: /content/cannabis-health-diagnosis/data/valid/Powdery Mildew/00_powdery_mildew_valid_aug4.jpg  \n",
            "  inflating: /content/cannabis-health-diagnosis/data/valid/Powdery Mildew/00_powdery_mildew_valid_aug6.jpg  \n",
            "  inflating: /content/cannabis-health-diagnosis/data/valid/Powdery Mildew/00_powdery_mildew_valid_aug8.jpg  \n",
            "  inflating: /content/cannabis-health-diagnosis/data/valid/Powdery Mildew/01_powdery_mildew_valid.png  \n",
            "  inflating: /content/cannabis-health-diagnosis/data/valid/Powdery Mildew/01_powdery_mildew_valid_aug1.jpg  \n",
            "  inflating: /content/cannabis-health-diagnosis/data/valid/Powdery Mildew/01_powdery_mildew_valid_aug11.jpg  \n",
            "  inflating: /content/cannabis-health-diagnosis/data/valid/Powdery Mildew/01_powdery_mildew_valid_aug13.jpg  \n",
            "  inflating: /content/cannabis-health-diagnosis/data/valid/Powdery Mildew/01_powdery_mildew_valid_aug15.jpg  \n",
            "  inflating: /content/cannabis-health-diagnosis/data/valid/Powdery Mildew/01_powdery_mildew_valid_aug17.jpg  \n",
            "  inflating: /content/cannabis-health-diagnosis/data/valid/Powdery Mildew/01_powdery_mildew_valid_aug3.jpg  \n",
            "  inflating: /content/cannabis-health-diagnosis/data/valid/Powdery Mildew/01_powdery_mildew_valid_aug5.jpg  \n",
            "  inflating: /content/cannabis-health-diagnosis/data/valid/Powdery Mildew/01_powdery_mildew_valid_aug7.jpg  \n",
            "  inflating: /content/cannabis-health-diagnosis/data/valid/Powdery Mildew/01_powdery_mildew_valid_aug9.jpg  \n",
            "  inflating: /content/cannabis-health-diagnosis/data/valid/Septoria/00_septoria_yellowleaf_valid.jpg  \n",
            "  inflating: /content/cannabis-health-diagnosis/data/valid/Septoria/00_septoria_yellowleaf_valid_aug0.jpg  \n",
            "  inflating: /content/cannabis-health-diagnosis/data/valid/Septoria/00_septoria_yellowleaf_valid_aug10.jpg  \n",
            "  inflating: /content/cannabis-health-diagnosis/data/valid/Septoria/00_septoria_yellowleaf_valid_aug12.jpg  \n",
            "  inflating: /content/cannabis-health-diagnosis/data/valid/Septoria/00_septoria_yellowleaf_valid_aug14.jpg  \n",
            "  inflating: /content/cannabis-health-diagnosis/data/valid/Septoria/00_septoria_yellowleaf_valid_aug16.jpg  \n",
            "  inflating: /content/cannabis-health-diagnosis/data/valid/Septoria/00_septoria_yellowleaf_valid_aug2.jpg  \n",
            "  inflating: /content/cannabis-health-diagnosis/data/valid/Septoria/00_septoria_yellowleaf_valid_aug4.jpg  \n",
            "  inflating: /content/cannabis-health-diagnosis/data/valid/Septoria/00_septoria_yellowleaf_valid_aug6.jpg  \n",
            "  inflating: /content/cannabis-health-diagnosis/data/valid/Septoria/00_septoria_yellowleaf_valid_aug8.jpg  \n",
            "  inflating: /content/cannabis-health-diagnosis/data/valid/Septoria/01_septoria_yellowleaf_valid.jpg  \n",
            "  inflating: /content/cannabis-health-diagnosis/data/valid/Septoria/01_septoria_yellowleaf_valid_aug1.jpg  \n",
            "  inflating: /content/cannabis-health-diagnosis/data/valid/Septoria/01_septoria_yellowleaf_valid_aug11.jpg  \n",
            "  inflating: /content/cannabis-health-diagnosis/data/valid/Septoria/01_septoria_yellowleaf_valid_aug13.jpg  \n",
            "  inflating: /content/cannabis-health-diagnosis/data/valid/Septoria/01_septoria_yellowleaf_valid_aug15.jpg  \n",
            "  inflating: /content/cannabis-health-diagnosis/data/valid/Septoria/01_septoria_yellowleaf_valid_aug17.jpg  \n",
            "  inflating: /content/cannabis-health-diagnosis/data/valid/Septoria/01_septoria_yellowleaf_valid_aug3.jpg  \n",
            "  inflating: /content/cannabis-health-diagnosis/data/valid/Septoria/01_septoria_yellowleaf_valid_aug5.jpg  \n",
            "  inflating: /content/cannabis-health-diagnosis/data/valid/Septoria/01_septoria_yellowleaf_valid_aug7.jpg  \n",
            "  inflating: /content/cannabis-health-diagnosis/data/valid/Septoria/01_septoria_yellowleaf_valid_aug9.jpg  \n"
          ]
        }
      ]
    },
    {
      "cell_type": "code",
      "source": [
        "!ls /content/cannabis-health-diagnosis/data/"
      ],
      "metadata": {
        "colab": {
          "base_uri": "https://localhost:8080/"
        },
        "id": "hCtoZdnVh0O1",
        "outputId": "42fc66b9-8e80-49bc-ca30-cda10cfc9b50"
      },
      "execution_count": 6,
      "outputs": [
        {
          "output_type": "stream",
          "name": "stdout",
          "text": [
            "test  train  valid\n"
          ]
        }
      ]
    },
    {
      "cell_type": "code",
      "source": [
        "!unzip /content/models.zip -d /content/cannabis-health-diagnosis/models"
      ],
      "metadata": {
        "colab": {
          "base_uri": "https://localhost:8080/"
        },
        "id": "nEU6dd--E5Lk",
        "outputId": "7491822a-4ea5-484e-da33-0283c3bfd784"
      },
      "execution_count": 7,
      "outputs": [
        {
          "output_type": "stream",
          "name": "stdout",
          "text": [
            "Archive:  /content/models.zip\n",
            "  inflating: /content/cannabis-health-diagnosis/models/baseCNN_reluAdam_128v3.h5  \n",
            "  inflating: /content/cannabis-health-diagnosis/models/baseCNN_reluAdam_128v3.keras  \n"
          ]
        }
      ]
    },
    {
      "cell_type": "code",
      "execution_count": 8,
      "metadata": {
        "id": "3qTEySoshkFX"
      },
      "outputs": [],
      "source": [
        "# Defining the paths to the data folders\n",
        "train_dir = '/content/cannabis-health-diagnosis/data/train'\n",
        "test_dir = '/content/cannabis-health-diagnosis/data/test'\n",
        "valid_dir = '/content/cannabis-health-diagnosis/data/valid'"
      ]
    },
    {
      "cell_type": "code",
      "execution_count": 9,
      "metadata": {
        "id": "_okG9muLhkFX"
      },
      "outputs": [],
      "source": [
        "# Create an ImageDataGenerator for data augmentation\n",
        "datagen = ImageDataGenerator(rescale=1./255)"
      ]
    },
    {
      "cell_type": "code",
      "execution_count": 10,
      "metadata": {
        "colab": {
          "base_uri": "https://localhost:8080/"
        },
        "id": "axWWaNHrhkFY",
        "outputId": "109869f8-657d-4758-d5bf-56a1e2e16e6d"
      },
      "outputs": [
        {
          "output_type": "stream",
          "name": "stdout",
          "text": [
            "Found 1300 images belonging to 13 classes.\n",
            "Found 260 images belonging to 13 classes.\n",
            "Found 26 images belonging to 13 classes.\n"
          ]
        }
      ],
      "source": [
        "# Load the train data\n",
        "train_data = datagen.flow_from_directory(train_dir,\n",
        "                                         target_size=(128, 128), # Adjust to your image size\n",
        "                                         class_mode='categorical')\n",
        "\n",
        "# Load the validation data\n",
        "valid_data = datagen.flow_from_directory(valid_dir,\n",
        "                                         target_size=(128, 128),\n",
        "                                         class_mode='categorical')\n",
        "\n",
        "# Load the test data\n",
        "test_data = datagen.flow_from_directory(test_dir,\n",
        "                                        target_size=(128, 128),\n",
        "                                        class_mode='categorical',\n",
        "                                        shuffle=False)  # No need to shuffle test data"
      ]
    },
    {
      "cell_type": "code",
      "execution_count": null,
      "metadata": {
        "id": "Ku8ibILvhkFY"
      },
      "outputs": [],
      "source": [
        "from keras.layers import Input, BatchNormalization, Dropout"
      ]
    },
    {
      "cell_type": "code",
      "execution_count": null,
      "metadata": {
        "id": "SImnMINehkFZ"
      },
      "outputs": [],
      "source": [
        "model = Sequential([\n",
        "    Input(shape=(128,128,3)),\n",
        "\n",
        "    Conv2D(filters=16,kernel_size=(3,3),strides=(1,1),padding='same',activation='relu'),\n",
        "    MaxPooling2D(pool_size=(2,2),strides=2),\n",
        "    BatchNormalization(axis=1),\n",
        "    Dropout(0.25),\n",
        "\n",
        "    Flatten(),\n",
        "    Dense(units=16,activation='relu'),\n",
        "    Dense(units=13,activation='softmax')\n",
        "])"
      ]
    },
    {
      "cell_type": "code",
      "execution_count": null,
      "metadata": {
        "colab": {
          "base_uri": "https://localhost:8080/",
          "height": 369
        },
        "id": "3AVBxAdGhkFZ",
        "outputId": "6f62df96-fcd3-42ec-f9d3-566456b53dc6"
      },
      "outputs": [
        {
          "output_type": "display_data",
          "data": {
            "text/plain": [
              "\u001b[1mModel: \"sequential_2\"\u001b[0m\n"
            ],
            "text/html": [
              "<pre style=\"white-space:pre;overflow-x:auto;line-height:normal;font-family:Menlo,'DejaVu Sans Mono',consolas,'Courier New',monospace\"><span style=\"font-weight: bold\">Model: \"sequential_2\"</span>\n",
              "</pre>\n"
            ]
          },
          "metadata": {}
        },
        {
          "output_type": "display_data",
          "data": {
            "text/plain": [
              "┏━━━━━━━━━━━━━━━━━━━━━━━━━━━━━━━━━━━━━━┳━━━━━━━━━━━━━━━━━━━━━━━━━━━━━┳━━━━━━━━━━━━━━━━━┓\n",
              "┃\u001b[1m \u001b[0m\u001b[1mLayer (type)                        \u001b[0m\u001b[1m \u001b[0m┃\u001b[1m \u001b[0m\u001b[1mOutput Shape               \u001b[0m\u001b[1m \u001b[0m┃\u001b[1m \u001b[0m\u001b[1m        Param #\u001b[0m\u001b[1m \u001b[0m┃\n",
              "┡━━━━━━━━━━━━━━━━━━━━━━━━━━━━━━━━━━━━━━╇━━━━━━━━━━━━━━━━━━━━━━━━━━━━━╇━━━━━━━━━━━━━━━━━┩\n",
              "│ conv2d_5 (\u001b[38;5;33mConv2D\u001b[0m)                    │ (\u001b[38;5;45mNone\u001b[0m, \u001b[38;5;34m128\u001b[0m, \u001b[38;5;34m128\u001b[0m, \u001b[38;5;34m16\u001b[0m)        │             \u001b[38;5;34m448\u001b[0m │\n",
              "├──────────────────────────────────────┼─────────────────────────────┼─────────────────┤\n",
              "│ max_pooling2d_5 (\u001b[38;5;33mMaxPooling2D\u001b[0m)       │ (\u001b[38;5;45mNone\u001b[0m, \u001b[38;5;34m64\u001b[0m, \u001b[38;5;34m64\u001b[0m, \u001b[38;5;34m16\u001b[0m)          │               \u001b[38;5;34m0\u001b[0m │\n",
              "├──────────────────────────────────────┼─────────────────────────────┼─────────────────┤\n",
              "│ batch_normalization_5                │ (\u001b[38;5;45mNone\u001b[0m, \u001b[38;5;34m64\u001b[0m, \u001b[38;5;34m64\u001b[0m, \u001b[38;5;34m16\u001b[0m)          │             \u001b[38;5;34m256\u001b[0m │\n",
              "│ (\u001b[38;5;33mBatchNormalization\u001b[0m)                 │                             │                 │\n",
              "├──────────────────────────────────────┼─────────────────────────────┼─────────────────┤\n",
              "│ dropout_5 (\u001b[38;5;33mDropout\u001b[0m)                  │ (\u001b[38;5;45mNone\u001b[0m, \u001b[38;5;34m64\u001b[0m, \u001b[38;5;34m64\u001b[0m, \u001b[38;5;34m16\u001b[0m)          │               \u001b[38;5;34m0\u001b[0m │\n",
              "├──────────────────────────────────────┼─────────────────────────────┼─────────────────┤\n",
              "│ flatten_2 (\u001b[38;5;33mFlatten\u001b[0m)                  │ (\u001b[38;5;45mNone\u001b[0m, \u001b[38;5;34m65536\u001b[0m)               │               \u001b[38;5;34m0\u001b[0m │\n",
              "├──────────────────────────────────────┼─────────────────────────────┼─────────────────┤\n",
              "│ dense_4 (\u001b[38;5;33mDense\u001b[0m)                      │ (\u001b[38;5;45mNone\u001b[0m, \u001b[38;5;34m16\u001b[0m)                  │       \u001b[38;5;34m1,048,592\u001b[0m │\n",
              "├──────────────────────────────────────┼─────────────────────────────┼─────────────────┤\n",
              "│ dense_5 (\u001b[38;5;33mDense\u001b[0m)                      │ (\u001b[38;5;45mNone\u001b[0m, \u001b[38;5;34m13\u001b[0m)                  │             \u001b[38;5;34m221\u001b[0m │\n",
              "└──────────────────────────────────────┴─────────────────────────────┴─────────────────┘\n"
            ],
            "text/html": [
              "<pre style=\"white-space:pre;overflow-x:auto;line-height:normal;font-family:Menlo,'DejaVu Sans Mono',consolas,'Courier New',monospace\">┏━━━━━━━━━━━━━━━━━━━━━━━━━━━━━━━━━━━━━━┳━━━━━━━━━━━━━━━━━━━━━━━━━━━━━┳━━━━━━━━━━━━━━━━━┓\n",
              "┃<span style=\"font-weight: bold\"> Layer (type)                         </span>┃<span style=\"font-weight: bold\"> Output Shape                </span>┃<span style=\"font-weight: bold\">         Param # </span>┃\n",
              "┡━━━━━━━━━━━━━━━━━━━━━━━━━━━━━━━━━━━━━━╇━━━━━━━━━━━━━━━━━━━━━━━━━━━━━╇━━━━━━━━━━━━━━━━━┩\n",
              "│ conv2d_5 (<span style=\"color: #0087ff; text-decoration-color: #0087ff\">Conv2D</span>)                    │ (<span style=\"color: #00d7ff; text-decoration-color: #00d7ff\">None</span>, <span style=\"color: #00af00; text-decoration-color: #00af00\">128</span>, <span style=\"color: #00af00; text-decoration-color: #00af00\">128</span>, <span style=\"color: #00af00; text-decoration-color: #00af00\">16</span>)        │             <span style=\"color: #00af00; text-decoration-color: #00af00\">448</span> │\n",
              "├──────────────────────────────────────┼─────────────────────────────┼─────────────────┤\n",
              "│ max_pooling2d_5 (<span style=\"color: #0087ff; text-decoration-color: #0087ff\">MaxPooling2D</span>)       │ (<span style=\"color: #00d7ff; text-decoration-color: #00d7ff\">None</span>, <span style=\"color: #00af00; text-decoration-color: #00af00\">64</span>, <span style=\"color: #00af00; text-decoration-color: #00af00\">64</span>, <span style=\"color: #00af00; text-decoration-color: #00af00\">16</span>)          │               <span style=\"color: #00af00; text-decoration-color: #00af00\">0</span> │\n",
              "├──────────────────────────────────────┼─────────────────────────────┼─────────────────┤\n",
              "│ batch_normalization_5                │ (<span style=\"color: #00d7ff; text-decoration-color: #00d7ff\">None</span>, <span style=\"color: #00af00; text-decoration-color: #00af00\">64</span>, <span style=\"color: #00af00; text-decoration-color: #00af00\">64</span>, <span style=\"color: #00af00; text-decoration-color: #00af00\">16</span>)          │             <span style=\"color: #00af00; text-decoration-color: #00af00\">256</span> │\n",
              "│ (<span style=\"color: #0087ff; text-decoration-color: #0087ff\">BatchNormalization</span>)                 │                             │                 │\n",
              "├──────────────────────────────────────┼─────────────────────────────┼─────────────────┤\n",
              "│ dropout_5 (<span style=\"color: #0087ff; text-decoration-color: #0087ff\">Dropout</span>)                  │ (<span style=\"color: #00d7ff; text-decoration-color: #00d7ff\">None</span>, <span style=\"color: #00af00; text-decoration-color: #00af00\">64</span>, <span style=\"color: #00af00; text-decoration-color: #00af00\">64</span>, <span style=\"color: #00af00; text-decoration-color: #00af00\">16</span>)          │               <span style=\"color: #00af00; text-decoration-color: #00af00\">0</span> │\n",
              "├──────────────────────────────────────┼─────────────────────────────┼─────────────────┤\n",
              "│ flatten_2 (<span style=\"color: #0087ff; text-decoration-color: #0087ff\">Flatten</span>)                  │ (<span style=\"color: #00d7ff; text-decoration-color: #00d7ff\">None</span>, <span style=\"color: #00af00; text-decoration-color: #00af00\">65536</span>)               │               <span style=\"color: #00af00; text-decoration-color: #00af00\">0</span> │\n",
              "├──────────────────────────────────────┼─────────────────────────────┼─────────────────┤\n",
              "│ dense_4 (<span style=\"color: #0087ff; text-decoration-color: #0087ff\">Dense</span>)                      │ (<span style=\"color: #00d7ff; text-decoration-color: #00d7ff\">None</span>, <span style=\"color: #00af00; text-decoration-color: #00af00\">16</span>)                  │       <span style=\"color: #00af00; text-decoration-color: #00af00\">1,048,592</span> │\n",
              "├──────────────────────────────────────┼─────────────────────────────┼─────────────────┤\n",
              "│ dense_5 (<span style=\"color: #0087ff; text-decoration-color: #0087ff\">Dense</span>)                      │ (<span style=\"color: #00d7ff; text-decoration-color: #00d7ff\">None</span>, <span style=\"color: #00af00; text-decoration-color: #00af00\">13</span>)                  │             <span style=\"color: #00af00; text-decoration-color: #00af00\">221</span> │\n",
              "└──────────────────────────────────────┴─────────────────────────────┴─────────────────┘\n",
              "</pre>\n"
            ]
          },
          "metadata": {}
        },
        {
          "output_type": "display_data",
          "data": {
            "text/plain": [
              "\u001b[1m Total params: \u001b[0m\u001b[38;5;34m1,049,517\u001b[0m (4.00 MB)\n"
            ],
            "text/html": [
              "<pre style=\"white-space:pre;overflow-x:auto;line-height:normal;font-family:Menlo,'DejaVu Sans Mono',consolas,'Courier New',monospace\"><span style=\"font-weight: bold\"> Total params: </span><span style=\"color: #00af00; text-decoration-color: #00af00\">1,049,517</span> (4.00 MB)\n",
              "</pre>\n"
            ]
          },
          "metadata": {}
        },
        {
          "output_type": "display_data",
          "data": {
            "text/plain": [
              "\u001b[1m Trainable params: \u001b[0m\u001b[38;5;34m1,049,389\u001b[0m (4.00 MB)\n"
            ],
            "text/html": [
              "<pre style=\"white-space:pre;overflow-x:auto;line-height:normal;font-family:Menlo,'DejaVu Sans Mono',consolas,'Courier New',monospace\"><span style=\"font-weight: bold\"> Trainable params: </span><span style=\"color: #00af00; text-decoration-color: #00af00\">1,049,389</span> (4.00 MB)\n",
              "</pre>\n"
            ]
          },
          "metadata": {}
        },
        {
          "output_type": "display_data",
          "data": {
            "text/plain": [
              "\u001b[1m Non-trainable params: \u001b[0m\u001b[38;5;34m128\u001b[0m (512.00 B)\n"
            ],
            "text/html": [
              "<pre style=\"white-space:pre;overflow-x:auto;line-height:normal;font-family:Menlo,'DejaVu Sans Mono',consolas,'Courier New',monospace\"><span style=\"font-weight: bold\"> Non-trainable params: </span><span style=\"color: #00af00; text-decoration-color: #00af00\">128</span> (512.00 B)\n",
              "</pre>\n"
            ]
          },
          "metadata": {}
        }
      ],
      "source": [
        "model.summary()"
      ]
    },
    {
      "cell_type": "code",
      "execution_count": null,
      "metadata": {
        "id": "jH0-QrPKhkFZ"
      },
      "outputs": [],
      "source": [
        "from tensorflow.keras.optimizers import Adam"
      ]
    },
    {
      "cell_type": "code",
      "execution_count": null,
      "metadata": {
        "id": "4A_iD9ldhkFa"
      },
      "outputs": [],
      "source": [
        "model.compile(optimizer=Adam(learning_rate=0.0001),\n",
        "              loss=\"categorical_crossentropy\",\n",
        "              metrics=[\"accuracy\"],\n",
        "              )"
      ]
    },
    {
      "cell_type": "code",
      "execution_count": null,
      "metadata": {
        "id": "7clCXKrwhkFa"
      },
      "outputs": [],
      "source": [
        "import keras"
      ]
    },
    {
      "cell_type": "code",
      "source": [
        "import tensorflow as tf\n",
        "from tensorflow.keras.callbacks import EarlyStopping"
      ],
      "metadata": {
        "id": "Hik7_zbMnBgV"
      },
      "execution_count": null,
      "outputs": []
    },
    {
      "cell_type": "code",
      "execution_count": null,
      "metadata": {
        "colab": {
          "base_uri": "https://localhost:8080/"
        },
        "id": "MQf-bjQThkFb",
        "outputId": "0c2fbdaf-759d-412a-864c-ec1c0de03fb3"
      },
      "outputs": [
        {
          "output_type": "stream",
          "name": "stdout",
          "text": [
            "Epoch 1/100\n",
            "\u001b[1m41/41\u001b[0m \u001b[32m━━━━━━━━━━━━━━━━━━━━\u001b[0m\u001b[37m\u001b[0m \u001b[1m10s\u001b[0m 150ms/step - accuracy: 0.0639 - loss: 2.6781 - val_accuracy: 0.0769 - val_loss: 2.5649\n",
            "Epoch 2/100\n",
            "\u001b[1m41/41\u001b[0m \u001b[32m━━━━━━━━━━━━━━━━━━━━\u001b[0m\u001b[37m\u001b[0m \u001b[1m3s\u001b[0m 66ms/step - accuracy: 0.0843 - loss: 2.5649 - val_accuracy: 0.0769 - val_loss: 2.5649\n",
            "Epoch 3/100\n",
            "\u001b[1m41/41\u001b[0m \u001b[32m━━━━━━━━━━━━━━━━━━━━\u001b[0m\u001b[37m\u001b[0m \u001b[1m3s\u001b[0m 58ms/step - accuracy: 0.0909 - loss: 2.5650 - val_accuracy: 0.0769 - val_loss: 2.5649\n",
            "Epoch 4/100\n",
            "\u001b[1m41/41\u001b[0m \u001b[32m━━━━━━━━━━━━━━━━━━━━\u001b[0m\u001b[37m\u001b[0m \u001b[1m3s\u001b[0m 77ms/step - accuracy: 0.0747 - loss: 2.5650 - val_accuracy: 0.0769 - val_loss: 2.5649\n",
            "Epoch 5/100\n",
            "\u001b[1m41/41\u001b[0m \u001b[32m━━━━━━━━━━━━━━━━━━━━\u001b[0m\u001b[37m\u001b[0m \u001b[1m4s\u001b[0m 53ms/step - accuracy: 0.0656 - loss: 2.5650 - val_accuracy: 0.0769 - val_loss: 2.5649\n",
            "Epoch 6/100\n",
            "\u001b[1m41/41\u001b[0m \u001b[32m━━━━━━━━━━━━━━━━━━━━\u001b[0m\u001b[37m\u001b[0m \u001b[1m3s\u001b[0m 55ms/step - accuracy: 0.0537 - loss: 2.5650 - val_accuracy: 0.0769 - val_loss: 2.5649\n",
            "Epoch 7/100\n",
            "\u001b[1m41/41\u001b[0m \u001b[32m━━━━━━━━━━━━━━━━━━━━\u001b[0m\u001b[37m\u001b[0m \u001b[1m2s\u001b[0m 52ms/step - accuracy: 0.0783 - loss: 2.5650 - val_accuracy: 0.0769 - val_loss: 2.5649\n",
            "Epoch 8/100\n",
            "\u001b[1m41/41\u001b[0m \u001b[32m━━━━━━━━━━━━━━━━━━━━\u001b[0m\u001b[37m\u001b[0m \u001b[1m3s\u001b[0m 72ms/step - accuracy: 0.0831 - loss: 2.5650 - val_accuracy: 0.0769 - val_loss: 2.5649\n",
            "Epoch 9/100\n",
            "\u001b[1m41/41\u001b[0m \u001b[32m━━━━━━━━━━━━━━━━━━━━\u001b[0m\u001b[37m\u001b[0m \u001b[1m3s\u001b[0m 60ms/step - accuracy: 0.0778 - loss: 2.5650 - val_accuracy: 0.0769 - val_loss: 2.5649\n",
            "Epoch 10/100\n",
            "\u001b[1m41/41\u001b[0m \u001b[32m━━━━━━━━━━━━━━━━━━━━\u001b[0m\u001b[37m\u001b[0m \u001b[1m5s\u001b[0m 55ms/step - accuracy: 0.0640 - loss: 2.5650 - val_accuracy: 0.0769 - val_loss: 2.5649\n",
            "Epoch 11/100\n",
            "\u001b[1m41/41\u001b[0m \u001b[32m━━━━━━━━━━━━━━━━━━━━\u001b[0m\u001b[37m\u001b[0m \u001b[1m6s\u001b[0m 74ms/step - accuracy: 0.0788 - loss: 2.5650 - val_accuracy: 0.0769 - val_loss: 2.5649\n",
            "Epoch 12/100\n",
            "\u001b[1m41/41\u001b[0m \u001b[32m━━━━━━━━━━━━━━━━━━━━\u001b[0m\u001b[37m\u001b[0m \u001b[1m4s\u001b[0m 55ms/step - accuracy: 0.0845 - loss: 2.5650 - val_accuracy: 0.0769 - val_loss: 2.5649\n",
            "Epoch 13/100\n",
            "\u001b[1m41/41\u001b[0m \u001b[32m━━━━━━━━━━━━━━━━━━━━\u001b[0m\u001b[37m\u001b[0m \u001b[1m5s\u001b[0m 55ms/step - accuracy: 0.0871 - loss: 2.5650 - val_accuracy: 0.0769 - val_loss: 2.5649\n",
            "Epoch 14/100\n",
            "\u001b[1m41/41\u001b[0m \u001b[32m━━━━━━━━━━━━━━━━━━━━\u001b[0m\u001b[37m\u001b[0m \u001b[1m3s\u001b[0m 76ms/step - accuracy: 0.0734 - loss: 2.5650 - val_accuracy: 0.0769 - val_loss: 2.5649\n",
            "Epoch 15/100\n",
            "\u001b[1m41/41\u001b[0m \u001b[32m━━━━━━━━━━━━━━━━━━━━\u001b[0m\u001b[37m\u001b[0m \u001b[1m4s\u001b[0m 58ms/step - accuracy: 0.0517 - loss: 2.5650 - val_accuracy: 0.0769 - val_loss: 2.5649\n",
            "Epoch 16/100\n",
            "\u001b[1m41/41\u001b[0m \u001b[32m━━━━━━━━━━━━━━━━━━━━\u001b[0m\u001b[37m\u001b[0m \u001b[1m5s\u001b[0m 56ms/step - accuracy: 0.0595 - loss: 2.5650 - val_accuracy: 0.0769 - val_loss: 2.5649\n",
            "Epoch 17/100\n",
            "\u001b[1m41/41\u001b[0m \u001b[32m━━━━━━━━━━━━━━━━━━━━\u001b[0m\u001b[37m\u001b[0m \u001b[1m3s\u001b[0m 76ms/step - accuracy: 0.0799 - loss: 2.5649 - val_accuracy: 0.0769 - val_loss: 2.5649\n",
            "Epoch 18/100\n",
            "\u001b[1m41/41\u001b[0m \u001b[32m━━━━━━━━━━━━━━━━━━━━\u001b[0m\u001b[37m\u001b[0m \u001b[1m3s\u001b[0m 55ms/step - accuracy: 0.0822 - loss: 2.5650 - val_accuracy: 0.0769 - val_loss: 2.5649\n",
            "Epoch 19/100\n",
            "\u001b[1m41/41\u001b[0m \u001b[32m━━━━━━━━━━━━━━━━━━━━\u001b[0m\u001b[37m\u001b[0m \u001b[1m5s\u001b[0m 54ms/step - accuracy: 0.0742 - loss: 2.5650 - val_accuracy: 0.0769 - val_loss: 2.5649\n",
            "Epoch 20/100\n",
            "\u001b[1m41/41\u001b[0m \u001b[32m━━━━━━━━━━━━━━━━━━━━\u001b[0m\u001b[37m\u001b[0m \u001b[1m3s\u001b[0m 55ms/step - accuracy: 0.0681 - loss: 2.5650 - val_accuracy: 0.0769 - val_loss: 2.5649\n"
          ]
        }
      ],
      "source": [
        "epochs = 100\n",
        "checkpoint_filepath = '/content/cannabis-health-diagnosis/models/checkpoint_128v3.model.keras'\n",
        "\n",
        "early_stop = EarlyStopping(monitor='val_loss', patience=10, restore_best_weights=True)\n",
        "\n",
        "model_checkpoint_callback = keras.callbacks.ModelCheckpoint(\n",
        "    filepath=checkpoint_filepath,\n",
        "    monitor='val_accuracy',\n",
        "    mode='max',\n",
        "    save_best_only=True)\n",
        "\n",
        "accuracy_metrics = model.fit(\n",
        "    x=train_data,\n",
        "    epochs=epochs,\n",
        "    validation_data=valid_data,\n",
        "    batch_size=20,\n",
        "    callbacks=[early_stop, model_checkpoint_callback])"
      ]
    },
    {
      "cell_type": "code",
      "execution_count": null,
      "metadata": {
        "colab": {
          "base_uri": "https://localhost:8080/",
          "height": 466
        },
        "id": "VOTpXMDPhkFb",
        "outputId": "562c74af-f3f4-4db9-e833-49d6f18d79e3"
      },
      "outputs": [
        {
          "output_type": "execute_result",
          "data": {
            "text/plain": [
              "<matplotlib.legend.Legend at 0x7f638f3f2bc0>"
            ]
          },
          "metadata": {},
          "execution_count": 65
        },
        {
          "output_type": "display_data",
          "data": {
            "text/plain": [
              "<Figure size 640x480 with 1 Axes>"
            ],
            "image/png": "[encoded data removed]"
          },
          "metadata": {}
        }
      ],
      "source": [
        "from matplotlib import pyplot as plt\n",
        "plt.plot(accuracy_metrics.history['accuracy'],label='train_accuracy')\n",
        "plt.plot(accuracy_metrics.history['val_accuracy'],label='val_acuracy')\n",
        "plt.xlabel('epochs')\n",
        "plt.ylabel('accuracy')\n",
        "plt.legend()"
      ]
    },
    {
      "cell_type": "code",
      "execution_count": null,
      "metadata": {
        "colab": {
          "base_uri": "https://localhost:8080/"
        },
        "id": "0r2nczrBhkFb",
        "outputId": "431191a1-165d-47ce-faed-2265373042e1"
      },
      "outputs": [
        {
          "output_type": "stream",
          "name": "stdout",
          "text": [
            "At the end of the 100th epoch the validation accuracy has reached 0.0769\n"
          ]
        }
      ],
      "source": [
        "print(f\"At the end of the {epochs}th epoch the validation accuracy has reached {'{:.4f}'.format(accuracy_metrics.history['val_accuracy'][-1])}\")"
      ]
    },
    {
      "cell_type": "code",
      "execution_count": null,
      "metadata": {
        "colab": {
          "base_uri": "https://localhost:8080/",
          "height": 466
        },
        "id": "VgED6ib8hkFc",
        "outputId": "72b39946-d9dc-49ec-aba4-54ca7fbb2bb1"
      },
      "outputs": [
        {
          "output_type": "execute_result",
          "data": {
            "text/plain": [
              "<matplotlib.legend.Legend at 0x7f638e7fa740>"
            ]
          },
          "metadata": {},
          "execution_count": 67
        },
        {
          "output_type": "display_data",
          "data": {
            "text/plain": [
              "<Figure size 640x480 with 1 Axes>"
            ],
            "image/png": "[encoded data removed]"
          },
          "metadata": {}
        }
      ],
      "source": [
        "from matplotlib import pyplot as plt\n",
        "plt.plot(accuracy_metrics.history['loss'],label='train_loss')\n",
        "plt.plot(accuracy_metrics.history['val_loss'],label='val_loss')\n",
        "plt.xlabel('epochs')\n",
        "plt.ylabel('loss')\n",
        "plt.legend()"
      ]
    },
    {
      "cell_type": "code",
      "execution_count": null,
      "metadata": {
        "colab": {
          "base_uri": "https://localhost:8080/"
        },
        "id": "Mz8H_7yahkFc",
        "outputId": "e4c21436-cebb-4b48-8833-8cb1bcb56de8"
      },
      "outputs": [
        {
          "output_type": "stream",
          "name": "stdout",
          "text": [
            "At the end of the 100th epoch the validation loss has decreased to 2.5649\n"
          ]
        }
      ],
      "source": [
        "print(f\"At the end of the {epochs}th epoch the validation loss has decreased to {'{:.4f}'.format(accuracy_metrics.history['val_loss'][-1])}\")"
      ]
    },
    {
      "cell_type": "code",
      "execution_count": null,
      "metadata": {
        "colab": {
          "base_uri": "https://localhost:8080/"
        },
        "id": "5XDjGPFqhkFd",
        "outputId": "511e955b-02ac-4b7b-84a2-2f094bccccb9"
      },
      "outputs": [
        {
          "output_type": "stream",
          "name": "stderr",
          "text": [
            "WARNING:absl:You are saving your model as an HDF5 file via `model.save()` or `keras.saving.save_model(model)`. This file format is considered legacy. We recommend using instead the native Keras format, e.g. `model.save('my_model.keras')` or `keras.saving.save_model(model, 'my_model.keras')`. \n"
          ]
        }
      ],
      "source": [
        "model.save('models/baseCNN_reluAdam_128v3.h5')"
      ]
    },
    {
      "cell_type": "code",
      "execution_count": null,
      "metadata": {
        "id": "E4g8TEwOhkFe"
      },
      "outputs": [],
      "source": [
        "model.save('models/baseCNN_reluAdam_128v3.keras')"
      ]
    },
    {
      "cell_type": "code",
      "execution_count": null,
      "metadata": {
        "colab": {
          "base_uri": "https://localhost:8080/"
        },
        "id": "u68ChXRPhkFe",
        "outputId": "0092cf87-883b-4154-d4b0-8859cbdffd69"
      },
      "outputs": [
        {
          "output_type": "stream",
          "name": "stdout",
          "text": [
            "\u001b[1m9/9\u001b[0m \u001b[32m━━━━━━━━━━━━━━━━━━━━\u001b[0m\u001b[37m\u001b[0m \u001b[1m1s\u001b[0m 102ms/step\n"
          ]
        }
      ],
      "source": [
        "valid_pred1 = model.predict(valid_data)"
      ]
    },
    {
      "cell_type": "code",
      "execution_count": null,
      "metadata": {
        "colab": {
          "base_uri": "https://localhost:8080/"
        },
        "id": "acqauIrVhkFe",
        "outputId": "f66b0491-51c7-4436-e191-7182ba268415"
      },
      "outputs": [
        {
          "output_type": "execute_result",
          "data": {
            "text/plain": [
              "(260, 13)"
            ]
          },
          "metadata": {},
          "execution_count": 72
        }
      ],
      "source": [
        "valid_pred1.shape"
      ]
    },
    {
      "cell_type": "code",
      "execution_count": null,
      "metadata": {
        "id": "QcXa8wUXhkFf"
      },
      "outputs": [],
      "source": [
        "from sklearn.metrics import confusion_matrix, ConfusionMatrixDisplay"
      ]
    },
    {
      "cell_type": "code",
      "execution_count": null,
      "metadata": {
        "id": "bPc1vlNRhkFf"
      },
      "outputs": [],
      "source": [
        "valid_pred_labels1 = valid_pred1.argmax(axis=1)"
      ]
    },
    {
      "cell_type": "code",
      "execution_count": null,
      "metadata": {
        "colab": {
          "base_uri": "https://localhost:8080/",
          "height": 472
        },
        "id": "bZFSNwYIhkFf",
        "outputId": "fcb032f7-cd94-441e-e00d-1eed24870cbc"
      },
      "outputs": [
        {
          "output_type": "execute_result",
          "data": {
            "text/plain": [
              "<sklearn.metrics._plot.confusion_matrix.ConfusionMatrixDisplay at 0x7f63f17ca020>"
            ]
          },
          "metadata": {},
          "execution_count": 75
        },
        {
          "output_type": "display_data",
          "data": {
            "text/plain": [
              "<Figure size 640x480 with 2 Axes>"
            ],
            "image/png": "[encoded data removed]"
          },
          "metadata": {}
        }
      ],
      "source": [
        "ConfusionMatrixDisplay(confusion_matrix(valid_data.labels, valid_pred_labels1)).plot()"
      ]
    },
    {
      "cell_type": "code",
      "source": [
        "!zip -r /content/modelsv3.zip /content/models"
      ],
      "metadata": {
        "colab": {
          "base_uri": "https://localhost:8080/"
        },
        "id": "MOzRctzwlYKI",
        "outputId": "bc365a0e-9709-4b17-c8fa-ea910a75b1ae"
      },
      "execution_count": null,
      "outputs": [
        {
          "output_type": "stream",
          "name": "stdout",
          "text": [
            "  adding: content/models/ (stored 0%)\n",
            "  adding: content/models/baseCNN_reluAdam_128v3.keras (deflated 14%)\n",
            "  adding: content/models/baseCNN_reluAdam_128.keras (deflated 8%)\n",
            "  adding: content/models/baseCNN_reluAdam_128v2.h5 (deflated 9%)\n",
            "  adding: content/models/baseCNN_reluAdam_128v3.h5 (deflated 14%)\n",
            "  adding: content/models/baseCNN_reluAdam_128.h5 (deflated 8%)\n",
            "  adding: content/models/baseCNN_reluAdam_128v2.keras (deflated 9%)\n"
          ]
        }
      ]
    },
    {
      "cell_type": "code",
      "source": [
        "from google.colab import files\n",
        "files.download('/content/modelsv3.zip')\n"
      ],
      "metadata": {
        "colab": {
          "base_uri": "https://localhost:8080/",
          "height": 17
        },
        "id": "3TQGkvOelci2",
        "outputId": "9f37d34c-d9c9-4c48-8889-1eaa3306df68"
      },
      "execution_count": null,
      "outputs": [
        {
          "output_type": "display_data",
          "data": {
            "text/plain": [
              "<IPython.core.display.Javascript object>"
            ],
            "application/javascript": [
              "\n",
              "    async function download(id, filename, size) {\n",
              "      if (!google.colab.kernel.accessAllowed) {\n",
              "        return;\n",
              "      }\n",
              "      const div = document.createElement('div');\n",
              "      const label = document.createElement('label');\n",
              "      label.textContent = `Downloading \"${filename}\": `;\n",
              "      div.appendChild(label);\n",
              "      const progress = document.createElement('progress');\n",
              "      progress.max = size;\n",
              "      div.appendChild(progress);\n",
              "      document.body.appendChild(div);\n",
              "\n",
              "      const buffers = [];\n",
              "      let downloaded = 0;\n",
              "\n",
              "      const channel = await google.colab.kernel.comms.open(id);\n",
              "      // Send a message to notify the kernel that we're ready.\n",
              "      channel.send({})\n",
              "\n",
              "      for await (const message of channel.messages) {\n",
              "        // Send a message to notify the kernel that we're ready.\n",
              "        channel.send({})\n",
              "        if (message.buffers) {\n",
              "          for (const buffer of message.buffers) {\n",
              "            buffers.push(buffer);\n",
              "            downloaded += buffer.byteLength;\n",
              "            progress.value = downloaded;\n",
              "          }\n",
              "        }\n",
              "      }\n",
              "      const blob = new Blob(buffers, {type: 'application/binary'});\n",
              "      const a = document.createElement('a');\n",
              "      a.href = window.URL.createObjectURL(blob);\n",
              "      a.download = filename;\n",
              "      div.appendChild(a);\n",
              "      a.click();\n",
              "      div.remove();\n",
              "    }\n",
              "  "
            ]
          },
          "metadata": {}
        },
        {
          "output_type": "display_data",
          "data": {
            "text/plain": [
              "<IPython.core.display.Javascript object>"
            ],
            "application/javascript": [
              "download(\"download_70f3d1b8-3f2e-4376-b727-6b36f1308353\", \"modelsv3.zip\", 57219156)"
            ]
          },
          "metadata": {}
        }
      ]
    },
    {
      "cell_type": "code",
      "source": [
        "base_final_model = tf.keras.models.load_model('/content/cannabis-health-diagnosis/models/baseCNN_reluAdam_128v3.keras')"
      ],
      "metadata": {
        "colab": {
          "base_uri": "https://localhost:8080/"
        },
        "id": "1GtIm9uKFMka",
        "outputId": "9c890642-c781-4441-cc60-67edc552d7dc"
      },
      "execution_count": 19,
      "outputs": [
        {
          "output_type": "stream",
          "name": "stderr",
          "text": [
            "/usr/local/lib/python3.10/dist-packages/keras/src/saving/saving_lib.py:576: UserWarning: Skipping variable loading for optimizer 'rmsprop', because it has 10 variables whereas the saved optimizer has 18 variables. \n",
            "  saveable.load_own_variables(weights_store.get(inner_path))\n"
          ]
        }
      ]
    },
    {
      "cell_type": "code",
      "source": [
        "base_final_model.summary()"
      ],
      "metadata": {
        "colab": {
          "base_uri": "https://localhost:8080/",
          "height": 385
        },
        "id": "F0c4vwsZFitF",
        "outputId": "e7798bcc-f026-4485-8cb8-55fe323341fd"
      },
      "execution_count": 20,
      "outputs": [
        {
          "output_type": "display_data",
          "data": {
            "text/plain": [
              "\u001b[1mModel: \"sequential_2\"\u001b[0m\n"
            ],
            "text/html": [
              "<pre style=\"white-space:pre;overflow-x:auto;line-height:normal;font-family:Menlo,'DejaVu Sans Mono',consolas,'Courier New',monospace\"><span style=\"font-weight: bold\">Model: \"sequential_2\"</span>\n",
              "</pre>\n"
            ]
          },
          "metadata": {}
        },
        {
          "output_type": "display_data",
          "data": {
            "text/plain": [
              "┏━━━━━━━━━━━━━━━━━━━━━━━━━━━━━━━━━━━━━━┳━━━━━━━━━━━━━━━━━━━━━━━━━━━━━┳━━━━━━━━━━━━━━━━━┓\n",
              "┃\u001b[1m \u001b[0m\u001b[1mLayer (type)                        \u001b[0m\u001b[1m \u001b[0m┃\u001b[1m \u001b[0m\u001b[1mOutput Shape               \u001b[0m\u001b[1m \u001b[0m┃\u001b[1m \u001b[0m\u001b[1m        Param #\u001b[0m\u001b[1m \u001b[0m┃\n",
              "┡━━━━━━━━━━━━━━━━━━━━━━━━━━━━━━━━━━━━━━╇━━━━━━━━━━━━━━━━━━━━━━━━━━━━━╇━━━━━━━━━━━━━━━━━┩\n",
              "│ conv2d_5 (\u001b[38;5;33mConv2D\u001b[0m)                    │ (\u001b[38;5;45mNone\u001b[0m, \u001b[38;5;34m128\u001b[0m, \u001b[38;5;34m128\u001b[0m, \u001b[38;5;34m16\u001b[0m)        │             \u001b[38;5;34m448\u001b[0m │\n",
              "├──────────────────────────────────────┼─────────────────────────────┼─────────────────┤\n",
              "│ max_pooling2d_5 (\u001b[38;5;33mMaxPooling2D\u001b[0m)       │ (\u001b[38;5;45mNone\u001b[0m, \u001b[38;5;34m64\u001b[0m, \u001b[38;5;34m64\u001b[0m, \u001b[38;5;34m16\u001b[0m)          │               \u001b[38;5;34m0\u001b[0m │\n",
              "├──────────────────────────────────────┼─────────────────────────────┼─────────────────┤\n",
              "│ batch_normalization_5                │ (\u001b[38;5;45mNone\u001b[0m, \u001b[38;5;34m64\u001b[0m, \u001b[38;5;34m64\u001b[0m, \u001b[38;5;34m16\u001b[0m)          │             \u001b[38;5;34m256\u001b[0m │\n",
              "│ (\u001b[38;5;33mBatchNormalization\u001b[0m)                 │                             │                 │\n",
              "├──────────────────────────────────────┼─────────────────────────────┼─────────────────┤\n",
              "│ dropout_5 (\u001b[38;5;33mDropout\u001b[0m)                  │ (\u001b[38;5;45mNone\u001b[0m, \u001b[38;5;34m64\u001b[0m, \u001b[38;5;34m64\u001b[0m, \u001b[38;5;34m16\u001b[0m)          │               \u001b[38;5;34m0\u001b[0m │\n",
              "├──────────────────────────────────────┼─────────────────────────────┼─────────────────┤\n",
              "│ flatten_2 (\u001b[38;5;33mFlatten\u001b[0m)                  │ (\u001b[38;5;45mNone\u001b[0m, \u001b[38;5;34m65536\u001b[0m)               │               \u001b[38;5;34m0\u001b[0m │\n",
              "├──────────────────────────────────────┼─────────────────────────────┼─────────────────┤\n",
              "│ dense_4 (\u001b[38;5;33mDense\u001b[0m)                      │ (\u001b[38;5;45mNone\u001b[0m, \u001b[38;5;34m16\u001b[0m)                  │       \u001b[38;5;34m1,048,592\u001b[0m │\n",
              "├──────────────────────────────────────┼─────────────────────────────┼─────────────────┤\n",
              "│ dense_5 (\u001b[38;5;33mDense\u001b[0m)                      │ (\u001b[38;5;45mNone\u001b[0m, \u001b[38;5;34m13\u001b[0m)                  │             \u001b[38;5;34m221\u001b[0m │\n",
              "└──────────────────────────────────────┴─────────────────────────────┴─────────────────┘\n"
            ],
            "text/html": [
              "<pre style=\"white-space:pre;overflow-x:auto;line-height:normal;font-family:Menlo,'DejaVu Sans Mono',consolas,'Courier New',monospace\">┏━━━━━━━━━━━━━━━━━━━━━━━━━━━━━━━━━━━━━━┳━━━━━━━━━━━━━━━━━━━━━━━━━━━━━┳━━━━━━━━━━━━━━━━━┓\n",
              "┃<span style=\"font-weight: bold\"> Layer (type)                         </span>┃<span style=\"font-weight: bold\"> Output Shape                </span>┃<span style=\"font-weight: bold\">         Param # </span>┃\n",
              "┡━━━━━━━━━━━━━━━━━━━━━━━━━━━━━━━━━━━━━━╇━━━━━━━━━━━━━━━━━━━━━━━━━━━━━╇━━━━━━━━━━━━━━━━━┩\n",
              "│ conv2d_5 (<span style=\"color: #0087ff; text-decoration-color: #0087ff\">Conv2D</span>)                    │ (<span style=\"color: #00d7ff; text-decoration-color: #00d7ff\">None</span>, <span style=\"color: #00af00; text-decoration-color: #00af00\">128</span>, <span style=\"color: #00af00; text-decoration-color: #00af00\">128</span>, <span style=\"color: #00af00; text-decoration-color: #00af00\">16</span>)        │             <span style=\"color: #00af00; text-decoration-color: #00af00\">448</span> │\n",
              "├──────────────────────────────────────┼─────────────────────────────┼─────────────────┤\n",
              "│ max_pooling2d_5 (<span style=\"color: #0087ff; text-decoration-color: #0087ff\">MaxPooling2D</span>)       │ (<span style=\"color: #00d7ff; text-decoration-color: #00d7ff\">None</span>, <span style=\"color: #00af00; text-decoration-color: #00af00\">64</span>, <span style=\"color: #00af00; text-decoration-color: #00af00\">64</span>, <span style=\"color: #00af00; text-decoration-color: #00af00\">16</span>)          │               <span style=\"color: #00af00; text-decoration-color: #00af00\">0</span> │\n",
              "├──────────────────────────────────────┼─────────────────────────────┼─────────────────┤\n",
              "│ batch_normalization_5                │ (<span style=\"color: #00d7ff; text-decoration-color: #00d7ff\">None</span>, <span style=\"color: #00af00; text-decoration-color: #00af00\">64</span>, <span style=\"color: #00af00; text-decoration-color: #00af00\">64</span>, <span style=\"color: #00af00; text-decoration-color: #00af00\">16</span>)          │             <span style=\"color: #00af00; text-decoration-color: #00af00\">256</span> │\n",
              "│ (<span style=\"color: #0087ff; text-decoration-color: #0087ff\">BatchNormalization</span>)                 │                             │                 │\n",
              "├──────────────────────────────────────┼─────────────────────────────┼─────────────────┤\n",
              "│ dropout_5 (<span style=\"color: #0087ff; text-decoration-color: #0087ff\">Dropout</span>)                  │ (<span style=\"color: #00d7ff; text-decoration-color: #00d7ff\">None</span>, <span style=\"color: #00af00; text-decoration-color: #00af00\">64</span>, <span style=\"color: #00af00; text-decoration-color: #00af00\">64</span>, <span style=\"color: #00af00; text-decoration-color: #00af00\">16</span>)          │               <span style=\"color: #00af00; text-decoration-color: #00af00\">0</span> │\n",
              "├──────────────────────────────────────┼─────────────────────────────┼─────────────────┤\n",
              "│ flatten_2 (<span style=\"color: #0087ff; text-decoration-color: #0087ff\">Flatten</span>)                  │ (<span style=\"color: #00d7ff; text-decoration-color: #00d7ff\">None</span>, <span style=\"color: #00af00; text-decoration-color: #00af00\">65536</span>)               │               <span style=\"color: #00af00; text-decoration-color: #00af00\">0</span> │\n",
              "├──────────────────────────────────────┼─────────────────────────────┼─────────────────┤\n",
              "│ dense_4 (<span style=\"color: #0087ff; text-decoration-color: #0087ff\">Dense</span>)                      │ (<span style=\"color: #00d7ff; text-decoration-color: #00d7ff\">None</span>, <span style=\"color: #00af00; text-decoration-color: #00af00\">16</span>)                  │       <span style=\"color: #00af00; text-decoration-color: #00af00\">1,048,592</span> │\n",
              "├──────────────────────────────────────┼─────────────────────────────┼─────────────────┤\n",
              "│ dense_5 (<span style=\"color: #0087ff; text-decoration-color: #0087ff\">Dense</span>)                      │ (<span style=\"color: #00d7ff; text-decoration-color: #00d7ff\">None</span>, <span style=\"color: #00af00; text-decoration-color: #00af00\">13</span>)                  │             <span style=\"color: #00af00; text-decoration-color: #00af00\">221</span> │\n",
              "└──────────────────────────────────────┴─────────────────────────────┴─────────────────┘\n",
              "</pre>\n"
            ]
          },
          "metadata": {}
        },
        {
          "output_type": "display_data",
          "data": {
            "text/plain": [
              "\u001b[1m Total params: \u001b[0m\u001b[38;5;34m2,098,908\u001b[0m (8.01 MB)\n"
            ],
            "text/html": [
              "<pre style=\"white-space:pre;overflow-x:auto;line-height:normal;font-family:Menlo,'DejaVu Sans Mono',consolas,'Courier New',monospace\"><span style=\"font-weight: bold\"> Total params: </span><span style=\"color: #00af00; text-decoration-color: #00af00\">2,098,908</span> (8.01 MB)\n",
              "</pre>\n"
            ]
          },
          "metadata": {}
        },
        {
          "output_type": "display_data",
          "data": {
            "text/plain": [
              "\u001b[1m Trainable params: \u001b[0m\u001b[38;5;34m1,049,389\u001b[0m (4.00 MB)\n"
            ],
            "text/html": [
              "<pre style=\"white-space:pre;overflow-x:auto;line-height:normal;font-family:Menlo,'DejaVu Sans Mono',consolas,'Courier New',monospace\"><span style=\"font-weight: bold\"> Trainable params: </span><span style=\"color: #00af00; text-decoration-color: #00af00\">1,049,389</span> (4.00 MB)\n",
              "</pre>\n"
            ]
          },
          "metadata": {}
        },
        {
          "output_type": "display_data",
          "data": {
            "text/plain": [
              "\u001b[1m Non-trainable params: \u001b[0m\u001b[38;5;34m128\u001b[0m (512.00 B)\n"
            ],
            "text/html": [
              "<pre style=\"white-space:pre;overflow-x:auto;line-height:normal;font-family:Menlo,'DejaVu Sans Mono',consolas,'Courier New',monospace\"><span style=\"font-weight: bold\"> Non-trainable params: </span><span style=\"color: #00af00; text-decoration-color: #00af00\">128</span> (512.00 B)\n",
              "</pre>\n"
            ]
          },
          "metadata": {}
        },
        {
          "output_type": "display_data",
          "data": {
            "text/plain": [
              "\u001b[1m Optimizer params: \u001b[0m\u001b[38;5;34m1,049,391\u001b[0m (4.00 MB)\n"
            ],
            "text/html": [
              "<pre style=\"white-space:pre;overflow-x:auto;line-height:normal;font-family:Menlo,'DejaVu Sans Mono',consolas,'Courier New',monospace\"><span style=\"font-weight: bold\"> Optimizer params: </span><span style=\"color: #00af00; text-decoration-color: #00af00\">1,049,391</span> (4.00 MB)\n",
              "</pre>\n"
            ]
          },
          "metadata": {}
        }
      ]
    },
    {
      "cell_type": "code",
      "source": [
        "valid_pred = base_final_model.predict(valid_data)"
      ],
      "metadata": {
        "colab": {
          "base_uri": "https://localhost:8080/"
        },
        "id": "8DhGbueAFnUt",
        "outputId": "11f4e9ed-9947-49ae-a9e9-aaba00c9587f"
      },
      "execution_count": 21,
      "outputs": [
        {
          "output_type": "stream",
          "name": "stderr",
          "text": [
            "/usr/local/lib/python3.10/dist-packages/keras/src/trainers/data_adapters/py_dataset_adapter.py:121: UserWarning: Your `PyDataset` class should call `super().__init__(**kwargs)` in its constructor. `**kwargs` can include `workers`, `use_multiprocessing`, `max_queue_size`. Do not pass these arguments to `fit()`, as they will be ignored.\n",
            "  self._warn_if_super_not_called()\n"
          ]
        },
        {
          "output_type": "stream",
          "name": "stdout",
          "text": [
            "\u001b[1m9/9\u001b[0m \u001b[32m━━━━━━━━━━━━━━━━━━━━\u001b[0m\u001b[37m\u001b[0m \u001b[1m4s\u001b[0m 88ms/step\n"
          ]
        }
      ]
    },
    {
      "cell_type": "code",
      "source": [
        "valid_pred_classes = valid_pred.argmax(axis=1)"
      ],
      "metadata": {
        "id": "CtTG6IAAHBRY"
      },
      "execution_count": 24,
      "outputs": []
    },
    {
      "cell_type": "code",
      "source": [
        "valid_true = valid_data.classes"
      ],
      "metadata": {
        "id": "A5-gQSoMHKzi"
      },
      "execution_count": 23,
      "outputs": []
    },
    {
      "cell_type": "code",
      "source": [
        "from sklearn.metrics import confusion_matrix"
      ],
      "metadata": {
        "id": "Tc7PtaJaHc4x"
      },
      "execution_count": 26,
      "outputs": []
    },
    {
      "cell_type": "code",
      "source": [
        "cm = confusion_matrix(valid_true, valid_pred_classes)"
      ],
      "metadata": {
        "id": "ams_rUMSHRND"
      },
      "execution_count": 27,
      "outputs": []
    },
    {
      "cell_type": "code",
      "source": [
        "class_names = ['Aphids', 'Botrytis', 'Dehydration', 'Healthy', 'Leaf Miners',\n",
        "               'Nitrogen Deficiency', 'Nutrient Burn', 'Overwatering',\n",
        "               'PH Fluctuation', 'Phosphorus Deficiency', 'Potassium Deficiency',\n",
        "               'Powdery Mildew', 'Septoria']"
      ],
      "metadata": {
        "id": "diW--QqqHgMQ"
      },
      "execution_count": 28,
      "outputs": []
    },
    {
      "cell_type": "code",
      "source": [
        "import seaborn as sns"
      ],
      "metadata": {
        "id": "uWUNGloCHj__"
      },
      "execution_count": 30,
      "outputs": []
    },
    {
      "cell_type": "code",
      "source": [
        "plt.figure(figsize=(8, 6))\n",
        "sns.heatmap(cm, annot=True, fmt='d', cmap='Blues', xticklabels=class_names, yticklabels=class_names)\n",
        "plt.ylabel('Actual')\n",
        "plt.xlabel('Predicted')\n",
        "plt.title('Confusion Matrix')\n",
        "plt.xticks(rotation=90)\n",
        "plt.yticks(rotation=0)\n",
        "plt.tight_layout()\n",
        "plt.show()"
      ],
      "metadata": {
        "colab": {
          "base_uri": "https://localhost:8080/",
          "height": 607
        },
        "id": "c84iP7G5HiH3",
        "outputId": "dbc58914-71eb-4202-e31f-7653c1f52b72"
      },
      "execution_count": 31,
      "outputs": [
        {
          "output_type": "display_data",
          "data": {
            "text/plain": [
              "<Figure size 800x600 with 2 Axes>"
            ],
            "image/png": "[encoded data removed]"
          },
          "metadata": {}
        }
      ]
    },
    {
      "cell_type": "code",
      "source": [
        "from fastai.vision.all import load_learner"
      ],
      "metadata": {
        "id": "AaS8QErsJIN-"
      },
      "execution_count": 32,
      "outputs": []
    },
    {
      "cell_type": "code",
      "source": [
        "!unzip /content/cannabis-health-diagnosis/models/canhealth_model.zip -d /content/cannabis-health-diagnosis/models"
      ],
      "metadata": {
        "colab": {
          "base_uri": "https://localhost:8080/"
        },
        "id": "lnVdZALLJP8x",
        "outputId": "04b75daa-4665-4b61-d761-94012b5c6e54"
      },
      "execution_count": 33,
      "outputs": [
        {
          "output_type": "stream",
          "name": "stdout",
          "text": [
            "Archive:  /content/cannabis-health-diagnosis/models/canhealth_model.zip\n",
            "  inflating: /content/cannabis-health-diagnosis/models/canhealth_model.pkl  \n"
          ]
        }
      ]
    },
    {
      "cell_type": "code",
      "source": [
        "final_model = load_learner('/content/cannabis-health-diagnosis/models/canhealth_model.pkl')"
      ],
      "metadata": {
        "id": "G-I9rg7IHtUi"
      },
      "execution_count": 34,
      "outputs": []
    },
    {
      "cell_type": "code",
      "source": [
        "preds, targets = final_model.get_preds()"
      ],
      "metadata": {
        "colab": {
          "base_uri": "https://localhost:8080/",
          "height": 52
        },
        "id": "wnywoTK8JnKO",
        "outputId": "bab4baee-a959-4540-8592-9337a7248e0e"
      },
      "execution_count": 39,
      "outputs": [
        {
          "output_type": "display_data",
          "data": {
            "text/plain": [
              "<IPython.core.display.HTML object>"
            ],
            "text/html": [
              "\n",
              "<style>\n",
              "    /* Turns off some styling */\n",
              "    progress {\n",
              "        /* gets rid of default border in Firefox and Opera. */\n",
              "        border: none;\n",
              "        /* Needs to be in here for Safari polyfill so background images work as expected. */\n",
              "        background-size: auto;\n",
              "    }\n",
              "    progress:not([value]), progress:not([value])::-webkit-progress-bar {\n",
              "        background: repeating-linear-gradient(45deg, #7e7e7e, #7e7e7e 10px, #5c5c5c 10px, #5c5c5c 20px);\n",
              "    }\n",
              "    .progress-bar-interrupted, .progress-bar-interrupted::-webkit-progress-bar {\n",
              "        background: #F44336;\n",
              "    }\n",
              "</style>\n"
            ]
          },
          "metadata": {}
        },
        {
          "output_type": "display_data",
          "data": {
            "text/plain": [
              "<IPython.core.display.HTML object>"
            ],
            "text/html": []
          },
          "metadata": {}
        },
        {
          "output_type": "stream",
          "name": "stderr",
          "text": [
            "/usr/local/lib/python3.10/dist-packages/fastprogress/fastprogress.py:73: UserWarning: Your generator is empty.\n",
            "  warn(\"Your generator is empty.\")\n"
          ]
        }
      ]
    },
    {
      "cell_type": "code",
      "source": [
        "preds_labels = preds.argmax(axis=1)"
      ],
      "metadata": {
        "colab": {
          "base_uri": "https://localhost:8080/",
          "height": 141
        },
        "id": "0FMG0kyTJyNM",
        "outputId": "71e35dfd-ceb2-43db-d713-44e8314dd876"
      },
      "execution_count": 45,
      "outputs": [
        {
          "output_type": "error",
          "ename": "AttributeError",
          "evalue": "'NoneType' object has no attribute 'argmax'",
          "traceback": [
            "\u001b[0;31m---------------------------------------------------------------------------\u001b[0m",
            "\u001b[0;31mAttributeError\u001b[0m                            Traceback (most recent call last)",
            "\u001b[0;32m<ipython-input-45-66a022412eff>\u001b[0m in \u001b[0;36m<cell line: 1>\u001b[0;34m()\u001b[0m\n\u001b[0;32m----> 1\u001b[0;31m \u001b[0mpreds_labels\u001b[0m \u001b[0;34m=\u001b[0m \u001b[0mpreds\u001b[0m\u001b[0;34m.\u001b[0m\u001b[0margmax\u001b[0m\u001b[0;34m(\u001b[0m\u001b[0maxis\u001b[0m\u001b[0;34m=\u001b[0m\u001b[0;36m1\u001b[0m\u001b[0;34m)\u001b[0m\u001b[0;34m\u001b[0m\u001b[0;34m\u001b[0m\u001b[0m\n\u001b[0m",
            "\u001b[0;31mAttributeError\u001b[0m: 'NoneType' object has no attribute 'argmax'"
          ]
        }
      ]
    },
    {
      "cell_type": "code",
      "source": [
        "cm = confusion_matrix(targets, preds_labels)"
      ],
      "metadata": {
        "colab": {
          "base_uri": "https://localhost:8080/",
          "height": 287
        },
        "id": "uYzVTZUfJ28I",
        "outputId": "8775d497-699d-44e2-846d-d16331b737ba"
      },
      "execution_count": 44,
      "outputs": [
        {
          "output_type": "error",
          "ename": "InvalidParameterError",
          "evalue": "The 'y_true' parameter of confusion_matrix must be an array-like. Got None instead.",
          "traceback": [
            "\u001b[0;31m---------------------------------------------------------------------------\u001b[0m",
            "\u001b[0;31mInvalidParameterError\u001b[0m                     Traceback (most recent call last)",
            "\u001b[0;32m<ipython-input-44-81f214718df2>\u001b[0m in \u001b[0;36m<cell line: 1>\u001b[0;34m()\u001b[0m\n\u001b[0;32m----> 1\u001b[0;31m \u001b[0mcm\u001b[0m \u001b[0;34m=\u001b[0m \u001b[0mconfusion_matrix\u001b[0m\u001b[0;34m(\u001b[0m\u001b[0mtargets\u001b[0m\u001b[0;34m,\u001b[0m \u001b[0mpreds_labels\u001b[0m\u001b[0;34m)\u001b[0m\u001b[0;34m\u001b[0m\u001b[0;34m\u001b[0m\u001b[0m\n\u001b[0m",
            "\u001b[0;32m/usr/local/lib/python3.10/dist-packages/sklearn/utils/_param_validation.py\u001b[0m in \u001b[0;36mwrapper\u001b[0;34m(*args, **kwargs)\u001b[0m\n\u001b[1;32m    201\u001b[0m             \u001b[0mparams\u001b[0m \u001b[0;34m=\u001b[0m \u001b[0;34m{\u001b[0m\u001b[0mk\u001b[0m\u001b[0;34m:\u001b[0m \u001b[0mv\u001b[0m \u001b[0;32mfor\u001b[0m \u001b[0mk\u001b[0m\u001b[0;34m,\u001b[0m \u001b[0mv\u001b[0m \u001b[0;32min\u001b[0m \u001b[0mparams\u001b[0m\u001b[0;34m.\u001b[0m\u001b[0marguments\u001b[0m\u001b[0;34m.\u001b[0m\u001b[0mitems\u001b[0m\u001b[0;34m(\u001b[0m\u001b[0;34m)\u001b[0m \u001b[0;32mif\u001b[0m \u001b[0mk\u001b[0m \u001b[0;32mnot\u001b[0m \u001b[0;32min\u001b[0m \u001b[0mto_ignore\u001b[0m\u001b[0;34m}\u001b[0m\u001b[0;34m\u001b[0m\u001b[0;34m\u001b[0m\u001b[0m\n\u001b[1;32m    202\u001b[0m \u001b[0;34m\u001b[0m\u001b[0m\n\u001b[0;32m--> 203\u001b[0;31m             validate_parameter_constraints(\n\u001b[0m\u001b[1;32m    204\u001b[0m                 \u001b[0mparameter_constraints\u001b[0m\u001b[0;34m,\u001b[0m \u001b[0mparams\u001b[0m\u001b[0;34m,\u001b[0m \u001b[0mcaller_name\u001b[0m\u001b[0;34m=\u001b[0m\u001b[0mfunc\u001b[0m\u001b[0;34m.\u001b[0m\u001b[0m__qualname__\u001b[0m\u001b[0;34m\u001b[0m\u001b[0;34m\u001b[0m\u001b[0m\n\u001b[1;32m    205\u001b[0m             )\n",
            "\u001b[0;32m/usr/local/lib/python3.10/dist-packages/sklearn/utils/_param_validation.py\u001b[0m in \u001b[0;36mvalidate_parameter_constraints\u001b[0;34m(parameter_constraints, params, caller_name)\u001b[0m\n\u001b[1;32m     93\u001b[0m                 )\n\u001b[1;32m     94\u001b[0m \u001b[0;34m\u001b[0m\u001b[0m\n\u001b[0;32m---> 95\u001b[0;31m             raise InvalidParameterError(\n\u001b[0m\u001b[1;32m     96\u001b[0m                 \u001b[0;34mf\"The {param_name!r} parameter of {caller_name} must be\"\u001b[0m\u001b[0;34m\u001b[0m\u001b[0;34m\u001b[0m\u001b[0m\n\u001b[1;32m     97\u001b[0m                 \u001b[0;34mf\" {constraints_str}. Got {param_val!r} instead.\"\u001b[0m\u001b[0;34m\u001b[0m\u001b[0;34m\u001b[0m\u001b[0m\n",
            "\u001b[0;31mInvalidParameterError\u001b[0m: The 'y_true' parameter of confusion_matrix must be an array-like. Got None instead."
          ]
        }
      ]
    }
  ],
  "metadata": {
    "kernelspec": {
      "display_name": "Python 3",
      "name": "python3"
    },
    "language_info": {
      "codemirror_mode": {
        "name": "ipython",
        "version": 3
      },
      "file_extension": ".py",
      "mimetype": "text/x-python",
      "name": "python",
      "nbconvert_exporter": "python",
      "pygments_lexer": "ipython3",
      "version": "3.11.3"
    },
    "colab": {
      "provenance": [],
      "gpuType": "T4",
      "include_colab_link": true
    },
    "accelerator": "GPU"
  },
  "nbformat": 4,
  "nbformat_minor": 0
}